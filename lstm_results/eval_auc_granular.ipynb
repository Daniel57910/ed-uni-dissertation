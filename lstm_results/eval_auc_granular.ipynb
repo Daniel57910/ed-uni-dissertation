{
 "cells": [
  {
   "cell_type": "code",
   "execution_count": 2,
   "metadata": {},
   "outputs": [],
   "source": [
    "import pandas as pd\n",
    "import numpy as np\n",
    "import plotly as px\n",
    "import plotly.express as px\n",
    "from typing import List, Tuple, Dict, Any, Optional\n",
    "import seaborn as sns\n",
    "from sklearn.metrics import roc_auc_score, accuracy_score, precision_score, recall_score, f1_score\n",
    "import os\n",
    "import plotly.graph_objects as go\n",
    "from scipy.spatial import Delaunay\n",
    "\n",
    "SESSION_TIME_BINS = [\n",
    "    30,\n",
    "    35,\n",
    "    40,\n",
    "    45,\n",
    "    50,\n",
    "    60,\n",
    "    70,\n",
    "    90,\n",
    "    120,\n",
    "    180,\n",
    "    1_000_000\n",
    "]\n",
    "\n",
    "USER_SESSION_BINS = [i for i in range(1, 21)] + [10000, 1_000_000]\n",
    "\n",
    "MODEL_LIST = [\n",
    "    'LSTM SEQ 1',\n",
    "    'LSTM SEQ 10',\n",
    "    'LSTM SEQ 20',\n",
    "    'LSTM SEQ 30',\n",
    "    'LSTM SEQ 40'\n",
    "]"
   ]
  },
  {
   "cell_type": "code",
   "execution_count": 3,
   "metadata": {},
   "outputs": [],
   "source": [
    "CORE_PATH = 'auroc_eval_data'"
   ]
  },
  {
   "cell_type": "code",
   "execution_count": 4,
   "metadata": {},
   "outputs": [],
   "source": [
    "def generate_sess(df, models, func, target):\n",
    "    print('Identifying max session time')\n",
    "    max_session_time = df.groupby(['user_id', 'session_30_raw'])['cum_session_time_raw'].max().reset_index().rename(columns={'cum_session_time_raw': 'max_session_time'})\n",
    "    df = df.merge(max_session_time, on=['user_id', 'session_30_raw'], how='left')\n",
    "\n",
    "    print('Binning sessions')\n",
    "    df['session_bin'] = pd.cut(df['max_session_time'], bins=SESSION_TIME_BINS, labels=SESSION_TIME_BINS[:-1])\n",
    "    df_session_time = df[\n",
    "        ['label', 'session_bin', 'experiment'] + \\\n",
    "        models\n",
    "    ]\n",
    "    print('Sessions binned: performing melt')\n",
    "    df_session_time_melted = pd.melt(\n",
    "        df_session_time,\n",
    "        id_vars=['label', 'session_bin', 'experiment'],\n",
    "    )\n",
    "    \n",
    "    print('Sessions melted: dropping na')\n",
    "    df_session_time_melted = df_session_time_melted.dropna()\n",
    "    df_session_time_melted = df_session_time_melted.rename(columns={'variable': 'model'})\n",
    "    if target != 'auroc':\n",
    "        print('Converting to binary')\n",
    "        df_session_time_melted['value'] = df_session_time_melted['value'].apply(lambda x: 1 if x > 0.5 else 0)\n",
    "        \n",
    "    print('Grouping by session bin, model, and experiment')\n",
    "    if target == 'auroc':\n",
    "        print('Performing auroc')\n",
    "        df_session_time_melted = df_session_time_melted.groupby(['session_bin', 'model', 'experiment']).apply(lambda x: func(x['label'], x['value'])).reset_index()\n",
    "    else:\n",
    "        print(f'Performing {target}: zero division set to 1')\n",
    "        df_session_time_melted = df_session_time_melted.groupby(['session_bin', 'model', 'experiment']).apply(lambda x: func(x['label'], x['value'], zero_division=1)).reset_index()\n",
    "    print('Performing final metadata operations')\n",
    "    df_session_time_melted = df_session_time_melted.rename(columns={0: target})\n",
    "    df_session_time_melted['Window'] = df_session_time_melted['model'].apply(lambda x: int(x.split(' ')[-1]))\n",
    "    return df_session_time_melted\n",
    "\n",
    "def generate_plat(df, models, func, target):\n",
    "    \n",
    "    print('Binning users based on platform time')\n",
    "    df['max_sessions'] = df.groupby(['user_id'])['session_30_raw'].transform('max')\n",
    "\n",
    "    df['user_bin'] = pd.cut(df['max_sessions'], bins=USER_SESSION_BINS, labels=USER_SESSION_BINS[:-1])\n",
    "    df['user_bin'] = df['user_bin'].apply(lambda x: min(20, x))\n",
    "    \n",
    "    df_user_time = df[\n",
    "        ['label', 'user_bin', 'experiment'] + \\\n",
    "        models\n",
    "    ]\n",
    "    \n",
    "    print('Performing melt')\n",
    "    df_user_time= df_user_time.melt(\n",
    "        id_vars=['label', 'user_bin', 'experiment']\n",
    "    )\n",
    "    \n",
    "    print('Dropping na and renaming')\n",
    "    df_user_time = df_user_time.dropna()\n",
    "    df_user_time = df_user_time.rename(columns={'variable': 'model'})\n",
    "    \n",
    "    if target != 'auroc':\n",
    "        print('Converting to binary')\n",
    "        df_user_time['value'] = df_user_time['value'].apply(lambda x: 1 if x > 0.5 else 0)\n",
    "        \n",
    "    print('Grouping by user bin, model, and experiment')\n",
    "    if target == 'auroc':\n",
    "        print('Performing auroc')\n",
    "        df_user_time = df_user_time.groupby(['user_bin', 'model', 'experiment']).apply(lambda x: func(x['label'], x['value'])).reset_index()\n",
    "    else:\n",
    "        print(f'Performing {target}: zero division set to 1')\n",
    "        df_user_time = df_user_time.groupby(['user_bin', 'model', 'experiment']).apply(lambda x: func(x['label'], x['value'], zero_division=1)).reset_index()\n",
    "    print('Performing final metadata operations')\n",
    "    df_user_time = df_user_time.rename(columns={0: target})\n",
    "    df_user_time['Window'] = df_user_time['model'].apply(lambda x: int(x.split(' ')[-1]))\n",
    "    return df_user_time"
   ]
  },
  {
   "cell_type": "code",
   "execution_count": 5,
   "metadata": {},
   "outputs": [],
   "source": [
    "def plot_contours(df, xtitle, ytitle, ztitle, target_var, save_suffix, title): \n",
    "    x_var, y_var, z_var, target_var = df[xtitle], df[ytitle], df[ztitle], df[target_var]\n",
    "    delaney_points = np.vstack([x_var, y_var]).T\n",
    "    \n",
    "    I, J, K = Delaunay(delaney_points).simplices.T\n",
    "    fig = go.Figure(go.Mesh3d(x=x_var, y=y_var, z=z_var, i=I, j=J, k=K, intensity=target_var, colorscale='thermal', alphahull=.5))\n",
    "    fig.update_layout(\n",
    "        height=800,\n",
    "        width=1200,\n",
    "        showlegend=True,\n",
    "        margin=dict(l=5, r=5, t=5, b=5),\n",
    "        scene =dict(\n",
    "        xaxis_title=\"Session Minutes\",\n",
    "        yaxis_title=\"Window Size\",\n",
    "        zaxis_title=\"Experiment\",\n",
    "    ))\n",
    "    \n",
    "    # fig.update_layout(title=title)\n",
    "    fig.write_image(\n",
    "        os.path.join(f'lstm_plots/metric_graphs/granular/{save_suffix}.png'), width=800, height=1200, scale=3\n",
    "    )\n",
    "    \n",
    "    fig.show()\n",
    "    "
   ]
  },
  {
   "cell_type": "code",
   "execution_count": 6,
   "metadata": {},
   "outputs": [],
   "source": [
    "# df_auc_10 = pd.read_parquet(os.path.join(CORE_PATH, 'data_for_auc_window_10_eval'))\n",
    "# df_auc_20 = pd.read_parquet(os.path.join(CORE_PATH, 'data_for_auc_window_20_eval'))\n",
    "df_auc_30 = pd.read_parquet(os.path.join(CORE_PATH, 'data_for_auc_window_30_eval'))\n",
    "\n",
    "# df_auc_10['experiment'] = 10\n",
    "# df_auc_20['experiment'] = 20\n",
    "# df_auc_30['experiment'] = 30\n",
    "\n",
    "# total_auc_df = pd.concat([df_auc_10, df_auc_20, df_auc_30])"
   ]
  },
  {
   "cell_type": "code",
   "execution_count": 8,
   "metadata": {},
   "outputs": [],
   "source": [
    "df_auc_30_user_session_max = df_auc_30.groupby(['user_id', 'session_30_raw'])['cum_session_time_raw'].max().reset_index()"
   ]
  },
  {
   "cell_type": "code",
   "execution_count": 10,
   "metadata": {},
   "outputs": [
    {
     "data": {
      "text/plain": [
       "0.1441476144489415"
      ]
     },
     "execution_count": 10,
     "metadata": {},
     "output_type": "execute_result"
    }
   ],
   "source": [
    "df_auc_30_user_session_max[df_auc_30_user_session_max['cum_session_time_raw'] > 60].shape[0] / df_auc_30_user_session_max.shape[0]"
   ]
  },
  {
   "cell_type": "code",
   "execution_count": 11,
   "metadata": {},
   "outputs": [],
   "source": [
    "unique_users = df_auc_30_user_session_max['user_id'].unique()"
   ]
  },
  {
   "cell_type": "code",
   "execution_count": 12,
   "metadata": {},
   "outputs": [
    {
     "data": {
      "text/plain": [
       "0.19013357524947602"
      ]
     },
     "execution_count": 12,
     "metadata": {},
     "output_type": "execute_result"
    }
   ],
   "source": [
    "df_auc_30_user_session_max[df_auc_30_user_session_max['cum_session_time_raw'] > 60]['user_id'].unique().shape[0] / unique_users.shape[0]"
   ]
  },
  {
   "cell_type": "code",
   "execution_count": 6,
   "metadata": {},
   "outputs": [],
   "source": [
    "# print('Generating session time auroc')\n",
    "# eval_auc_sess_glob = generate_sess(total_auc_df, MODEL_LIST, roc_auc_score, 'auroc')\n",
    "# print('Generating session time precision')\n",
    "# eval_prec_sess_glob = generate_sess(total_auc_df, MODEL_LIST, precision_score, 'precision')\n",
    "# print('Generating session time recall')\n",
    "# eval_rec_sess_glob = generate_sess(total_auc_df, MODEL_LIST, recall_score, 'recall')\n",
    "\n"
   ]
  },
  {
   "cell_type": "code",
   "execution_count": 24,
   "metadata": {},
   "outputs": [
    {
     "name": "stdout",
     "output_type": "stream",
     "text": [
      "Generating platform time auroc\n",
      "Binning users based on platform time\n",
      "Performing melt\n",
      "Dropping na and renaming\n",
      "Grouping by user bin, model, and experiment\n",
      "Performing auroc\n",
      "Performing final metadata operations\n",
      "Generating platform time recall\n",
      "Binning users based on platform time\n",
      "Performing melt\n",
      "Dropping na and renaming\n",
      "Converting to binary\n",
      "Grouping by user bin, model, and experiment\n",
      "Performing recall: zero division set to 1\n",
      "Performing final metadata operations\n",
      "Generating platform time precision\n",
      "Binning users based on platform time\n",
      "Performing melt\n",
      "Dropping na and renaming\n",
      "Converting to binary\n",
      "Grouping by user bin, model, and experiment\n",
      "Performing precision: zero division set to 1\n",
      "Performing final metadata operations\n"
     ]
    }
   ],
   "source": [
    "print('Generating platform time auroc')\n",
    "eval_auc_plat_glob = generate_plat(total_auc_df, MODEL_LIST, roc_auc_score, 'auroc')\n",
    "print('Generating platform time recall')\n",
    "eval_rec_plat_glob = generate_plat(total_auc_df, MODEL_LIST, recall_score, 'recall')\n",
    "print('Generating platform time precision')\n",
    "eval_prec_plat_glob = generate_plat(total_auc_df, MODEL_LIST, precision_score, 'precision')"
   ]
  },
  {
   "cell_type": "code",
   "execution_count": 41,
   "metadata": {},
   "outputs": [],
   "source": [
    "# eval_auc_sess_glob.to_csv(os.path.join(CORE_PATH, 'eval_auc_sess_glob.csv'))\n",
    "eval_auc_plat_glob.to_csv(os.path.join(CORE_PATH, 'eval_auc_plat_glob.csv'))\n",
    "# eval_prec_sess_glob.to_csv(os.path.join(CORE_PATH, 'eval_prec_sess_glob.csv'))\n",
    "eval_prec_plat_glob.to_csv(os.path.join(CORE_PATH, 'eval_prec_plat_glob.csv'))\n",
    "# eval_rec_sess_glob.to_csv(os.path.join(CORE_PATH, 'eval_rec_sess_glob.csv'))\n",
    "eval_rec_plat_glob.to_csv(os.path.join(CORE_PATH, 'eval_rec_plat_glob.csv'))"
   ]
  },
  {
   "cell_type": "code",
   "execution_count": 42,
   "metadata": {},
   "outputs": [],
   "source": [
    "eval_auc_sess_glob = pd.read_csv(os.path.join(CORE_PATH, 'eval_auc_sess_glob.csv'))\n",
    "eval_prec_sess_glob = pd.read_csv(os.path.join(CORE_PATH, 'eval_prec_sess_glob.csv'))\n",
    "eval_rec_sess_glob = pd.read_csv(os.path.join(CORE_PATH, 'eval_rec_sess_glob.csv'))"
   ]
  },
  {
   "cell_type": "code",
   "execution_count": 43,
   "metadata": {},
   "outputs": [
    {
     "data": {
      "application/vnd.plotly.v1+json": {
       "config": {
        "plotlyServerURL": "https://plot.ly"
       },
       "data": [
        {
         "alphahull": 0.5,
         "colorscale": [
          [
           0,
           "rgb(3, 35, 51)"
          ],
          [
           0.09090909090909091,
           "rgb(13, 48, 100)"
          ],
          [
           0.18181818181818182,
           "rgb(53, 50, 155)"
          ],
          [
           0.2727272727272727,
           "rgb(93, 62, 153)"
          ],
          [
           0.36363636363636365,
           "rgb(126, 77, 143)"
          ],
          [
           0.45454545454545453,
           "rgb(158, 89, 135)"
          ],
          [
           0.5454545454545454,
           "rgb(193, 100, 121)"
          ],
          [
           0.6363636363636364,
           "rgb(225, 113, 97)"
          ],
          [
           0.7272727272727273,
           "rgb(246, 139, 69)"
          ],
          [
           0.8181818181818182,
           "rgb(251, 173, 60)"
          ],
          [
           0.9090909090909091,
           "rgb(246, 211, 70)"
          ],
          [
           1,
           "rgb(231, 250, 90)"
          ]
         ],
         "i": [
          123,
          123,
          123,
          139,
          144,
          141,
          132,
          130,
          92,
          94,
          114,
          114,
          130,
          114,
          94,
          83,
          120,
          123,
          110,
          112,
          110,
          110,
          94,
          110,
          114,
          112,
          104,
          99,
          99,
          83,
          99,
          84,
          48,
          31,
          48,
          36,
          36,
          20,
          5,
          20,
          31,
          20,
          16,
          20,
          26,
          44,
          26,
          11,
          36,
          26,
          26,
          21,
          44,
          56,
          56,
          36,
          73,
          73,
          56,
          73,
          67,
          56,
          67,
          71,
          48,
          64,
          83,
          67,
          79,
          64,
          61,
          61
         ],
         "intensity": [
          0.5316275176236769,
          0.5449137779535715,
          0.4806243626211359,
          0.5175883541399876,
          0.5412594166765081,
          0.4943143161224591,
          0.5397426143197765,
          0.5397993966431085,
          0.5212893190644456,
          0.5315098793413198,
          0.5424023465890575,
          0.5258612629233764,
          0.5239450729212075,
          0.5411766276973268,
          0.5367339952643791,
          0.5284582052005896,
          0.5409181524732419,
          0.4734330723640421,
          0.5179878917594538,
          0.5387533301993139,
          0.4733751406141153,
          0.5416202505889893,
          0.5417954178130701,
          0.4881878161385517,
          0.5315357087807275,
          0.5383635944810642,
          0.502315436101858,
          0.518268883001323,
          0.5372206281794147,
          0.516659438806041,
          0.541739106500019,
          0.5526468766552114,
          0.4801833063763394,
          0.5253896877976211,
          0.5471890568016284,
          0.4783790865981159,
          0.553045306968528,
          0.5529328407182865,
          0.4866117797667961,
          0.5495102182355862,
          0.5459113837093268,
          0.5075537424982963,
          0.5251320753326264,
          0.5443732679815434,
          0.512779105778369,
          0.5296910559271301,
          0.5421841227096031,
          0.4822467326713138,
          0.5195104711089211,
          0.5397333374910818,
          0.4743330084860543,
          0.5413927592730076,
          0.5413999019489164,
          0.4832956453901269,
          0.5358547200180942,
          0.5355486464928614,
          0.5032927581832439,
          0.5098798551384681,
          0.5349705961835887,
          0.5061527257237389,
          0.5494317056828824,
          0.5532942075483809,
          0.5033586655715264,
          0.5267723469963191,
          0.5514428915898054,
          0.4947288422965596,
          0.5543009457452076,
          0.5542581780405592,
          0.4915075132821125,
          0.5546126576324553,
          0.5410860801715256,
          0.5185823342229074,
          0.5312172533898945,
          0.5389464308032844,
          0.5065350719920503,
          0.5616822147022762,
          0.568903587748916,
          0.5025473670672724,
          0.5441389523154114,
          0.5656230499416213,
          0.4913258538067475,
          0.5680994770853315,
          0.5680936680028991,
          0.4821258232471365,
          0.567967852238825,
          0.5550716183897385,
          0.5018699252738325,
          0.5503710038690907,
          0.5528403443556696,
          0.5000985926400007,
          0.5539640153977304,
          0.557894758543325,
          0.4945056893807253,
          0.5484248941952966,
          0.5587055801011667,
          0.4789581513458649,
          0.5623755411313117,
          0.5623777021887746,
          0.4731150002562977,
          0.5628798874573138,
          0.5419055235742496,
          0.4827388644081221,
          0.5305131098933362,
          0.5401100712285452,
          0.4949206483962653,
          0.5820251961861479,
          0.5767624650553221,
          0.4950650414362457,
          0.5703740562715809,
          0.5786097955762394,
          0.4774500567865007,
          0.5841651772251925,
          0.5840892424118954,
          0.4704609533924696,
          0.5861753084689045,
          0.5656320456074493,
          0.4785716583294925,
          0.5618787549255381,
          0.5634452969605843,
          0.4854144048190073,
          0.6133143468788683,
          0.608390390080443,
          0.5329005513009929,
          0.6029521539548945,
          0.5998740704465552,
          0.5154858039631163,
          0.6019607990119967,
          0.6019687803620445,
          0.5113282300421098,
          0.612484215950453,
          0.6111825436551134,
          0.5257275281203028,
          0.6141354210479946,
          0.6098684327712861,
          0.5173161783278291,
          0.6246217371770164,
          0.6141132443659343,
          0.6458126212628212,
          0.6136908746365585,
          0.608877496983349,
          0.6798188864206353,
          0.6150717209229601,
          0.6150224083630432,
          0.6632575646518738,
          0.6228343388036657,
          0.635892741593597,
          0.6803203018492658,
          0.6408966175171528,
          0.6346404610034164,
          0.6828851337558958
         ],
         "j": [
          139,
          141,
          120,
          123,
          130,
          130,
          130,
          144,
          94,
          79,
          132,
          130,
          114,
          112,
          83,
          94,
          110,
          110,
          123,
          110,
          92,
          94,
          110,
          112,
          99,
          99,
          99,
          114,
          83,
          99,
          104,
          99,
          31,
          48,
          36,
          48,
          20,
          36,
          20,
          21,
          20,
          31,
          20,
          5,
          44,
          26,
          29,
          26,
          26,
          36,
          11,
          26,
          56,
          44,
          36,
          56,
          84,
          71,
          73,
          56,
          56,
          67,
          83,
          67,
          67,
          67,
          67,
          64,
          61,
          61,
          48,
          64
         ],
         "k": [
          141,
          126,
          135,
          135,
          141,
          126,
          147,
          147,
          77,
          77,
          117,
          132,
          126,
          126,
          79,
          97,
          106,
          120,
          126,
          126,
          106,
          92,
          97,
          97,
          112,
          97,
          117,
          117,
          97,
          84,
          88,
          88,
          45,
          35,
          35,
          53,
          35,
          21,
          6,
          6,
          16,
          35,
          0,
          0,
          29,
          40,
          12,
          12,
          21,
          40,
          6,
          6,
          58,
          40,
          53,
          40,
          88,
          84,
          58,
          71,
          53,
          71,
          84,
          84,
          53,
          48,
          79,
          79,
          77,
          79,
          45,
          48
         ],
         "type": "mesh3d",
         "x": [
          30,
          30,
          30,
          30,
          30,
          30,
          30,
          30,
          30,
          30,
          30,
          30,
          30,
          30,
          30,
          35,
          35,
          35,
          35,
          35,
          35,
          35,
          35,
          35,
          35,
          35,
          35,
          35,
          35,
          35,
          40,
          40,
          40,
          40,
          40,
          40,
          40,
          40,
          40,
          40,
          40,
          40,
          40,
          40,
          40,
          45,
          45,
          45,
          45,
          45,
          45,
          45,
          45,
          45,
          45,
          45,
          45,
          45,
          45,
          45,
          50,
          50,
          50,
          50,
          50,
          50,
          50,
          50,
          50,
          50,
          50,
          50,
          50,
          50,
          50,
          60,
          60,
          60,
          60,
          60,
          60,
          60,
          60,
          60,
          60,
          60,
          60,
          60,
          60,
          60,
          70,
          70,
          70,
          70,
          70,
          70,
          70,
          70,
          70,
          70,
          70,
          70,
          70,
          70,
          70,
          90,
          90,
          90,
          90,
          90,
          90,
          90,
          90,
          90,
          90,
          90,
          90,
          90,
          90,
          90,
          120,
          120,
          120,
          120,
          120,
          120,
          120,
          120,
          120,
          120,
          120,
          120,
          120,
          120,
          120,
          180,
          180,
          180,
          180,
          180,
          180,
          180,
          180,
          180,
          180,
          180,
          180,
          180,
          180,
          180
         ],
         "y": [
          1,
          1,
          1,
          10,
          10,
          10,
          20,
          20,
          20,
          30,
          30,
          30,
          40,
          40,
          40,
          1,
          1,
          1,
          10,
          10,
          10,
          20,
          20,
          20,
          30,
          30,
          30,
          40,
          40,
          40,
          1,
          1,
          1,
          10,
          10,
          10,
          20,
          20,
          20,
          30,
          30,
          30,
          40,
          40,
          40,
          1,
          1,
          1,
          10,
          10,
          10,
          20,
          20,
          20,
          30,
          30,
          30,
          40,
          40,
          40,
          1,
          1,
          1,
          10,
          10,
          10,
          20,
          20,
          20,
          30,
          30,
          30,
          40,
          40,
          40,
          1,
          1,
          1,
          10,
          10,
          10,
          20,
          20,
          20,
          30,
          30,
          30,
          40,
          40,
          40,
          1,
          1,
          1,
          10,
          10,
          10,
          20,
          20,
          20,
          30,
          30,
          30,
          40,
          40,
          40,
          1,
          1,
          1,
          10,
          10,
          10,
          20,
          20,
          20,
          30,
          30,
          30,
          40,
          40,
          40,
          1,
          1,
          1,
          10,
          10,
          10,
          20,
          20,
          20,
          30,
          30,
          30,
          40,
          40,
          40,
          1,
          1,
          1,
          10,
          10,
          10,
          20,
          20,
          20,
          30,
          30,
          30,
          40,
          40,
          40
         ],
         "z": [
          10,
          20,
          30,
          10,
          20,
          30,
          10,
          20,
          30,
          10,
          20,
          30,
          10,
          20,
          30,
          10,
          20,
          30,
          10,
          20,
          30,
          10,
          20,
          30,
          10,
          20,
          30,
          10,
          20,
          30,
          10,
          20,
          30,
          10,
          20,
          30,
          10,
          20,
          30,
          10,
          20,
          30,
          10,
          20,
          30,
          10,
          20,
          30,
          10,
          20,
          30,
          10,
          20,
          30,
          10,
          20,
          30,
          10,
          20,
          30,
          10,
          20,
          30,
          10,
          20,
          30,
          10,
          20,
          30,
          10,
          20,
          30,
          10,
          20,
          30,
          10,
          20,
          30,
          10,
          20,
          30,
          10,
          20,
          30,
          10,
          20,
          30,
          10,
          20,
          30,
          10,
          20,
          30,
          10,
          20,
          30,
          10,
          20,
          30,
          10,
          20,
          30,
          10,
          20,
          30,
          10,
          20,
          30,
          10,
          20,
          30,
          10,
          20,
          30,
          10,
          20,
          30,
          10,
          20,
          30,
          10,
          20,
          30,
          10,
          20,
          30,
          10,
          20,
          30,
          10,
          20,
          30,
          10,
          20,
          30,
          10,
          20,
          30,
          10,
          20,
          30,
          10,
          20,
          30,
          10,
          20,
          30,
          10,
          20,
          30
         ]
        }
       ],
       "layout": {
        "height": 800,
        "margin": {
         "b": 5,
         "l": 5,
         "r": 5,
         "t": 5
        },
        "scene": {
         "xaxis": {
          "title": {
           "text": "Session Count"
          }
         },
         "yaxis": {
          "title": {
           "text": "Window Size"
          }
         },
         "zaxis": {
          "title": {
           "text": "Experiment"
          }
         }
        },
        "showlegend": true,
        "template": {
         "data": {
          "bar": [
           {
            "error_x": {
             "color": "#2a3f5f"
            },
            "error_y": {
             "color": "#2a3f5f"
            },
            "marker": {
             "line": {
              "color": "#E5ECF6",
              "width": 0.5
             },
             "pattern": {
              "fillmode": "overlay",
              "size": 10,
              "solidity": 0.2
             }
            },
            "type": "bar"
           }
          ],
          "barpolar": [
           {
            "marker": {
             "line": {
              "color": "#E5ECF6",
              "width": 0.5
             },
             "pattern": {
              "fillmode": "overlay",
              "size": 10,
              "solidity": 0.2
             }
            },
            "type": "barpolar"
           }
          ],
          "carpet": [
           {
            "aaxis": {
             "endlinecolor": "#2a3f5f",
             "gridcolor": "white",
             "linecolor": "white",
             "minorgridcolor": "white",
             "startlinecolor": "#2a3f5f"
            },
            "baxis": {
             "endlinecolor": "#2a3f5f",
             "gridcolor": "white",
             "linecolor": "white",
             "minorgridcolor": "white",
             "startlinecolor": "#2a3f5f"
            },
            "type": "carpet"
           }
          ],
          "choropleth": [
           {
            "colorbar": {
             "outlinewidth": 0,
             "ticks": ""
            },
            "type": "choropleth"
           }
          ],
          "contour": [
           {
            "colorbar": {
             "outlinewidth": 0,
             "ticks": ""
            },
            "colorscale": [
             [
              0,
              "#0d0887"
             ],
             [
              0.1111111111111111,
              "#46039f"
             ],
             [
              0.2222222222222222,
              "#7201a8"
             ],
             [
              0.3333333333333333,
              "#9c179e"
             ],
             [
              0.4444444444444444,
              "#bd3786"
             ],
             [
              0.5555555555555556,
              "#d8576b"
             ],
             [
              0.6666666666666666,
              "#ed7953"
             ],
             [
              0.7777777777777778,
              "#fb9f3a"
             ],
             [
              0.8888888888888888,
              "#fdca26"
             ],
             [
              1,
              "#f0f921"
             ]
            ],
            "type": "contour"
           }
          ],
          "contourcarpet": [
           {
            "colorbar": {
             "outlinewidth": 0,
             "ticks": ""
            },
            "type": "contourcarpet"
           }
          ],
          "heatmap": [
           {
            "colorbar": {
             "outlinewidth": 0,
             "ticks": ""
            },
            "colorscale": [
             [
              0,
              "#0d0887"
             ],
             [
              0.1111111111111111,
              "#46039f"
             ],
             [
              0.2222222222222222,
              "#7201a8"
             ],
             [
              0.3333333333333333,
              "#9c179e"
             ],
             [
              0.4444444444444444,
              "#bd3786"
             ],
             [
              0.5555555555555556,
              "#d8576b"
             ],
             [
              0.6666666666666666,
              "#ed7953"
             ],
             [
              0.7777777777777778,
              "#fb9f3a"
             ],
             [
              0.8888888888888888,
              "#fdca26"
             ],
             [
              1,
              "#f0f921"
             ]
            ],
            "type": "heatmap"
           }
          ],
          "heatmapgl": [
           {
            "colorbar": {
             "outlinewidth": 0,
             "ticks": ""
            },
            "colorscale": [
             [
              0,
              "#0d0887"
             ],
             [
              0.1111111111111111,
              "#46039f"
             ],
             [
              0.2222222222222222,
              "#7201a8"
             ],
             [
              0.3333333333333333,
              "#9c179e"
             ],
             [
              0.4444444444444444,
              "#bd3786"
             ],
             [
              0.5555555555555556,
              "#d8576b"
             ],
             [
              0.6666666666666666,
              "#ed7953"
             ],
             [
              0.7777777777777778,
              "#fb9f3a"
             ],
             [
              0.8888888888888888,
              "#fdca26"
             ],
             [
              1,
              "#f0f921"
             ]
            ],
            "type": "heatmapgl"
           }
          ],
          "histogram": [
           {
            "marker": {
             "pattern": {
              "fillmode": "overlay",
              "size": 10,
              "solidity": 0.2
             }
            },
            "type": "histogram"
           }
          ],
          "histogram2d": [
           {
            "colorbar": {
             "outlinewidth": 0,
             "ticks": ""
            },
            "colorscale": [
             [
              0,
              "#0d0887"
             ],
             [
              0.1111111111111111,
              "#46039f"
             ],
             [
              0.2222222222222222,
              "#7201a8"
             ],
             [
              0.3333333333333333,
              "#9c179e"
             ],
             [
              0.4444444444444444,
              "#bd3786"
             ],
             [
              0.5555555555555556,
              "#d8576b"
             ],
             [
              0.6666666666666666,
              "#ed7953"
             ],
             [
              0.7777777777777778,
              "#fb9f3a"
             ],
             [
              0.8888888888888888,
              "#fdca26"
             ],
             [
              1,
              "#f0f921"
             ]
            ],
            "type": "histogram2d"
           }
          ],
          "histogram2dcontour": [
           {
            "colorbar": {
             "outlinewidth": 0,
             "ticks": ""
            },
            "colorscale": [
             [
              0,
              "#0d0887"
             ],
             [
              0.1111111111111111,
              "#46039f"
             ],
             [
              0.2222222222222222,
              "#7201a8"
             ],
             [
              0.3333333333333333,
              "#9c179e"
             ],
             [
              0.4444444444444444,
              "#bd3786"
             ],
             [
              0.5555555555555556,
              "#d8576b"
             ],
             [
              0.6666666666666666,
              "#ed7953"
             ],
             [
              0.7777777777777778,
              "#fb9f3a"
             ],
             [
              0.8888888888888888,
              "#fdca26"
             ],
             [
              1,
              "#f0f921"
             ]
            ],
            "type": "histogram2dcontour"
           }
          ],
          "mesh3d": [
           {
            "colorbar": {
             "outlinewidth": 0,
             "ticks": ""
            },
            "type": "mesh3d"
           }
          ],
          "parcoords": [
           {
            "line": {
             "colorbar": {
              "outlinewidth": 0,
              "ticks": ""
             }
            },
            "type": "parcoords"
           }
          ],
          "pie": [
           {
            "automargin": true,
            "type": "pie"
           }
          ],
          "scatter": [
           {
            "fillpattern": {
             "fillmode": "overlay",
             "size": 10,
             "solidity": 0.2
            },
            "type": "scatter"
           }
          ],
          "scatter3d": [
           {
            "line": {
             "colorbar": {
              "outlinewidth": 0,
              "ticks": ""
             }
            },
            "marker": {
             "colorbar": {
              "outlinewidth": 0,
              "ticks": ""
             }
            },
            "type": "scatter3d"
           }
          ],
          "scattercarpet": [
           {
            "marker": {
             "colorbar": {
              "outlinewidth": 0,
              "ticks": ""
             }
            },
            "type": "scattercarpet"
           }
          ],
          "scattergeo": [
           {
            "marker": {
             "colorbar": {
              "outlinewidth": 0,
              "ticks": ""
             }
            },
            "type": "scattergeo"
           }
          ],
          "scattergl": [
           {
            "marker": {
             "colorbar": {
              "outlinewidth": 0,
              "ticks": ""
             }
            },
            "type": "scattergl"
           }
          ],
          "scattermapbox": [
           {
            "marker": {
             "colorbar": {
              "outlinewidth": 0,
              "ticks": ""
             }
            },
            "type": "scattermapbox"
           }
          ],
          "scatterpolar": [
           {
            "marker": {
             "colorbar": {
              "outlinewidth": 0,
              "ticks": ""
             }
            },
            "type": "scatterpolar"
           }
          ],
          "scatterpolargl": [
           {
            "marker": {
             "colorbar": {
              "outlinewidth": 0,
              "ticks": ""
             }
            },
            "type": "scatterpolargl"
           }
          ],
          "scatterternary": [
           {
            "marker": {
             "colorbar": {
              "outlinewidth": 0,
              "ticks": ""
             }
            },
            "type": "scatterternary"
           }
          ],
          "surface": [
           {
            "colorbar": {
             "outlinewidth": 0,
             "ticks": ""
            },
            "colorscale": [
             [
              0,
              "#0d0887"
             ],
             [
              0.1111111111111111,
              "#46039f"
             ],
             [
              0.2222222222222222,
              "#7201a8"
             ],
             [
              0.3333333333333333,
              "#9c179e"
             ],
             [
              0.4444444444444444,
              "#bd3786"
             ],
             [
              0.5555555555555556,
              "#d8576b"
             ],
             [
              0.6666666666666666,
              "#ed7953"
             ],
             [
              0.7777777777777778,
              "#fb9f3a"
             ],
             [
              0.8888888888888888,
              "#fdca26"
             ],
             [
              1,
              "#f0f921"
             ]
            ],
            "type": "surface"
           }
          ],
          "table": [
           {
            "cells": {
             "fill": {
              "color": "#EBF0F8"
             },
             "line": {
              "color": "white"
             }
            },
            "header": {
             "fill": {
              "color": "#C8D4E3"
             },
             "line": {
              "color": "white"
             }
            },
            "type": "table"
           }
          ]
         },
         "layout": {
          "annotationdefaults": {
           "arrowcolor": "#2a3f5f",
           "arrowhead": 0,
           "arrowwidth": 1
          },
          "autotypenumbers": "strict",
          "coloraxis": {
           "colorbar": {
            "outlinewidth": 0,
            "ticks": ""
           }
          },
          "colorscale": {
           "diverging": [
            [
             0,
             "#8e0152"
            ],
            [
             0.1,
             "#c51b7d"
            ],
            [
             0.2,
             "#de77ae"
            ],
            [
             0.3,
             "#f1b6da"
            ],
            [
             0.4,
             "#fde0ef"
            ],
            [
             0.5,
             "#f7f7f7"
            ],
            [
             0.6,
             "#e6f5d0"
            ],
            [
             0.7,
             "#b8e186"
            ],
            [
             0.8,
             "#7fbc41"
            ],
            [
             0.9,
             "#4d9221"
            ],
            [
             1,
             "#276419"
            ]
           ],
           "sequential": [
            [
             0,
             "#0d0887"
            ],
            [
             0.1111111111111111,
             "#46039f"
            ],
            [
             0.2222222222222222,
             "#7201a8"
            ],
            [
             0.3333333333333333,
             "#9c179e"
            ],
            [
             0.4444444444444444,
             "#bd3786"
            ],
            [
             0.5555555555555556,
             "#d8576b"
            ],
            [
             0.6666666666666666,
             "#ed7953"
            ],
            [
             0.7777777777777778,
             "#fb9f3a"
            ],
            [
             0.8888888888888888,
             "#fdca26"
            ],
            [
             1,
             "#f0f921"
            ]
           ],
           "sequentialminus": [
            [
             0,
             "#0d0887"
            ],
            [
             0.1111111111111111,
             "#46039f"
            ],
            [
             0.2222222222222222,
             "#7201a8"
            ],
            [
             0.3333333333333333,
             "#9c179e"
            ],
            [
             0.4444444444444444,
             "#bd3786"
            ],
            [
             0.5555555555555556,
             "#d8576b"
            ],
            [
             0.6666666666666666,
             "#ed7953"
            ],
            [
             0.7777777777777778,
             "#fb9f3a"
            ],
            [
             0.8888888888888888,
             "#fdca26"
            ],
            [
             1,
             "#f0f921"
            ]
           ]
          },
          "colorway": [
           "#636efa",
           "#EF553B",
           "#00cc96",
           "#ab63fa",
           "#FFA15A",
           "#19d3f3",
           "#FF6692",
           "#B6E880",
           "#FF97FF",
           "#FECB52"
          ],
          "font": {
           "color": "#2a3f5f"
          },
          "geo": {
           "bgcolor": "white",
           "lakecolor": "white",
           "landcolor": "#E5ECF6",
           "showlakes": true,
           "showland": true,
           "subunitcolor": "white"
          },
          "hoverlabel": {
           "align": "left"
          },
          "hovermode": "closest",
          "mapbox": {
           "style": "light"
          },
          "paper_bgcolor": "white",
          "plot_bgcolor": "#E5ECF6",
          "polar": {
           "angularaxis": {
            "gridcolor": "white",
            "linecolor": "white",
            "ticks": ""
           },
           "bgcolor": "#E5ECF6",
           "radialaxis": {
            "gridcolor": "white",
            "linecolor": "white",
            "ticks": ""
           }
          },
          "scene": {
           "xaxis": {
            "backgroundcolor": "#E5ECF6",
            "gridcolor": "white",
            "gridwidth": 2,
            "linecolor": "white",
            "showbackground": true,
            "ticks": "",
            "zerolinecolor": "white"
           },
           "yaxis": {
            "backgroundcolor": "#E5ECF6",
            "gridcolor": "white",
            "gridwidth": 2,
            "linecolor": "white",
            "showbackground": true,
            "ticks": "",
            "zerolinecolor": "white"
           },
           "zaxis": {
            "backgroundcolor": "#E5ECF6",
            "gridcolor": "white",
            "gridwidth": 2,
            "linecolor": "white",
            "showbackground": true,
            "ticks": "",
            "zerolinecolor": "white"
           }
          },
          "shapedefaults": {
           "line": {
            "color": "#2a3f5f"
           }
          },
          "ternary": {
           "aaxis": {
            "gridcolor": "white",
            "linecolor": "white",
            "ticks": ""
           },
           "baxis": {
            "gridcolor": "white",
            "linecolor": "white",
            "ticks": ""
           },
           "bgcolor": "#E5ECF6",
           "caxis": {
            "gridcolor": "white",
            "linecolor": "white",
            "ticks": ""
           }
          },
          "title": {
           "x": 0.05
          },
          "xaxis": {
           "automargin": true,
           "gridcolor": "white",
           "linecolor": "white",
           "ticks": "",
           "title": {
            "standoff": 15
           },
           "zerolinecolor": "white",
           "zerolinewidth": 2
          },
          "yaxis": {
           "automargin": true,
           "gridcolor": "white",
           "linecolor": "white",
           "ticks": "",
           "title": {
            "standoff": 15
           },
           "zerolinecolor": "white",
           "zerolinewidth": 2
          }
         }
        },
        "width": 1200
       }
      }
     },
     "metadata": {},
     "output_type": "display_data"
    }
   ],
   "source": [
    "plot_contours(\n",
    "    eval_auc_sess_glob,\n",
    "    'session_bin',\n",
    "    'Window',\n",
    "    'experiment',\n",
    "    'auroc',\n",
    "    'eval_auroc_sess_glob',\n",
    "    'ROC | Session Time'\n",
    ")"
   ]
  },
  {
   "cell_type": "markdown",
   "metadata": {},
   "source": []
  },
  {
   "cell_type": "code",
   "execution_count": 38,
   "metadata": {},
   "outputs": [
    {
     "data": {
      "application/vnd.plotly.v1+json": {
       "config": {
        "plotlyServerURL": "https://plot.ly"
       },
       "data": [
        {
         "alphahull": 0.5,
         "colorscale": [
          [
           0,
           "rgb(3, 35, 51)"
          ],
          [
           0.09090909090909091,
           "rgb(13, 48, 100)"
          ],
          [
           0.18181818181818182,
           "rgb(53, 50, 155)"
          ],
          [
           0.2727272727272727,
           "rgb(93, 62, 153)"
          ],
          [
           0.36363636363636365,
           "rgb(126, 77, 143)"
          ],
          [
           0.45454545454545453,
           "rgb(158, 89, 135)"
          ],
          [
           0.5454545454545454,
           "rgb(193, 100, 121)"
          ],
          [
           0.6363636363636364,
           "rgb(225, 113, 97)"
          ],
          [
           0.7272727272727273,
           "rgb(246, 139, 69)"
          ],
          [
           0.8181818181818182,
           "rgb(251, 173, 60)"
          ],
          [
           0.9090909090909091,
           "rgb(246, 211, 70)"
          ],
          [
           1,
           "rgb(231, 250, 90)"
          ]
         ],
         "i": [
          124,
          142,
          124,
          109,
          79,
          95,
          95,
          98,
          155,
          142,
          150,
          135,
          10,
          26,
          42,
          28,
          52,
          38,
          142,
          130,
          16,
          16,
          33,
          19,
          5,
          19,
          23,
          38,
          23,
          23,
          26,
          23,
          183,
          200,
          288,
          270,
          259,
          270,
          277,
          288,
          277,
          259,
          266,
          263,
          67,
          56,
          57,
          74,
          57,
          56,
          85,
          85,
          67,
          85,
          98,
          100,
          85,
          104,
          116,
          116,
          127,
          130,
          104,
          116,
          134,
          147,
          134,
          116,
          124,
          121,
          121,
          105,
          168,
          168,
          180,
          183,
          155,
          168,
          213,
          211,
          226,
          213,
          200,
          213,
          245,
          226,
          255,
          259,
          245,
          245,
          266,
          251,
          281,
          282,
          267,
          281,
          294,
          281,
          277,
          281,
          239,
          239,
          208,
          219,
          219,
          239,
          217,
          219,
          251,
          236,
          219,
          231,
          245,
          231,
          231,
          213,
          49,
          49,
          49,
          45,
          95,
          91,
          91,
          76,
          187,
          187,
          187,
          168,
          161,
          161,
          162,
          161,
          161,
          142,
          172,
          175,
          63,
          67,
          63,
          49,
          76,
          63,
          63,
          63,
          208,
          193,
          175,
          190,
          206,
          190,
          187,
          190
         ],
         "intensity": [
          0.5856278687337778,
          0.5768378713975589,
          0.5656614617022703,
          0.5317565456160019,
          0.5653992294989053,
          0.5573583473862167,
          0.5839605466139437,
          0.5839654801947234,
          0.5668820390294771,
          0.5914406752774621,
          0.5685155546470934,
          0.564695743488814,
          0.580882374936952,
          0.5670900400848767,
          0.5896595150778439,
          0.622926536714052,
          0.6142636921267277,
          0.609586165215564,
          0.5562932263369522,
          0.6082565962201154,
          0.6096212827495462,
          0.6171609218804788,
          0.6173844609839987,
          0.6173379056159739,
          0.6217702746062054,
          0.6094489057055401,
          0.6032888632777164,
          0.6160916158307921,
          0.6102424916395133,
          0.6122147333044339,
          0.5979870180284184,
          0.5883248136530124,
          0.6024094161603939,
          0.5473676695546874,
          0.5758767636203904,
          0.6065218325673526,
          0.5872401470840576,
          0.5869912167519384,
          0.6073635783620649,
          0.5968146400578639,
          0.5856594117525983,
          0.6068241912315829,
          0.599463511672789,
          0.5838153122777969,
          0.6135576108117042,
          0.6195023288856765,
          0.6105980643915707,
          0.6187742716255761,
          0.559389835755103,
          0.600991521128055,
          0.6213604396167909,
          0.6090976728518336,
          0.6090041766126085,
          0.6168075090772553,
          0.6179212835690684,
          0.6087572539911323,
          0.6189160536702326,
          0.6161277867573794,
          0.6085301148265019,
          0.6239130475881903,
          0.6303404200233549,
          0.6111294247500384,
          0.5847690892510082,
          0.5686552509191638,
          0.6149890187502542,
          0.6047548744668302,
          0.6304333577405579,
          0.630561710276951,
          0.6029480752684077,
          0.6312471951660444,
          0.6210441229780113,
          0.5973894366169435,
          0.6164395018578721,
          0.6203794010496857,
          0.6076124572103078,
          0.6359635970587506,
          0.6155571969164302,
          0.6096761400397723,
          0.592174245362434,
          0.6247165388711493,
          0.6135359642781857,
          0.6404813330720962,
          0.640603483448255,
          0.611996674544028,
          0.6466529579463205,
          0.6267359333256252,
          0.6219115904398718,
          0.6149882560437979,
          0.625673807015347,
          0.6133718783119116,
          0.6324740285493665,
          0.6134427070108999,
          0.6206148073518691,
          0.576457476094671,
          0.620702036759871,
          0.6373251698617395,
          0.6395954787118185,
          0.6393971252267454,
          0.6239100546678019,
          0.6423907470514074,
          0.6249592858377905,
          0.6366261544122295,
          0.6104898248850374,
          0.6244829755148273,
          0.6370741913149192,
          0.6486114501711577,
          0.6388883493852514,
          0.6450853502962356,
          0.6080111051745283,
          0.6416360856717893,
          0.6423774712733518,
          0.6545985399818032,
          0.6542470289771171,
          0.63721972190017,
          0.652185582311638,
          0.6421422537724317,
          0.6525702845561089,
          0.6335470117499552,
          0.6402270566695047,
          0.645477677653789,
          0.6186211811307591,
          0.6044199754603952,
          0.6301345935268604,
          0.5792828412325655,
          0.5998137703385806,
          0.6316006120620908,
          0.6197601056545498,
          0.6194030534036954,
          0.6328608405609332,
          0.6226536077979958,
          0.5987723233557543,
          0.6413017204192057,
          0.5909317482072427,
          0.597999804304725,
          0.6480161845987893,
          0.6482782930877393,
          0.6321928970746736,
          0.6664469756088298,
          0.586940548704307,
          0.6338788204940518,
          0.669956441738243,
          0.6514716372457737,
          0.6514487593284949,
          0.6663807580617969,
          0.6539476744316293,
          0.6373144239485985,
          0.676555432178924,
          0.6270313162223975,
          0.6358489409571628,
          0.6846529994266406,
          0.6366132120273129,
          0.6271721268091185,
          0.6495842580874472,
          0.5875870818570738,
          0.6223268000310082,
          0.6442427759592079,
          0.6384796488938285,
          0.6383118082505772,
          0.6599891996938527,
          0.6384762520758861,
          0.6264642939518578,
          0.6580617598557966,
          0.6204137580802711,
          0.6273606670170268,
          0.6585353836127749,
          0.6485507062581907,
          0.6309480977353842,
          0.6146373739053719,
          0.6047349664629232,
          0.6282764118438013,
          0.618798102572968,
          0.6528069064914044,
          0.6529760438618476,
          0.6338093216303149,
          0.6511771278107801,
          0.6316108012226461,
          0.630417536645054,
          0.626891781657123,
          0.6317478236649319,
          0.6371401774566129,
          0.6486000267478406,
          0.6377609806669322,
          0.5933612236712452,
          0.6281584874968382,
          0.6383009587550237,
          0.6112910796390011,
          0.6470441683408296,
          0.6470319561587387,
          0.6056350478186312,
          0.6528782474155868,
          0.6431116002767819,
          0.5915532318169305,
          0.6458948972194845,
          0.6425800513926805,
          0.5643319405420671,
          0.651859628086187,
          0.639103811615104,
          0.6657779641663693,
          0.6069415806960731,
          0.6423816661330741,
          0.6735336053989515,
          0.6525804864558603,
          0.6523900984835662,
          0.6698307355025899,
          0.6527894055197974,
          0.6427507797769214,
          0.6757115095614206,
          0.6360454022494855,
          0.6420060540524314,
          0.6694512773698829,
          0.6696866422714498,
          0.6557154440796353,
          0.6992909658071425,
          0.6482159893633612,
          0.6662990547262684,
          0.7000789442561282,
          0.6761152771003186,
          0.6762077113841515,
          0.6964468225927792,
          0.6744901294008302,
          0.6630218418028895,
          0.7023773474741921,
          0.6440909410870664,
          0.6619164750223638,
          0.7100999133592953,
          0.6064354109589998,
          0.5955771298376233,
          0.6166846805505147,
          0.5842255692967603,
          0.6017077145986778,
          0.6078081775311341,
          0.6021020571561385,
          0.6019369175055699,
          0.6076100442344936,
          0.611294966977529,
          0.6062098448113976,
          0.6125619472563943,
          0.5938186246960864,
          0.6055147868089423,
          0.6236845377762983,
          0.6663383557167574,
          0.6372485524567817,
          0.6324716917203219,
          0.6050474196807961,
          0.6513964185594872,
          0.6272028305863705,
          0.6671873976243228,
          0.6667110414890378,
          0.6232354866492786,
          0.6669181340484109,
          0.6558844733077428,
          0.648057641123038,
          0.6475553036960915,
          0.6550330119142725,
          0.6592934107581092,
          0.7246868980641272,
          0.7130178540438541,
          0.7498829717890902,
          0.6934630741725518,
          0.7131209898449483,
          0.7573642123493662,
          0.7250563070353169,
          0.7250343322598336,
          0.7539436531671433,
          0.7283691017672111,
          0.714742248195595,
          0.7605161622473885,
          0.7152238146088472,
          0.7145507071459889,
          0.7627796991187337,
          0.6838083471081007,
          0.6617079065814848,
          0.6859746021320567,
          0.6401152327708766,
          0.6687590857396195,
          0.6859390071295447,
          0.6887635066255438,
          0.6889863350867997,
          0.6884227292465575,
          0.6868500213250741,
          0.6671340128230988,
          0.6933080758010132,
          0.660032679849715,
          0.667293081719095,
          0.7013899084687145,
          0.7110755103925012,
          0.6942092735991712,
          0.7527612071598223,
          0.6856017095201066,
          0.6974521035613754,
          0.7511237693567246,
          0.7063878387687539,
          0.7063638407551229,
          0.75421031253342,
          0.7072038829968935,
          0.7019192376500459,
          0.7532962750105142,
          0.6831754999771698,
          0.7014646295482543,
          0.755260931615023
         ],
         "j": [
          142,
          124,
          127,
          124,
          95,
          98,
          109,
          95,
          142,
          155,
          155,
          155,
          28,
          28,
          28,
          26,
          56,
          56,
          130,
          142,
          5,
          19,
          16,
          16,
          23,
          23,
          19,
          23,
          10,
          26,
          23,
          38,
          180,
          183,
          270,
          288,
          270,
          259,
          288,
          277,
          259,
          277,
          251,
          266,
          56,
          67,
          56,
          57,
          42,
          57,
          89,
          74,
          85,
          67,
          85,
          85,
          104,
          85,
          98,
          100,
          116,
          116,
          116,
          104,
          130,
          134,
          116,
          134,
          121,
          135,
          124,
          121,
          150,
          155,
          168,
          168,
          168,
          172,
          200,
          213,
          213,
          226,
          213,
          217,
          226,
          245,
          245,
          245,
          259,
          263,
          267,
          267,
          294,
          281,
          281,
          267,
          281,
          277,
          281,
          266,
          251,
          236,
          219,
          208,
          239,
          219,
          219,
          206,
          231,
          231,
          231,
          219,
          231,
          245,
          213,
          231,
          52,
          38,
          33,
          49,
          91,
          105,
          95,
          91,
          183,
          200,
          168,
          187,
          147,
          162,
          161,
          175,
          142,
          161,
          161,
          161,
          79,
          63,
          67,
          63,
          63,
          76,
          45,
          49,
          190,
          190,
          190,
          193,
          190,
          187,
          190,
          175
         ],
         "k": [
          127,
          138,
          112,
          112,
          83,
          83,
          112,
          112,
          138,
          156,
          135,
          138,
          12,
          10,
          40,
          40,
          38,
          40,
          127,
          144,
          0,
          5,
          32,
          33,
          7,
          5,
          33,
          33,
          7,
          10,
          40,
          40,
          196,
          196,
          285,
          273,
          273,
          255,
          291,
          273,
          273,
          263,
          247,
          247,
          52,
          70,
          70,
          70,
          40,
          40,
          74,
          70,
          70,
          83,
          83,
          98,
          89,
          100,
          112,
          98,
          112,
          127,
          118,
          100,
          144,
          144,
          130,
          118,
          138,
          138,
          109,
          109,
          167,
          150,
          167,
          180,
          156,
          156,
          196,
          196,
          211,
          230,
          203,
          203,
          240,
          230,
          240,
          255,
          263,
          247,
          251,
          252,
          297,
          297,
          282,
          266,
          291,
          291,
          263,
          263,
          252,
          251,
          222,
          206,
          222,
          236,
          203,
          203,
          247,
          251,
          236,
          217,
          230,
          247,
          230,
          217,
          38,
          33,
          32,
          32,
          109,
          109,
          79,
          79,
          200,
          203,
          183,
          172,
          144,
          147,
          179,
          179,
          156,
          144,
          156,
          172,
          83,
          83,
          52,
          52,
          61,
          79,
          61,
          45,
          206,
          208,
          179,
          179,
          203,
          203,
          172,
          172
         ],
         "type": "mesh3d",
         "x": [
          1,
          1,
          1,
          1,
          1,
          1,
          1,
          1,
          1,
          1,
          1,
          1,
          1,
          1,
          1,
          2,
          2,
          2,
          2,
          2,
          2,
          2,
          2,
          2,
          2,
          2,
          2,
          2,
          2,
          2,
          3,
          3,
          3,
          3,
          3,
          3,
          3,
          3,
          3,
          3,
          3,
          3,
          3,
          3,
          3,
          4,
          4,
          4,
          4,
          4,
          4,
          4,
          4,
          4,
          4,
          4,
          4,
          4,
          4,
          4,
          5,
          5,
          5,
          5,
          5,
          5,
          5,
          5,
          5,
          5,
          5,
          5,
          5,
          5,
          5,
          6,
          6,
          6,
          6,
          6,
          6,
          6,
          6,
          6,
          6,
          6,
          6,
          6,
          6,
          6,
          7,
          7,
          7,
          7,
          7,
          7,
          7,
          7,
          7,
          7,
          7,
          7,
          7,
          7,
          7,
          8,
          8,
          8,
          8,
          8,
          8,
          8,
          8,
          8,
          8,
          8,
          8,
          8,
          8,
          8,
          9,
          9,
          9,
          9,
          9,
          9,
          9,
          9,
          9,
          9,
          9,
          9,
          9,
          9,
          9,
          10,
          10,
          10,
          10,
          10,
          10,
          10,
          10,
          10,
          10,
          10,
          10,
          10,
          10,
          10,
          11,
          11,
          11,
          11,
          11,
          11,
          11,
          11,
          11,
          11,
          11,
          11,
          11,
          11,
          11,
          12,
          12,
          12,
          12,
          12,
          12,
          12,
          12,
          12,
          12,
          12,
          12,
          12,
          12,
          12,
          13,
          13,
          13,
          13,
          13,
          13,
          13,
          13,
          13,
          13,
          13,
          13,
          13,
          13,
          13,
          14,
          14,
          14,
          14,
          14,
          14,
          14,
          14,
          14,
          14,
          14,
          14,
          14,
          14,
          14,
          15,
          15,
          15,
          15,
          15,
          15,
          15,
          15,
          15,
          15,
          15,
          15,
          15,
          15,
          15,
          16,
          16,
          16,
          16,
          16,
          16,
          16,
          16,
          16,
          16,
          16,
          16,
          16,
          16,
          16,
          17,
          17,
          17,
          17,
          17,
          17,
          17,
          17,
          17,
          17,
          17,
          17,
          17,
          17,
          17,
          18,
          18,
          18,
          18,
          18,
          18,
          18,
          18,
          18,
          18,
          18,
          18,
          18,
          18,
          18,
          19,
          19,
          19,
          19,
          19,
          19,
          19,
          19,
          19,
          19,
          19,
          19,
          19,
          19,
          19,
          20,
          20,
          20,
          20,
          20,
          20,
          20,
          20,
          20,
          20,
          20,
          20,
          20,
          20,
          20
         ],
         "y": [
          1,
          1,
          1,
          10,
          10,
          10,
          20,
          20,
          20,
          30,
          30,
          30,
          40,
          40,
          40,
          1,
          1,
          1,
          10,
          10,
          10,
          20,
          20,
          20,
          30,
          30,
          30,
          40,
          40,
          40,
          1,
          1,
          1,
          10,
          10,
          10,
          20,
          20,
          20,
          30,
          30,
          30,
          40,
          40,
          40,
          1,
          1,
          1,
          10,
          10,
          10,
          20,
          20,
          20,
          30,
          30,
          30,
          40,
          40,
          40,
          1,
          1,
          1,
          10,
          10,
          10,
          20,
          20,
          20,
          30,
          30,
          30,
          40,
          40,
          40,
          1,
          1,
          1,
          10,
          10,
          10,
          20,
          20,
          20,
          30,
          30,
          30,
          40,
          40,
          40,
          1,
          1,
          1,
          10,
          10,
          10,
          20,
          20,
          20,
          30,
          30,
          30,
          40,
          40,
          40,
          1,
          1,
          1,
          10,
          10,
          10,
          20,
          20,
          20,
          30,
          30,
          30,
          40,
          40,
          40,
          1,
          1,
          1,
          10,
          10,
          10,
          20,
          20,
          20,
          30,
          30,
          30,
          40,
          40,
          40,
          1,
          1,
          1,
          10,
          10,
          10,
          20,
          20,
          20,
          30,
          30,
          30,
          40,
          40,
          40,
          1,
          1,
          1,
          10,
          10,
          10,
          20,
          20,
          20,
          30,
          30,
          30,
          40,
          40,
          40,
          1,
          1,
          1,
          10,
          10,
          10,
          20,
          20,
          20,
          30,
          30,
          30,
          40,
          40,
          40,
          1,
          1,
          1,
          10,
          10,
          10,
          20,
          20,
          20,
          30,
          30,
          30,
          40,
          40,
          40,
          1,
          1,
          1,
          10,
          10,
          10,
          20,
          20,
          20,
          30,
          30,
          30,
          40,
          40,
          40,
          1,
          1,
          1,
          10,
          10,
          10,
          20,
          20,
          20,
          30,
          30,
          30,
          40,
          40,
          40,
          1,
          1,
          1,
          10,
          10,
          10,
          20,
          20,
          20,
          30,
          30,
          30,
          40,
          40,
          40,
          1,
          1,
          1,
          10,
          10,
          10,
          20,
          20,
          20,
          30,
          30,
          30,
          40,
          40,
          40,
          1,
          1,
          1,
          10,
          10,
          10,
          20,
          20,
          20,
          30,
          30,
          30,
          40,
          40,
          40,
          1,
          1,
          1,
          10,
          10,
          10,
          20,
          20,
          20,
          30,
          30,
          30,
          40,
          40,
          40,
          1,
          1,
          1,
          10,
          10,
          10,
          20,
          20,
          20,
          30,
          30,
          30,
          40,
          40,
          40
         ],
         "z": [
          10,
          20,
          30,
          10,
          20,
          30,
          10,
          20,
          30,
          10,
          20,
          30,
          10,
          20,
          30,
          10,
          20,
          30,
          10,
          20,
          30,
          10,
          20,
          30,
          10,
          20,
          30,
          10,
          20,
          30,
          10,
          20,
          30,
          10,
          20,
          30,
          10,
          20,
          30,
          10,
          20,
          30,
          10,
          20,
          30,
          10,
          20,
          30,
          10,
          20,
          30,
          10,
          20,
          30,
          10,
          20,
          30,
          10,
          20,
          30,
          10,
          20,
          30,
          10,
          20,
          30,
          10,
          20,
          30,
          10,
          20,
          30,
          10,
          20,
          30,
          10,
          20,
          30,
          10,
          20,
          30,
          10,
          20,
          30,
          10,
          20,
          30,
          10,
          20,
          30,
          10,
          20,
          30,
          10,
          20,
          30,
          10,
          20,
          30,
          10,
          20,
          30,
          10,
          20,
          30,
          10,
          20,
          30,
          10,
          20,
          30,
          10,
          20,
          30,
          10,
          20,
          30,
          10,
          20,
          30,
          10,
          20,
          30,
          10,
          20,
          30,
          10,
          20,
          30,
          10,
          20,
          30,
          10,
          20,
          30,
          10,
          20,
          30,
          10,
          20,
          30,
          10,
          20,
          30,
          10,
          20,
          30,
          10,
          20,
          30,
          10,
          20,
          30,
          10,
          20,
          30,
          10,
          20,
          30,
          10,
          20,
          30,
          10,
          20,
          30,
          10,
          20,
          30,
          10,
          20,
          30,
          10,
          20,
          30,
          10,
          20,
          30,
          10,
          20,
          30,
          10,
          20,
          30,
          10,
          20,
          30,
          10,
          20,
          30,
          10,
          20,
          30,
          10,
          20,
          30,
          10,
          20,
          30,
          10,
          20,
          30,
          10,
          20,
          30,
          10,
          20,
          30,
          10,
          20,
          30,
          10,
          20,
          30,
          10,
          20,
          30,
          10,
          20,
          30,
          10,
          20,
          30,
          10,
          20,
          30,
          10,
          20,
          30,
          10,
          20,
          30,
          10,
          20,
          30,
          10,
          20,
          30,
          10,
          20,
          30,
          10,
          20,
          30,
          10,
          20,
          30,
          10,
          20,
          30,
          10,
          20,
          30,
          10,
          20,
          30,
          10,
          20,
          30,
          10,
          20,
          30,
          10,
          20,
          30,
          10,
          20,
          30,
          10,
          20,
          30,
          10,
          20,
          30,
          10,
          20,
          30,
          10,
          20,
          30,
          10,
          20,
          30,
          10,
          20,
          30,
          10,
          20,
          30,
          10,
          20,
          30,
          10,
          20,
          30,
          10,
          20,
          30,
          10,
          20,
          30
         ]
        }
       ],
       "layout": {
        "height": 800,
        "margin": {
         "b": 5,
         "l": 5,
         "r": 5,
         "t": 5
        },
        "scene": {
         "xaxis": {
          "title": {
           "text": "Session Count"
          }
         },
         "yaxis": {
          "title": {
           "text": "Window Size"
          }
         },
         "zaxis": {
          "title": {
           "text": "Experiment"
          }
         }
        },
        "showlegend": true,
        "template": {
         "data": {
          "bar": [
           {
            "error_x": {
             "color": "#2a3f5f"
            },
            "error_y": {
             "color": "#2a3f5f"
            },
            "marker": {
             "line": {
              "color": "#E5ECF6",
              "width": 0.5
             },
             "pattern": {
              "fillmode": "overlay",
              "size": 10,
              "solidity": 0.2
             }
            },
            "type": "bar"
           }
          ],
          "barpolar": [
           {
            "marker": {
             "line": {
              "color": "#E5ECF6",
              "width": 0.5
             },
             "pattern": {
              "fillmode": "overlay",
              "size": 10,
              "solidity": 0.2
             }
            },
            "type": "barpolar"
           }
          ],
          "carpet": [
           {
            "aaxis": {
             "endlinecolor": "#2a3f5f",
             "gridcolor": "white",
             "linecolor": "white",
             "minorgridcolor": "white",
             "startlinecolor": "#2a3f5f"
            },
            "baxis": {
             "endlinecolor": "#2a3f5f",
             "gridcolor": "white",
             "linecolor": "white",
             "minorgridcolor": "white",
             "startlinecolor": "#2a3f5f"
            },
            "type": "carpet"
           }
          ],
          "choropleth": [
           {
            "colorbar": {
             "outlinewidth": 0,
             "ticks": ""
            },
            "type": "choropleth"
           }
          ],
          "contour": [
           {
            "colorbar": {
             "outlinewidth": 0,
             "ticks": ""
            },
            "colorscale": [
             [
              0,
              "#0d0887"
             ],
             [
              0.1111111111111111,
              "#46039f"
             ],
             [
              0.2222222222222222,
              "#7201a8"
             ],
             [
              0.3333333333333333,
              "#9c179e"
             ],
             [
              0.4444444444444444,
              "#bd3786"
             ],
             [
              0.5555555555555556,
              "#d8576b"
             ],
             [
              0.6666666666666666,
              "#ed7953"
             ],
             [
              0.7777777777777778,
              "#fb9f3a"
             ],
             [
              0.8888888888888888,
              "#fdca26"
             ],
             [
              1,
              "#f0f921"
             ]
            ],
            "type": "contour"
           }
          ],
          "contourcarpet": [
           {
            "colorbar": {
             "outlinewidth": 0,
             "ticks": ""
            },
            "type": "contourcarpet"
           }
          ],
          "heatmap": [
           {
            "colorbar": {
             "outlinewidth": 0,
             "ticks": ""
            },
            "colorscale": [
             [
              0,
              "#0d0887"
             ],
             [
              0.1111111111111111,
              "#46039f"
             ],
             [
              0.2222222222222222,
              "#7201a8"
             ],
             [
              0.3333333333333333,
              "#9c179e"
             ],
             [
              0.4444444444444444,
              "#bd3786"
             ],
             [
              0.5555555555555556,
              "#d8576b"
             ],
             [
              0.6666666666666666,
              "#ed7953"
             ],
             [
              0.7777777777777778,
              "#fb9f3a"
             ],
             [
              0.8888888888888888,
              "#fdca26"
             ],
             [
              1,
              "#f0f921"
             ]
            ],
            "type": "heatmap"
           }
          ],
          "heatmapgl": [
           {
            "colorbar": {
             "outlinewidth": 0,
             "ticks": ""
            },
            "colorscale": [
             [
              0,
              "#0d0887"
             ],
             [
              0.1111111111111111,
              "#46039f"
             ],
             [
              0.2222222222222222,
              "#7201a8"
             ],
             [
              0.3333333333333333,
              "#9c179e"
             ],
             [
              0.4444444444444444,
              "#bd3786"
             ],
             [
              0.5555555555555556,
              "#d8576b"
             ],
             [
              0.6666666666666666,
              "#ed7953"
             ],
             [
              0.7777777777777778,
              "#fb9f3a"
             ],
             [
              0.8888888888888888,
              "#fdca26"
             ],
             [
              1,
              "#f0f921"
             ]
            ],
            "type": "heatmapgl"
           }
          ],
          "histogram": [
           {
            "marker": {
             "pattern": {
              "fillmode": "overlay",
              "size": 10,
              "solidity": 0.2
             }
            },
            "type": "histogram"
           }
          ],
          "histogram2d": [
           {
            "colorbar": {
             "outlinewidth": 0,
             "ticks": ""
            },
            "colorscale": [
             [
              0,
              "#0d0887"
             ],
             [
              0.1111111111111111,
              "#46039f"
             ],
             [
              0.2222222222222222,
              "#7201a8"
             ],
             [
              0.3333333333333333,
              "#9c179e"
             ],
             [
              0.4444444444444444,
              "#bd3786"
             ],
             [
              0.5555555555555556,
              "#d8576b"
             ],
             [
              0.6666666666666666,
              "#ed7953"
             ],
             [
              0.7777777777777778,
              "#fb9f3a"
             ],
             [
              0.8888888888888888,
              "#fdca26"
             ],
             [
              1,
              "#f0f921"
             ]
            ],
            "type": "histogram2d"
           }
          ],
          "histogram2dcontour": [
           {
            "colorbar": {
             "outlinewidth": 0,
             "ticks": ""
            },
            "colorscale": [
             [
              0,
              "#0d0887"
             ],
             [
              0.1111111111111111,
              "#46039f"
             ],
             [
              0.2222222222222222,
              "#7201a8"
             ],
             [
              0.3333333333333333,
              "#9c179e"
             ],
             [
              0.4444444444444444,
              "#bd3786"
             ],
             [
              0.5555555555555556,
              "#d8576b"
             ],
             [
              0.6666666666666666,
              "#ed7953"
             ],
             [
              0.7777777777777778,
              "#fb9f3a"
             ],
             [
              0.8888888888888888,
              "#fdca26"
             ],
             [
              1,
              "#f0f921"
             ]
            ],
            "type": "histogram2dcontour"
           }
          ],
          "mesh3d": [
           {
            "colorbar": {
             "outlinewidth": 0,
             "ticks": ""
            },
            "type": "mesh3d"
           }
          ],
          "parcoords": [
           {
            "line": {
             "colorbar": {
              "outlinewidth": 0,
              "ticks": ""
             }
            },
            "type": "parcoords"
           }
          ],
          "pie": [
           {
            "automargin": true,
            "type": "pie"
           }
          ],
          "scatter": [
           {
            "fillpattern": {
             "fillmode": "overlay",
             "size": 10,
             "solidity": 0.2
            },
            "type": "scatter"
           }
          ],
          "scatter3d": [
           {
            "line": {
             "colorbar": {
              "outlinewidth": 0,
              "ticks": ""
             }
            },
            "marker": {
             "colorbar": {
              "outlinewidth": 0,
              "ticks": ""
             }
            },
            "type": "scatter3d"
           }
          ],
          "scattercarpet": [
           {
            "marker": {
             "colorbar": {
              "outlinewidth": 0,
              "ticks": ""
             }
            },
            "type": "scattercarpet"
           }
          ],
          "scattergeo": [
           {
            "marker": {
             "colorbar": {
              "outlinewidth": 0,
              "ticks": ""
             }
            },
            "type": "scattergeo"
           }
          ],
          "scattergl": [
           {
            "marker": {
             "colorbar": {
              "outlinewidth": 0,
              "ticks": ""
             }
            },
            "type": "scattergl"
           }
          ],
          "scattermapbox": [
           {
            "marker": {
             "colorbar": {
              "outlinewidth": 0,
              "ticks": ""
             }
            },
            "type": "scattermapbox"
           }
          ],
          "scatterpolar": [
           {
            "marker": {
             "colorbar": {
              "outlinewidth": 0,
              "ticks": ""
             }
            },
            "type": "scatterpolar"
           }
          ],
          "scatterpolargl": [
           {
            "marker": {
             "colorbar": {
              "outlinewidth": 0,
              "ticks": ""
             }
            },
            "type": "scatterpolargl"
           }
          ],
          "scatterternary": [
           {
            "marker": {
             "colorbar": {
              "outlinewidth": 0,
              "ticks": ""
             }
            },
            "type": "scatterternary"
           }
          ],
          "surface": [
           {
            "colorbar": {
             "outlinewidth": 0,
             "ticks": ""
            },
            "colorscale": [
             [
              0,
              "#0d0887"
             ],
             [
              0.1111111111111111,
              "#46039f"
             ],
             [
              0.2222222222222222,
              "#7201a8"
             ],
             [
              0.3333333333333333,
              "#9c179e"
             ],
             [
              0.4444444444444444,
              "#bd3786"
             ],
             [
              0.5555555555555556,
              "#d8576b"
             ],
             [
              0.6666666666666666,
              "#ed7953"
             ],
             [
              0.7777777777777778,
              "#fb9f3a"
             ],
             [
              0.8888888888888888,
              "#fdca26"
             ],
             [
              1,
              "#f0f921"
             ]
            ],
            "type": "surface"
           }
          ],
          "table": [
           {
            "cells": {
             "fill": {
              "color": "#EBF0F8"
             },
             "line": {
              "color": "white"
             }
            },
            "header": {
             "fill": {
              "color": "#C8D4E3"
             },
             "line": {
              "color": "white"
             }
            },
            "type": "table"
           }
          ]
         },
         "layout": {
          "annotationdefaults": {
           "arrowcolor": "#2a3f5f",
           "arrowhead": 0,
           "arrowwidth": 1
          },
          "autotypenumbers": "strict",
          "coloraxis": {
           "colorbar": {
            "outlinewidth": 0,
            "ticks": ""
           }
          },
          "colorscale": {
           "diverging": [
            [
             0,
             "#8e0152"
            ],
            [
             0.1,
             "#c51b7d"
            ],
            [
             0.2,
             "#de77ae"
            ],
            [
             0.3,
             "#f1b6da"
            ],
            [
             0.4,
             "#fde0ef"
            ],
            [
             0.5,
             "#f7f7f7"
            ],
            [
             0.6,
             "#e6f5d0"
            ],
            [
             0.7,
             "#b8e186"
            ],
            [
             0.8,
             "#7fbc41"
            ],
            [
             0.9,
             "#4d9221"
            ],
            [
             1,
             "#276419"
            ]
           ],
           "sequential": [
            [
             0,
             "#0d0887"
            ],
            [
             0.1111111111111111,
             "#46039f"
            ],
            [
             0.2222222222222222,
             "#7201a8"
            ],
            [
             0.3333333333333333,
             "#9c179e"
            ],
            [
             0.4444444444444444,
             "#bd3786"
            ],
            [
             0.5555555555555556,
             "#d8576b"
            ],
            [
             0.6666666666666666,
             "#ed7953"
            ],
            [
             0.7777777777777778,
             "#fb9f3a"
            ],
            [
             0.8888888888888888,
             "#fdca26"
            ],
            [
             1,
             "#f0f921"
            ]
           ],
           "sequentialminus": [
            [
             0,
             "#0d0887"
            ],
            [
             0.1111111111111111,
             "#46039f"
            ],
            [
             0.2222222222222222,
             "#7201a8"
            ],
            [
             0.3333333333333333,
             "#9c179e"
            ],
            [
             0.4444444444444444,
             "#bd3786"
            ],
            [
             0.5555555555555556,
             "#d8576b"
            ],
            [
             0.6666666666666666,
             "#ed7953"
            ],
            [
             0.7777777777777778,
             "#fb9f3a"
            ],
            [
             0.8888888888888888,
             "#fdca26"
            ],
            [
             1,
             "#f0f921"
            ]
           ]
          },
          "colorway": [
           "#636efa",
           "#EF553B",
           "#00cc96",
           "#ab63fa",
           "#FFA15A",
           "#19d3f3",
           "#FF6692",
           "#B6E880",
           "#FF97FF",
           "#FECB52"
          ],
          "font": {
           "color": "#2a3f5f"
          },
          "geo": {
           "bgcolor": "white",
           "lakecolor": "white",
           "landcolor": "#E5ECF6",
           "showlakes": true,
           "showland": true,
           "subunitcolor": "white"
          },
          "hoverlabel": {
           "align": "left"
          },
          "hovermode": "closest",
          "mapbox": {
           "style": "light"
          },
          "paper_bgcolor": "white",
          "plot_bgcolor": "#E5ECF6",
          "polar": {
           "angularaxis": {
            "gridcolor": "white",
            "linecolor": "white",
            "ticks": ""
           },
           "bgcolor": "#E5ECF6",
           "radialaxis": {
            "gridcolor": "white",
            "linecolor": "white",
            "ticks": ""
           }
          },
          "scene": {
           "xaxis": {
            "backgroundcolor": "#E5ECF6",
            "gridcolor": "white",
            "gridwidth": 2,
            "linecolor": "white",
            "showbackground": true,
            "ticks": "",
            "zerolinecolor": "white"
           },
           "yaxis": {
            "backgroundcolor": "#E5ECF6",
            "gridcolor": "white",
            "gridwidth": 2,
            "linecolor": "white",
            "showbackground": true,
            "ticks": "",
            "zerolinecolor": "white"
           },
           "zaxis": {
            "backgroundcolor": "#E5ECF6",
            "gridcolor": "white",
            "gridwidth": 2,
            "linecolor": "white",
            "showbackground": true,
            "ticks": "",
            "zerolinecolor": "white"
           }
          },
          "shapedefaults": {
           "line": {
            "color": "#2a3f5f"
           }
          },
          "ternary": {
           "aaxis": {
            "gridcolor": "white",
            "linecolor": "white",
            "ticks": ""
           },
           "baxis": {
            "gridcolor": "white",
            "linecolor": "white",
            "ticks": ""
           },
           "bgcolor": "#E5ECF6",
           "caxis": {
            "gridcolor": "white",
            "linecolor": "white",
            "ticks": ""
           }
          },
          "title": {
           "x": 0.05
          },
          "xaxis": {
           "automargin": true,
           "gridcolor": "white",
           "linecolor": "white",
           "ticks": "",
           "title": {
            "standoff": 15
           },
           "zerolinecolor": "white",
           "zerolinewidth": 2
          },
          "yaxis": {
           "automargin": true,
           "gridcolor": "white",
           "linecolor": "white",
           "ticks": "",
           "title": {
            "standoff": 15
           },
           "zerolinecolor": "white",
           "zerolinewidth": 2
          }
         }
        },
        "width": 1200
       }
      }
     },
     "metadata": {},
     "output_type": "display_data"
    }
   ],
   "source": [
    "plot_contours(\n",
    "    eval_auc_plat_glob,\n",
    "    'user_bin',\n",
    "    'Window',\n",
    "    'experiment',\n",
    "    'auroc',\n",
    "    'eval_auroc_plat_glob',\n",
    "    'ROC | Platform Time'\n",
    ")"
   ]
  },
  {
   "cell_type": "code",
   "execution_count": 13,
   "metadata": {},
   "outputs": [
    {
     "data": {
      "application/vnd.plotly.v1+json": {
       "config": {
        "plotlyServerURL": "https://plot.ly"
       },
       "data": [
        {
         "alphahull": 0.5,
         "colorscale": [
          [
           0,
           "rgb(3, 35, 51)"
          ],
          [
           0.09090909090909091,
           "rgb(13, 48, 100)"
          ],
          [
           0.18181818181818182,
           "rgb(53, 50, 155)"
          ],
          [
           0.2727272727272727,
           "rgb(93, 62, 153)"
          ],
          [
           0.36363636363636365,
           "rgb(126, 77, 143)"
          ],
          [
           0.45454545454545453,
           "rgb(158, 89, 135)"
          ],
          [
           0.5454545454545454,
           "rgb(193, 100, 121)"
          ],
          [
           0.6363636363636364,
           "rgb(225, 113, 97)"
          ],
          [
           0.7272727272727273,
           "rgb(246, 139, 69)"
          ],
          [
           0.8181818181818182,
           "rgb(251, 173, 60)"
          ],
          [
           0.9090909090909091,
           "rgb(246, 211, 70)"
          ],
          [
           1,
           "rgb(231, 250, 90)"
          ]
         ],
         "i": [
          123,
          123,
          123,
          139,
          144,
          141,
          132,
          130,
          92,
          94,
          114,
          114,
          130,
          114,
          94,
          83,
          120,
          123,
          110,
          112,
          110,
          110,
          94,
          110,
          114,
          112,
          104,
          99,
          99,
          83,
          99,
          84,
          48,
          31,
          48,
          36,
          36,
          20,
          5,
          20,
          31,
          20,
          16,
          20,
          26,
          44,
          26,
          11,
          36,
          26,
          26,
          21,
          44,
          56,
          56,
          36,
          73,
          73,
          56,
          73,
          67,
          56,
          67,
          71,
          48,
          64,
          83,
          67,
          79,
          64,
          61,
          61
         ],
         "intensity": [
          0.6180395446129926,
          0.672916894666229,
          0.107631132867576,
          0.6681453550700529,
          0.6589036614020999,
          0.10572612862689199,
          0.6254991266573896,
          0.6253942566507588,
          0.1206658241845036,
          0.6183279103847396,
          0.6739781213674941,
          0.11754077708526721,
          0.6972811391592476,
          0.6691710571437478,
          0.11511213323249317,
          0.6549006867347054,
          0.700217540543673,
          0.22505332501414746,
          0.7016690038219363,
          0.6933358049865603,
          0.21355539512784782,
          0.6620925466752714,
          0.6619495395706584,
          0.22838106039126738,
          0.6536639995682269,
          0.71365518598349,
          0.22859277927558316,
          0.7318076552408624,
          0.7063361501697029,
          0.23227761262291333,
          0.6927518570102136,
          0.7334241198994718,
          0.32368234160198855,
          0.7614915023504137,
          0.7225706698064688,
          0.32255723140795795,
          0.6991881489419146,
          0.6991285124840639,
          0.32842713749391306,
          0.6960133442458133,
          0.7440731941565991,
          0.33204054988096154,
          0.7741398281143129,
          0.7377165959994392,
          0.3310594972955775,
          0.7177368609570277,
          0.7519970935056897,
          0.39241439761802066,
          0.7594361381705695,
          0.7419063564024907,
          0.38168159028656556,
          0.7200517906874481,
          0.7200093800839322,
          0.39522825035846476,
          0.7162847537531155,
          0.7603131928166952,
          0.38051881358519896,
          0.7856546629732225,
          0.7533197049934355,
          0.39004294149221685,
          0.7502443952033369,
          0.7766039341840918,
          0.49381335893053635,
          0.7965471758585834,
          0.7661294499884793,
          0.4803600214938205,
          0.7487745330216145,
          0.7489287811531151,
          0.48776778437536383,
          0.7481112729850968,
          0.7764870429264557,
          0.4973048829180074,
          0.8169971498163857,
          0.770281685798555,
          0.49744557193410044,
          0.7830608800203472,
          0.8015800055479011,
          0.5445698695453355,
          0.8204795946595227,
          0.7919178834031494,
          0.538098785207422,
          0.7823243193965231,
          0.7823564771675421,
          0.5307539977521007,
          0.7819402930110662,
          0.7981357540500365,
          0.5359449677045214,
          0.8310592441301311,
          0.793006858563368,
          0.5431812452735064,
          0.8111985604808382,
          0.8236814866600861,
          0.6264952671026307,
          0.848855221469265,
          0.8146155475534844,
          0.6248850451014538,
          0.810941116394432,
          0.810939004345226,
          0.6246814410079716,
          0.811079985159068,
          0.8110045388505689,
          0.6033480822951288,
          0.8387047802335114,
          0.809093346201276,
          0.6250714977762732,
          0.8454112190470157,
          0.8524296870607468,
          0.6959445833879059,
          0.8762786192940641,
          0.8469767314156613,
          0.6954732872462608,
          0.8451983597963264,
          0.8452089505006197,
          0.6868881064544917,
          0.8448606482601977,
          0.8456808657121192,
          0.6703592985245873,
          0.8621228147777756,
          0.8457632667149719,
          0.6884984535568193,
          0.8761704339907509,
          0.8839009981344267,
          0.7692625627766169,
          0.9023666172562368,
          0.8796570613352687,
          0.7653661771410414,
          0.8764335205725529,
          0.8763628402040283,
          0.7590127500612787,
          0.875880076839891,
          0.8826499431040875,
          0.7573329488604249,
          0.8903562078540261,
          0.882371858583889,
          0.754819701936237,
          0.8959888708022833,
          0.8993796372970656,
          0.868198916006029,
          0.9128993261473092,
          0.8977477068935286,
          0.8743519744098831,
          0.8954405319048192,
          0.8954655399978723,
          0.874273042709884,
          0.8966705807039903,
          0.9009026421858418,
          0.8722909776003105,
          0.9110799895035882,
          0.9005580494027031,
          0.8756269440043623
         ],
         "j": [
          139,
          141,
          120,
          123,
          130,
          130,
          130,
          144,
          94,
          79,
          132,
          130,
          114,
          112,
          83,
          94,
          110,
          110,
          123,
          110,
          92,
          94,
          110,
          112,
          99,
          99,
          99,
          114,
          83,
          99,
          104,
          99,
          31,
          48,
          36,
          48,
          20,
          36,
          20,
          21,
          20,
          31,
          20,
          5,
          44,
          26,
          29,
          26,
          26,
          36,
          11,
          26,
          56,
          44,
          36,
          56,
          84,
          71,
          73,
          56,
          56,
          67,
          83,
          67,
          67,
          67,
          67,
          64,
          61,
          61,
          48,
          64
         ],
         "k": [
          141,
          126,
          135,
          135,
          141,
          126,
          147,
          147,
          77,
          77,
          117,
          132,
          126,
          126,
          79,
          97,
          106,
          120,
          126,
          126,
          106,
          92,
          97,
          97,
          112,
          97,
          117,
          117,
          97,
          84,
          88,
          88,
          45,
          35,
          35,
          53,
          35,
          21,
          6,
          6,
          16,
          35,
          0,
          0,
          29,
          40,
          12,
          12,
          21,
          40,
          6,
          6,
          58,
          40,
          53,
          40,
          88,
          84,
          58,
          71,
          53,
          71,
          84,
          84,
          53,
          48,
          79,
          79,
          77,
          79,
          45,
          48
         ],
         "type": "mesh3d",
         "x": [
          30,
          30,
          30,
          30,
          30,
          30,
          30,
          30,
          30,
          30,
          30,
          30,
          30,
          30,
          30,
          35,
          35,
          35,
          35,
          35,
          35,
          35,
          35,
          35,
          35,
          35,
          35,
          35,
          35,
          35,
          40,
          40,
          40,
          40,
          40,
          40,
          40,
          40,
          40,
          40,
          40,
          40,
          40,
          40,
          40,
          45,
          45,
          45,
          45,
          45,
          45,
          45,
          45,
          45,
          45,
          45,
          45,
          45,
          45,
          45,
          50,
          50,
          50,
          50,
          50,
          50,
          50,
          50,
          50,
          50,
          50,
          50,
          50,
          50,
          50,
          60,
          60,
          60,
          60,
          60,
          60,
          60,
          60,
          60,
          60,
          60,
          60,
          60,
          60,
          60,
          70,
          70,
          70,
          70,
          70,
          70,
          70,
          70,
          70,
          70,
          70,
          70,
          70,
          70,
          70,
          90,
          90,
          90,
          90,
          90,
          90,
          90,
          90,
          90,
          90,
          90,
          90,
          90,
          90,
          90,
          120,
          120,
          120,
          120,
          120,
          120,
          120,
          120,
          120,
          120,
          120,
          120,
          120,
          120,
          120,
          180,
          180,
          180,
          180,
          180,
          180,
          180,
          180,
          180,
          180,
          180,
          180,
          180,
          180,
          180
         ],
         "y": [
          1,
          1,
          1,
          10,
          10,
          10,
          20,
          20,
          20,
          30,
          30,
          30,
          40,
          40,
          40,
          1,
          1,
          1,
          10,
          10,
          10,
          20,
          20,
          20,
          30,
          30,
          30,
          40,
          40,
          40,
          1,
          1,
          1,
          10,
          10,
          10,
          20,
          20,
          20,
          30,
          30,
          30,
          40,
          40,
          40,
          1,
          1,
          1,
          10,
          10,
          10,
          20,
          20,
          20,
          30,
          30,
          30,
          40,
          40,
          40,
          1,
          1,
          1,
          10,
          10,
          10,
          20,
          20,
          20,
          30,
          30,
          30,
          40,
          40,
          40,
          1,
          1,
          1,
          10,
          10,
          10,
          20,
          20,
          20,
          30,
          30,
          30,
          40,
          40,
          40,
          1,
          1,
          1,
          10,
          10,
          10,
          20,
          20,
          20,
          30,
          30,
          30,
          40,
          40,
          40,
          1,
          1,
          1,
          10,
          10,
          10,
          20,
          20,
          20,
          30,
          30,
          30,
          40,
          40,
          40,
          1,
          1,
          1,
          10,
          10,
          10,
          20,
          20,
          20,
          30,
          30,
          30,
          40,
          40,
          40,
          1,
          1,
          1,
          10,
          10,
          10,
          20,
          20,
          20,
          30,
          30,
          30,
          40,
          40,
          40
         ],
         "z": [
          10,
          20,
          30,
          10,
          20,
          30,
          10,
          20,
          30,
          10,
          20,
          30,
          10,
          20,
          30,
          10,
          20,
          30,
          10,
          20,
          30,
          10,
          20,
          30,
          10,
          20,
          30,
          10,
          20,
          30,
          10,
          20,
          30,
          10,
          20,
          30,
          10,
          20,
          30,
          10,
          20,
          30,
          10,
          20,
          30,
          10,
          20,
          30,
          10,
          20,
          30,
          10,
          20,
          30,
          10,
          20,
          30,
          10,
          20,
          30,
          10,
          20,
          30,
          10,
          20,
          30,
          10,
          20,
          30,
          10,
          20,
          30,
          10,
          20,
          30,
          10,
          20,
          30,
          10,
          20,
          30,
          10,
          20,
          30,
          10,
          20,
          30,
          10,
          20,
          30,
          10,
          20,
          30,
          10,
          20,
          30,
          10,
          20,
          30,
          10,
          20,
          30,
          10,
          20,
          30,
          10,
          20,
          30,
          10,
          20,
          30,
          10,
          20,
          30,
          10,
          20,
          30,
          10,
          20,
          30,
          10,
          20,
          30,
          10,
          20,
          30,
          10,
          20,
          30,
          10,
          20,
          30,
          10,
          20,
          30,
          10,
          20,
          30,
          10,
          20,
          30,
          10,
          20,
          30,
          10,
          20,
          30,
          10,
          20,
          30
         ]
        }
       ],
       "layout": {
        "height": 800,
        "margin": {
         "b": 5,
         "l": 5,
         "r": 5,
         "t": 5
        },
        "scene": {
         "xaxis": {
          "title": {
           "text": "session_bin"
          }
         },
         "yaxis": {
          "title": {
           "text": "Window"
          }
         },
         "zaxis": {
          "title": {
           "text": "experiment"
          }
         }
        },
        "template": {
         "data": {
          "bar": [
           {
            "error_x": {
             "color": "#2a3f5f"
            },
            "error_y": {
             "color": "#2a3f5f"
            },
            "marker": {
             "line": {
              "color": "#E5ECF6",
              "width": 0.5
             },
             "pattern": {
              "fillmode": "overlay",
              "size": 10,
              "solidity": 0.2
             }
            },
            "type": "bar"
           }
          ],
          "barpolar": [
           {
            "marker": {
             "line": {
              "color": "#E5ECF6",
              "width": 0.5
             },
             "pattern": {
              "fillmode": "overlay",
              "size": 10,
              "solidity": 0.2
             }
            },
            "type": "barpolar"
           }
          ],
          "carpet": [
           {
            "aaxis": {
             "endlinecolor": "#2a3f5f",
             "gridcolor": "white",
             "linecolor": "white",
             "minorgridcolor": "white",
             "startlinecolor": "#2a3f5f"
            },
            "baxis": {
             "endlinecolor": "#2a3f5f",
             "gridcolor": "white",
             "linecolor": "white",
             "minorgridcolor": "white",
             "startlinecolor": "#2a3f5f"
            },
            "type": "carpet"
           }
          ],
          "choropleth": [
           {
            "colorbar": {
             "outlinewidth": 0,
             "ticks": ""
            },
            "type": "choropleth"
           }
          ],
          "contour": [
           {
            "colorbar": {
             "outlinewidth": 0,
             "ticks": ""
            },
            "colorscale": [
             [
              0,
              "#0d0887"
             ],
             [
              0.1111111111111111,
              "#46039f"
             ],
             [
              0.2222222222222222,
              "#7201a8"
             ],
             [
              0.3333333333333333,
              "#9c179e"
             ],
             [
              0.4444444444444444,
              "#bd3786"
             ],
             [
              0.5555555555555556,
              "#d8576b"
             ],
             [
              0.6666666666666666,
              "#ed7953"
             ],
             [
              0.7777777777777778,
              "#fb9f3a"
             ],
             [
              0.8888888888888888,
              "#fdca26"
             ],
             [
              1,
              "#f0f921"
             ]
            ],
            "type": "contour"
           }
          ],
          "contourcarpet": [
           {
            "colorbar": {
             "outlinewidth": 0,
             "ticks": ""
            },
            "type": "contourcarpet"
           }
          ],
          "heatmap": [
           {
            "colorbar": {
             "outlinewidth": 0,
             "ticks": ""
            },
            "colorscale": [
             [
              0,
              "#0d0887"
             ],
             [
              0.1111111111111111,
              "#46039f"
             ],
             [
              0.2222222222222222,
              "#7201a8"
             ],
             [
              0.3333333333333333,
              "#9c179e"
             ],
             [
              0.4444444444444444,
              "#bd3786"
             ],
             [
              0.5555555555555556,
              "#d8576b"
             ],
             [
              0.6666666666666666,
              "#ed7953"
             ],
             [
              0.7777777777777778,
              "#fb9f3a"
             ],
             [
              0.8888888888888888,
              "#fdca26"
             ],
             [
              1,
              "#f0f921"
             ]
            ],
            "type": "heatmap"
           }
          ],
          "heatmapgl": [
           {
            "colorbar": {
             "outlinewidth": 0,
             "ticks": ""
            },
            "colorscale": [
             [
              0,
              "#0d0887"
             ],
             [
              0.1111111111111111,
              "#46039f"
             ],
             [
              0.2222222222222222,
              "#7201a8"
             ],
             [
              0.3333333333333333,
              "#9c179e"
             ],
             [
              0.4444444444444444,
              "#bd3786"
             ],
             [
              0.5555555555555556,
              "#d8576b"
             ],
             [
              0.6666666666666666,
              "#ed7953"
             ],
             [
              0.7777777777777778,
              "#fb9f3a"
             ],
             [
              0.8888888888888888,
              "#fdca26"
             ],
             [
              1,
              "#f0f921"
             ]
            ],
            "type": "heatmapgl"
           }
          ],
          "histogram": [
           {
            "marker": {
             "pattern": {
              "fillmode": "overlay",
              "size": 10,
              "solidity": 0.2
             }
            },
            "type": "histogram"
           }
          ],
          "histogram2d": [
           {
            "colorbar": {
             "outlinewidth": 0,
             "ticks": ""
            },
            "colorscale": [
             [
              0,
              "#0d0887"
             ],
             [
              0.1111111111111111,
              "#46039f"
             ],
             [
              0.2222222222222222,
              "#7201a8"
             ],
             [
              0.3333333333333333,
              "#9c179e"
             ],
             [
              0.4444444444444444,
              "#bd3786"
             ],
             [
              0.5555555555555556,
              "#d8576b"
             ],
             [
              0.6666666666666666,
              "#ed7953"
             ],
             [
              0.7777777777777778,
              "#fb9f3a"
             ],
             [
              0.8888888888888888,
              "#fdca26"
             ],
             [
              1,
              "#f0f921"
             ]
            ],
            "type": "histogram2d"
           }
          ],
          "histogram2dcontour": [
           {
            "colorbar": {
             "outlinewidth": 0,
             "ticks": ""
            },
            "colorscale": [
             [
              0,
              "#0d0887"
             ],
             [
              0.1111111111111111,
              "#46039f"
             ],
             [
              0.2222222222222222,
              "#7201a8"
             ],
             [
              0.3333333333333333,
              "#9c179e"
             ],
             [
              0.4444444444444444,
              "#bd3786"
             ],
             [
              0.5555555555555556,
              "#d8576b"
             ],
             [
              0.6666666666666666,
              "#ed7953"
             ],
             [
              0.7777777777777778,
              "#fb9f3a"
             ],
             [
              0.8888888888888888,
              "#fdca26"
             ],
             [
              1,
              "#f0f921"
             ]
            ],
            "type": "histogram2dcontour"
           }
          ],
          "mesh3d": [
           {
            "colorbar": {
             "outlinewidth": 0,
             "ticks": ""
            },
            "type": "mesh3d"
           }
          ],
          "parcoords": [
           {
            "line": {
             "colorbar": {
              "outlinewidth": 0,
              "ticks": ""
             }
            },
            "type": "parcoords"
           }
          ],
          "pie": [
           {
            "automargin": true,
            "type": "pie"
           }
          ],
          "scatter": [
           {
            "fillpattern": {
             "fillmode": "overlay",
             "size": 10,
             "solidity": 0.2
            },
            "type": "scatter"
           }
          ],
          "scatter3d": [
           {
            "line": {
             "colorbar": {
              "outlinewidth": 0,
              "ticks": ""
             }
            },
            "marker": {
             "colorbar": {
              "outlinewidth": 0,
              "ticks": ""
             }
            },
            "type": "scatter3d"
           }
          ],
          "scattercarpet": [
           {
            "marker": {
             "colorbar": {
              "outlinewidth": 0,
              "ticks": ""
             }
            },
            "type": "scattercarpet"
           }
          ],
          "scattergeo": [
           {
            "marker": {
             "colorbar": {
              "outlinewidth": 0,
              "ticks": ""
             }
            },
            "type": "scattergeo"
           }
          ],
          "scattergl": [
           {
            "marker": {
             "colorbar": {
              "outlinewidth": 0,
              "ticks": ""
             }
            },
            "type": "scattergl"
           }
          ],
          "scattermapbox": [
           {
            "marker": {
             "colorbar": {
              "outlinewidth": 0,
              "ticks": ""
             }
            },
            "type": "scattermapbox"
           }
          ],
          "scatterpolar": [
           {
            "marker": {
             "colorbar": {
              "outlinewidth": 0,
              "ticks": ""
             }
            },
            "type": "scatterpolar"
           }
          ],
          "scatterpolargl": [
           {
            "marker": {
             "colorbar": {
              "outlinewidth": 0,
              "ticks": ""
             }
            },
            "type": "scatterpolargl"
           }
          ],
          "scatterternary": [
           {
            "marker": {
             "colorbar": {
              "outlinewidth": 0,
              "ticks": ""
             }
            },
            "type": "scatterternary"
           }
          ],
          "surface": [
           {
            "colorbar": {
             "outlinewidth": 0,
             "ticks": ""
            },
            "colorscale": [
             [
              0,
              "#0d0887"
             ],
             [
              0.1111111111111111,
              "#46039f"
             ],
             [
              0.2222222222222222,
              "#7201a8"
             ],
             [
              0.3333333333333333,
              "#9c179e"
             ],
             [
              0.4444444444444444,
              "#bd3786"
             ],
             [
              0.5555555555555556,
              "#d8576b"
             ],
             [
              0.6666666666666666,
              "#ed7953"
             ],
             [
              0.7777777777777778,
              "#fb9f3a"
             ],
             [
              0.8888888888888888,
              "#fdca26"
             ],
             [
              1,
              "#f0f921"
             ]
            ],
            "type": "surface"
           }
          ],
          "table": [
           {
            "cells": {
             "fill": {
              "color": "#EBF0F8"
             },
             "line": {
              "color": "white"
             }
            },
            "header": {
             "fill": {
              "color": "#C8D4E3"
             },
             "line": {
              "color": "white"
             }
            },
            "type": "table"
           }
          ]
         },
         "layout": {
          "annotationdefaults": {
           "arrowcolor": "#2a3f5f",
           "arrowhead": 0,
           "arrowwidth": 1
          },
          "autotypenumbers": "strict",
          "coloraxis": {
           "colorbar": {
            "outlinewidth": 0,
            "ticks": ""
           }
          },
          "colorscale": {
           "diverging": [
            [
             0,
             "#8e0152"
            ],
            [
             0.1,
             "#c51b7d"
            ],
            [
             0.2,
             "#de77ae"
            ],
            [
             0.3,
             "#f1b6da"
            ],
            [
             0.4,
             "#fde0ef"
            ],
            [
             0.5,
             "#f7f7f7"
            ],
            [
             0.6,
             "#e6f5d0"
            ],
            [
             0.7,
             "#b8e186"
            ],
            [
             0.8,
             "#7fbc41"
            ],
            [
             0.9,
             "#4d9221"
            ],
            [
             1,
             "#276419"
            ]
           ],
           "sequential": [
            [
             0,
             "#0d0887"
            ],
            [
             0.1111111111111111,
             "#46039f"
            ],
            [
             0.2222222222222222,
             "#7201a8"
            ],
            [
             0.3333333333333333,
             "#9c179e"
            ],
            [
             0.4444444444444444,
             "#bd3786"
            ],
            [
             0.5555555555555556,
             "#d8576b"
            ],
            [
             0.6666666666666666,
             "#ed7953"
            ],
            [
             0.7777777777777778,
             "#fb9f3a"
            ],
            [
             0.8888888888888888,
             "#fdca26"
            ],
            [
             1,
             "#f0f921"
            ]
           ],
           "sequentialminus": [
            [
             0,
             "#0d0887"
            ],
            [
             0.1111111111111111,
             "#46039f"
            ],
            [
             0.2222222222222222,
             "#7201a8"
            ],
            [
             0.3333333333333333,
             "#9c179e"
            ],
            [
             0.4444444444444444,
             "#bd3786"
            ],
            [
             0.5555555555555556,
             "#d8576b"
            ],
            [
             0.6666666666666666,
             "#ed7953"
            ],
            [
             0.7777777777777778,
             "#fb9f3a"
            ],
            [
             0.8888888888888888,
             "#fdca26"
            ],
            [
             1,
             "#f0f921"
            ]
           ]
          },
          "colorway": [
           "#636efa",
           "#EF553B",
           "#00cc96",
           "#ab63fa",
           "#FFA15A",
           "#19d3f3",
           "#FF6692",
           "#B6E880",
           "#FF97FF",
           "#FECB52"
          ],
          "font": {
           "color": "#2a3f5f"
          },
          "geo": {
           "bgcolor": "white",
           "lakecolor": "white",
           "landcolor": "#E5ECF6",
           "showlakes": true,
           "showland": true,
           "subunitcolor": "white"
          },
          "hoverlabel": {
           "align": "left"
          },
          "hovermode": "closest",
          "mapbox": {
           "style": "light"
          },
          "paper_bgcolor": "white",
          "plot_bgcolor": "#E5ECF6",
          "polar": {
           "angularaxis": {
            "gridcolor": "white",
            "linecolor": "white",
            "ticks": ""
           },
           "bgcolor": "#E5ECF6",
           "radialaxis": {
            "gridcolor": "white",
            "linecolor": "white",
            "ticks": ""
           }
          },
          "scene": {
           "xaxis": {
            "backgroundcolor": "#E5ECF6",
            "gridcolor": "white",
            "gridwidth": 2,
            "linecolor": "white",
            "showbackground": true,
            "ticks": "",
            "zerolinecolor": "white"
           },
           "yaxis": {
            "backgroundcolor": "#E5ECF6",
            "gridcolor": "white",
            "gridwidth": 2,
            "linecolor": "white",
            "showbackground": true,
            "ticks": "",
            "zerolinecolor": "white"
           },
           "zaxis": {
            "backgroundcolor": "#E5ECF6",
            "gridcolor": "white",
            "gridwidth": 2,
            "linecolor": "white",
            "showbackground": true,
            "ticks": "",
            "zerolinecolor": "white"
           }
          },
          "shapedefaults": {
           "line": {
            "color": "#2a3f5f"
           }
          },
          "ternary": {
           "aaxis": {
            "gridcolor": "white",
            "linecolor": "white",
            "ticks": ""
           },
           "baxis": {
            "gridcolor": "white",
            "linecolor": "white",
            "ticks": ""
           },
           "bgcolor": "#E5ECF6",
           "caxis": {
            "gridcolor": "white",
            "linecolor": "white",
            "ticks": ""
           }
          },
          "title": {
           "x": 0.05
          },
          "xaxis": {
           "automargin": true,
           "gridcolor": "white",
           "linecolor": "white",
           "ticks": "",
           "title": {
            "standoff": 15
           },
           "zerolinecolor": "white",
           "zerolinewidth": 2
          },
          "yaxis": {
           "automargin": true,
           "gridcolor": "white",
           "linecolor": "white",
           "ticks": "",
           "title": {
            "standoff": 15
           },
           "zerolinecolor": "white",
           "zerolinewidth": 2
          }
         }
        },
        "width": 1200
       }
      }
     },
     "metadata": {},
     "output_type": "display_data"
    }
   ],
   "source": [
    "# plot_contours(\n",
    "#     eval_prec_sess_glob,\n",
    "#     'session_bin',\n",
    "#     'Window',\n",
    "#     'experiment',\n",
    "#     'precision',\n",
    "#     'eval_prec_sess_glob',\n",
    "#     'Precision | Session Time'\n",
    "# )"
   ]
  },
  {
   "cell_type": "code",
   "execution_count": 39,
   "metadata": {},
   "outputs": [
    {
     "data": {
      "application/vnd.plotly.v1+json": {
       "config": {
        "plotlyServerURL": "https://plot.ly"
       },
       "data": [
        {
         "alphahull": 0.5,
         "colorscale": [
          [
           0,
           "rgb(3, 35, 51)"
          ],
          [
           0.09090909090909091,
           "rgb(13, 48, 100)"
          ],
          [
           0.18181818181818182,
           "rgb(53, 50, 155)"
          ],
          [
           0.2727272727272727,
           "rgb(93, 62, 153)"
          ],
          [
           0.36363636363636365,
           "rgb(126, 77, 143)"
          ],
          [
           0.45454545454545453,
           "rgb(158, 89, 135)"
          ],
          [
           0.5454545454545454,
           "rgb(193, 100, 121)"
          ],
          [
           0.6363636363636364,
           "rgb(225, 113, 97)"
          ],
          [
           0.7272727272727273,
           "rgb(246, 139, 69)"
          ],
          [
           0.8181818181818182,
           "rgb(251, 173, 60)"
          ],
          [
           0.9090909090909091,
           "rgb(246, 211, 70)"
          ],
          [
           1,
           "rgb(231, 250, 90)"
          ]
         ],
         "i": [
          124,
          142,
          124,
          109,
          79,
          95,
          95,
          98,
          155,
          142,
          150,
          135,
          10,
          26,
          42,
          28,
          52,
          38,
          142,
          130,
          16,
          16,
          33,
          19,
          5,
          19,
          23,
          38,
          23,
          23,
          26,
          23,
          183,
          200,
          288,
          270,
          259,
          270,
          277,
          288,
          277,
          259,
          266,
          263,
          67,
          56,
          57,
          74,
          57,
          56,
          85,
          85,
          67,
          85,
          98,
          100,
          85,
          104,
          116,
          116,
          127,
          130,
          104,
          116,
          134,
          147,
          134,
          116,
          124,
          121,
          121,
          105,
          168,
          168,
          180,
          183,
          155,
          168,
          213,
          211,
          226,
          213,
          200,
          213,
          245,
          226,
          255,
          259,
          245,
          245,
          266,
          251,
          281,
          282,
          267,
          281,
          294,
          281,
          277,
          281,
          239,
          239,
          208,
          219,
          219,
          239,
          217,
          219,
          251,
          236,
          219,
          231,
          245,
          231,
          231,
          213,
          49,
          49,
          49,
          45,
          95,
          91,
          91,
          76,
          187,
          187,
          187,
          168,
          161,
          161,
          162,
          161,
          161,
          142,
          172,
          175,
          63,
          67,
          63,
          49,
          76,
          63,
          63,
          63,
          208,
          193,
          175,
          190,
          206,
          190,
          187,
          190
         ],
         "intensity": [
          0.5580870770068207,
          0.6456442541224594,
          0.47965792095649284,
          0.7220066889632107,
          0.6209830954601792,
          0.4560590705081801,
          0.5650958126330731,
          0.5655925480655453,
          0.4349825562955915,
          0.5606589073007031,
          0.6411643214811072,
          0.4284231596115353,
          0.711785521963228,
          0.6326087585747778,
          0.4979500270751141,
          0.5829440038079273,
          0.6695411244629849,
          0.47802298850574715,
          0.6880856760374833,
          0.6457451184398364,
          0.46817157424169653,
          0.5866624187877616,
          0.5865536266376665,
          0.5237767353789216,
          0.586468632426284,
          0.6603633136264082,
          0.4751033100118653,
          0.7107816872060487,
          0.6591412375872202,
          0.4799576115001843,
          0.5682209697655219,
          0.6444883795997418,
          0.45440444991175055,
          0.6975502246333813,
          0.608258116455853,
          0.4372524985857062,
          0.5645284092930587,
          0.5641837562440406,
          0.4697213770061452,
          0.5686006070788995,
          0.6432975694378972,
          0.44168875425975007,
          0.6896853953316726,
          0.6344293293679205,
          0.4751493066099808,
          0.5891725439554981,
          0.6680903346594899,
          0.522136797454931,
          0.7821789536266349,
          0.6497981314404816,
          0.49459378285027783,
          0.5897597842671114,
          0.5902299421948899,
          0.5028581636298678,
          0.5936736271158117,
          0.6697468637992832,
          0.5024070021881838,
          0.7306648300449702,
          0.6667324494519098,
          0.49691671220045275,
          0.613422789135686,
          0.6788262505880508,
          0.42889304222241104,
          0.7094155844155844,
          0.664251926338024,
          0.44186914337838956,
          0.6236173087800893,
          0.6235983329401589,
          0.45197259626742264,
          0.6205510145131196,
          0.6787731749710313,
          0.44423499842915487,
          0.7068106948594193,
          0.6749518641694381,
          0.4489290214195716,
          0.6185714044592975,
          0.6919275123558485,
          0.48204795086807606,
          0.7481737793156479,
          0.687193376941946,
          0.4656565093866637,
          0.6269355644355644,
          0.6266181338043876,
          0.4777914269089028,
          0.6294427457980594,
          0.7020565159429158,
          0.4649173505953069,
          0.7545982279254506,
          0.6940470107307103,
          0.469485418308749,
          0.6216884527365114,
          0.7030816175055667,
          0.49321674275059474,
          0.7299751243781094,
          0.6789497124489282,
          0.5324982682983145,
          0.6247840631084927,
          0.624953791125898,
          0.4957672772048638,
          0.6273293780361552,
          0.6991172325115601,
          0.507719886659342,
          0.7853516592372461,
          0.6941822960219807,
          0.5017881221785777,
          0.6288722301841032,
          0.7223290383677218,
          0.6043943533697632,
          0.8391082210868556,
          0.6977598157443018,
          0.6197183098591549,
          0.6284958005718371,
          0.6282583930845005,
          0.6138428177928852,
          0.632273384034677,
          0.7140159102615464,
          0.6017086849415588,
          0.8135593220338984,
          0.7083240035826243,
          0.6098567994146545,
          0.588861870588933,
          0.6605784973621975,
          0.5657126447784053,
          0.6984180410636149,
          0.6488969102712604,
          0.5859927383909803,
          0.5912245819051221,
          0.591688235581384,
          0.5776926877470355,
          0.5957919546297092,
          0.6615975088710262,
          0.5861861345260623,
          0.7411329289606251,
          0.6518996165911467,
          0.5831591779867642,
          0.6010730336426241,
          0.726704507061288,
          0.5626417068775071,
          0.8154780940198273,
          0.6944129763130793,
          0.5403490582339727,
          0.6054056593800289,
          0.6049136474563545,
          0.583553863034919,
          0.6077736835849281,
          0.7283180026281209,
          0.5550055295170888,
          0.8011530014641288,
          0.7214607464607464,
          0.5506216696269982,
          0.6331832042563507,
          0.728222205403769,
          0.6203271028037384,
          0.8113590263691683,
          0.6871703840909675,
          0.6168795113825652,
          0.6372758106788633,
          0.6365760653254073,
          0.6725833717534963,
          0.6360214984469048,
          0.7162265404417871,
          0.5992430858806405,
          0.7827056933785472,
          0.7144610217658076,
          0.6195891185524911,
          0.6204503494659106,
          0.7089247693399574,
          0.5932250323057042,
          0.83492252681764,
          0.6768935126896826,
          0.5854411887469738,
          0.6187895653305994,
          0.6190057479686711,
          0.5944827586206897,
          0.6216534128561961,
          0.7067061906603085,
          0.5863436866981769,
          0.791317661893182,
          0.7012414243711206,
          0.5877609913427262,
          0.6418246722846442,
          0.7162752159087288,
          0.4845778549574134,
          0.8028836251287332,
          0.7016804711064298,
          0.5239683201333889,
          0.6431078798560623,
          0.6431864227618405,
          0.5133483737544651,
          0.6459032735695542,
          0.7188865462767745,
          0.4913944502985599,
          0.765215820841611,
          0.7155672507625142,
          0.431031357621896,
          0.6096689878090146,
          0.7071027309639023,
          0.5983741510598889,
          0.7924736262005984,
          0.6720621819784447,
          0.5792413995883564,
          0.6073416668317518,
          0.6076573987832187,
          0.629025286362654,
          0.6114997371719704,
          0.7019124967251769,
          0.5669916937522571,
          0.7707435642470445,
          0.6954456263554684,
          0.5728050427735254,
          0.6274983232729712,
          0.7498212222894549,
          0.6784999089750592,
          0.8798731579929118,
          0.7079378591189615,
          0.7109643567939208,
          0.6321743141432556,
          0.6314300129422862,
          0.7037992262672353,
          0.6337818983752644,
          0.7357954545454546,
          0.6679938246526367,
          0.8461625537695269,
          0.7303958553392687,
          0.6730184147317855,
          0.5907623747943608,
          0.6490957070219476,
          0.5578120367625259,
          0.6788813886210222,
          0.61428055605705,
          0.5558542413381123,
          0.5850625840488259,
          0.5851312496121466,
          0.5876397703233606,
          0.5899096854562441,
          0.6321882235154246,
          0.4835152211372774,
          0.6725472547254725,
          0.6274783241375129,
          0.5408576616845928,
          0.6429546952999906,
          0.7307184508746837,
          0.5810127943231911,
          0.8338776398867842,
          0.7051106743013418,
          0.5819185927592555,
          0.6488960430531197,
          0.6490609484061308,
          0.5564585642162295,
          0.6471513331903639,
          0.7437441822263593,
          0.567923507126105,
          0.7905239568882724,
          0.7401677035434135,
          0.5755547054322877,
          0.7419916771508759,
          0.8047305572565829,
          0.7523413869756933,
          0.8825424586919501,
          0.7897542263258843,
          0.7541816009557945,
          0.7389572424427383,
          0.7389600796480071,
          0.7719835607940446,
          0.7442003032942922,
          0.8072623564462326,
          0.7389328789549297,
          0.8592827308080081,
          0.8054437751505911,
          0.745405107730433,
          0.6398819368463907,
          0.7337647593097184,
          0.6414616497829233,
          0.7989690721649485,
          0.7173672566371682,
          0.6478443342235788,
          0.6398169108684295,
          0.639915443919423,
          0.7288557213930348,
          0.6396705040683175,
          0.7488092537990474,
          0.6717632552404439,
          0.776500638569604,
          0.7416689317749389,
          0.6531421242858808,
          0.7130989462410054,
          0.752646456499909,
          0.7078155609857147,
          0.8116938074612783,
          0.7414152553760806,
          0.721784783346372,
          0.7087468411718467,
          0.708697995574976,
          0.7216918923332394,
          0.7122983184240667,
          0.7556889355180829,
          0.7067931914731009,
          0.7766997704151484,
          0.7527060266804194,
          0.7084436067865273
         ],
         "j": [
          142,
          124,
          127,
          124,
          95,
          98,
          109,
          95,
          142,
          155,
          155,
          155,
          28,
          28,
          28,
          26,
          56,
          56,
          130,
          142,
          5,
          19,
          16,
          16,
          23,
          23,
          19,
          23,
          10,
          26,
          23,
          38,
          180,
          183,
          270,
          288,
          270,
          259,
          288,
          277,
          259,
          277,
          251,
          266,
          56,
          67,
          56,
          57,
          42,
          57,
          89,
          74,
          85,
          67,
          85,
          85,
          104,
          85,
          98,
          100,
          116,
          116,
          116,
          104,
          130,
          134,
          116,
          134,
          121,
          135,
          124,
          121,
          150,
          155,
          168,
          168,
          168,
          172,
          200,
          213,
          213,
          226,
          213,
          217,
          226,
          245,
          245,
          245,
          259,
          263,
          267,
          267,
          294,
          281,
          281,
          267,
          281,
          277,
          281,
          266,
          251,
          236,
          219,
          208,
          239,
          219,
          219,
          206,
          231,
          231,
          231,
          219,
          231,
          245,
          213,
          231,
          52,
          38,
          33,
          49,
          91,
          105,
          95,
          91,
          183,
          200,
          168,
          187,
          147,
          162,
          161,
          175,
          142,
          161,
          161,
          161,
          79,
          63,
          67,
          63,
          63,
          76,
          45,
          49,
          190,
          190,
          190,
          193,
          190,
          187,
          190,
          175
         ],
         "k": [
          127,
          138,
          112,
          112,
          83,
          83,
          112,
          112,
          138,
          156,
          135,
          138,
          12,
          10,
          40,
          40,
          38,
          40,
          127,
          144,
          0,
          5,
          32,
          33,
          7,
          5,
          33,
          33,
          7,
          10,
          40,
          40,
          196,
          196,
          285,
          273,
          273,
          255,
          291,
          273,
          273,
          263,
          247,
          247,
          52,
          70,
          70,
          70,
          40,
          40,
          74,
          70,
          70,
          83,
          83,
          98,
          89,
          100,
          112,
          98,
          112,
          127,
          118,
          100,
          144,
          144,
          130,
          118,
          138,
          138,
          109,
          109,
          167,
          150,
          167,
          180,
          156,
          156,
          196,
          196,
          211,
          230,
          203,
          203,
          240,
          230,
          240,
          255,
          263,
          247,
          251,
          252,
          297,
          297,
          282,
          266,
          291,
          291,
          263,
          263,
          252,
          251,
          222,
          206,
          222,
          236,
          203,
          203,
          247,
          251,
          236,
          217,
          230,
          247,
          230,
          217,
          38,
          33,
          32,
          32,
          109,
          109,
          79,
          79,
          200,
          203,
          183,
          172,
          144,
          147,
          179,
          179,
          156,
          144,
          156,
          172,
          83,
          83,
          52,
          52,
          61,
          79,
          61,
          45,
          206,
          208,
          179,
          179,
          203,
          203,
          172,
          172
         ],
         "type": "mesh3d",
         "x": [
          1,
          1,
          1,
          1,
          1,
          1,
          1,
          1,
          1,
          1,
          1,
          1,
          1,
          1,
          1,
          2,
          2,
          2,
          2,
          2,
          2,
          2,
          2,
          2,
          2,
          2,
          2,
          2,
          2,
          2,
          3,
          3,
          3,
          3,
          3,
          3,
          3,
          3,
          3,
          3,
          3,
          3,
          3,
          3,
          3,
          4,
          4,
          4,
          4,
          4,
          4,
          4,
          4,
          4,
          4,
          4,
          4,
          4,
          4,
          4,
          5,
          5,
          5,
          5,
          5,
          5,
          5,
          5,
          5,
          5,
          5,
          5,
          5,
          5,
          5,
          6,
          6,
          6,
          6,
          6,
          6,
          6,
          6,
          6,
          6,
          6,
          6,
          6,
          6,
          6,
          7,
          7,
          7,
          7,
          7,
          7,
          7,
          7,
          7,
          7,
          7,
          7,
          7,
          7,
          7,
          8,
          8,
          8,
          8,
          8,
          8,
          8,
          8,
          8,
          8,
          8,
          8,
          8,
          8,
          8,
          9,
          9,
          9,
          9,
          9,
          9,
          9,
          9,
          9,
          9,
          9,
          9,
          9,
          9,
          9,
          10,
          10,
          10,
          10,
          10,
          10,
          10,
          10,
          10,
          10,
          10,
          10,
          10,
          10,
          10,
          11,
          11,
          11,
          11,
          11,
          11,
          11,
          11,
          11,
          11,
          11,
          11,
          11,
          11,
          11,
          12,
          12,
          12,
          12,
          12,
          12,
          12,
          12,
          12,
          12,
          12,
          12,
          12,
          12,
          12,
          13,
          13,
          13,
          13,
          13,
          13,
          13,
          13,
          13,
          13,
          13,
          13,
          13,
          13,
          13,
          14,
          14,
          14,
          14,
          14,
          14,
          14,
          14,
          14,
          14,
          14,
          14,
          14,
          14,
          14,
          15,
          15,
          15,
          15,
          15,
          15,
          15,
          15,
          15,
          15,
          15,
          15,
          15,
          15,
          15,
          16,
          16,
          16,
          16,
          16,
          16,
          16,
          16,
          16,
          16,
          16,
          16,
          16,
          16,
          16,
          17,
          17,
          17,
          17,
          17,
          17,
          17,
          17,
          17,
          17,
          17,
          17,
          17,
          17,
          17,
          18,
          18,
          18,
          18,
          18,
          18,
          18,
          18,
          18,
          18,
          18,
          18,
          18,
          18,
          18,
          19,
          19,
          19,
          19,
          19,
          19,
          19,
          19,
          19,
          19,
          19,
          19,
          19,
          19,
          19,
          20,
          20,
          20,
          20,
          20,
          20,
          20,
          20,
          20,
          20,
          20,
          20,
          20,
          20,
          20
         ],
         "y": [
          1,
          1,
          1,
          10,
          10,
          10,
          20,
          20,
          20,
          30,
          30,
          30,
          40,
          40,
          40,
          1,
          1,
          1,
          10,
          10,
          10,
          20,
          20,
          20,
          30,
          30,
          30,
          40,
          40,
          40,
          1,
          1,
          1,
          10,
          10,
          10,
          20,
          20,
          20,
          30,
          30,
          30,
          40,
          40,
          40,
          1,
          1,
          1,
          10,
          10,
          10,
          20,
          20,
          20,
          30,
          30,
          30,
          40,
          40,
          40,
          1,
          1,
          1,
          10,
          10,
          10,
          20,
          20,
          20,
          30,
          30,
          30,
          40,
          40,
          40,
          1,
          1,
          1,
          10,
          10,
          10,
          20,
          20,
          20,
          30,
          30,
          30,
          40,
          40,
          40,
          1,
          1,
          1,
          10,
          10,
          10,
          20,
          20,
          20,
          30,
          30,
          30,
          40,
          40,
          40,
          1,
          1,
          1,
          10,
          10,
          10,
          20,
          20,
          20,
          30,
          30,
          30,
          40,
          40,
          40,
          1,
          1,
          1,
          10,
          10,
          10,
          20,
          20,
          20,
          30,
          30,
          30,
          40,
          40,
          40,
          1,
          1,
          1,
          10,
          10,
          10,
          20,
          20,
          20,
          30,
          30,
          30,
          40,
          40,
          40,
          1,
          1,
          1,
          10,
          10,
          10,
          20,
          20,
          20,
          30,
          30,
          30,
          40,
          40,
          40,
          1,
          1,
          1,
          10,
          10,
          10,
          20,
          20,
          20,
          30,
          30,
          30,
          40,
          40,
          40,
          1,
          1,
          1,
          10,
          10,
          10,
          20,
          20,
          20,
          30,
          30,
          30,
          40,
          40,
          40,
          1,
          1,
          1,
          10,
          10,
          10,
          20,
          20,
          20,
          30,
          30,
          30,
          40,
          40,
          40,
          1,
          1,
          1,
          10,
          10,
          10,
          20,
          20,
          20,
          30,
          30,
          30,
          40,
          40,
          40,
          1,
          1,
          1,
          10,
          10,
          10,
          20,
          20,
          20,
          30,
          30,
          30,
          40,
          40,
          40,
          1,
          1,
          1,
          10,
          10,
          10,
          20,
          20,
          20,
          30,
          30,
          30,
          40,
          40,
          40,
          1,
          1,
          1,
          10,
          10,
          10,
          20,
          20,
          20,
          30,
          30,
          30,
          40,
          40,
          40,
          1,
          1,
          1,
          10,
          10,
          10,
          20,
          20,
          20,
          30,
          30,
          30,
          40,
          40,
          40,
          1,
          1,
          1,
          10,
          10,
          10,
          20,
          20,
          20,
          30,
          30,
          30,
          40,
          40,
          40
         ],
         "z": [
          10,
          20,
          30,
          10,
          20,
          30,
          10,
          20,
          30,
          10,
          20,
          30,
          10,
          20,
          30,
          10,
          20,
          30,
          10,
          20,
          30,
          10,
          20,
          30,
          10,
          20,
          30,
          10,
          20,
          30,
          10,
          20,
          30,
          10,
          20,
          30,
          10,
          20,
          30,
          10,
          20,
          30,
          10,
          20,
          30,
          10,
          20,
          30,
          10,
          20,
          30,
          10,
          20,
          30,
          10,
          20,
          30,
          10,
          20,
          30,
          10,
          20,
          30,
          10,
          20,
          30,
          10,
          20,
          30,
          10,
          20,
          30,
          10,
          20,
          30,
          10,
          20,
          30,
          10,
          20,
          30,
          10,
          20,
          30,
          10,
          20,
          30,
          10,
          20,
          30,
          10,
          20,
          30,
          10,
          20,
          30,
          10,
          20,
          30,
          10,
          20,
          30,
          10,
          20,
          30,
          10,
          20,
          30,
          10,
          20,
          30,
          10,
          20,
          30,
          10,
          20,
          30,
          10,
          20,
          30,
          10,
          20,
          30,
          10,
          20,
          30,
          10,
          20,
          30,
          10,
          20,
          30,
          10,
          20,
          30,
          10,
          20,
          30,
          10,
          20,
          30,
          10,
          20,
          30,
          10,
          20,
          30,
          10,
          20,
          30,
          10,
          20,
          30,
          10,
          20,
          30,
          10,
          20,
          30,
          10,
          20,
          30,
          10,
          20,
          30,
          10,
          20,
          30,
          10,
          20,
          30,
          10,
          20,
          30,
          10,
          20,
          30,
          10,
          20,
          30,
          10,
          20,
          30,
          10,
          20,
          30,
          10,
          20,
          30,
          10,
          20,
          30,
          10,
          20,
          30,
          10,
          20,
          30,
          10,
          20,
          30,
          10,
          20,
          30,
          10,
          20,
          30,
          10,
          20,
          30,
          10,
          20,
          30,
          10,
          20,
          30,
          10,
          20,
          30,
          10,
          20,
          30,
          10,
          20,
          30,
          10,
          20,
          30,
          10,
          20,
          30,
          10,
          20,
          30,
          10,
          20,
          30,
          10,
          20,
          30,
          10,
          20,
          30,
          10,
          20,
          30,
          10,
          20,
          30,
          10,
          20,
          30,
          10,
          20,
          30,
          10,
          20,
          30,
          10,
          20,
          30,
          10,
          20,
          30,
          10,
          20,
          30,
          10,
          20,
          30,
          10,
          20,
          30,
          10,
          20,
          30,
          10,
          20,
          30,
          10,
          20,
          30,
          10,
          20,
          30,
          10,
          20,
          30,
          10,
          20,
          30,
          10,
          20,
          30,
          10,
          20,
          30,
          10,
          20,
          30
         ]
        }
       ],
       "layout": {
        "height": 800,
        "margin": {
         "b": 5,
         "l": 5,
         "r": 5,
         "t": 5
        },
        "scene": {
         "xaxis": {
          "title": {
           "text": "Session Count"
          }
         },
         "yaxis": {
          "title": {
           "text": "Window Size"
          }
         },
         "zaxis": {
          "title": {
           "text": "Experiment"
          }
         }
        },
        "showlegend": true,
        "template": {
         "data": {
          "bar": [
           {
            "error_x": {
             "color": "#2a3f5f"
            },
            "error_y": {
             "color": "#2a3f5f"
            },
            "marker": {
             "line": {
              "color": "#E5ECF6",
              "width": 0.5
             },
             "pattern": {
              "fillmode": "overlay",
              "size": 10,
              "solidity": 0.2
             }
            },
            "type": "bar"
           }
          ],
          "barpolar": [
           {
            "marker": {
             "line": {
              "color": "#E5ECF6",
              "width": 0.5
             },
             "pattern": {
              "fillmode": "overlay",
              "size": 10,
              "solidity": 0.2
             }
            },
            "type": "barpolar"
           }
          ],
          "carpet": [
           {
            "aaxis": {
             "endlinecolor": "#2a3f5f",
             "gridcolor": "white",
             "linecolor": "white",
             "minorgridcolor": "white",
             "startlinecolor": "#2a3f5f"
            },
            "baxis": {
             "endlinecolor": "#2a3f5f",
             "gridcolor": "white",
             "linecolor": "white",
             "minorgridcolor": "white",
             "startlinecolor": "#2a3f5f"
            },
            "type": "carpet"
           }
          ],
          "choropleth": [
           {
            "colorbar": {
             "outlinewidth": 0,
             "ticks": ""
            },
            "type": "choropleth"
           }
          ],
          "contour": [
           {
            "colorbar": {
             "outlinewidth": 0,
             "ticks": ""
            },
            "colorscale": [
             [
              0,
              "#0d0887"
             ],
             [
              0.1111111111111111,
              "#46039f"
             ],
             [
              0.2222222222222222,
              "#7201a8"
             ],
             [
              0.3333333333333333,
              "#9c179e"
             ],
             [
              0.4444444444444444,
              "#bd3786"
             ],
             [
              0.5555555555555556,
              "#d8576b"
             ],
             [
              0.6666666666666666,
              "#ed7953"
             ],
             [
              0.7777777777777778,
              "#fb9f3a"
             ],
             [
              0.8888888888888888,
              "#fdca26"
             ],
             [
              1,
              "#f0f921"
             ]
            ],
            "type": "contour"
           }
          ],
          "contourcarpet": [
           {
            "colorbar": {
             "outlinewidth": 0,
             "ticks": ""
            },
            "type": "contourcarpet"
           }
          ],
          "heatmap": [
           {
            "colorbar": {
             "outlinewidth": 0,
             "ticks": ""
            },
            "colorscale": [
             [
              0,
              "#0d0887"
             ],
             [
              0.1111111111111111,
              "#46039f"
             ],
             [
              0.2222222222222222,
              "#7201a8"
             ],
             [
              0.3333333333333333,
              "#9c179e"
             ],
             [
              0.4444444444444444,
              "#bd3786"
             ],
             [
              0.5555555555555556,
              "#d8576b"
             ],
             [
              0.6666666666666666,
              "#ed7953"
             ],
             [
              0.7777777777777778,
              "#fb9f3a"
             ],
             [
              0.8888888888888888,
              "#fdca26"
             ],
             [
              1,
              "#f0f921"
             ]
            ],
            "type": "heatmap"
           }
          ],
          "heatmapgl": [
           {
            "colorbar": {
             "outlinewidth": 0,
             "ticks": ""
            },
            "colorscale": [
             [
              0,
              "#0d0887"
             ],
             [
              0.1111111111111111,
              "#46039f"
             ],
             [
              0.2222222222222222,
              "#7201a8"
             ],
             [
              0.3333333333333333,
              "#9c179e"
             ],
             [
              0.4444444444444444,
              "#bd3786"
             ],
             [
              0.5555555555555556,
              "#d8576b"
             ],
             [
              0.6666666666666666,
              "#ed7953"
             ],
             [
              0.7777777777777778,
              "#fb9f3a"
             ],
             [
              0.8888888888888888,
              "#fdca26"
             ],
             [
              1,
              "#f0f921"
             ]
            ],
            "type": "heatmapgl"
           }
          ],
          "histogram": [
           {
            "marker": {
             "pattern": {
              "fillmode": "overlay",
              "size": 10,
              "solidity": 0.2
             }
            },
            "type": "histogram"
           }
          ],
          "histogram2d": [
           {
            "colorbar": {
             "outlinewidth": 0,
             "ticks": ""
            },
            "colorscale": [
             [
              0,
              "#0d0887"
             ],
             [
              0.1111111111111111,
              "#46039f"
             ],
             [
              0.2222222222222222,
              "#7201a8"
             ],
             [
              0.3333333333333333,
              "#9c179e"
             ],
             [
              0.4444444444444444,
              "#bd3786"
             ],
             [
              0.5555555555555556,
              "#d8576b"
             ],
             [
              0.6666666666666666,
              "#ed7953"
             ],
             [
              0.7777777777777778,
              "#fb9f3a"
             ],
             [
              0.8888888888888888,
              "#fdca26"
             ],
             [
              1,
              "#f0f921"
             ]
            ],
            "type": "histogram2d"
           }
          ],
          "histogram2dcontour": [
           {
            "colorbar": {
             "outlinewidth": 0,
             "ticks": ""
            },
            "colorscale": [
             [
              0,
              "#0d0887"
             ],
             [
              0.1111111111111111,
              "#46039f"
             ],
             [
              0.2222222222222222,
              "#7201a8"
             ],
             [
              0.3333333333333333,
              "#9c179e"
             ],
             [
              0.4444444444444444,
              "#bd3786"
             ],
             [
              0.5555555555555556,
              "#d8576b"
             ],
             [
              0.6666666666666666,
              "#ed7953"
             ],
             [
              0.7777777777777778,
              "#fb9f3a"
             ],
             [
              0.8888888888888888,
              "#fdca26"
             ],
             [
              1,
              "#f0f921"
             ]
            ],
            "type": "histogram2dcontour"
           }
          ],
          "mesh3d": [
           {
            "colorbar": {
             "outlinewidth": 0,
             "ticks": ""
            },
            "type": "mesh3d"
           }
          ],
          "parcoords": [
           {
            "line": {
             "colorbar": {
              "outlinewidth": 0,
              "ticks": ""
             }
            },
            "type": "parcoords"
           }
          ],
          "pie": [
           {
            "automargin": true,
            "type": "pie"
           }
          ],
          "scatter": [
           {
            "fillpattern": {
             "fillmode": "overlay",
             "size": 10,
             "solidity": 0.2
            },
            "type": "scatter"
           }
          ],
          "scatter3d": [
           {
            "line": {
             "colorbar": {
              "outlinewidth": 0,
              "ticks": ""
             }
            },
            "marker": {
             "colorbar": {
              "outlinewidth": 0,
              "ticks": ""
             }
            },
            "type": "scatter3d"
           }
          ],
          "scattercarpet": [
           {
            "marker": {
             "colorbar": {
              "outlinewidth": 0,
              "ticks": ""
             }
            },
            "type": "scattercarpet"
           }
          ],
          "scattergeo": [
           {
            "marker": {
             "colorbar": {
              "outlinewidth": 0,
              "ticks": ""
             }
            },
            "type": "scattergeo"
           }
          ],
          "scattergl": [
           {
            "marker": {
             "colorbar": {
              "outlinewidth": 0,
              "ticks": ""
             }
            },
            "type": "scattergl"
           }
          ],
          "scattermapbox": [
           {
            "marker": {
             "colorbar": {
              "outlinewidth": 0,
              "ticks": ""
             }
            },
            "type": "scattermapbox"
           }
          ],
          "scatterpolar": [
           {
            "marker": {
             "colorbar": {
              "outlinewidth": 0,
              "ticks": ""
             }
            },
            "type": "scatterpolar"
           }
          ],
          "scatterpolargl": [
           {
            "marker": {
             "colorbar": {
              "outlinewidth": 0,
              "ticks": ""
             }
            },
            "type": "scatterpolargl"
           }
          ],
          "scatterternary": [
           {
            "marker": {
             "colorbar": {
              "outlinewidth": 0,
              "ticks": ""
             }
            },
            "type": "scatterternary"
           }
          ],
          "surface": [
           {
            "colorbar": {
             "outlinewidth": 0,
             "ticks": ""
            },
            "colorscale": [
             [
              0,
              "#0d0887"
             ],
             [
              0.1111111111111111,
              "#46039f"
             ],
             [
              0.2222222222222222,
              "#7201a8"
             ],
             [
              0.3333333333333333,
              "#9c179e"
             ],
             [
              0.4444444444444444,
              "#bd3786"
             ],
             [
              0.5555555555555556,
              "#d8576b"
             ],
             [
              0.6666666666666666,
              "#ed7953"
             ],
             [
              0.7777777777777778,
              "#fb9f3a"
             ],
             [
              0.8888888888888888,
              "#fdca26"
             ],
             [
              1,
              "#f0f921"
             ]
            ],
            "type": "surface"
           }
          ],
          "table": [
           {
            "cells": {
             "fill": {
              "color": "#EBF0F8"
             },
             "line": {
              "color": "white"
             }
            },
            "header": {
             "fill": {
              "color": "#C8D4E3"
             },
             "line": {
              "color": "white"
             }
            },
            "type": "table"
           }
          ]
         },
         "layout": {
          "annotationdefaults": {
           "arrowcolor": "#2a3f5f",
           "arrowhead": 0,
           "arrowwidth": 1
          },
          "autotypenumbers": "strict",
          "coloraxis": {
           "colorbar": {
            "outlinewidth": 0,
            "ticks": ""
           }
          },
          "colorscale": {
           "diverging": [
            [
             0,
             "#8e0152"
            ],
            [
             0.1,
             "#c51b7d"
            ],
            [
             0.2,
             "#de77ae"
            ],
            [
             0.3,
             "#f1b6da"
            ],
            [
             0.4,
             "#fde0ef"
            ],
            [
             0.5,
             "#f7f7f7"
            ],
            [
             0.6,
             "#e6f5d0"
            ],
            [
             0.7,
             "#b8e186"
            ],
            [
             0.8,
             "#7fbc41"
            ],
            [
             0.9,
             "#4d9221"
            ],
            [
             1,
             "#276419"
            ]
           ],
           "sequential": [
            [
             0,
             "#0d0887"
            ],
            [
             0.1111111111111111,
             "#46039f"
            ],
            [
             0.2222222222222222,
             "#7201a8"
            ],
            [
             0.3333333333333333,
             "#9c179e"
            ],
            [
             0.4444444444444444,
             "#bd3786"
            ],
            [
             0.5555555555555556,
             "#d8576b"
            ],
            [
             0.6666666666666666,
             "#ed7953"
            ],
            [
             0.7777777777777778,
             "#fb9f3a"
            ],
            [
             0.8888888888888888,
             "#fdca26"
            ],
            [
             1,
             "#f0f921"
            ]
           ],
           "sequentialminus": [
            [
             0,
             "#0d0887"
            ],
            [
             0.1111111111111111,
             "#46039f"
            ],
            [
             0.2222222222222222,
             "#7201a8"
            ],
            [
             0.3333333333333333,
             "#9c179e"
            ],
            [
             0.4444444444444444,
             "#bd3786"
            ],
            [
             0.5555555555555556,
             "#d8576b"
            ],
            [
             0.6666666666666666,
             "#ed7953"
            ],
            [
             0.7777777777777778,
             "#fb9f3a"
            ],
            [
             0.8888888888888888,
             "#fdca26"
            ],
            [
             1,
             "#f0f921"
            ]
           ]
          },
          "colorway": [
           "#636efa",
           "#EF553B",
           "#00cc96",
           "#ab63fa",
           "#FFA15A",
           "#19d3f3",
           "#FF6692",
           "#B6E880",
           "#FF97FF",
           "#FECB52"
          ],
          "font": {
           "color": "#2a3f5f"
          },
          "geo": {
           "bgcolor": "white",
           "lakecolor": "white",
           "landcolor": "#E5ECF6",
           "showlakes": true,
           "showland": true,
           "subunitcolor": "white"
          },
          "hoverlabel": {
           "align": "left"
          },
          "hovermode": "closest",
          "mapbox": {
           "style": "light"
          },
          "paper_bgcolor": "white",
          "plot_bgcolor": "#E5ECF6",
          "polar": {
           "angularaxis": {
            "gridcolor": "white",
            "linecolor": "white",
            "ticks": ""
           },
           "bgcolor": "#E5ECF6",
           "radialaxis": {
            "gridcolor": "white",
            "linecolor": "white",
            "ticks": ""
           }
          },
          "scene": {
           "xaxis": {
            "backgroundcolor": "#E5ECF6",
            "gridcolor": "white",
            "gridwidth": 2,
            "linecolor": "white",
            "showbackground": true,
            "ticks": "",
            "zerolinecolor": "white"
           },
           "yaxis": {
            "backgroundcolor": "#E5ECF6",
            "gridcolor": "white",
            "gridwidth": 2,
            "linecolor": "white",
            "showbackground": true,
            "ticks": "",
            "zerolinecolor": "white"
           },
           "zaxis": {
            "backgroundcolor": "#E5ECF6",
            "gridcolor": "white",
            "gridwidth": 2,
            "linecolor": "white",
            "showbackground": true,
            "ticks": "",
            "zerolinecolor": "white"
           }
          },
          "shapedefaults": {
           "line": {
            "color": "#2a3f5f"
           }
          },
          "ternary": {
           "aaxis": {
            "gridcolor": "white",
            "linecolor": "white",
            "ticks": ""
           },
           "baxis": {
            "gridcolor": "white",
            "linecolor": "white",
            "ticks": ""
           },
           "bgcolor": "#E5ECF6",
           "caxis": {
            "gridcolor": "white",
            "linecolor": "white",
            "ticks": ""
           }
          },
          "title": {
           "x": 0.05
          },
          "xaxis": {
           "automargin": true,
           "gridcolor": "white",
           "linecolor": "white",
           "ticks": "",
           "title": {
            "standoff": 15
           },
           "zerolinecolor": "white",
           "zerolinewidth": 2
          },
          "yaxis": {
           "automargin": true,
           "gridcolor": "white",
           "linecolor": "white",
           "ticks": "",
           "title": {
            "standoff": 15
           },
           "zerolinecolor": "white",
           "zerolinewidth": 2
          }
         }
        },
        "width": 1200
       }
      }
     },
     "metadata": {},
     "output_type": "display_data"
    }
   ],
   "source": [
    "plot_contours(\n",
    "    eval_prec_plat_glob,\n",
    "    'user_bin',\n",
    "    'Window',\n",
    "    'experiment',\n",
    "    'precision',\n",
    "    'eval_prec_plat_glob',\n",
    "\n",
    "    'Precision | Platform Time'\n",
    ")"
   ]
  },
  {
   "cell_type": "code",
   "execution_count": 14,
   "metadata": {},
   "outputs": [
    {
     "data": {
      "application/vnd.plotly.v1+json": {
       "config": {
        "plotlyServerURL": "https://plot.ly"
       },
       "data": [
        {
         "alphahull": 0.5,
         "colorscale": [
          [
           0,
           "rgb(3, 35, 51)"
          ],
          [
           0.09090909090909091,
           "rgb(13, 48, 100)"
          ],
          [
           0.18181818181818182,
           "rgb(53, 50, 155)"
          ],
          [
           0.2727272727272727,
           "rgb(93, 62, 153)"
          ],
          [
           0.36363636363636365,
           "rgb(126, 77, 143)"
          ],
          [
           0.45454545454545453,
           "rgb(158, 89, 135)"
          ],
          [
           0.5454545454545454,
           "rgb(193, 100, 121)"
          ],
          [
           0.6363636363636364,
           "rgb(225, 113, 97)"
          ],
          [
           0.7272727272727273,
           "rgb(246, 139, 69)"
          ],
          [
           0.8181818181818182,
           "rgb(251, 173, 60)"
          ],
          [
           0.9090909090909091,
           "rgb(246, 211, 70)"
          ],
          [
           1,
           "rgb(231, 250, 90)"
          ]
         ],
         "i": [
          123,
          123,
          123,
          139,
          144,
          141,
          132,
          130,
          92,
          94,
          114,
          114,
          130,
          114,
          94,
          83,
          120,
          123,
          110,
          112,
          110,
          110,
          94,
          110,
          114,
          112,
          104,
          99,
          99,
          83,
          99,
          84,
          48,
          31,
          48,
          36,
          36,
          20,
          5,
          20,
          31,
          20,
          16,
          20,
          26,
          44,
          26,
          11,
          36,
          26,
          26,
          21,
          44,
          56,
          56,
          36,
          73,
          73,
          56,
          73,
          67,
          56,
          67,
          71,
          48,
          64,
          83,
          67,
          79,
          64,
          61,
          61
         ],
         "intensity": [
          0.7463855124024114,
          0.41015910663109,
          0.15253704535249213,
          0.13396086569819152,
          0.49258078861547583,
          0.12656039515042658,
          0.7484879928846724,
          0.7485324636821821,
          0.1372025145936237,
          0.7380521790690779,
          0.4182873801759067,
          0.1592052088010777,
          0.2656734855222848,
          0.42425140824192115,
          0.16744499326448137,
          0.767658197595323,
          0.4125376223217897,
          0.1689376858477927,
          0.13404314551499902,
          0.4911518602366858,
          0.13854850831617815,
          0.7679155789241461,
          0.7678157780007249,
          0.14037839427507107,
          0.7633982739692928,
          0.4191349886279474,
          0.16992887407552637,
          0.26723535684082805,
          0.42850839640926786,
          0.17701968216623643,
          0.8130625152031136,
          0.4663853077110192,
          0.18865400251311998,
          0.17416686937484796,
          0.5433763074677694,
          0.1642397812107325,
          0.8126246655315008,
          0.8123716857212357,
          0.15454209475940572,
          0.8150450012162491,
          0.46548285088786184,
          0.1917436617636189,
          0.3166139625395281,
          0.47359036730722454,
          0.19227585187375268,
          0.8294925977618474,
          0.4689352132845911,
          0.1947117707973766,
          0.15656160234052252,
          0.5515527498622481,
          0.1645012081463583,
          0.8244020731301412,
          0.8244300430457,
          0.16365205384880913,
          0.8295373496267415,
          0.46905548392149404,
          0.18927166033828097,
          0.2974824279005502,
          0.4782491951656798,
          0.20066275457369692,
          0.8590439042871042,
          0.5342090081712431,
          0.23392232810511518,
          0.18546023873691583,
          0.6155354072849488,
          0.19828597253452593,
          0.8507535510609413,
          0.8510534790208285,
          0.1858508169495191,
          0.857031947350445,
          0.5266204002674956,
          0.2348261989458537,
          0.34512810798554605,
          0.5378167540619431,
          0.2354112196433869,
          0.9037536092396535,
          0.6220434478623872,
          0.3233806254767353,
          0.30076374446494303,
          0.6982133040620958,
          0.2931411136536995,
          0.9007434633400878,
          0.9007025452811693,
          0.2723112128146453,
          0.9066071990877052,
          0.6180103504898603,
          0.32709077040427154,
          0.4350568138352852,
          0.6310827807912841,
          0.32872616323417236,
          0.9193078178741333,
          0.6425447901638853,
          0.3627362331669551,
          0.2865447302606291,
          0.7199248214134173,
          0.3312857342916074,
          0.9156287595533213,
          0.915562616374555,
          0.31784177413247905,
          0.9221220229329633,
          0.6402060672014697,
          0.35810795624488895,
          0.44814998776975185,
          0.6591404881116996,
          0.37031747870422077,
          0.9579461751640329,
          0.7318660208907598,
          0.4481094127111826,
          0.4009137077199762,
          0.8018286531908599,
          0.4231269150504054,
          0.9518737692114413,
          0.9520792358620997,
          0.41417428447893895,
          0.9548753151623248,
          0.7495522436091826,
          0.4559697366818242,
          0.5548565013485296,
          0.7642790039075796,
          0.4618756885480488,
          0.9779324573402138,
          0.8481326783190438,
          0.6098521310151006,
          0.5610220144470599,
          0.8948542778619161,
          0.5951662183183931,
          0.9714408881629681,
          0.9715420226389524,
          0.5954777702336854,
          0.9706646810597882,
          0.8727235261546397,
          0.6376769400015471,
          0.7093913474399072,
          0.8810165531853568,
          0.6404862788239237,
          0.990826771953627,
          0.8982039731599554,
          0.8296004325045433,
          0.7118087049754694,
          0.943084318493055,
          0.8082694188910592,
          0.9729732133102637,
          0.9730481642110719,
          0.8249498403068318,
          0.976879552632047,
          0.9296287262666068,
          0.837974897317346,
          0.811555650408673,
          0.9327715826835471,
          0.8391698079539625
         ],
         "j": [
          139,
          141,
          120,
          123,
          130,
          130,
          130,
          144,
          94,
          79,
          132,
          130,
          114,
          112,
          83,
          94,
          110,
          110,
          123,
          110,
          92,
          94,
          110,
          112,
          99,
          99,
          99,
          114,
          83,
          99,
          104,
          99,
          31,
          48,
          36,
          48,
          20,
          36,
          20,
          21,
          20,
          31,
          20,
          5,
          44,
          26,
          29,
          26,
          26,
          36,
          11,
          26,
          56,
          44,
          36,
          56,
          84,
          71,
          73,
          56,
          56,
          67,
          83,
          67,
          67,
          67,
          67,
          64,
          61,
          61,
          48,
          64
         ],
         "k": [
          141,
          126,
          135,
          135,
          141,
          126,
          147,
          147,
          77,
          77,
          117,
          132,
          126,
          126,
          79,
          97,
          106,
          120,
          126,
          126,
          106,
          92,
          97,
          97,
          112,
          97,
          117,
          117,
          97,
          84,
          88,
          88,
          45,
          35,
          35,
          53,
          35,
          21,
          6,
          6,
          16,
          35,
          0,
          0,
          29,
          40,
          12,
          12,
          21,
          40,
          6,
          6,
          58,
          40,
          53,
          40,
          88,
          84,
          58,
          71,
          53,
          71,
          84,
          84,
          53,
          48,
          79,
          79,
          77,
          79,
          45,
          48
         ],
         "type": "mesh3d",
         "x": [
          30,
          30,
          30,
          30,
          30,
          30,
          30,
          30,
          30,
          30,
          30,
          30,
          30,
          30,
          30,
          35,
          35,
          35,
          35,
          35,
          35,
          35,
          35,
          35,
          35,
          35,
          35,
          35,
          35,
          35,
          40,
          40,
          40,
          40,
          40,
          40,
          40,
          40,
          40,
          40,
          40,
          40,
          40,
          40,
          40,
          45,
          45,
          45,
          45,
          45,
          45,
          45,
          45,
          45,
          45,
          45,
          45,
          45,
          45,
          45,
          50,
          50,
          50,
          50,
          50,
          50,
          50,
          50,
          50,
          50,
          50,
          50,
          50,
          50,
          50,
          60,
          60,
          60,
          60,
          60,
          60,
          60,
          60,
          60,
          60,
          60,
          60,
          60,
          60,
          60,
          70,
          70,
          70,
          70,
          70,
          70,
          70,
          70,
          70,
          70,
          70,
          70,
          70,
          70,
          70,
          90,
          90,
          90,
          90,
          90,
          90,
          90,
          90,
          90,
          90,
          90,
          90,
          90,
          90,
          90,
          120,
          120,
          120,
          120,
          120,
          120,
          120,
          120,
          120,
          120,
          120,
          120,
          120,
          120,
          120,
          180,
          180,
          180,
          180,
          180,
          180,
          180,
          180,
          180,
          180,
          180,
          180,
          180,
          180,
          180
         ],
         "y": [
          1,
          1,
          1,
          10,
          10,
          10,
          20,
          20,
          20,
          30,
          30,
          30,
          40,
          40,
          40,
          1,
          1,
          1,
          10,
          10,
          10,
          20,
          20,
          20,
          30,
          30,
          30,
          40,
          40,
          40,
          1,
          1,
          1,
          10,
          10,
          10,
          20,
          20,
          20,
          30,
          30,
          30,
          40,
          40,
          40,
          1,
          1,
          1,
          10,
          10,
          10,
          20,
          20,
          20,
          30,
          30,
          30,
          40,
          40,
          40,
          1,
          1,
          1,
          10,
          10,
          10,
          20,
          20,
          20,
          30,
          30,
          30,
          40,
          40,
          40,
          1,
          1,
          1,
          10,
          10,
          10,
          20,
          20,
          20,
          30,
          30,
          30,
          40,
          40,
          40,
          1,
          1,
          1,
          10,
          10,
          10,
          20,
          20,
          20,
          30,
          30,
          30,
          40,
          40,
          40,
          1,
          1,
          1,
          10,
          10,
          10,
          20,
          20,
          20,
          30,
          30,
          30,
          40,
          40,
          40,
          1,
          1,
          1,
          10,
          10,
          10,
          20,
          20,
          20,
          30,
          30,
          30,
          40,
          40,
          40,
          1,
          1,
          1,
          10,
          10,
          10,
          20,
          20,
          20,
          30,
          30,
          30,
          40,
          40,
          40
         ],
         "z": [
          10,
          20,
          30,
          10,
          20,
          30,
          10,
          20,
          30,
          10,
          20,
          30,
          10,
          20,
          30,
          10,
          20,
          30,
          10,
          20,
          30,
          10,
          20,
          30,
          10,
          20,
          30,
          10,
          20,
          30,
          10,
          20,
          30,
          10,
          20,
          30,
          10,
          20,
          30,
          10,
          20,
          30,
          10,
          20,
          30,
          10,
          20,
          30,
          10,
          20,
          30,
          10,
          20,
          30,
          10,
          20,
          30,
          10,
          20,
          30,
          10,
          20,
          30,
          10,
          20,
          30,
          10,
          20,
          30,
          10,
          20,
          30,
          10,
          20,
          30,
          10,
          20,
          30,
          10,
          20,
          30,
          10,
          20,
          30,
          10,
          20,
          30,
          10,
          20,
          30,
          10,
          20,
          30,
          10,
          20,
          30,
          10,
          20,
          30,
          10,
          20,
          30,
          10,
          20,
          30,
          10,
          20,
          30,
          10,
          20,
          30,
          10,
          20,
          30,
          10,
          20,
          30,
          10,
          20,
          30,
          10,
          20,
          30,
          10,
          20,
          30,
          10,
          20,
          30,
          10,
          20,
          30,
          10,
          20,
          30,
          10,
          20,
          30,
          10,
          20,
          30,
          10,
          20,
          30,
          10,
          20,
          30,
          10,
          20,
          30
         ]
        }
       ],
       "layout": {
        "height": 800,
        "margin": {
         "b": 5,
         "l": 5,
         "r": 5,
         "t": 5
        },
        "scene": {
         "xaxis": {
          "title": {
           "text": "session_bin"
          }
         },
         "yaxis": {
          "title": {
           "text": "Window"
          }
         },
         "zaxis": {
          "title": {
           "text": "experiment"
          }
         }
        },
        "template": {
         "data": {
          "bar": [
           {
            "error_x": {
             "color": "#2a3f5f"
            },
            "error_y": {
             "color": "#2a3f5f"
            },
            "marker": {
             "line": {
              "color": "#E5ECF6",
              "width": 0.5
             },
             "pattern": {
              "fillmode": "overlay",
              "size": 10,
              "solidity": 0.2
             }
            },
            "type": "bar"
           }
          ],
          "barpolar": [
           {
            "marker": {
             "line": {
              "color": "#E5ECF6",
              "width": 0.5
             },
             "pattern": {
              "fillmode": "overlay",
              "size": 10,
              "solidity": 0.2
             }
            },
            "type": "barpolar"
           }
          ],
          "carpet": [
           {
            "aaxis": {
             "endlinecolor": "#2a3f5f",
             "gridcolor": "white",
             "linecolor": "white",
             "minorgridcolor": "white",
             "startlinecolor": "#2a3f5f"
            },
            "baxis": {
             "endlinecolor": "#2a3f5f",
             "gridcolor": "white",
             "linecolor": "white",
             "minorgridcolor": "white",
             "startlinecolor": "#2a3f5f"
            },
            "type": "carpet"
           }
          ],
          "choropleth": [
           {
            "colorbar": {
             "outlinewidth": 0,
             "ticks": ""
            },
            "type": "choropleth"
           }
          ],
          "contour": [
           {
            "colorbar": {
             "outlinewidth": 0,
             "ticks": ""
            },
            "colorscale": [
             [
              0,
              "#0d0887"
             ],
             [
              0.1111111111111111,
              "#46039f"
             ],
             [
              0.2222222222222222,
              "#7201a8"
             ],
             [
              0.3333333333333333,
              "#9c179e"
             ],
             [
              0.4444444444444444,
              "#bd3786"
             ],
             [
              0.5555555555555556,
              "#d8576b"
             ],
             [
              0.6666666666666666,
              "#ed7953"
             ],
             [
              0.7777777777777778,
              "#fb9f3a"
             ],
             [
              0.8888888888888888,
              "#fdca26"
             ],
             [
              1,
              "#f0f921"
             ]
            ],
            "type": "contour"
           }
          ],
          "contourcarpet": [
           {
            "colorbar": {
             "outlinewidth": 0,
             "ticks": ""
            },
            "type": "contourcarpet"
           }
          ],
          "heatmap": [
           {
            "colorbar": {
             "outlinewidth": 0,
             "ticks": ""
            },
            "colorscale": [
             [
              0,
              "#0d0887"
             ],
             [
              0.1111111111111111,
              "#46039f"
             ],
             [
              0.2222222222222222,
              "#7201a8"
             ],
             [
              0.3333333333333333,
              "#9c179e"
             ],
             [
              0.4444444444444444,
              "#bd3786"
             ],
             [
              0.5555555555555556,
              "#d8576b"
             ],
             [
              0.6666666666666666,
              "#ed7953"
             ],
             [
              0.7777777777777778,
              "#fb9f3a"
             ],
             [
              0.8888888888888888,
              "#fdca26"
             ],
             [
              1,
              "#f0f921"
             ]
            ],
            "type": "heatmap"
           }
          ],
          "heatmapgl": [
           {
            "colorbar": {
             "outlinewidth": 0,
             "ticks": ""
            },
            "colorscale": [
             [
              0,
              "#0d0887"
             ],
             [
              0.1111111111111111,
              "#46039f"
             ],
             [
              0.2222222222222222,
              "#7201a8"
             ],
             [
              0.3333333333333333,
              "#9c179e"
             ],
             [
              0.4444444444444444,
              "#bd3786"
             ],
             [
              0.5555555555555556,
              "#d8576b"
             ],
             [
              0.6666666666666666,
              "#ed7953"
             ],
             [
              0.7777777777777778,
              "#fb9f3a"
             ],
             [
              0.8888888888888888,
              "#fdca26"
             ],
             [
              1,
              "#f0f921"
             ]
            ],
            "type": "heatmapgl"
           }
          ],
          "histogram": [
           {
            "marker": {
             "pattern": {
              "fillmode": "overlay",
              "size": 10,
              "solidity": 0.2
             }
            },
            "type": "histogram"
           }
          ],
          "histogram2d": [
           {
            "colorbar": {
             "outlinewidth": 0,
             "ticks": ""
            },
            "colorscale": [
             [
              0,
              "#0d0887"
             ],
             [
              0.1111111111111111,
              "#46039f"
             ],
             [
              0.2222222222222222,
              "#7201a8"
             ],
             [
              0.3333333333333333,
              "#9c179e"
             ],
             [
              0.4444444444444444,
              "#bd3786"
             ],
             [
              0.5555555555555556,
              "#d8576b"
             ],
             [
              0.6666666666666666,
              "#ed7953"
             ],
             [
              0.7777777777777778,
              "#fb9f3a"
             ],
             [
              0.8888888888888888,
              "#fdca26"
             ],
             [
              1,
              "#f0f921"
             ]
            ],
            "type": "histogram2d"
           }
          ],
          "histogram2dcontour": [
           {
            "colorbar": {
             "outlinewidth": 0,
             "ticks": ""
            },
            "colorscale": [
             [
              0,
              "#0d0887"
             ],
             [
              0.1111111111111111,
              "#46039f"
             ],
             [
              0.2222222222222222,
              "#7201a8"
             ],
             [
              0.3333333333333333,
              "#9c179e"
             ],
             [
              0.4444444444444444,
              "#bd3786"
             ],
             [
              0.5555555555555556,
              "#d8576b"
             ],
             [
              0.6666666666666666,
              "#ed7953"
             ],
             [
              0.7777777777777778,
              "#fb9f3a"
             ],
             [
              0.8888888888888888,
              "#fdca26"
             ],
             [
              1,
              "#f0f921"
             ]
            ],
            "type": "histogram2dcontour"
           }
          ],
          "mesh3d": [
           {
            "colorbar": {
             "outlinewidth": 0,
             "ticks": ""
            },
            "type": "mesh3d"
           }
          ],
          "parcoords": [
           {
            "line": {
             "colorbar": {
              "outlinewidth": 0,
              "ticks": ""
             }
            },
            "type": "parcoords"
           }
          ],
          "pie": [
           {
            "automargin": true,
            "type": "pie"
           }
          ],
          "scatter": [
           {
            "fillpattern": {
             "fillmode": "overlay",
             "size": 10,
             "solidity": 0.2
            },
            "type": "scatter"
           }
          ],
          "scatter3d": [
           {
            "line": {
             "colorbar": {
              "outlinewidth": 0,
              "ticks": ""
             }
            },
            "marker": {
             "colorbar": {
              "outlinewidth": 0,
              "ticks": ""
             }
            },
            "type": "scatter3d"
           }
          ],
          "scattercarpet": [
           {
            "marker": {
             "colorbar": {
              "outlinewidth": 0,
              "ticks": ""
             }
            },
            "type": "scattercarpet"
           }
          ],
          "scattergeo": [
           {
            "marker": {
             "colorbar": {
              "outlinewidth": 0,
              "ticks": ""
             }
            },
            "type": "scattergeo"
           }
          ],
          "scattergl": [
           {
            "marker": {
             "colorbar": {
              "outlinewidth": 0,
              "ticks": ""
             }
            },
            "type": "scattergl"
           }
          ],
          "scattermapbox": [
           {
            "marker": {
             "colorbar": {
              "outlinewidth": 0,
              "ticks": ""
             }
            },
            "type": "scattermapbox"
           }
          ],
          "scatterpolar": [
           {
            "marker": {
             "colorbar": {
              "outlinewidth": 0,
              "ticks": ""
             }
            },
            "type": "scatterpolar"
           }
          ],
          "scatterpolargl": [
           {
            "marker": {
             "colorbar": {
              "outlinewidth": 0,
              "ticks": ""
             }
            },
            "type": "scatterpolargl"
           }
          ],
          "scatterternary": [
           {
            "marker": {
             "colorbar": {
              "outlinewidth": 0,
              "ticks": ""
             }
            },
            "type": "scatterternary"
           }
          ],
          "surface": [
           {
            "colorbar": {
             "outlinewidth": 0,
             "ticks": ""
            },
            "colorscale": [
             [
              0,
              "#0d0887"
             ],
             [
              0.1111111111111111,
              "#46039f"
             ],
             [
              0.2222222222222222,
              "#7201a8"
             ],
             [
              0.3333333333333333,
              "#9c179e"
             ],
             [
              0.4444444444444444,
              "#bd3786"
             ],
             [
              0.5555555555555556,
              "#d8576b"
             ],
             [
              0.6666666666666666,
              "#ed7953"
             ],
             [
              0.7777777777777778,
              "#fb9f3a"
             ],
             [
              0.8888888888888888,
              "#fdca26"
             ],
             [
              1,
              "#f0f921"
             ]
            ],
            "type": "surface"
           }
          ],
          "table": [
           {
            "cells": {
             "fill": {
              "color": "#EBF0F8"
             },
             "line": {
              "color": "white"
             }
            },
            "header": {
             "fill": {
              "color": "#C8D4E3"
             },
             "line": {
              "color": "white"
             }
            },
            "type": "table"
           }
          ]
         },
         "layout": {
          "annotationdefaults": {
           "arrowcolor": "#2a3f5f",
           "arrowhead": 0,
           "arrowwidth": 1
          },
          "autotypenumbers": "strict",
          "coloraxis": {
           "colorbar": {
            "outlinewidth": 0,
            "ticks": ""
           }
          },
          "colorscale": {
           "diverging": [
            [
             0,
             "#8e0152"
            ],
            [
             0.1,
             "#c51b7d"
            ],
            [
             0.2,
             "#de77ae"
            ],
            [
             0.3,
             "#f1b6da"
            ],
            [
             0.4,
             "#fde0ef"
            ],
            [
             0.5,
             "#f7f7f7"
            ],
            [
             0.6,
             "#e6f5d0"
            ],
            [
             0.7,
             "#b8e186"
            ],
            [
             0.8,
             "#7fbc41"
            ],
            [
             0.9,
             "#4d9221"
            ],
            [
             1,
             "#276419"
            ]
           ],
           "sequential": [
            [
             0,
             "#0d0887"
            ],
            [
             0.1111111111111111,
             "#46039f"
            ],
            [
             0.2222222222222222,
             "#7201a8"
            ],
            [
             0.3333333333333333,
             "#9c179e"
            ],
            [
             0.4444444444444444,
             "#bd3786"
            ],
            [
             0.5555555555555556,
             "#d8576b"
            ],
            [
             0.6666666666666666,
             "#ed7953"
            ],
            [
             0.7777777777777778,
             "#fb9f3a"
            ],
            [
             0.8888888888888888,
             "#fdca26"
            ],
            [
             1,
             "#f0f921"
            ]
           ],
           "sequentialminus": [
            [
             0,
             "#0d0887"
            ],
            [
             0.1111111111111111,
             "#46039f"
            ],
            [
             0.2222222222222222,
             "#7201a8"
            ],
            [
             0.3333333333333333,
             "#9c179e"
            ],
            [
             0.4444444444444444,
             "#bd3786"
            ],
            [
             0.5555555555555556,
             "#d8576b"
            ],
            [
             0.6666666666666666,
             "#ed7953"
            ],
            [
             0.7777777777777778,
             "#fb9f3a"
            ],
            [
             0.8888888888888888,
             "#fdca26"
            ],
            [
             1,
             "#f0f921"
            ]
           ]
          },
          "colorway": [
           "#636efa",
           "#EF553B",
           "#00cc96",
           "#ab63fa",
           "#FFA15A",
           "#19d3f3",
           "#FF6692",
           "#B6E880",
           "#FF97FF",
           "#FECB52"
          ],
          "font": {
           "color": "#2a3f5f"
          },
          "geo": {
           "bgcolor": "white",
           "lakecolor": "white",
           "landcolor": "#E5ECF6",
           "showlakes": true,
           "showland": true,
           "subunitcolor": "white"
          },
          "hoverlabel": {
           "align": "left"
          },
          "hovermode": "closest",
          "mapbox": {
           "style": "light"
          },
          "paper_bgcolor": "white",
          "plot_bgcolor": "#E5ECF6",
          "polar": {
           "angularaxis": {
            "gridcolor": "white",
            "linecolor": "white",
            "ticks": ""
           },
           "bgcolor": "#E5ECF6",
           "radialaxis": {
            "gridcolor": "white",
            "linecolor": "white",
            "ticks": ""
           }
          },
          "scene": {
           "xaxis": {
            "backgroundcolor": "#E5ECF6",
            "gridcolor": "white",
            "gridwidth": 2,
            "linecolor": "white",
            "showbackground": true,
            "ticks": "",
            "zerolinecolor": "white"
           },
           "yaxis": {
            "backgroundcolor": "#E5ECF6",
            "gridcolor": "white",
            "gridwidth": 2,
            "linecolor": "white",
            "showbackground": true,
            "ticks": "",
            "zerolinecolor": "white"
           },
           "zaxis": {
            "backgroundcolor": "#E5ECF6",
            "gridcolor": "white",
            "gridwidth": 2,
            "linecolor": "white",
            "showbackground": true,
            "ticks": "",
            "zerolinecolor": "white"
           }
          },
          "shapedefaults": {
           "line": {
            "color": "#2a3f5f"
           }
          },
          "ternary": {
           "aaxis": {
            "gridcolor": "white",
            "linecolor": "white",
            "ticks": ""
           },
           "baxis": {
            "gridcolor": "white",
            "linecolor": "white",
            "ticks": ""
           },
           "bgcolor": "#E5ECF6",
           "caxis": {
            "gridcolor": "white",
            "linecolor": "white",
            "ticks": ""
           }
          },
          "title": {
           "x": 0.05
          },
          "xaxis": {
           "automargin": true,
           "gridcolor": "white",
           "linecolor": "white",
           "ticks": "",
           "title": {
            "standoff": 15
           },
           "zerolinecolor": "white",
           "zerolinewidth": 2
          },
          "yaxis": {
           "automargin": true,
           "gridcolor": "white",
           "linecolor": "white",
           "ticks": "",
           "title": {
            "standoff": 15
           },
           "zerolinecolor": "white",
           "zerolinewidth": 2
          }
         }
        },
        "width": 1200
       }
      }
     },
     "metadata": {},
     "output_type": "display_data"
    }
   ],
   "source": [
    "# plot_contours(\n",
    "#     eval_rec_sess_glob,\n",
    "#     'session_bin',\n",
    "#     'Window',\n",
    "#     'experiment',\n",
    "#     'recall',\n",
    "#     'eval_rec_sess_glob',\n",
    "#     'Recall | Session Time'\n",
    "# )\n"
   ]
  },
  {
   "cell_type": "code",
   "execution_count": 40,
   "metadata": {},
   "outputs": [
    {
     "data": {
      "application/vnd.plotly.v1+json": {
       "config": {
        "plotlyServerURL": "https://plot.ly"
       },
       "data": [
        {
         "alphahull": 0.5,
         "colorscale": [
          [
           0,
           "rgb(3, 35, 51)"
          ],
          [
           0.09090909090909091,
           "rgb(13, 48, 100)"
          ],
          [
           0.18181818181818182,
           "rgb(53, 50, 155)"
          ],
          [
           0.2727272727272727,
           "rgb(93, 62, 153)"
          ],
          [
           0.36363636363636365,
           "rgb(126, 77, 143)"
          ],
          [
           0.45454545454545453,
           "rgb(158, 89, 135)"
          ],
          [
           0.5454545454545454,
           "rgb(193, 100, 121)"
          ],
          [
           0.6363636363636364,
           "rgb(225, 113, 97)"
          ],
          [
           0.7272727272727273,
           "rgb(246, 139, 69)"
          ],
          [
           0.8181818181818182,
           "rgb(251, 173, 60)"
          ],
          [
           0.9090909090909091,
           "rgb(246, 211, 70)"
          ],
          [
           1,
           "rgb(231, 250, 90)"
          ]
         ],
         "i": [
          124,
          142,
          124,
          109,
          79,
          95,
          95,
          98,
          155,
          142,
          150,
          135,
          10,
          26,
          42,
          28,
          52,
          38,
          142,
          130,
          16,
          16,
          33,
          19,
          5,
          19,
          23,
          38,
          23,
          23,
          26,
          23,
          183,
          200,
          288,
          270,
          259,
          270,
          277,
          288,
          277,
          259,
          266,
          263,
          67,
          56,
          57,
          74,
          57,
          56,
          85,
          85,
          67,
          85,
          98,
          100,
          85,
          104,
          116,
          116,
          127,
          130,
          104,
          116,
          134,
          147,
          134,
          116,
          124,
          121,
          121,
          105,
          168,
          168,
          180,
          183,
          155,
          168,
          213,
          211,
          226,
          213,
          200,
          213,
          245,
          226,
          255,
          259,
          245,
          245,
          266,
          251,
          281,
          282,
          267,
          281,
          294,
          281,
          277,
          281,
          239,
          239,
          208,
          219,
          219,
          239,
          217,
          219,
          251,
          236,
          219,
          231,
          245,
          231,
          231,
          213,
          49,
          49,
          49,
          45,
          95,
          91,
          91,
          76,
          187,
          187,
          187,
          168,
          161,
          161,
          162,
          161,
          161,
          142,
          172,
          175,
          63,
          67,
          63,
          49,
          76,
          63,
          63,
          63,
          208,
          193,
          175,
          190,
          206,
          190,
          187,
          190
         ],
         "intensity": [
          0.7600997478222287,
          0.22694314486461592,
          0.06432611794049528,
          0.06062376087481536,
          0.27295856758532766,
          0.07014965259219669,
          0.670787255193795,
          0.6711354739425663,
          0.06108587208266524,
          0.7394031979960572,
          0.24235463271346652,
          0.06434838767147692,
          0.10393206364540099,
          0.24550545074670455,
          0.07167512916443969,
          0.7915806039146257,
          0.3021961809214686,
          0.12770844592934702,
          0.07222245640658152,
          0.37499473085191587,
          0.1556527293273719,
          0.7244727339150473,
          0.7237491042448257,
          0.1494988453790596,
          0.7534460228470261,
          0.32409476035914514,
          0.14263253574411636,
          0.16775562393738847,
          0.33249729517065013,
          0.12795410995921977,
          0.7886071038695067,
          0.2882146498136971,
          0.13943870014771048,
          0.07424148104040923,
          0.354453676888516,
          0.1522238634498605,
          0.7157640223383044,
          0.7153219476547487,
          0.12921385196126703,
          0.7419186041266318,
          0.30779224294259344,
          0.15315936320367635,
          0.1348869100784006,
          0.3117799370269124,
          0.15407845068110948,
          0.8135109680604958,
          0.3132412241800243,
          0.18357930713065093,
          0.09623913023600304,
          0.4076515823450344,
          0.20466055615970172,
          0.759909658659693,
          0.7599919534028876,
          0.17492620786080473,
          0.7796421093057067,
          0.3280542779550671,
          0.2140127388535032,
          0.16490952150178761,
          0.3398132823715516,
          0.19779400341774117,
          0.8090312178254366,
          0.33637352604075604,
          0.1689535156119273,
          0.08489228199001496,
          0.433737397284224,
          0.17832401860714167,
          0.7710142393690386,
          0.7702760456126037,
          0.16006827080753655,
          0.7720632515492356,
          0.36414320958874835,
          0.18928416050332988,
          0.17922567360180275,
          0.3745362006332925,
          0.17885947592115392,
          0.8141126031566204,
          0.32654693279130986,
          0.1560027519779842,
          0.04322859395999245,
          0.44806904135150444,
          0.15974849978977945,
          0.7806804171803672,
          0.7801250652538514,
          0.14122998127126093,
          0.7911432474759255,
          0.35680250574789246,
          0.1537285479493942,
          0.13716081881088046,
          0.36206724201126256,
          0.15936628062531055,
          0.8150704959507736,
          0.32515859999745733,
          0.16730643402399129,
          0.07461510100817473,
          0.44577087862491577,
          0.20119956379498363,
          0.795466392056651,
          0.7952375503769531,
          0.14050163576881133,
          0.8011874340490992,
          0.359446711672197,
          0.19149400218102508,
          0.1612698170537905,
          0.369388611312407,
          0.18667393675027263,
          0.8224006689348942,
          0.3628827633931146,
          0.24420423183072676,
          0.13022605386079233,
          0.46296349691482613,
          0.262097516099356,
          0.8112709762989447,
          0.810982642292832,
          0.2408923643054278,
          0.8138227322530419,
          0.35972550602618075,
          0.2640294388224471,
          0.1882244391903581,
          0.36484343463468083,
          0.26837626494940203,
          0.8030800588834787,
          0.293705614960286,
          0.16302099136623177,
          0.03356681818917126,
          0.3896824498115405,
          0.1691722064380879,
          0.7840561657796399,
          0.7839914586602391,
          0.1290100129644443,
          0.7851400100296035,
          0.29558212142290957,
          0.18798444266681377,
          0.11661840594011356,
          0.30255431353834705,
          0.18472953962430697,
          0.7897073632174789,
          0.328171248970126,
          0.25354990830495155,
          0.0778127002532727,
          0.41150712520216043,
          0.2457689284778622,
          0.7863659943242501,
          0.7866406273839676,
          0.23686140948388787,
          0.7801409783039883,
          0.33825638521863843,
          0.27610689022792767,
          0.13357846876811816,
          0.34211650544688904,
          0.25988996594183916,
          0.8242455446860104,
          0.31961999036688865,
          0.24961977712026104,
          0.07307877559833248,
          0.44363799431978607,
          0.2764980781461715,
          0.8238469331827467,
          0.8234815393047551,
          0.24204297209855377,
          0.8195950771479347,
          0.3581192180571011,
          0.2846002820562453,
          0.1456758956302214,
          0.36745337075852447,
          0.27270967563531784,
          0.7860290278792942,
          0.33375796178343947,
          0.2193665096593624,
          0.11703038529811005,
          0.42664717552469456,
          0.23936787494026895,
          0.7940691239427796,
          0.7938811736451916,
          0.20595262475254283,
          0.7836065573770492,
          0.34353137725801397,
          0.2371151614444672,
          0.1834812571786572,
          0.358609167797849,
          0.2363642569458666,
          0.8124074074074074,
          0.4162222222222222,
          0.16436665544709975,
          0.14437037037037037,
          0.5428148148148149,
          0.17628744530461124,
          0.8108518518518518,
          0.8112962962962963,
          0.15317513743969483,
          0.8159074074074074,
          0.4356851851851852,
          0.1962021765959834,
          0.2353888888888889,
          0.4431481481481481,
          0.13340065073488164,
          0.7963720712033152,
          0.33133519247309023,
          0.25411877813223793,
          0.13117360369047928,
          0.43717584508327034,
          0.25827033168727875,
          0.7990304673043342,
          0.7991607808386979,
          0.25438098151466154,
          0.7882926320727671,
          0.3491360212671688,
          0.2744395402700695,
          0.18181344314420494,
          0.3510125361620058,
          0.27797928593278853,
          0.7700834064969271,
          0.37398485513608426,
          0.31121873825727525,
          0.12941725197541704,
          0.45634877085162423,
          0.32812826186798044,
          0.7896455223880597,
          0.7897552677787533,
          0.296229802513465,
          0.7727172958735733,
          0.3908307726075505,
          0.3432424533422404,
          0.20508669885864794,
          0.39840320456540823,
          0.35096655671996996,
          0.7491747431800776,
          0.26632688092534396,
          0.1642514185945002,
          0.037182771278421844,
          0.35941585021258615,
          0.16246180707114796,
          0.7467980035387013,
          0.7470092692846013,
          0.1697512003491925,
          0.7503367047825283,
          0.26680222885361926,
          0.18371890004364907,
          0.09866110333535796,
          0.27329865054004804,
          0.16900916630292448,
          0.7871598247232472,
          0.38292781365313655,
          0.24656659214308527,
          0.11041282287822879,
          0.47569764760147604,
          0.25961582333348543,
          0.7786266143911439,
          0.7800968634686347,
          0.2061869781448191,
          0.7829508763837638,
          0.3915763376383764,
          0.2872655929187389,
          0.21356088560885608,
          0.39443035055350556,
          0.2745813751882101,
          0.903914171186041,
          0.6197241216694176,
          0.5423617496387758,
          0.37677827556393934,
          0.6958068065707773,
          0.5306712202810981,
          0.9039927690010218,
          0.9042285624459641,
          0.5230789439117299,
          0.9064293012654249,
          0.6229269826298829,
          0.5810324445028241,
          0.46891456417511596,
          0.6332036469386151,
          0.568947852357809,
          0.7940136398080323,
          0.4081207375599899,
          0.2932517366854118,
          0.08809042687547361,
          0.5323629704470826,
          0.28084684088653655,
          0.8120737559989897,
          0.8124210659257388,
          0.22615503363105083,
          0.8017491790856277,
          0.4169613538772417,
          0.3003638769434337,
          0.1535741348825461,
          0.43075903005809546,
          0.3088543389568861,
          0.8744402625010752,
          0.68804216381958,
          0.6392320914455708,
          0.3741695645919907,
          0.7517602592339069,
          0.6081437965788351,
          0.8871771593127671,
          0.8872257692844251,
          0.6134909612324817,
          0.8755787116514308,
          0.6938800587801174,
          0.6461423123533845,
          0.5330887534957617,
          0.7047164683355729,
          0.6520633560640309
         ],
         "j": [
          142,
          124,
          127,
          124,
          95,
          98,
          109,
          95,
          142,
          155,
          155,
          155,
          28,
          28,
          28,
          26,
          56,
          56,
          130,
          142,
          5,
          19,
          16,
          16,
          23,
          23,
          19,
          23,
          10,
          26,
          23,
          38,
          180,
          183,
          270,
          288,
          270,
          259,
          288,
          277,
          259,
          277,
          251,
          266,
          56,
          67,
          56,
          57,
          42,
          57,
          89,
          74,
          85,
          67,
          85,
          85,
          104,
          85,
          98,
          100,
          116,
          116,
          116,
          104,
          130,
          134,
          116,
          134,
          121,
          135,
          124,
          121,
          150,
          155,
          168,
          168,
          168,
          172,
          200,
          213,
          213,
          226,
          213,
          217,
          226,
          245,
          245,
          245,
          259,
          263,
          267,
          267,
          294,
          281,
          281,
          267,
          281,
          277,
          281,
          266,
          251,
          236,
          219,
          208,
          239,
          219,
          219,
          206,
          231,
          231,
          231,
          219,
          231,
          245,
          213,
          231,
          52,
          38,
          33,
          49,
          91,
          105,
          95,
          91,
          183,
          200,
          168,
          187,
          147,
          162,
          161,
          175,
          142,
          161,
          161,
          161,
          79,
          63,
          67,
          63,
          63,
          76,
          45,
          49,
          190,
          190,
          190,
          193,
          190,
          187,
          190,
          175
         ],
         "k": [
          127,
          138,
          112,
          112,
          83,
          83,
          112,
          112,
          138,
          156,
          135,
          138,
          12,
          10,
          40,
          40,
          38,
          40,
          127,
          144,
          0,
          5,
          32,
          33,
          7,
          5,
          33,
          33,
          7,
          10,
          40,
          40,
          196,
          196,
          285,
          273,
          273,
          255,
          291,
          273,
          273,
          263,
          247,
          247,
          52,
          70,
          70,
          70,
          40,
          40,
          74,
          70,
          70,
          83,
          83,
          98,
          89,
          100,
          112,
          98,
          112,
          127,
          118,
          100,
          144,
          144,
          130,
          118,
          138,
          138,
          109,
          109,
          167,
          150,
          167,
          180,
          156,
          156,
          196,
          196,
          211,
          230,
          203,
          203,
          240,
          230,
          240,
          255,
          263,
          247,
          251,
          252,
          297,
          297,
          282,
          266,
          291,
          291,
          263,
          263,
          252,
          251,
          222,
          206,
          222,
          236,
          203,
          203,
          247,
          251,
          236,
          217,
          230,
          247,
          230,
          217,
          38,
          33,
          32,
          32,
          109,
          109,
          79,
          79,
          200,
          203,
          183,
          172,
          144,
          147,
          179,
          179,
          156,
          144,
          156,
          172,
          83,
          83,
          52,
          52,
          61,
          79,
          61,
          45,
          206,
          208,
          179,
          179,
          203,
          203,
          172,
          172
         ],
         "type": "mesh3d",
         "x": [
          1,
          1,
          1,
          1,
          1,
          1,
          1,
          1,
          1,
          1,
          1,
          1,
          1,
          1,
          1,
          2,
          2,
          2,
          2,
          2,
          2,
          2,
          2,
          2,
          2,
          2,
          2,
          2,
          2,
          2,
          3,
          3,
          3,
          3,
          3,
          3,
          3,
          3,
          3,
          3,
          3,
          3,
          3,
          3,
          3,
          4,
          4,
          4,
          4,
          4,
          4,
          4,
          4,
          4,
          4,
          4,
          4,
          4,
          4,
          4,
          5,
          5,
          5,
          5,
          5,
          5,
          5,
          5,
          5,
          5,
          5,
          5,
          5,
          5,
          5,
          6,
          6,
          6,
          6,
          6,
          6,
          6,
          6,
          6,
          6,
          6,
          6,
          6,
          6,
          6,
          7,
          7,
          7,
          7,
          7,
          7,
          7,
          7,
          7,
          7,
          7,
          7,
          7,
          7,
          7,
          8,
          8,
          8,
          8,
          8,
          8,
          8,
          8,
          8,
          8,
          8,
          8,
          8,
          8,
          8,
          9,
          9,
          9,
          9,
          9,
          9,
          9,
          9,
          9,
          9,
          9,
          9,
          9,
          9,
          9,
          10,
          10,
          10,
          10,
          10,
          10,
          10,
          10,
          10,
          10,
          10,
          10,
          10,
          10,
          10,
          11,
          11,
          11,
          11,
          11,
          11,
          11,
          11,
          11,
          11,
          11,
          11,
          11,
          11,
          11,
          12,
          12,
          12,
          12,
          12,
          12,
          12,
          12,
          12,
          12,
          12,
          12,
          12,
          12,
          12,
          13,
          13,
          13,
          13,
          13,
          13,
          13,
          13,
          13,
          13,
          13,
          13,
          13,
          13,
          13,
          14,
          14,
          14,
          14,
          14,
          14,
          14,
          14,
          14,
          14,
          14,
          14,
          14,
          14,
          14,
          15,
          15,
          15,
          15,
          15,
          15,
          15,
          15,
          15,
          15,
          15,
          15,
          15,
          15,
          15,
          16,
          16,
          16,
          16,
          16,
          16,
          16,
          16,
          16,
          16,
          16,
          16,
          16,
          16,
          16,
          17,
          17,
          17,
          17,
          17,
          17,
          17,
          17,
          17,
          17,
          17,
          17,
          17,
          17,
          17,
          18,
          18,
          18,
          18,
          18,
          18,
          18,
          18,
          18,
          18,
          18,
          18,
          18,
          18,
          18,
          19,
          19,
          19,
          19,
          19,
          19,
          19,
          19,
          19,
          19,
          19,
          19,
          19,
          19,
          19,
          20,
          20,
          20,
          20,
          20,
          20,
          20,
          20,
          20,
          20,
          20,
          20,
          20,
          20,
          20
         ],
         "y": [
          1,
          1,
          1,
          10,
          10,
          10,
          20,
          20,
          20,
          30,
          30,
          30,
          40,
          40,
          40,
          1,
          1,
          1,
          10,
          10,
          10,
          20,
          20,
          20,
          30,
          30,
          30,
          40,
          40,
          40,
          1,
          1,
          1,
          10,
          10,
          10,
          20,
          20,
          20,
          30,
          30,
          30,
          40,
          40,
          40,
          1,
          1,
          1,
          10,
          10,
          10,
          20,
          20,
          20,
          30,
          30,
          30,
          40,
          40,
          40,
          1,
          1,
          1,
          10,
          10,
          10,
          20,
          20,
          20,
          30,
          30,
          30,
          40,
          40,
          40,
          1,
          1,
          1,
          10,
          10,
          10,
          20,
          20,
          20,
          30,
          30,
          30,
          40,
          40,
          40,
          1,
          1,
          1,
          10,
          10,
          10,
          20,
          20,
          20,
          30,
          30,
          30,
          40,
          40,
          40,
          1,
          1,
          1,
          10,
          10,
          10,
          20,
          20,
          20,
          30,
          30,
          30,
          40,
          40,
          40,
          1,
          1,
          1,
          10,
          10,
          10,
          20,
          20,
          20,
          30,
          30,
          30,
          40,
          40,
          40,
          1,
          1,
          1,
          10,
          10,
          10,
          20,
          20,
          20,
          30,
          30,
          30,
          40,
          40,
          40,
          1,
          1,
          1,
          10,
          10,
          10,
          20,
          20,
          20,
          30,
          30,
          30,
          40,
          40,
          40,
          1,
          1,
          1,
          10,
          10,
          10,
          20,
          20,
          20,
          30,
          30,
          30,
          40,
          40,
          40,
          1,
          1,
          1,
          10,
          10,
          10,
          20,
          20,
          20,
          30,
          30,
          30,
          40,
          40,
          40,
          1,
          1,
          1,
          10,
          10,
          10,
          20,
          20,
          20,
          30,
          30,
          30,
          40,
          40,
          40,
          1,
          1,
          1,
          10,
          10,
          10,
          20,
          20,
          20,
          30,
          30,
          30,
          40,
          40,
          40,
          1,
          1,
          1,
          10,
          10,
          10,
          20,
          20,
          20,
          30,
          30,
          30,
          40,
          40,
          40,
          1,
          1,
          1,
          10,
          10,
          10,
          20,
          20,
          20,
          30,
          30,
          30,
          40,
          40,
          40,
          1,
          1,
          1,
          10,
          10,
          10,
          20,
          20,
          20,
          30,
          30,
          30,
          40,
          40,
          40,
          1,
          1,
          1,
          10,
          10,
          10,
          20,
          20,
          20,
          30,
          30,
          30,
          40,
          40,
          40,
          1,
          1,
          1,
          10,
          10,
          10,
          20,
          20,
          20,
          30,
          30,
          30,
          40,
          40,
          40
         ],
         "z": [
          10,
          20,
          30,
          10,
          20,
          30,
          10,
          20,
          30,
          10,
          20,
          30,
          10,
          20,
          30,
          10,
          20,
          30,
          10,
          20,
          30,
          10,
          20,
          30,
          10,
          20,
          30,
          10,
          20,
          30,
          10,
          20,
          30,
          10,
          20,
          30,
          10,
          20,
          30,
          10,
          20,
          30,
          10,
          20,
          30,
          10,
          20,
          30,
          10,
          20,
          30,
          10,
          20,
          30,
          10,
          20,
          30,
          10,
          20,
          30,
          10,
          20,
          30,
          10,
          20,
          30,
          10,
          20,
          30,
          10,
          20,
          30,
          10,
          20,
          30,
          10,
          20,
          30,
          10,
          20,
          30,
          10,
          20,
          30,
          10,
          20,
          30,
          10,
          20,
          30,
          10,
          20,
          30,
          10,
          20,
          30,
          10,
          20,
          30,
          10,
          20,
          30,
          10,
          20,
          30,
          10,
          20,
          30,
          10,
          20,
          30,
          10,
          20,
          30,
          10,
          20,
          30,
          10,
          20,
          30,
          10,
          20,
          30,
          10,
          20,
          30,
          10,
          20,
          30,
          10,
          20,
          30,
          10,
          20,
          30,
          10,
          20,
          30,
          10,
          20,
          30,
          10,
          20,
          30,
          10,
          20,
          30,
          10,
          20,
          30,
          10,
          20,
          30,
          10,
          20,
          30,
          10,
          20,
          30,
          10,
          20,
          30,
          10,
          20,
          30,
          10,
          20,
          30,
          10,
          20,
          30,
          10,
          20,
          30,
          10,
          20,
          30,
          10,
          20,
          30,
          10,
          20,
          30,
          10,
          20,
          30,
          10,
          20,
          30,
          10,
          20,
          30,
          10,
          20,
          30,
          10,
          20,
          30,
          10,
          20,
          30,
          10,
          20,
          30,
          10,
          20,
          30,
          10,
          20,
          30,
          10,
          20,
          30,
          10,
          20,
          30,
          10,
          20,
          30,
          10,
          20,
          30,
          10,
          20,
          30,
          10,
          20,
          30,
          10,
          20,
          30,
          10,
          20,
          30,
          10,
          20,
          30,
          10,
          20,
          30,
          10,
          20,
          30,
          10,
          20,
          30,
          10,
          20,
          30,
          10,
          20,
          30,
          10,
          20,
          30,
          10,
          20,
          30,
          10,
          20,
          30,
          10,
          20,
          30,
          10,
          20,
          30,
          10,
          20,
          30,
          10,
          20,
          30,
          10,
          20,
          30,
          10,
          20,
          30,
          10,
          20,
          30,
          10,
          20,
          30,
          10,
          20,
          30,
          10,
          20,
          30,
          10,
          20,
          30,
          10,
          20,
          30,
          10,
          20,
          30
         ]
        }
       ],
       "layout": {
        "height": 800,
        "margin": {
         "b": 5,
         "l": 5,
         "r": 5,
         "t": 5
        },
        "scene": {
         "xaxis": {
          "title": {
           "text": "Session Count"
          }
         },
         "yaxis": {
          "title": {
           "text": "Window Size"
          }
         },
         "zaxis": {
          "title": {
           "text": "Experiment"
          }
         }
        },
        "showlegend": true,
        "template": {
         "data": {
          "bar": [
           {
            "error_x": {
             "color": "#2a3f5f"
            },
            "error_y": {
             "color": "#2a3f5f"
            },
            "marker": {
             "line": {
              "color": "#E5ECF6",
              "width": 0.5
             },
             "pattern": {
              "fillmode": "overlay",
              "size": 10,
              "solidity": 0.2
             }
            },
            "type": "bar"
           }
          ],
          "barpolar": [
           {
            "marker": {
             "line": {
              "color": "#E5ECF6",
              "width": 0.5
             },
             "pattern": {
              "fillmode": "overlay",
              "size": 10,
              "solidity": 0.2
             }
            },
            "type": "barpolar"
           }
          ],
          "carpet": [
           {
            "aaxis": {
             "endlinecolor": "#2a3f5f",
             "gridcolor": "white",
             "linecolor": "white",
             "minorgridcolor": "white",
             "startlinecolor": "#2a3f5f"
            },
            "baxis": {
             "endlinecolor": "#2a3f5f",
             "gridcolor": "white",
             "linecolor": "white",
             "minorgridcolor": "white",
             "startlinecolor": "#2a3f5f"
            },
            "type": "carpet"
           }
          ],
          "choropleth": [
           {
            "colorbar": {
             "outlinewidth": 0,
             "ticks": ""
            },
            "type": "choropleth"
           }
          ],
          "contour": [
           {
            "colorbar": {
             "outlinewidth": 0,
             "ticks": ""
            },
            "colorscale": [
             [
              0,
              "#0d0887"
             ],
             [
              0.1111111111111111,
              "#46039f"
             ],
             [
              0.2222222222222222,
              "#7201a8"
             ],
             [
              0.3333333333333333,
              "#9c179e"
             ],
             [
              0.4444444444444444,
              "#bd3786"
             ],
             [
              0.5555555555555556,
              "#d8576b"
             ],
             [
              0.6666666666666666,
              "#ed7953"
             ],
             [
              0.7777777777777778,
              "#fb9f3a"
             ],
             [
              0.8888888888888888,
              "#fdca26"
             ],
             [
              1,
              "#f0f921"
             ]
            ],
            "type": "contour"
           }
          ],
          "contourcarpet": [
           {
            "colorbar": {
             "outlinewidth": 0,
             "ticks": ""
            },
            "type": "contourcarpet"
           }
          ],
          "heatmap": [
           {
            "colorbar": {
             "outlinewidth": 0,
             "ticks": ""
            },
            "colorscale": [
             [
              0,
              "#0d0887"
             ],
             [
              0.1111111111111111,
              "#46039f"
             ],
             [
              0.2222222222222222,
              "#7201a8"
             ],
             [
              0.3333333333333333,
              "#9c179e"
             ],
             [
              0.4444444444444444,
              "#bd3786"
             ],
             [
              0.5555555555555556,
              "#d8576b"
             ],
             [
              0.6666666666666666,
              "#ed7953"
             ],
             [
              0.7777777777777778,
              "#fb9f3a"
             ],
             [
              0.8888888888888888,
              "#fdca26"
             ],
             [
              1,
              "#f0f921"
             ]
            ],
            "type": "heatmap"
           }
          ],
          "heatmapgl": [
           {
            "colorbar": {
             "outlinewidth": 0,
             "ticks": ""
            },
            "colorscale": [
             [
              0,
              "#0d0887"
             ],
             [
              0.1111111111111111,
              "#46039f"
             ],
             [
              0.2222222222222222,
              "#7201a8"
             ],
             [
              0.3333333333333333,
              "#9c179e"
             ],
             [
              0.4444444444444444,
              "#bd3786"
             ],
             [
              0.5555555555555556,
              "#d8576b"
             ],
             [
              0.6666666666666666,
              "#ed7953"
             ],
             [
              0.7777777777777778,
              "#fb9f3a"
             ],
             [
              0.8888888888888888,
              "#fdca26"
             ],
             [
              1,
              "#f0f921"
             ]
            ],
            "type": "heatmapgl"
           }
          ],
          "histogram": [
           {
            "marker": {
             "pattern": {
              "fillmode": "overlay",
              "size": 10,
              "solidity": 0.2
             }
            },
            "type": "histogram"
           }
          ],
          "histogram2d": [
           {
            "colorbar": {
             "outlinewidth": 0,
             "ticks": ""
            },
            "colorscale": [
             [
              0,
              "#0d0887"
             ],
             [
              0.1111111111111111,
              "#46039f"
             ],
             [
              0.2222222222222222,
              "#7201a8"
             ],
             [
              0.3333333333333333,
              "#9c179e"
             ],
             [
              0.4444444444444444,
              "#bd3786"
             ],
             [
              0.5555555555555556,
              "#d8576b"
             ],
             [
              0.6666666666666666,
              "#ed7953"
             ],
             [
              0.7777777777777778,
              "#fb9f3a"
             ],
             [
              0.8888888888888888,
              "#fdca26"
             ],
             [
              1,
              "#f0f921"
             ]
            ],
            "type": "histogram2d"
           }
          ],
          "histogram2dcontour": [
           {
            "colorbar": {
             "outlinewidth": 0,
             "ticks": ""
            },
            "colorscale": [
             [
              0,
              "#0d0887"
             ],
             [
              0.1111111111111111,
              "#46039f"
             ],
             [
              0.2222222222222222,
              "#7201a8"
             ],
             [
              0.3333333333333333,
              "#9c179e"
             ],
             [
              0.4444444444444444,
              "#bd3786"
             ],
             [
              0.5555555555555556,
              "#d8576b"
             ],
             [
              0.6666666666666666,
              "#ed7953"
             ],
             [
              0.7777777777777778,
              "#fb9f3a"
             ],
             [
              0.8888888888888888,
              "#fdca26"
             ],
             [
              1,
              "#f0f921"
             ]
            ],
            "type": "histogram2dcontour"
           }
          ],
          "mesh3d": [
           {
            "colorbar": {
             "outlinewidth": 0,
             "ticks": ""
            },
            "type": "mesh3d"
           }
          ],
          "parcoords": [
           {
            "line": {
             "colorbar": {
              "outlinewidth": 0,
              "ticks": ""
             }
            },
            "type": "parcoords"
           }
          ],
          "pie": [
           {
            "automargin": true,
            "type": "pie"
           }
          ],
          "scatter": [
           {
            "fillpattern": {
             "fillmode": "overlay",
             "size": 10,
             "solidity": 0.2
            },
            "type": "scatter"
           }
          ],
          "scatter3d": [
           {
            "line": {
             "colorbar": {
              "outlinewidth": 0,
              "ticks": ""
             }
            },
            "marker": {
             "colorbar": {
              "outlinewidth": 0,
              "ticks": ""
             }
            },
            "type": "scatter3d"
           }
          ],
          "scattercarpet": [
           {
            "marker": {
             "colorbar": {
              "outlinewidth": 0,
              "ticks": ""
             }
            },
            "type": "scattercarpet"
           }
          ],
          "scattergeo": [
           {
            "marker": {
             "colorbar": {
              "outlinewidth": 0,
              "ticks": ""
             }
            },
            "type": "scattergeo"
           }
          ],
          "scattergl": [
           {
            "marker": {
             "colorbar": {
              "outlinewidth": 0,
              "ticks": ""
             }
            },
            "type": "scattergl"
           }
          ],
          "scattermapbox": [
           {
            "marker": {
             "colorbar": {
              "outlinewidth": 0,
              "ticks": ""
             }
            },
            "type": "scattermapbox"
           }
          ],
          "scatterpolar": [
           {
            "marker": {
             "colorbar": {
              "outlinewidth": 0,
              "ticks": ""
             }
            },
            "type": "scatterpolar"
           }
          ],
          "scatterpolargl": [
           {
            "marker": {
             "colorbar": {
              "outlinewidth": 0,
              "ticks": ""
             }
            },
            "type": "scatterpolargl"
           }
          ],
          "scatterternary": [
           {
            "marker": {
             "colorbar": {
              "outlinewidth": 0,
              "ticks": ""
             }
            },
            "type": "scatterternary"
           }
          ],
          "surface": [
           {
            "colorbar": {
             "outlinewidth": 0,
             "ticks": ""
            },
            "colorscale": [
             [
              0,
              "#0d0887"
             ],
             [
              0.1111111111111111,
              "#46039f"
             ],
             [
              0.2222222222222222,
              "#7201a8"
             ],
             [
              0.3333333333333333,
              "#9c179e"
             ],
             [
              0.4444444444444444,
              "#bd3786"
             ],
             [
              0.5555555555555556,
              "#d8576b"
             ],
             [
              0.6666666666666666,
              "#ed7953"
             ],
             [
              0.7777777777777778,
              "#fb9f3a"
             ],
             [
              0.8888888888888888,
              "#fdca26"
             ],
             [
              1,
              "#f0f921"
             ]
            ],
            "type": "surface"
           }
          ],
          "table": [
           {
            "cells": {
             "fill": {
              "color": "#EBF0F8"
             },
             "line": {
              "color": "white"
             }
            },
            "header": {
             "fill": {
              "color": "#C8D4E3"
             },
             "line": {
              "color": "white"
             }
            },
            "type": "table"
           }
          ]
         },
         "layout": {
          "annotationdefaults": {
           "arrowcolor": "#2a3f5f",
           "arrowhead": 0,
           "arrowwidth": 1
          },
          "autotypenumbers": "strict",
          "coloraxis": {
           "colorbar": {
            "outlinewidth": 0,
            "ticks": ""
           }
          },
          "colorscale": {
           "diverging": [
            [
             0,
             "#8e0152"
            ],
            [
             0.1,
             "#c51b7d"
            ],
            [
             0.2,
             "#de77ae"
            ],
            [
             0.3,
             "#f1b6da"
            ],
            [
             0.4,
             "#fde0ef"
            ],
            [
             0.5,
             "#f7f7f7"
            ],
            [
             0.6,
             "#e6f5d0"
            ],
            [
             0.7,
             "#b8e186"
            ],
            [
             0.8,
             "#7fbc41"
            ],
            [
             0.9,
             "#4d9221"
            ],
            [
             1,
             "#276419"
            ]
           ],
           "sequential": [
            [
             0,
             "#0d0887"
            ],
            [
             0.1111111111111111,
             "#46039f"
            ],
            [
             0.2222222222222222,
             "#7201a8"
            ],
            [
             0.3333333333333333,
             "#9c179e"
            ],
            [
             0.4444444444444444,
             "#bd3786"
            ],
            [
             0.5555555555555556,
             "#d8576b"
            ],
            [
             0.6666666666666666,
             "#ed7953"
            ],
            [
             0.7777777777777778,
             "#fb9f3a"
            ],
            [
             0.8888888888888888,
             "#fdca26"
            ],
            [
             1,
             "#f0f921"
            ]
           ],
           "sequentialminus": [
            [
             0,
             "#0d0887"
            ],
            [
             0.1111111111111111,
             "#46039f"
            ],
            [
             0.2222222222222222,
             "#7201a8"
            ],
            [
             0.3333333333333333,
             "#9c179e"
            ],
            [
             0.4444444444444444,
             "#bd3786"
            ],
            [
             0.5555555555555556,
             "#d8576b"
            ],
            [
             0.6666666666666666,
             "#ed7953"
            ],
            [
             0.7777777777777778,
             "#fb9f3a"
            ],
            [
             0.8888888888888888,
             "#fdca26"
            ],
            [
             1,
             "#f0f921"
            ]
           ]
          },
          "colorway": [
           "#636efa",
           "#EF553B",
           "#00cc96",
           "#ab63fa",
           "#FFA15A",
           "#19d3f3",
           "#FF6692",
           "#B6E880",
           "#FF97FF",
           "#FECB52"
          ],
          "font": {
           "color": "#2a3f5f"
          },
          "geo": {
           "bgcolor": "white",
           "lakecolor": "white",
           "landcolor": "#E5ECF6",
           "showlakes": true,
           "showland": true,
           "subunitcolor": "white"
          },
          "hoverlabel": {
           "align": "left"
          },
          "hovermode": "closest",
          "mapbox": {
           "style": "light"
          },
          "paper_bgcolor": "white",
          "plot_bgcolor": "#E5ECF6",
          "polar": {
           "angularaxis": {
            "gridcolor": "white",
            "linecolor": "white",
            "ticks": ""
           },
           "bgcolor": "#E5ECF6",
           "radialaxis": {
            "gridcolor": "white",
            "linecolor": "white",
            "ticks": ""
           }
          },
          "scene": {
           "xaxis": {
            "backgroundcolor": "#E5ECF6",
            "gridcolor": "white",
            "gridwidth": 2,
            "linecolor": "white",
            "showbackground": true,
            "ticks": "",
            "zerolinecolor": "white"
           },
           "yaxis": {
            "backgroundcolor": "#E5ECF6",
            "gridcolor": "white",
            "gridwidth": 2,
            "linecolor": "white",
            "showbackground": true,
            "ticks": "",
            "zerolinecolor": "white"
           },
           "zaxis": {
            "backgroundcolor": "#E5ECF6",
            "gridcolor": "white",
            "gridwidth": 2,
            "linecolor": "white",
            "showbackground": true,
            "ticks": "",
            "zerolinecolor": "white"
           }
          },
          "shapedefaults": {
           "line": {
            "color": "#2a3f5f"
           }
          },
          "ternary": {
           "aaxis": {
            "gridcolor": "white",
            "linecolor": "white",
            "ticks": ""
           },
           "baxis": {
            "gridcolor": "white",
            "linecolor": "white",
            "ticks": ""
           },
           "bgcolor": "#E5ECF6",
           "caxis": {
            "gridcolor": "white",
            "linecolor": "white",
            "ticks": ""
           }
          },
          "title": {
           "x": 0.05
          },
          "xaxis": {
           "automargin": true,
           "gridcolor": "white",
           "linecolor": "white",
           "ticks": "",
           "title": {
            "standoff": 15
           },
           "zerolinecolor": "white",
           "zerolinewidth": 2
          },
          "yaxis": {
           "automargin": true,
           "gridcolor": "white",
           "linecolor": "white",
           "ticks": "",
           "title": {
            "standoff": 15
           },
           "zerolinecolor": "white",
           "zerolinewidth": 2
          }
         }
        },
        "width": 1200
       }
      }
     },
     "metadata": {},
     "output_type": "display_data"
    }
   ],
   "source": [
    "plot_contours(\n",
    "    eval_rec_plat_glob,\n",
    "    'user_bin',\n",
    "    'Window',\n",
    "    'experiment',\n",
    "    'recall',\n",
    "    'eval_rec_plat_glob',\n",
    "    'Recall | Platform Time'\n",
    ")"
   ]
  },
  {
   "cell_type": "code",
   "execution_count": 29,
   "metadata": {},
   "outputs": [],
   "source": [
    "\n",
    "eval_auc_sess.to_csv('lstm_plots/metric_graphs/granular/eval_auc_sess.csv')\n",
    "test_auc_sess.to_csv('lstm_plots/metric_graphs/granular/test_auc_sess.csv')\n",
    "eval_auc_plat.to_csv('lstm_plots/metric_graphs/granular/eval_auc_plat.csv')\n",
    "test_auc_plat.to_csv('lstm_plots/metric_graphs/granular/test_auc_plat.csv')"
   ]
  },
  {
   "cell_type": "code",
   "execution_count": 15,
   "metadata": {},
   "outputs": [
    {
     "data": {
      "application/vnd.plotly.v1+json": {
       "config": {
        "plotlyServerURL": "https://plot.ly"
       },
       "data": [
        {
         "alphahull": 0.5,
         "colorscale": [
          [
           0,
           "rgb(3, 35, 51)"
          ],
          [
           0.09090909090909091,
           "rgb(13, 48, 100)"
          ],
          [
           0.18181818181818182,
           "rgb(53, 50, 155)"
          ],
          [
           0.2727272727272727,
           "rgb(93, 62, 153)"
          ],
          [
           0.36363636363636365,
           "rgb(126, 77, 143)"
          ],
          [
           0.45454545454545453,
           "rgb(158, 89, 135)"
          ],
          [
           0.5454545454545454,
           "rgb(193, 100, 121)"
          ],
          [
           0.6363636363636364,
           "rgb(225, 113, 97)"
          ],
          [
           0.7272727272727273,
           "rgb(246, 139, 69)"
          ],
          [
           0.8181818181818182,
           "rgb(251, 173, 60)"
          ],
          [
           0.9090909090909091,
           "rgb(246, 211, 70)"
          ],
          [
           1,
           "rgb(231, 250, 90)"
          ]
         ],
         "i": [
          123,
          123,
          123,
          139,
          144,
          141,
          132,
          130,
          92,
          94,
          114,
          114,
          130,
          114,
          94,
          83,
          120,
          123,
          110,
          112,
          110,
          110,
          94,
          110,
          114,
          112,
          104,
          99,
          99,
          83,
          99,
          84,
          48,
          31,
          48,
          36,
          36,
          20,
          5,
          20,
          31,
          20,
          16,
          20,
          26,
          44,
          26,
          11,
          36,
          26,
          26,
          21,
          44,
          56,
          56,
          36,
          73,
          73,
          56,
          73,
          67,
          56,
          67,
          71,
          48,
          64,
          83,
          67,
          79,
          64,
          61,
          61
         ],
         "intensity": [
          0.5289144969151792,
          0.5400719085852196,
          0.4825224078468406,
          0.5170203097740361,
          0.5395535084106089,
          0.4947617955350554,
          0.5347031208552783,
          0.5348055110564357,
          0.5216196138636388,
          0.530882504677251,
          0.5383290072057509,
          0.5277087660016014,
          0.5212404310211466,
          0.5374838955787055,
          0.541695741024162,
          0.5269078956539409,
          0.5401540784278778,
          0.46931615963383405,
          0.5196007264448009,
          0.5410040857338949,
          0.4674580479531968,
          0.5379796722508171,
          0.5381144755112491,
          0.48371193414819097,
          0.532298840646031,
          0.5373030862195081,
          0.49677120611949727,
          0.517229939774485,
          0.5360127090592154,
          0.50827788428381,
          0.5256720377904315,
          0.5453467234608381,
          0.4703874828179228,
          0.5176323127547319,
          0.5347482604329427,
          0.4715529723989653,
          0.539396861675574,
          0.5393378831732564,
          0.476900611538874,
          0.5391615807214742,
          0.5348278995903778,
          0.4993473070311044,
          0.5128286644953766,
          0.5335398756221095,
          0.5030883799737833,
          0.5252970192174594,
          0.5416897499965423,
          0.47104271106495077,
          0.5158406211103654,
          0.5360150736245262,
          0.4641837092189829,
          0.5334623936258011,
          0.5333486791792764,
          0.47025999578127897,
          0.5299072308436762,
          0.5338817661770022,
          0.4921398744911577,
          0.5125881163598933,
          0.5347629631603568,
          0.4933312475868592,
          0.555200949117213,
          0.5605555025820805,
          0.5003233601052066,
          0.5257276487703842,
          0.5544098096383995,
          0.494452358907263,
          0.5578364292695205,
          0.5577790204084937,
          0.48947729379452115,
          0.5603634277625436,
          0.5446267401211867,
          0.5145605653923567,
          0.5317661654087525,
          0.542412758549233,
          0.5042366593288943,
          0.5460906156579974,
          0.5579245063505441,
          0.49806110352468247,
          0.5373099488827255,
          0.5522512536878664,
          0.48618516367808734,
          0.5559850995999247,
          0.5559446092821683,
          0.47476880329317134,
          0.5526517619704093,
          0.5448232224965331,
          0.4988241347032547,
          0.5335631756666687,
          0.542509908975177,
          0.5038190512708549,
          0.552590409668388,
          0.5566089658311963,
          0.4867623207905185,
          0.5454875288165626,
          0.5556535201610745,
          0.473449226092935,
          0.5597609661149514,
          0.5597360694927954,
          0.46842375385117274,
          0.5636194168020672,
          0.5384554520311656,
          0.4786366526524241,
          0.5298365477679545,
          0.536059032066256,
          0.49172254138181004,
          0.568737202680267,
          0.5647920670119712,
          0.48504056156398223,
          0.5611061021402064,
          0.570115157974623,
          0.4699517239937363,
          0.5796200347141212,
          0.5796793870755281,
          0.4642621375688115,
          0.5792089759926757,
          0.5566114491769727,
          0.4701764064911456,
          0.5435736800275275,
          0.5539773758636329,
          0.4848414434368978,
          0.6043952168558931,
          0.601373062513383,
          0.5365458550028912,
          0.5931269335149788,
          0.5862922913216343,
          0.5173901803521597,
          0.6047002088852247,
          0.604802899646623,
          0.5129458098591481,
          0.6065918784680345,
          0.5978674029568946,
          0.5287069760373013,
          0.5964939140231906,
          0.5965975181797323,
          0.5200665668353562,
          0.6178845961467184,
          0.6047632898153473,
          0.6392274943037737,
          0.5947979823532764,
          0.5927161151484105,
          0.6653694130834895,
          0.5985922766930013,
          0.5987892004280968,
          0.6622779905463232,
          0.6111549285023263,
          0.626208534248871,
          0.6776357370851148,
          0.6272187435984209,
          0.6255219628341333,
          0.6776318365489975
         ],
         "j": [
          139,
          141,
          120,
          123,
          130,
          130,
          130,
          144,
          94,
          79,
          132,
          130,
          114,
          112,
          83,
          94,
          110,
          110,
          123,
          110,
          92,
          94,
          110,
          112,
          99,
          99,
          99,
          114,
          83,
          99,
          104,
          99,
          31,
          48,
          36,
          48,
          20,
          36,
          20,
          21,
          20,
          31,
          20,
          5,
          44,
          26,
          29,
          26,
          26,
          36,
          11,
          26,
          56,
          44,
          36,
          56,
          84,
          71,
          73,
          56,
          56,
          67,
          83,
          67,
          67,
          67,
          67,
          64,
          61,
          61,
          48,
          64
         ],
         "k": [
          141,
          126,
          135,
          135,
          141,
          126,
          147,
          147,
          77,
          77,
          117,
          132,
          126,
          126,
          79,
          97,
          106,
          120,
          126,
          126,
          106,
          92,
          97,
          97,
          112,
          97,
          117,
          117,
          97,
          84,
          88,
          88,
          45,
          35,
          35,
          53,
          35,
          21,
          6,
          6,
          16,
          35,
          0,
          0,
          29,
          40,
          12,
          12,
          21,
          40,
          6,
          6,
          58,
          40,
          53,
          40,
          88,
          84,
          58,
          71,
          53,
          71,
          84,
          84,
          53,
          48,
          79,
          79,
          77,
          79,
          45,
          48
         ],
         "type": "mesh3d",
         "x": [
          30,
          30,
          30,
          30,
          30,
          30,
          30,
          30,
          30,
          30,
          30,
          30,
          30,
          30,
          30,
          35,
          35,
          35,
          35,
          35,
          35,
          35,
          35,
          35,
          35,
          35,
          35,
          35,
          35,
          35,
          40,
          40,
          40,
          40,
          40,
          40,
          40,
          40,
          40,
          40,
          40,
          40,
          40,
          40,
          40,
          45,
          45,
          45,
          45,
          45,
          45,
          45,
          45,
          45,
          45,
          45,
          45,
          45,
          45,
          45,
          50,
          50,
          50,
          50,
          50,
          50,
          50,
          50,
          50,
          50,
          50,
          50,
          50,
          50,
          50,
          60,
          60,
          60,
          60,
          60,
          60,
          60,
          60,
          60,
          60,
          60,
          60,
          60,
          60,
          60,
          70,
          70,
          70,
          70,
          70,
          70,
          70,
          70,
          70,
          70,
          70,
          70,
          70,
          70,
          70,
          90,
          90,
          90,
          90,
          90,
          90,
          90,
          90,
          90,
          90,
          90,
          90,
          90,
          90,
          90,
          120,
          120,
          120,
          120,
          120,
          120,
          120,
          120,
          120,
          120,
          120,
          120,
          120,
          120,
          120,
          180,
          180,
          180,
          180,
          180,
          180,
          180,
          180,
          180,
          180,
          180,
          180,
          180,
          180,
          180
         ],
         "y": [
          1,
          1,
          1,
          10,
          10,
          10,
          20,
          20,
          20,
          30,
          30,
          30,
          40,
          40,
          40,
          1,
          1,
          1,
          10,
          10,
          10,
          20,
          20,
          20,
          30,
          30,
          30,
          40,
          40,
          40,
          1,
          1,
          1,
          10,
          10,
          10,
          20,
          20,
          20,
          30,
          30,
          30,
          40,
          40,
          40,
          1,
          1,
          1,
          10,
          10,
          10,
          20,
          20,
          20,
          30,
          30,
          30,
          40,
          40,
          40,
          1,
          1,
          1,
          10,
          10,
          10,
          20,
          20,
          20,
          30,
          30,
          30,
          40,
          40,
          40,
          1,
          1,
          1,
          10,
          10,
          10,
          20,
          20,
          20,
          30,
          30,
          30,
          40,
          40,
          40,
          1,
          1,
          1,
          10,
          10,
          10,
          20,
          20,
          20,
          30,
          30,
          30,
          40,
          40,
          40,
          1,
          1,
          1,
          10,
          10,
          10,
          20,
          20,
          20,
          30,
          30,
          30,
          40,
          40,
          40,
          1,
          1,
          1,
          10,
          10,
          10,
          20,
          20,
          20,
          30,
          30,
          30,
          40,
          40,
          40,
          1,
          1,
          1,
          10,
          10,
          10,
          20,
          20,
          20,
          30,
          30,
          30,
          40,
          40,
          40
         ],
         "z": [
          10,
          20,
          30,
          10,
          20,
          30,
          10,
          20,
          30,
          10,
          20,
          30,
          10,
          20,
          30,
          10,
          20,
          30,
          10,
          20,
          30,
          10,
          20,
          30,
          10,
          20,
          30,
          10,
          20,
          30,
          10,
          20,
          30,
          10,
          20,
          30,
          10,
          20,
          30,
          10,
          20,
          30,
          10,
          20,
          30,
          10,
          20,
          30,
          10,
          20,
          30,
          10,
          20,
          30,
          10,
          20,
          30,
          10,
          20,
          30,
          10,
          20,
          30,
          10,
          20,
          30,
          10,
          20,
          30,
          10,
          20,
          30,
          10,
          20,
          30,
          10,
          20,
          30,
          10,
          20,
          30,
          10,
          20,
          30,
          10,
          20,
          30,
          10,
          20,
          30,
          10,
          20,
          30,
          10,
          20,
          30,
          10,
          20,
          30,
          10,
          20,
          30,
          10,
          20,
          30,
          10,
          20,
          30,
          10,
          20,
          30,
          10,
          20,
          30,
          10,
          20,
          30,
          10,
          20,
          30,
          10,
          20,
          30,
          10,
          20,
          30,
          10,
          20,
          30,
          10,
          20,
          30,
          10,
          20,
          30,
          10,
          20,
          30,
          10,
          20,
          30,
          10,
          20,
          30,
          10,
          20,
          30,
          10,
          20,
          30
         ]
        }
       ],
       "layout": {
        "height": 500,
        "scene": {
         "xaxis": {
          "title": {
           "text": "session_bin"
          }
         },
         "yaxis": {
          "title": {
           "text": "Window"
          }
         },
         "zaxis": {
          "title": {
           "text": "experiment"
          }
         }
        },
        "template": {
         "data": {
          "bar": [
           {
            "error_x": {
             "color": "#2a3f5f"
            },
            "error_y": {
             "color": "#2a3f5f"
            },
            "marker": {
             "line": {
              "color": "#E5ECF6",
              "width": 0.5
             },
             "pattern": {
              "fillmode": "overlay",
              "size": 10,
              "solidity": 0.2
             }
            },
            "type": "bar"
           }
          ],
          "barpolar": [
           {
            "marker": {
             "line": {
              "color": "#E5ECF6",
              "width": 0.5
             },
             "pattern": {
              "fillmode": "overlay",
              "size": 10,
              "solidity": 0.2
             }
            },
            "type": "barpolar"
           }
          ],
          "carpet": [
           {
            "aaxis": {
             "endlinecolor": "#2a3f5f",
             "gridcolor": "white",
             "linecolor": "white",
             "minorgridcolor": "white",
             "startlinecolor": "#2a3f5f"
            },
            "baxis": {
             "endlinecolor": "#2a3f5f",
             "gridcolor": "white",
             "linecolor": "white",
             "minorgridcolor": "white",
             "startlinecolor": "#2a3f5f"
            },
            "type": "carpet"
           }
          ],
          "choropleth": [
           {
            "colorbar": {
             "outlinewidth": 0,
             "ticks": ""
            },
            "type": "choropleth"
           }
          ],
          "contour": [
           {
            "colorbar": {
             "outlinewidth": 0,
             "ticks": ""
            },
            "colorscale": [
             [
              0,
              "#0d0887"
             ],
             [
              0.1111111111111111,
              "#46039f"
             ],
             [
              0.2222222222222222,
              "#7201a8"
             ],
             [
              0.3333333333333333,
              "#9c179e"
             ],
             [
              0.4444444444444444,
              "#bd3786"
             ],
             [
              0.5555555555555556,
              "#d8576b"
             ],
             [
              0.6666666666666666,
              "#ed7953"
             ],
             [
              0.7777777777777778,
              "#fb9f3a"
             ],
             [
              0.8888888888888888,
              "#fdca26"
             ],
             [
              1,
              "#f0f921"
             ]
            ],
            "type": "contour"
           }
          ],
          "contourcarpet": [
           {
            "colorbar": {
             "outlinewidth": 0,
             "ticks": ""
            },
            "type": "contourcarpet"
           }
          ],
          "heatmap": [
           {
            "colorbar": {
             "outlinewidth": 0,
             "ticks": ""
            },
            "colorscale": [
             [
              0,
              "#0d0887"
             ],
             [
              0.1111111111111111,
              "#46039f"
             ],
             [
              0.2222222222222222,
              "#7201a8"
             ],
             [
              0.3333333333333333,
              "#9c179e"
             ],
             [
              0.4444444444444444,
              "#bd3786"
             ],
             [
              0.5555555555555556,
              "#d8576b"
             ],
             [
              0.6666666666666666,
              "#ed7953"
             ],
             [
              0.7777777777777778,
              "#fb9f3a"
             ],
             [
              0.8888888888888888,
              "#fdca26"
             ],
             [
              1,
              "#f0f921"
             ]
            ],
            "type": "heatmap"
           }
          ],
          "heatmapgl": [
           {
            "colorbar": {
             "outlinewidth": 0,
             "ticks": ""
            },
            "colorscale": [
             [
              0,
              "#0d0887"
             ],
             [
              0.1111111111111111,
              "#46039f"
             ],
             [
              0.2222222222222222,
              "#7201a8"
             ],
             [
              0.3333333333333333,
              "#9c179e"
             ],
             [
              0.4444444444444444,
              "#bd3786"
             ],
             [
              0.5555555555555556,
              "#d8576b"
             ],
             [
              0.6666666666666666,
              "#ed7953"
             ],
             [
              0.7777777777777778,
              "#fb9f3a"
             ],
             [
              0.8888888888888888,
              "#fdca26"
             ],
             [
              1,
              "#f0f921"
             ]
            ],
            "type": "heatmapgl"
           }
          ],
          "histogram": [
           {
            "marker": {
             "pattern": {
              "fillmode": "overlay",
              "size": 10,
              "solidity": 0.2
             }
            },
            "type": "histogram"
           }
          ],
          "histogram2d": [
           {
            "colorbar": {
             "outlinewidth": 0,
             "ticks": ""
            },
            "colorscale": [
             [
              0,
              "#0d0887"
             ],
             [
              0.1111111111111111,
              "#46039f"
             ],
             [
              0.2222222222222222,
              "#7201a8"
             ],
             [
              0.3333333333333333,
              "#9c179e"
             ],
             [
              0.4444444444444444,
              "#bd3786"
             ],
             [
              0.5555555555555556,
              "#d8576b"
             ],
             [
              0.6666666666666666,
              "#ed7953"
             ],
             [
              0.7777777777777778,
              "#fb9f3a"
             ],
             [
              0.8888888888888888,
              "#fdca26"
             ],
             [
              1,
              "#f0f921"
             ]
            ],
            "type": "histogram2d"
           }
          ],
          "histogram2dcontour": [
           {
            "colorbar": {
             "outlinewidth": 0,
             "ticks": ""
            },
            "colorscale": [
             [
              0,
              "#0d0887"
             ],
             [
              0.1111111111111111,
              "#46039f"
             ],
             [
              0.2222222222222222,
              "#7201a8"
             ],
             [
              0.3333333333333333,
              "#9c179e"
             ],
             [
              0.4444444444444444,
              "#bd3786"
             ],
             [
              0.5555555555555556,
              "#d8576b"
             ],
             [
              0.6666666666666666,
              "#ed7953"
             ],
             [
              0.7777777777777778,
              "#fb9f3a"
             ],
             [
              0.8888888888888888,
              "#fdca26"
             ],
             [
              1,
              "#f0f921"
             ]
            ],
            "type": "histogram2dcontour"
           }
          ],
          "mesh3d": [
           {
            "colorbar": {
             "outlinewidth": 0,
             "ticks": ""
            },
            "type": "mesh3d"
           }
          ],
          "parcoords": [
           {
            "line": {
             "colorbar": {
              "outlinewidth": 0,
              "ticks": ""
             }
            },
            "type": "parcoords"
           }
          ],
          "pie": [
           {
            "automargin": true,
            "type": "pie"
           }
          ],
          "scatter": [
           {
            "fillpattern": {
             "fillmode": "overlay",
             "size": 10,
             "solidity": 0.2
            },
            "type": "scatter"
           }
          ],
          "scatter3d": [
           {
            "line": {
             "colorbar": {
              "outlinewidth": 0,
              "ticks": ""
             }
            },
            "marker": {
             "colorbar": {
              "outlinewidth": 0,
              "ticks": ""
             }
            },
            "type": "scatter3d"
           }
          ],
          "scattercarpet": [
           {
            "marker": {
             "colorbar": {
              "outlinewidth": 0,
              "ticks": ""
             }
            },
            "type": "scattercarpet"
           }
          ],
          "scattergeo": [
           {
            "marker": {
             "colorbar": {
              "outlinewidth": 0,
              "ticks": ""
             }
            },
            "type": "scattergeo"
           }
          ],
          "scattergl": [
           {
            "marker": {
             "colorbar": {
              "outlinewidth": 0,
              "ticks": ""
             }
            },
            "type": "scattergl"
           }
          ],
          "scattermapbox": [
           {
            "marker": {
             "colorbar": {
              "outlinewidth": 0,
              "ticks": ""
             }
            },
            "type": "scattermapbox"
           }
          ],
          "scatterpolar": [
           {
            "marker": {
             "colorbar": {
              "outlinewidth": 0,
              "ticks": ""
             }
            },
            "type": "scatterpolar"
           }
          ],
          "scatterpolargl": [
           {
            "marker": {
             "colorbar": {
              "outlinewidth": 0,
              "ticks": ""
             }
            },
            "type": "scatterpolargl"
           }
          ],
          "scatterternary": [
           {
            "marker": {
             "colorbar": {
              "outlinewidth": 0,
              "ticks": ""
             }
            },
            "type": "scatterternary"
           }
          ],
          "surface": [
           {
            "colorbar": {
             "outlinewidth": 0,
             "ticks": ""
            },
            "colorscale": [
             [
              0,
              "#0d0887"
             ],
             [
              0.1111111111111111,
              "#46039f"
             ],
             [
              0.2222222222222222,
              "#7201a8"
             ],
             [
              0.3333333333333333,
              "#9c179e"
             ],
             [
              0.4444444444444444,
              "#bd3786"
             ],
             [
              0.5555555555555556,
              "#d8576b"
             ],
             [
              0.6666666666666666,
              "#ed7953"
             ],
             [
              0.7777777777777778,
              "#fb9f3a"
             ],
             [
              0.8888888888888888,
              "#fdca26"
             ],
             [
              1,
              "#f0f921"
             ]
            ],
            "type": "surface"
           }
          ],
          "table": [
           {
            "cells": {
             "fill": {
              "color": "#EBF0F8"
             },
             "line": {
              "color": "white"
             }
            },
            "header": {
             "fill": {
              "color": "#C8D4E3"
             },
             "line": {
              "color": "white"
             }
            },
            "type": "table"
           }
          ]
         },
         "layout": {
          "annotationdefaults": {
           "arrowcolor": "#2a3f5f",
           "arrowhead": 0,
           "arrowwidth": 1
          },
          "autotypenumbers": "strict",
          "coloraxis": {
           "colorbar": {
            "outlinewidth": 0,
            "ticks": ""
           }
          },
          "colorscale": {
           "diverging": [
            [
             0,
             "#8e0152"
            ],
            [
             0.1,
             "#c51b7d"
            ],
            [
             0.2,
             "#de77ae"
            ],
            [
             0.3,
             "#f1b6da"
            ],
            [
             0.4,
             "#fde0ef"
            ],
            [
             0.5,
             "#f7f7f7"
            ],
            [
             0.6,
             "#e6f5d0"
            ],
            [
             0.7,
             "#b8e186"
            ],
            [
             0.8,
             "#7fbc41"
            ],
            [
             0.9,
             "#4d9221"
            ],
            [
             1,
             "#276419"
            ]
           ],
           "sequential": [
            [
             0,
             "#0d0887"
            ],
            [
             0.1111111111111111,
             "#46039f"
            ],
            [
             0.2222222222222222,
             "#7201a8"
            ],
            [
             0.3333333333333333,
             "#9c179e"
            ],
            [
             0.4444444444444444,
             "#bd3786"
            ],
            [
             0.5555555555555556,
             "#d8576b"
            ],
            [
             0.6666666666666666,
             "#ed7953"
            ],
            [
             0.7777777777777778,
             "#fb9f3a"
            ],
            [
             0.8888888888888888,
             "#fdca26"
            ],
            [
             1,
             "#f0f921"
            ]
           ],
           "sequentialminus": [
            [
             0,
             "#0d0887"
            ],
            [
             0.1111111111111111,
             "#46039f"
            ],
            [
             0.2222222222222222,
             "#7201a8"
            ],
            [
             0.3333333333333333,
             "#9c179e"
            ],
            [
             0.4444444444444444,
             "#bd3786"
            ],
            [
             0.5555555555555556,
             "#d8576b"
            ],
            [
             0.6666666666666666,
             "#ed7953"
            ],
            [
             0.7777777777777778,
             "#fb9f3a"
            ],
            [
             0.8888888888888888,
             "#fdca26"
            ],
            [
             1,
             "#f0f921"
            ]
           ]
          },
          "colorway": [
           "#636efa",
           "#EF553B",
           "#00cc96",
           "#ab63fa",
           "#FFA15A",
           "#19d3f3",
           "#FF6692",
           "#B6E880",
           "#FF97FF",
           "#FECB52"
          ],
          "font": {
           "color": "#2a3f5f"
          },
          "geo": {
           "bgcolor": "white",
           "lakecolor": "white",
           "landcolor": "#E5ECF6",
           "showlakes": true,
           "showland": true,
           "subunitcolor": "white"
          },
          "hoverlabel": {
           "align": "left"
          },
          "hovermode": "closest",
          "mapbox": {
           "style": "light"
          },
          "paper_bgcolor": "white",
          "plot_bgcolor": "#E5ECF6",
          "polar": {
           "angularaxis": {
            "gridcolor": "white",
            "linecolor": "white",
            "ticks": ""
           },
           "bgcolor": "#E5ECF6",
           "radialaxis": {
            "gridcolor": "white",
            "linecolor": "white",
            "ticks": ""
           }
          },
          "scene": {
           "xaxis": {
            "backgroundcolor": "#E5ECF6",
            "gridcolor": "white",
            "gridwidth": 2,
            "linecolor": "white",
            "showbackground": true,
            "ticks": "",
            "zerolinecolor": "white"
           },
           "yaxis": {
            "backgroundcolor": "#E5ECF6",
            "gridcolor": "white",
            "gridwidth": 2,
            "linecolor": "white",
            "showbackground": true,
            "ticks": "",
            "zerolinecolor": "white"
           },
           "zaxis": {
            "backgroundcolor": "#E5ECF6",
            "gridcolor": "white",
            "gridwidth": 2,
            "linecolor": "white",
            "showbackground": true,
            "ticks": "",
            "zerolinecolor": "white"
           }
          },
          "shapedefaults": {
           "line": {
            "color": "#2a3f5f"
           }
          },
          "ternary": {
           "aaxis": {
            "gridcolor": "white",
            "linecolor": "white",
            "ticks": ""
           },
           "baxis": {
            "gridcolor": "white",
            "linecolor": "white",
            "ticks": ""
           },
           "bgcolor": "#E5ECF6",
           "caxis": {
            "gridcolor": "white",
            "linecolor": "white",
            "ticks": ""
           }
          },
          "title": {
           "x": 0.05
          },
          "xaxis": {
           "automargin": true,
           "gridcolor": "white",
           "linecolor": "white",
           "ticks": "",
           "title": {
            "standoff": 15
           },
           "zerolinecolor": "white",
           "zerolinewidth": 2
          },
          "yaxis": {
           "automargin": true,
           "gridcolor": "white",
           "linecolor": "white",
           "ticks": "",
           "title": {
            "standoff": 15
           },
           "zerolinecolor": "white",
           "zerolinewidth": 2
          }
         }
        },
        "title": {
         "text": "Evaluation AUROC | Session Size"
        },
        "width": 800
       }
      }
     },
     "metadata": {},
     "output_type": "display_data"
    }
   ],
   "source": [
    "# plot_contours(\n",
    "#     eval_auc_sess,\n",
    "#     'session_bin',\n",
    "#     'Window',\n",
    "#     'experiment',\n",
    "#     'auroc',\n",
    "#     'eval_auroc_sess',\n",
    "#    'Evaluation AUROC | Session Size'\n",
    "# )\n"
   ]
  },
  {
   "cell_type": "code",
   "execution_count": 16,
   "metadata": {},
   "outputs": [
    {
     "data": {
      "application/vnd.plotly.v1+json": {
       "config": {
        "plotlyServerURL": "https://plot.ly"
       },
       "data": [
        {
         "alphahull": 0.5,
         "colorscale": [
          [
           0,
           "rgb(3, 35, 51)"
          ],
          [
           0.09090909090909091,
           "rgb(13, 48, 100)"
          ],
          [
           0.18181818181818182,
           "rgb(53, 50, 155)"
          ],
          [
           0.2727272727272727,
           "rgb(93, 62, 153)"
          ],
          [
           0.36363636363636365,
           "rgb(126, 77, 143)"
          ],
          [
           0.45454545454545453,
           "rgb(158, 89, 135)"
          ],
          [
           0.5454545454545454,
           "rgb(193, 100, 121)"
          ],
          [
           0.6363636363636364,
           "rgb(225, 113, 97)"
          ],
          [
           0.7272727272727273,
           "rgb(246, 139, 69)"
          ],
          [
           0.8181818181818182,
           "rgb(251, 173, 60)"
          ],
          [
           0.9090909090909091,
           "rgb(246, 211, 70)"
          ],
          [
           1,
           "rgb(231, 250, 90)"
          ]
         ],
         "i": [
          123,
          123,
          123,
          139,
          144,
          141,
          132,
          130,
          92,
          94,
          114,
          114,
          130,
          114,
          94,
          83,
          120,
          123,
          110,
          112,
          110,
          110,
          94,
          110,
          114,
          112,
          104,
          99,
          99,
          83,
          99,
          84,
          48,
          31,
          48,
          36,
          36,
          20,
          5,
          20,
          31,
          20,
          16,
          20,
          26,
          44,
          26,
          11,
          36,
          26,
          26,
          21,
          44,
          56,
          56,
          36,
          73,
          73,
          56,
          73,
          67,
          56,
          67,
          71,
          48,
          64,
          83,
          67,
          79,
          64,
          61,
          61
         ],
         "intensity": [
          0.5319371757025564,
          0.5498821939854872,
          0.48006422176022046,
          0.5188538741893286,
          0.5441681737548241,
          0.4942919761837628,
          0.542547689649578,
          0.5425960353225519,
          0.5209322663829818,
          0.5296414805060476,
          0.5460661593340622,
          0.525775336890093,
          0.5276607443708988,
          0.5443510431986045,
          0.5317911869958907,
          0.5239130080161007,
          0.5386887961357525,
          0.4871593735963788,
          0.5162201706453333,
          0.5369995585927191,
          0.4879197865842818,
          0.5413036475165723,
          0.5415976742165753,
          0.5022754745016919,
          0.5276055555574485,
          0.5385816649958437,
          0.5161197361881055,
          0.5167703373288954,
          0.5377391536564696,
          0.5346299428441765,
          0.5492811276573618,
          0.5567940593159443,
          0.49613829324343695,
          0.5308410930726203,
          0.5569582769089532,
          0.49018774097223156,
          0.5614567356318124,
          0.5612662768807978,
          0.49932310992156803,
          0.552802367059329,
          0.5526152042002732,
          0.521244850812065,
          0.5338699403164363,
          0.5509100216093812,
          0.5293525053343838,
          0.532691328711213,
          0.5439968456804682,
          0.498293996529464,
          0.5229090742451428,
          0.5442692095635356,
          0.48726800274020377,
          0.5484429827450302,
          0.5486585133027595,
          0.49877555870746376,
          0.5403426417524336,
          0.535848804175464,
          0.5194542715957434,
          0.5075753091916533,
          0.533402774484908,
          0.5228435808630406,
          0.539860607251928,
          0.5437434133825662,
          0.5096497623501195,
          0.5245602592042415,
          0.54740999183693,
          0.4972556593141712,
          0.548115715017098,
          0.5480737822921633,
          0.49548713694061464,
          0.5471555940637612,
          0.5341736658637602,
          0.5247957781029471,
          0.5265154647442788,
          0.5320667029121874,
          0.5125774759480366,
          0.5697160223724478,
          0.5767411682805674,
          0.51184893782987,
          0.5454831072702332,
          0.5759212178479124,
          0.5005237160743063,
          0.5744744293227381,
          0.5744501531278159,
          0.4926186458473507,
          0.5780169940532904,
          0.5595858857330016,
          0.5097423987831348,
          0.5592780523102141,
          0.5572261162207021,
          0.5005600795882045,
          0.5470771018358607,
          0.5550124090072995,
          0.5047614433502563,
          0.5455871197474849,
          0.5576594183202486,
          0.48520351442001697,
          0.5588173438193601,
          0.5589198309313843,
          0.4793880683435833,
          0.5566519190530128,
          0.5369466268934933,
          0.48810421686176253,
          0.5199851946864339,
          0.5355991128954958,
          0.500614641972738,
          0.5876575708406047,
          0.5880267186620344,
          0.5065835205319619,
          0.5747017145746041,
          0.5821059308843605,
          0.4855157592034124,
          0.5832931478736977,
          0.5831013463995086,
          0.477624069891594,
          0.5881650605150639,
          0.5682473620725551,
          0.48785526664072726,
          0.5718759006110886,
          0.5662013868005037,
          0.48782173483866964,
          0.6104992486436943,
          0.6055604992777667,
          0.5372554687474022,
          0.6015736597441143,
          0.6022731028610631,
          0.5203444240773283,
          0.5936465971154988,
          0.5934967011114068,
          0.5167354020222615,
          0.6101348735626692,
          0.6088037153461472,
          0.5315524954164732,
          0.6221315267096099,
          0.6071549388229883,
          0.5210877960588581,
          0.6238861536466395,
          0.6173747195603402,
          0.6534028411797037,
          0.6143121980827909,
          0.6037853853808395,
          0.6957495001352855,
          0.6235528355411756,
          0.6235702696606457,
          0.6669926563984284,
          0.6304355269096695,
          0.6331222975073459,
          0.685174689491905,
          0.6517246973675919,
          0.6315239293543536,
          0.6905565859923365
         ],
         "j": [
          139,
          141,
          120,
          123,
          130,
          130,
          130,
          144,
          94,
          79,
          132,
          130,
          114,
          112,
          83,
          94,
          110,
          110,
          123,
          110,
          92,
          94,
          110,
          112,
          99,
          99,
          99,
          114,
          83,
          99,
          104,
          99,
          31,
          48,
          36,
          48,
          20,
          36,
          20,
          21,
          20,
          31,
          20,
          5,
          44,
          26,
          29,
          26,
          26,
          36,
          11,
          26,
          56,
          44,
          36,
          56,
          84,
          71,
          73,
          56,
          56,
          67,
          83,
          67,
          67,
          67,
          67,
          64,
          61,
          61,
          48,
          64
         ],
         "k": [
          141,
          126,
          135,
          135,
          141,
          126,
          147,
          147,
          77,
          77,
          117,
          132,
          126,
          126,
          79,
          97,
          106,
          120,
          126,
          126,
          106,
          92,
          97,
          97,
          112,
          97,
          117,
          117,
          97,
          84,
          88,
          88,
          45,
          35,
          35,
          53,
          35,
          21,
          6,
          6,
          16,
          35,
          0,
          0,
          29,
          40,
          12,
          12,
          21,
          40,
          6,
          6,
          58,
          40,
          53,
          40,
          88,
          84,
          58,
          71,
          53,
          71,
          84,
          84,
          53,
          48,
          79,
          79,
          77,
          79,
          45,
          48
         ],
         "type": "mesh3d",
         "x": [
          30,
          30,
          30,
          30,
          30,
          30,
          30,
          30,
          30,
          30,
          30,
          30,
          30,
          30,
          30,
          35,
          35,
          35,
          35,
          35,
          35,
          35,
          35,
          35,
          35,
          35,
          35,
          35,
          35,
          35,
          40,
          40,
          40,
          40,
          40,
          40,
          40,
          40,
          40,
          40,
          40,
          40,
          40,
          40,
          40,
          45,
          45,
          45,
          45,
          45,
          45,
          45,
          45,
          45,
          45,
          45,
          45,
          45,
          45,
          45,
          50,
          50,
          50,
          50,
          50,
          50,
          50,
          50,
          50,
          50,
          50,
          50,
          50,
          50,
          50,
          60,
          60,
          60,
          60,
          60,
          60,
          60,
          60,
          60,
          60,
          60,
          60,
          60,
          60,
          60,
          70,
          70,
          70,
          70,
          70,
          70,
          70,
          70,
          70,
          70,
          70,
          70,
          70,
          70,
          70,
          90,
          90,
          90,
          90,
          90,
          90,
          90,
          90,
          90,
          90,
          90,
          90,
          90,
          90,
          90,
          120,
          120,
          120,
          120,
          120,
          120,
          120,
          120,
          120,
          120,
          120,
          120,
          120,
          120,
          120,
          180,
          180,
          180,
          180,
          180,
          180,
          180,
          180,
          180,
          180,
          180,
          180,
          180,
          180,
          180
         ],
         "y": [
          1,
          1,
          1,
          10,
          10,
          10,
          20,
          20,
          20,
          30,
          30,
          30,
          40,
          40,
          40,
          1,
          1,
          1,
          10,
          10,
          10,
          20,
          20,
          20,
          30,
          30,
          30,
          40,
          40,
          40,
          1,
          1,
          1,
          10,
          10,
          10,
          20,
          20,
          20,
          30,
          30,
          30,
          40,
          40,
          40,
          1,
          1,
          1,
          10,
          10,
          10,
          20,
          20,
          20,
          30,
          30,
          30,
          40,
          40,
          40,
          1,
          1,
          1,
          10,
          10,
          10,
          20,
          20,
          20,
          30,
          30,
          30,
          40,
          40,
          40,
          1,
          1,
          1,
          10,
          10,
          10,
          20,
          20,
          20,
          30,
          30,
          30,
          40,
          40,
          40,
          1,
          1,
          1,
          10,
          10,
          10,
          20,
          20,
          20,
          30,
          30,
          30,
          40,
          40,
          40,
          1,
          1,
          1,
          10,
          10,
          10,
          20,
          20,
          20,
          30,
          30,
          30,
          40,
          40,
          40,
          1,
          1,
          1,
          10,
          10,
          10,
          20,
          20,
          20,
          30,
          30,
          30,
          40,
          40,
          40,
          1,
          1,
          1,
          10,
          10,
          10,
          20,
          20,
          20,
          30,
          30,
          30,
          40,
          40,
          40
         ],
         "z": [
          10,
          20,
          30,
          10,
          20,
          30,
          10,
          20,
          30,
          10,
          20,
          30,
          10,
          20,
          30,
          10,
          20,
          30,
          10,
          20,
          30,
          10,
          20,
          30,
          10,
          20,
          30,
          10,
          20,
          30,
          10,
          20,
          30,
          10,
          20,
          30,
          10,
          20,
          30,
          10,
          20,
          30,
          10,
          20,
          30,
          10,
          20,
          30,
          10,
          20,
          30,
          10,
          20,
          30,
          10,
          20,
          30,
          10,
          20,
          30,
          10,
          20,
          30,
          10,
          20,
          30,
          10,
          20,
          30,
          10,
          20,
          30,
          10,
          20,
          30,
          10,
          20,
          30,
          10,
          20,
          30,
          10,
          20,
          30,
          10,
          20,
          30,
          10,
          20,
          30,
          10,
          20,
          30,
          10,
          20,
          30,
          10,
          20,
          30,
          10,
          20,
          30,
          10,
          20,
          30,
          10,
          20,
          30,
          10,
          20,
          30,
          10,
          20,
          30,
          10,
          20,
          30,
          10,
          20,
          30,
          10,
          20,
          30,
          10,
          20,
          30,
          10,
          20,
          30,
          10,
          20,
          30,
          10,
          20,
          30,
          10,
          20,
          30,
          10,
          20,
          30,
          10,
          20,
          30,
          10,
          20,
          30,
          10,
          20,
          30
         ]
        }
       ],
       "layout": {
        "height": 500,
        "scene": {
         "xaxis": {
          "title": {
           "text": "session_bin"
          }
         },
         "yaxis": {
          "title": {
           "text": "Window"
          }
         },
         "zaxis": {
          "title": {
           "text": "experiment"
          }
         }
        },
        "template": {
         "data": {
          "bar": [
           {
            "error_x": {
             "color": "#2a3f5f"
            },
            "error_y": {
             "color": "#2a3f5f"
            },
            "marker": {
             "line": {
              "color": "#E5ECF6",
              "width": 0.5
             },
             "pattern": {
              "fillmode": "overlay",
              "size": 10,
              "solidity": 0.2
             }
            },
            "type": "bar"
           }
          ],
          "barpolar": [
           {
            "marker": {
             "line": {
              "color": "#E5ECF6",
              "width": 0.5
             },
             "pattern": {
              "fillmode": "overlay",
              "size": 10,
              "solidity": 0.2
             }
            },
            "type": "barpolar"
           }
          ],
          "carpet": [
           {
            "aaxis": {
             "endlinecolor": "#2a3f5f",
             "gridcolor": "white",
             "linecolor": "white",
             "minorgridcolor": "white",
             "startlinecolor": "#2a3f5f"
            },
            "baxis": {
             "endlinecolor": "#2a3f5f",
             "gridcolor": "white",
             "linecolor": "white",
             "minorgridcolor": "white",
             "startlinecolor": "#2a3f5f"
            },
            "type": "carpet"
           }
          ],
          "choropleth": [
           {
            "colorbar": {
             "outlinewidth": 0,
             "ticks": ""
            },
            "type": "choropleth"
           }
          ],
          "contour": [
           {
            "colorbar": {
             "outlinewidth": 0,
             "ticks": ""
            },
            "colorscale": [
             [
              0,
              "#0d0887"
             ],
             [
              0.1111111111111111,
              "#46039f"
             ],
             [
              0.2222222222222222,
              "#7201a8"
             ],
             [
              0.3333333333333333,
              "#9c179e"
             ],
             [
              0.4444444444444444,
              "#bd3786"
             ],
             [
              0.5555555555555556,
              "#d8576b"
             ],
             [
              0.6666666666666666,
              "#ed7953"
             ],
             [
              0.7777777777777778,
              "#fb9f3a"
             ],
             [
              0.8888888888888888,
              "#fdca26"
             ],
             [
              1,
              "#f0f921"
             ]
            ],
            "type": "contour"
           }
          ],
          "contourcarpet": [
           {
            "colorbar": {
             "outlinewidth": 0,
             "ticks": ""
            },
            "type": "contourcarpet"
           }
          ],
          "heatmap": [
           {
            "colorbar": {
             "outlinewidth": 0,
             "ticks": ""
            },
            "colorscale": [
             [
              0,
              "#0d0887"
             ],
             [
              0.1111111111111111,
              "#46039f"
             ],
             [
              0.2222222222222222,
              "#7201a8"
             ],
             [
              0.3333333333333333,
              "#9c179e"
             ],
             [
              0.4444444444444444,
              "#bd3786"
             ],
             [
              0.5555555555555556,
              "#d8576b"
             ],
             [
              0.6666666666666666,
              "#ed7953"
             ],
             [
              0.7777777777777778,
              "#fb9f3a"
             ],
             [
              0.8888888888888888,
              "#fdca26"
             ],
             [
              1,
              "#f0f921"
             ]
            ],
            "type": "heatmap"
           }
          ],
          "heatmapgl": [
           {
            "colorbar": {
             "outlinewidth": 0,
             "ticks": ""
            },
            "colorscale": [
             [
              0,
              "#0d0887"
             ],
             [
              0.1111111111111111,
              "#46039f"
             ],
             [
              0.2222222222222222,
              "#7201a8"
             ],
             [
              0.3333333333333333,
              "#9c179e"
             ],
             [
              0.4444444444444444,
              "#bd3786"
             ],
             [
              0.5555555555555556,
              "#d8576b"
             ],
             [
              0.6666666666666666,
              "#ed7953"
             ],
             [
              0.7777777777777778,
              "#fb9f3a"
             ],
             [
              0.8888888888888888,
              "#fdca26"
             ],
             [
              1,
              "#f0f921"
             ]
            ],
            "type": "heatmapgl"
           }
          ],
          "histogram": [
           {
            "marker": {
             "pattern": {
              "fillmode": "overlay",
              "size": 10,
              "solidity": 0.2
             }
            },
            "type": "histogram"
           }
          ],
          "histogram2d": [
           {
            "colorbar": {
             "outlinewidth": 0,
             "ticks": ""
            },
            "colorscale": [
             [
              0,
              "#0d0887"
             ],
             [
              0.1111111111111111,
              "#46039f"
             ],
             [
              0.2222222222222222,
              "#7201a8"
             ],
             [
              0.3333333333333333,
              "#9c179e"
             ],
             [
              0.4444444444444444,
              "#bd3786"
             ],
             [
              0.5555555555555556,
              "#d8576b"
             ],
             [
              0.6666666666666666,
              "#ed7953"
             ],
             [
              0.7777777777777778,
              "#fb9f3a"
             ],
             [
              0.8888888888888888,
              "#fdca26"
             ],
             [
              1,
              "#f0f921"
             ]
            ],
            "type": "histogram2d"
           }
          ],
          "histogram2dcontour": [
           {
            "colorbar": {
             "outlinewidth": 0,
             "ticks": ""
            },
            "colorscale": [
             [
              0,
              "#0d0887"
             ],
             [
              0.1111111111111111,
              "#46039f"
             ],
             [
              0.2222222222222222,
              "#7201a8"
             ],
             [
              0.3333333333333333,
              "#9c179e"
             ],
             [
              0.4444444444444444,
              "#bd3786"
             ],
             [
              0.5555555555555556,
              "#d8576b"
             ],
             [
              0.6666666666666666,
              "#ed7953"
             ],
             [
              0.7777777777777778,
              "#fb9f3a"
             ],
             [
              0.8888888888888888,
              "#fdca26"
             ],
             [
              1,
              "#f0f921"
             ]
            ],
            "type": "histogram2dcontour"
           }
          ],
          "mesh3d": [
           {
            "colorbar": {
             "outlinewidth": 0,
             "ticks": ""
            },
            "type": "mesh3d"
           }
          ],
          "parcoords": [
           {
            "line": {
             "colorbar": {
              "outlinewidth": 0,
              "ticks": ""
             }
            },
            "type": "parcoords"
           }
          ],
          "pie": [
           {
            "automargin": true,
            "type": "pie"
           }
          ],
          "scatter": [
           {
            "fillpattern": {
             "fillmode": "overlay",
             "size": 10,
             "solidity": 0.2
            },
            "type": "scatter"
           }
          ],
          "scatter3d": [
           {
            "line": {
             "colorbar": {
              "outlinewidth": 0,
              "ticks": ""
             }
            },
            "marker": {
             "colorbar": {
              "outlinewidth": 0,
              "ticks": ""
             }
            },
            "type": "scatter3d"
           }
          ],
          "scattercarpet": [
           {
            "marker": {
             "colorbar": {
              "outlinewidth": 0,
              "ticks": ""
             }
            },
            "type": "scattercarpet"
           }
          ],
          "scattergeo": [
           {
            "marker": {
             "colorbar": {
              "outlinewidth": 0,
              "ticks": ""
             }
            },
            "type": "scattergeo"
           }
          ],
          "scattergl": [
           {
            "marker": {
             "colorbar": {
              "outlinewidth": 0,
              "ticks": ""
             }
            },
            "type": "scattergl"
           }
          ],
          "scattermapbox": [
           {
            "marker": {
             "colorbar": {
              "outlinewidth": 0,
              "ticks": ""
             }
            },
            "type": "scattermapbox"
           }
          ],
          "scatterpolar": [
           {
            "marker": {
             "colorbar": {
              "outlinewidth": 0,
              "ticks": ""
             }
            },
            "type": "scatterpolar"
           }
          ],
          "scatterpolargl": [
           {
            "marker": {
             "colorbar": {
              "outlinewidth": 0,
              "ticks": ""
             }
            },
            "type": "scatterpolargl"
           }
          ],
          "scatterternary": [
           {
            "marker": {
             "colorbar": {
              "outlinewidth": 0,
              "ticks": ""
             }
            },
            "type": "scatterternary"
           }
          ],
          "surface": [
           {
            "colorbar": {
             "outlinewidth": 0,
             "ticks": ""
            },
            "colorscale": [
             [
              0,
              "#0d0887"
             ],
             [
              0.1111111111111111,
              "#46039f"
             ],
             [
              0.2222222222222222,
              "#7201a8"
             ],
             [
              0.3333333333333333,
              "#9c179e"
             ],
             [
              0.4444444444444444,
              "#bd3786"
             ],
             [
              0.5555555555555556,
              "#d8576b"
             ],
             [
              0.6666666666666666,
              "#ed7953"
             ],
             [
              0.7777777777777778,
              "#fb9f3a"
             ],
             [
              0.8888888888888888,
              "#fdca26"
             ],
             [
              1,
              "#f0f921"
             ]
            ],
            "type": "surface"
           }
          ],
          "table": [
           {
            "cells": {
             "fill": {
              "color": "#EBF0F8"
             },
             "line": {
              "color": "white"
             }
            },
            "header": {
             "fill": {
              "color": "#C8D4E3"
             },
             "line": {
              "color": "white"
             }
            },
            "type": "table"
           }
          ]
         },
         "layout": {
          "annotationdefaults": {
           "arrowcolor": "#2a3f5f",
           "arrowhead": 0,
           "arrowwidth": 1
          },
          "autotypenumbers": "strict",
          "coloraxis": {
           "colorbar": {
            "outlinewidth": 0,
            "ticks": ""
           }
          },
          "colorscale": {
           "diverging": [
            [
             0,
             "#8e0152"
            ],
            [
             0.1,
             "#c51b7d"
            ],
            [
             0.2,
             "#de77ae"
            ],
            [
             0.3,
             "#f1b6da"
            ],
            [
             0.4,
             "#fde0ef"
            ],
            [
             0.5,
             "#f7f7f7"
            ],
            [
             0.6,
             "#e6f5d0"
            ],
            [
             0.7,
             "#b8e186"
            ],
            [
             0.8,
             "#7fbc41"
            ],
            [
             0.9,
             "#4d9221"
            ],
            [
             1,
             "#276419"
            ]
           ],
           "sequential": [
            [
             0,
             "#0d0887"
            ],
            [
             0.1111111111111111,
             "#46039f"
            ],
            [
             0.2222222222222222,
             "#7201a8"
            ],
            [
             0.3333333333333333,
             "#9c179e"
            ],
            [
             0.4444444444444444,
             "#bd3786"
            ],
            [
             0.5555555555555556,
             "#d8576b"
            ],
            [
             0.6666666666666666,
             "#ed7953"
            ],
            [
             0.7777777777777778,
             "#fb9f3a"
            ],
            [
             0.8888888888888888,
             "#fdca26"
            ],
            [
             1,
             "#f0f921"
            ]
           ],
           "sequentialminus": [
            [
             0,
             "#0d0887"
            ],
            [
             0.1111111111111111,
             "#46039f"
            ],
            [
             0.2222222222222222,
             "#7201a8"
            ],
            [
             0.3333333333333333,
             "#9c179e"
            ],
            [
             0.4444444444444444,
             "#bd3786"
            ],
            [
             0.5555555555555556,
             "#d8576b"
            ],
            [
             0.6666666666666666,
             "#ed7953"
            ],
            [
             0.7777777777777778,
             "#fb9f3a"
            ],
            [
             0.8888888888888888,
             "#fdca26"
            ],
            [
             1,
             "#f0f921"
            ]
           ]
          },
          "colorway": [
           "#636efa",
           "#EF553B",
           "#00cc96",
           "#ab63fa",
           "#FFA15A",
           "#19d3f3",
           "#FF6692",
           "#B6E880",
           "#FF97FF",
           "#FECB52"
          ],
          "font": {
           "color": "#2a3f5f"
          },
          "geo": {
           "bgcolor": "white",
           "lakecolor": "white",
           "landcolor": "#E5ECF6",
           "showlakes": true,
           "showland": true,
           "subunitcolor": "white"
          },
          "hoverlabel": {
           "align": "left"
          },
          "hovermode": "closest",
          "mapbox": {
           "style": "light"
          },
          "paper_bgcolor": "white",
          "plot_bgcolor": "#E5ECF6",
          "polar": {
           "angularaxis": {
            "gridcolor": "white",
            "linecolor": "white",
            "ticks": ""
           },
           "bgcolor": "#E5ECF6",
           "radialaxis": {
            "gridcolor": "white",
            "linecolor": "white",
            "ticks": ""
           }
          },
          "scene": {
           "xaxis": {
            "backgroundcolor": "#E5ECF6",
            "gridcolor": "white",
            "gridwidth": 2,
            "linecolor": "white",
            "showbackground": true,
            "ticks": "",
            "zerolinecolor": "white"
           },
           "yaxis": {
            "backgroundcolor": "#E5ECF6",
            "gridcolor": "white",
            "gridwidth": 2,
            "linecolor": "white",
            "showbackground": true,
            "ticks": "",
            "zerolinecolor": "white"
           },
           "zaxis": {
            "backgroundcolor": "#E5ECF6",
            "gridcolor": "white",
            "gridwidth": 2,
            "linecolor": "white",
            "showbackground": true,
            "ticks": "",
            "zerolinecolor": "white"
           }
          },
          "shapedefaults": {
           "line": {
            "color": "#2a3f5f"
           }
          },
          "ternary": {
           "aaxis": {
            "gridcolor": "white",
            "linecolor": "white",
            "ticks": ""
           },
           "baxis": {
            "gridcolor": "white",
            "linecolor": "white",
            "ticks": ""
           },
           "bgcolor": "#E5ECF6",
           "caxis": {
            "gridcolor": "white",
            "linecolor": "white",
            "ticks": ""
           }
          },
          "title": {
           "x": 0.05
          },
          "xaxis": {
           "automargin": true,
           "gridcolor": "white",
           "linecolor": "white",
           "ticks": "",
           "title": {
            "standoff": 15
           },
           "zerolinecolor": "white",
           "zerolinewidth": 2
          },
          "yaxis": {
           "automargin": true,
           "gridcolor": "white",
           "linecolor": "white",
           "ticks": "",
           "title": {
            "standoff": 15
           },
           "zerolinecolor": "white",
           "zerolinewidth": 2
          }
         }
        },
        "title": {
         "text": "Test AUROC | Session Size"
        },
        "width": 800
       }
      }
     },
     "metadata": {},
     "output_type": "display_data"
    }
   ],
   "source": [
    "# plot_contours(\n",
    "#     test_auc_sess,\n",
    "#     'session_bin',\n",
    "#     'Window',\n",
    "#     'experiment',\n",
    "#     'auroc',\n",
    "#     'test_auroc_sess',\n",
    "#     'Test AUROC | Session Size'\n",
    "# )"
   ]
  },
  {
   "cell_type": "code",
   "execution_count": 19,
   "metadata": {},
   "outputs": [
    {
     "name": "stdout",
     "output_type": "stream",
     "text": [
      "identifying evaluation precision session\n",
      "Identifying max session time\n",
      "Binning sessions\n",
      "Sessions binned: performing melt\n",
      "Sessions melted: dropping na\n",
      "Converting to binary\n",
      "Grouping by session bin, model, and experiment\n",
      "Performing precision: zero division set to 1\n",
      "Performing final metadata operations\n",
      "identifying test precision session\n",
      "Identifying max session time\n",
      "Binning sessions\n",
      "Sessions binned: performing melt\n",
      "Sessions melted: dropping na\n",
      "Converting to binary\n",
      "Grouping by session bin, model, and experiment\n",
      "Performing precision: zero division set to 1\n",
      "Performing final metadata operations\n",
      "identifying evaluation precision platform\n",
      "Binning users based on platform time\n",
      "Performing melt\n",
      "Dropping na and renaming\n",
      "Converting to binary\n",
      "Grouping by user bin, model, and experiment\n",
      "Performing precision: zero division set to 1\n",
      "Performing final metadata operations\n",
      "identifying test precision platform\n",
      "Binning users based on platform time\n",
      "Performing melt\n",
      "Dropping na and renaming\n",
      "Converting to binary\n",
      "Grouping by user bin, model, and experiment\n",
      "Performing precision: zero division set to 1\n",
      "Performing final metadata operations\n"
     ]
    }
   ],
   "source": [
    "# print('identifying evaluation precision session')\n",
    "# eval_prec_sess = generate_sess(eval_auc_df, MODEL_LIST, precision_score, 'precision')\n",
    "# print('identifying test precision session')\n",
    "# test_prec_sess = generate_sess(test_auc_df, MODEL_LIST, precision_score, 'precision')\n",
    "\n",
    "# print('identifying evaluation precision platform')\n",
    "# eval_prec_plat = generate_plat(eval_auc_df, MODEL_LIST, precision_score, 'precision')\n",
    "# print('identifying test precision platform')\n",
    "# test_prec_plat = generate_plat(test_auc_df, MODEL_LIST, precision_score, 'precision')\n"
   ]
  },
  {
   "cell_type": "code",
   "execution_count": 30,
   "metadata": {},
   "outputs": [],
   "source": [
    "# eval_prec_sess.to_csv('lstm_plots/metric_graphs/granular/eval_prec_sess.csv')\n",
    "# test_prec_sess.to_csv('lstm_plots/metric_graphs/granular/test_prec_sess.csv')\n",
    "# eval_prec_plat.to_csv('lstm_plots/metric_graphs/granular/eval_prec_plat.csv')\n",
    "# test_prec_plat.to_csv('lstm_plots/metric_graphs/granular/test_prec_plat.csv')"
   ]
  },
  {
   "cell_type": "code",
   "execution_count": 20,
   "metadata": {},
   "outputs": [
    {
     "data": {
      "application/vnd.plotly.v1+json": {
       "config": {
        "plotlyServerURL": "https://plot.ly"
       },
       "data": [
        {
         "alphahull": 0.5,
         "colorscale": [
          [
           0,
           "rgb(3, 35, 51)"
          ],
          [
           0.09090909090909091,
           "rgb(13, 48, 100)"
          ],
          [
           0.18181818181818182,
           "rgb(53, 50, 155)"
          ],
          [
           0.2727272727272727,
           "rgb(93, 62, 153)"
          ],
          [
           0.36363636363636365,
           "rgb(126, 77, 143)"
          ],
          [
           0.45454545454545453,
           "rgb(158, 89, 135)"
          ],
          [
           0.5454545454545454,
           "rgb(193, 100, 121)"
          ],
          [
           0.6363636363636364,
           "rgb(225, 113, 97)"
          ],
          [
           0.7272727272727273,
           "rgb(246, 139, 69)"
          ],
          [
           0.8181818181818182,
           "rgb(251, 173, 60)"
          ],
          [
           0.9090909090909091,
           "rgb(246, 211, 70)"
          ],
          [
           1,
           "rgb(231, 250, 90)"
          ]
         ],
         "i": [
          123,
          123,
          123,
          139,
          144,
          141,
          132,
          130,
          92,
          94,
          114,
          114,
          130,
          114,
          94,
          83,
          120,
          123,
          110,
          112,
          110,
          110,
          94,
          110,
          114,
          112,
          104,
          99,
          99,
          83,
          99,
          84,
          48,
          31,
          48,
          36,
          36,
          20,
          5,
          20,
          31,
          20,
          16,
          20,
          26,
          44,
          26,
          11,
          36,
          26,
          26,
          21,
          44,
          56,
          56,
          36,
          73,
          73,
          56,
          73,
          67,
          56,
          67,
          71,
          48,
          64,
          83,
          67,
          79,
          64,
          61,
          61
         ],
         "intensity": [
          0.6249370699781842,
          0.6762543613546228,
          0.10838328764647408,
          0.6668547313308207,
          0.6644701174648251,
          0.10596142402072321,
          0.6311021100001194,
          0.6310333992275658,
          0.12071099111261109,
          0.6254993170886202,
          0.6772349473651595,
          0.1248011707068779,
          0.697821467885211,
          0.6731409587235307,
          0.12079288496192525,
          0.6623574144486692,
          0.702206097979908,
          0.22021388763367977,
          0.7084633166505824,
          0.701318922240143,
          0.20607207362174249,
          0.6696476247118528,
          0.6695714440707389,
          0.22069599877357043,
          0.6611090448158076,
          0.7176379425067592,
          0.22564499484004127,
          0.7365045502416894,
          0.7090313478098698,
          0.22745841126095087,
          0.6928362671892422,
          0.7342703134358155,
          0.3278485739625636,
          0.7429676230165091,
          0.7191756804143177,
          0.33071898997075944,
          0.7004378465205451,
          0.7003948198256572,
          0.33162810748670785,
          0.6982875159446208,
          0.7407815079801872,
          0.3382673361121637,
          0.7613058865309021,
          0.7340594670273606,
          0.334684799481037,
          0.723205574912892,
          0.7551083912457214,
          0.38241044066363733,
          0.7563993858422898,
          0.7442698479180808,
          0.3729246104422494,
          0.7255177323639413,
          0.7255401926752213,
          0.38836921711006117,
          0.7218299739423667,
          0.7627798080328988,
          0.3768407310704961,
          0.7877749877176702,
          0.7573730617208878,
          0.37803805263025614,
          0.758290867708669,
          0.784833911101165,
          0.5119862809779566,
          0.8033112432481503,
          0.7733952830665118,
          0.5007528622972244,
          0.7556812679968402,
          0.755610248257307,
          0.510258821353147,
          0.7560439339785551,
          0.7826725528844312,
          0.517825515970072,
          0.8235134787407653,
          0.7766041689006937,
          0.5138104959769425,
          0.7861480308064807,
          0.8024198870719367,
          0.5434762334069076,
          0.8195597677198253,
          0.7918966716173176,
          0.5444969082450666,
          0.7857844201548327,
          0.7857304885478372,
          0.529563733853278,
          0.7840737029792982,
          0.7979957393581676,
          0.548379316492067,
          0.8285288488231083,
          0.7928508963707914,
          0.5522695587994095,
          0.8138843554602587,
          0.8284567964895588,
          0.6175029861370848,
          0.849829426815281,
          0.8175609869551439,
          0.6213437475093648,
          0.8150024180443407,
          0.8150679437198184,
          0.6199461662480366,
          0.8143283419399671,
          0.8145589574267468,
          0.5983454250647983,
          0.8411426880093187,
          0.8123986383289613,
          0.6243862325404014,
          0.8517913775237856,
          0.857646901986343,
          0.6955848147532813,
          0.8755520961552385,
          0.85322890008495,
          0.6973103927858408,
          0.8520154585898531,
          0.8520045288919041,
          0.6875601758799544,
          0.8520982760086445,
          0.8527398433396515,
          0.6722713034938561,
          0.863243208352496,
          0.8528406675764558,
          0.6954924329875568,
          0.8748010180017294,
          0.882797995727946,
          0.7711493874800439,
          0.8964583898995384,
          0.8781035287302685,
          0.7680980280668793,
          0.8748492367921544,
          0.8747902503157057,
          0.7612976914916996,
          0.8745135322007112,
          0.8799069795871872,
          0.7582879389367614,
          0.8851249123583896,
          0.8799152446635273,
          0.7575175189239505,
          0.8998207427610434,
          0.9019409489379487,
          0.8655401669174286,
          0.9095205710006938,
          0.9013775229797254,
          0.8700502378178068,
          0.89891951066253,
          0.8989576889464951,
          0.8734936843062182,
          0.900714595590565,
          0.9036133706315341,
          0.8703264463951806,
          0.9096517979529958,
          0.9036980701587604,
          0.8740452665028574
         ],
         "j": [
          139,
          141,
          120,
          123,
          130,
          130,
          130,
          144,
          94,
          79,
          132,
          130,
          114,
          112,
          83,
          94,
          110,
          110,
          123,
          110,
          92,
          94,
          110,
          112,
          99,
          99,
          99,
          114,
          83,
          99,
          104,
          99,
          31,
          48,
          36,
          48,
          20,
          36,
          20,
          21,
          20,
          31,
          20,
          5,
          44,
          26,
          29,
          26,
          26,
          36,
          11,
          26,
          56,
          44,
          36,
          56,
          84,
          71,
          73,
          56,
          56,
          67,
          83,
          67,
          67,
          67,
          67,
          64,
          61,
          61,
          48,
          64
         ],
         "k": [
          141,
          126,
          135,
          135,
          141,
          126,
          147,
          147,
          77,
          77,
          117,
          132,
          126,
          126,
          79,
          97,
          106,
          120,
          126,
          126,
          106,
          92,
          97,
          97,
          112,
          97,
          117,
          117,
          97,
          84,
          88,
          88,
          45,
          35,
          35,
          53,
          35,
          21,
          6,
          6,
          16,
          35,
          0,
          0,
          29,
          40,
          12,
          12,
          21,
          40,
          6,
          6,
          58,
          40,
          53,
          40,
          88,
          84,
          58,
          71,
          53,
          71,
          84,
          84,
          53,
          48,
          79,
          79,
          77,
          79,
          45,
          48
         ],
         "type": "mesh3d",
         "x": [
          30,
          30,
          30,
          30,
          30,
          30,
          30,
          30,
          30,
          30,
          30,
          30,
          30,
          30,
          30,
          35,
          35,
          35,
          35,
          35,
          35,
          35,
          35,
          35,
          35,
          35,
          35,
          35,
          35,
          35,
          40,
          40,
          40,
          40,
          40,
          40,
          40,
          40,
          40,
          40,
          40,
          40,
          40,
          40,
          40,
          45,
          45,
          45,
          45,
          45,
          45,
          45,
          45,
          45,
          45,
          45,
          45,
          45,
          45,
          45,
          50,
          50,
          50,
          50,
          50,
          50,
          50,
          50,
          50,
          50,
          50,
          50,
          50,
          50,
          50,
          60,
          60,
          60,
          60,
          60,
          60,
          60,
          60,
          60,
          60,
          60,
          60,
          60,
          60,
          60,
          70,
          70,
          70,
          70,
          70,
          70,
          70,
          70,
          70,
          70,
          70,
          70,
          70,
          70,
          70,
          90,
          90,
          90,
          90,
          90,
          90,
          90,
          90,
          90,
          90,
          90,
          90,
          90,
          90,
          90,
          120,
          120,
          120,
          120,
          120,
          120,
          120,
          120,
          120,
          120,
          120,
          120,
          120,
          120,
          120,
          180,
          180,
          180,
          180,
          180,
          180,
          180,
          180,
          180,
          180,
          180,
          180,
          180,
          180,
          180
         ],
         "y": [
          1,
          1,
          1,
          10,
          10,
          10,
          20,
          20,
          20,
          30,
          30,
          30,
          40,
          40,
          40,
          1,
          1,
          1,
          10,
          10,
          10,
          20,
          20,
          20,
          30,
          30,
          30,
          40,
          40,
          40,
          1,
          1,
          1,
          10,
          10,
          10,
          20,
          20,
          20,
          30,
          30,
          30,
          40,
          40,
          40,
          1,
          1,
          1,
          10,
          10,
          10,
          20,
          20,
          20,
          30,
          30,
          30,
          40,
          40,
          40,
          1,
          1,
          1,
          10,
          10,
          10,
          20,
          20,
          20,
          30,
          30,
          30,
          40,
          40,
          40,
          1,
          1,
          1,
          10,
          10,
          10,
          20,
          20,
          20,
          30,
          30,
          30,
          40,
          40,
          40,
          1,
          1,
          1,
          10,
          10,
          10,
          20,
          20,
          20,
          30,
          30,
          30,
          40,
          40,
          40,
          1,
          1,
          1,
          10,
          10,
          10,
          20,
          20,
          20,
          30,
          30,
          30,
          40,
          40,
          40,
          1,
          1,
          1,
          10,
          10,
          10,
          20,
          20,
          20,
          30,
          30,
          30,
          40,
          40,
          40,
          1,
          1,
          1,
          10,
          10,
          10,
          20,
          20,
          20,
          30,
          30,
          30,
          40,
          40,
          40
         ],
         "z": [
          10,
          20,
          30,
          10,
          20,
          30,
          10,
          20,
          30,
          10,
          20,
          30,
          10,
          20,
          30,
          10,
          20,
          30,
          10,
          20,
          30,
          10,
          20,
          30,
          10,
          20,
          30,
          10,
          20,
          30,
          10,
          20,
          30,
          10,
          20,
          30,
          10,
          20,
          30,
          10,
          20,
          30,
          10,
          20,
          30,
          10,
          20,
          30,
          10,
          20,
          30,
          10,
          20,
          30,
          10,
          20,
          30,
          10,
          20,
          30,
          10,
          20,
          30,
          10,
          20,
          30,
          10,
          20,
          30,
          10,
          20,
          30,
          10,
          20,
          30,
          10,
          20,
          30,
          10,
          20,
          30,
          10,
          20,
          30,
          10,
          20,
          30,
          10,
          20,
          30,
          10,
          20,
          30,
          10,
          20,
          30,
          10,
          20,
          30,
          10,
          20,
          30,
          10,
          20,
          30,
          10,
          20,
          30,
          10,
          20,
          30,
          10,
          20,
          30,
          10,
          20,
          30,
          10,
          20,
          30,
          10,
          20,
          30,
          10,
          20,
          30,
          10,
          20,
          30,
          10,
          20,
          30,
          10,
          20,
          30,
          10,
          20,
          30,
          10,
          20,
          30,
          10,
          20,
          30,
          10,
          20,
          30,
          10,
          20,
          30
         ]
        }
       ],
       "layout": {
        "height": 500,
        "scene": {
         "xaxis": {
          "title": {
           "text": "session_bin"
          }
         },
         "yaxis": {
          "title": {
           "text": "Window"
          }
         },
         "zaxis": {
          "title": {
           "text": "experiment"
          }
         }
        },
        "template": {
         "data": {
          "bar": [
           {
            "error_x": {
             "color": "#2a3f5f"
            },
            "error_y": {
             "color": "#2a3f5f"
            },
            "marker": {
             "line": {
              "color": "#E5ECF6",
              "width": 0.5
             },
             "pattern": {
              "fillmode": "overlay",
              "size": 10,
              "solidity": 0.2
             }
            },
            "type": "bar"
           }
          ],
          "barpolar": [
           {
            "marker": {
             "line": {
              "color": "#E5ECF6",
              "width": 0.5
             },
             "pattern": {
              "fillmode": "overlay",
              "size": 10,
              "solidity": 0.2
             }
            },
            "type": "barpolar"
           }
          ],
          "carpet": [
           {
            "aaxis": {
             "endlinecolor": "#2a3f5f",
             "gridcolor": "white",
             "linecolor": "white",
             "minorgridcolor": "white",
             "startlinecolor": "#2a3f5f"
            },
            "baxis": {
             "endlinecolor": "#2a3f5f",
             "gridcolor": "white",
             "linecolor": "white",
             "minorgridcolor": "white",
             "startlinecolor": "#2a3f5f"
            },
            "type": "carpet"
           }
          ],
          "choropleth": [
           {
            "colorbar": {
             "outlinewidth": 0,
             "ticks": ""
            },
            "type": "choropleth"
           }
          ],
          "contour": [
           {
            "colorbar": {
             "outlinewidth": 0,
             "ticks": ""
            },
            "colorscale": [
             [
              0,
              "#0d0887"
             ],
             [
              0.1111111111111111,
              "#46039f"
             ],
             [
              0.2222222222222222,
              "#7201a8"
             ],
             [
              0.3333333333333333,
              "#9c179e"
             ],
             [
              0.4444444444444444,
              "#bd3786"
             ],
             [
              0.5555555555555556,
              "#d8576b"
             ],
             [
              0.6666666666666666,
              "#ed7953"
             ],
             [
              0.7777777777777778,
              "#fb9f3a"
             ],
             [
              0.8888888888888888,
              "#fdca26"
             ],
             [
              1,
              "#f0f921"
             ]
            ],
            "type": "contour"
           }
          ],
          "contourcarpet": [
           {
            "colorbar": {
             "outlinewidth": 0,
             "ticks": ""
            },
            "type": "contourcarpet"
           }
          ],
          "heatmap": [
           {
            "colorbar": {
             "outlinewidth": 0,
             "ticks": ""
            },
            "colorscale": [
             [
              0,
              "#0d0887"
             ],
             [
              0.1111111111111111,
              "#46039f"
             ],
             [
              0.2222222222222222,
              "#7201a8"
             ],
             [
              0.3333333333333333,
              "#9c179e"
             ],
             [
              0.4444444444444444,
              "#bd3786"
             ],
             [
              0.5555555555555556,
              "#d8576b"
             ],
             [
              0.6666666666666666,
              "#ed7953"
             ],
             [
              0.7777777777777778,
              "#fb9f3a"
             ],
             [
              0.8888888888888888,
              "#fdca26"
             ],
             [
              1,
              "#f0f921"
             ]
            ],
            "type": "heatmap"
           }
          ],
          "heatmapgl": [
           {
            "colorbar": {
             "outlinewidth": 0,
             "ticks": ""
            },
            "colorscale": [
             [
              0,
              "#0d0887"
             ],
             [
              0.1111111111111111,
              "#46039f"
             ],
             [
              0.2222222222222222,
              "#7201a8"
             ],
             [
              0.3333333333333333,
              "#9c179e"
             ],
             [
              0.4444444444444444,
              "#bd3786"
             ],
             [
              0.5555555555555556,
              "#d8576b"
             ],
             [
              0.6666666666666666,
              "#ed7953"
             ],
             [
              0.7777777777777778,
              "#fb9f3a"
             ],
             [
              0.8888888888888888,
              "#fdca26"
             ],
             [
              1,
              "#f0f921"
             ]
            ],
            "type": "heatmapgl"
           }
          ],
          "histogram": [
           {
            "marker": {
             "pattern": {
              "fillmode": "overlay",
              "size": 10,
              "solidity": 0.2
             }
            },
            "type": "histogram"
           }
          ],
          "histogram2d": [
           {
            "colorbar": {
             "outlinewidth": 0,
             "ticks": ""
            },
            "colorscale": [
             [
              0,
              "#0d0887"
             ],
             [
              0.1111111111111111,
              "#46039f"
             ],
             [
              0.2222222222222222,
              "#7201a8"
             ],
             [
              0.3333333333333333,
              "#9c179e"
             ],
             [
              0.4444444444444444,
              "#bd3786"
             ],
             [
              0.5555555555555556,
              "#d8576b"
             ],
             [
              0.6666666666666666,
              "#ed7953"
             ],
             [
              0.7777777777777778,
              "#fb9f3a"
             ],
             [
              0.8888888888888888,
              "#fdca26"
             ],
             [
              1,
              "#f0f921"
             ]
            ],
            "type": "histogram2d"
           }
          ],
          "histogram2dcontour": [
           {
            "colorbar": {
             "outlinewidth": 0,
             "ticks": ""
            },
            "colorscale": [
             [
              0,
              "#0d0887"
             ],
             [
              0.1111111111111111,
              "#46039f"
             ],
             [
              0.2222222222222222,
              "#7201a8"
             ],
             [
              0.3333333333333333,
              "#9c179e"
             ],
             [
              0.4444444444444444,
              "#bd3786"
             ],
             [
              0.5555555555555556,
              "#d8576b"
             ],
             [
              0.6666666666666666,
              "#ed7953"
             ],
             [
              0.7777777777777778,
              "#fb9f3a"
             ],
             [
              0.8888888888888888,
              "#fdca26"
             ],
             [
              1,
              "#f0f921"
             ]
            ],
            "type": "histogram2dcontour"
           }
          ],
          "mesh3d": [
           {
            "colorbar": {
             "outlinewidth": 0,
             "ticks": ""
            },
            "type": "mesh3d"
           }
          ],
          "parcoords": [
           {
            "line": {
             "colorbar": {
              "outlinewidth": 0,
              "ticks": ""
             }
            },
            "type": "parcoords"
           }
          ],
          "pie": [
           {
            "automargin": true,
            "type": "pie"
           }
          ],
          "scatter": [
           {
            "fillpattern": {
             "fillmode": "overlay",
             "size": 10,
             "solidity": 0.2
            },
            "type": "scatter"
           }
          ],
          "scatter3d": [
           {
            "line": {
             "colorbar": {
              "outlinewidth": 0,
              "ticks": ""
             }
            },
            "marker": {
             "colorbar": {
              "outlinewidth": 0,
              "ticks": ""
             }
            },
            "type": "scatter3d"
           }
          ],
          "scattercarpet": [
           {
            "marker": {
             "colorbar": {
              "outlinewidth": 0,
              "ticks": ""
             }
            },
            "type": "scattercarpet"
           }
          ],
          "scattergeo": [
           {
            "marker": {
             "colorbar": {
              "outlinewidth": 0,
              "ticks": ""
             }
            },
            "type": "scattergeo"
           }
          ],
          "scattergl": [
           {
            "marker": {
             "colorbar": {
              "outlinewidth": 0,
              "ticks": ""
             }
            },
            "type": "scattergl"
           }
          ],
          "scattermapbox": [
           {
            "marker": {
             "colorbar": {
              "outlinewidth": 0,
              "ticks": ""
             }
            },
            "type": "scattermapbox"
           }
          ],
          "scatterpolar": [
           {
            "marker": {
             "colorbar": {
              "outlinewidth": 0,
              "ticks": ""
             }
            },
            "type": "scatterpolar"
           }
          ],
          "scatterpolargl": [
           {
            "marker": {
             "colorbar": {
              "outlinewidth": 0,
              "ticks": ""
             }
            },
            "type": "scatterpolargl"
           }
          ],
          "scatterternary": [
           {
            "marker": {
             "colorbar": {
              "outlinewidth": 0,
              "ticks": ""
             }
            },
            "type": "scatterternary"
           }
          ],
          "surface": [
           {
            "colorbar": {
             "outlinewidth": 0,
             "ticks": ""
            },
            "colorscale": [
             [
              0,
              "#0d0887"
             ],
             [
              0.1111111111111111,
              "#46039f"
             ],
             [
              0.2222222222222222,
              "#7201a8"
             ],
             [
              0.3333333333333333,
              "#9c179e"
             ],
             [
              0.4444444444444444,
              "#bd3786"
             ],
             [
              0.5555555555555556,
              "#d8576b"
             ],
             [
              0.6666666666666666,
              "#ed7953"
             ],
             [
              0.7777777777777778,
              "#fb9f3a"
             ],
             [
              0.8888888888888888,
              "#fdca26"
             ],
             [
              1,
              "#f0f921"
             ]
            ],
            "type": "surface"
           }
          ],
          "table": [
           {
            "cells": {
             "fill": {
              "color": "#EBF0F8"
             },
             "line": {
              "color": "white"
             }
            },
            "header": {
             "fill": {
              "color": "#C8D4E3"
             },
             "line": {
              "color": "white"
             }
            },
            "type": "table"
           }
          ]
         },
         "layout": {
          "annotationdefaults": {
           "arrowcolor": "#2a3f5f",
           "arrowhead": 0,
           "arrowwidth": 1
          },
          "autotypenumbers": "strict",
          "coloraxis": {
           "colorbar": {
            "outlinewidth": 0,
            "ticks": ""
           }
          },
          "colorscale": {
           "diverging": [
            [
             0,
             "#8e0152"
            ],
            [
             0.1,
             "#c51b7d"
            ],
            [
             0.2,
             "#de77ae"
            ],
            [
             0.3,
             "#f1b6da"
            ],
            [
             0.4,
             "#fde0ef"
            ],
            [
             0.5,
             "#f7f7f7"
            ],
            [
             0.6,
             "#e6f5d0"
            ],
            [
             0.7,
             "#b8e186"
            ],
            [
             0.8,
             "#7fbc41"
            ],
            [
             0.9,
             "#4d9221"
            ],
            [
             1,
             "#276419"
            ]
           ],
           "sequential": [
            [
             0,
             "#0d0887"
            ],
            [
             0.1111111111111111,
             "#46039f"
            ],
            [
             0.2222222222222222,
             "#7201a8"
            ],
            [
             0.3333333333333333,
             "#9c179e"
            ],
            [
             0.4444444444444444,
             "#bd3786"
            ],
            [
             0.5555555555555556,
             "#d8576b"
            ],
            [
             0.6666666666666666,
             "#ed7953"
            ],
            [
             0.7777777777777778,
             "#fb9f3a"
            ],
            [
             0.8888888888888888,
             "#fdca26"
            ],
            [
             1,
             "#f0f921"
            ]
           ],
           "sequentialminus": [
            [
             0,
             "#0d0887"
            ],
            [
             0.1111111111111111,
             "#46039f"
            ],
            [
             0.2222222222222222,
             "#7201a8"
            ],
            [
             0.3333333333333333,
             "#9c179e"
            ],
            [
             0.4444444444444444,
             "#bd3786"
            ],
            [
             0.5555555555555556,
             "#d8576b"
            ],
            [
             0.6666666666666666,
             "#ed7953"
            ],
            [
             0.7777777777777778,
             "#fb9f3a"
            ],
            [
             0.8888888888888888,
             "#fdca26"
            ],
            [
             1,
             "#f0f921"
            ]
           ]
          },
          "colorway": [
           "#636efa",
           "#EF553B",
           "#00cc96",
           "#ab63fa",
           "#FFA15A",
           "#19d3f3",
           "#FF6692",
           "#B6E880",
           "#FF97FF",
           "#FECB52"
          ],
          "font": {
           "color": "#2a3f5f"
          },
          "geo": {
           "bgcolor": "white",
           "lakecolor": "white",
           "landcolor": "#E5ECF6",
           "showlakes": true,
           "showland": true,
           "subunitcolor": "white"
          },
          "hoverlabel": {
           "align": "left"
          },
          "hovermode": "closest",
          "mapbox": {
           "style": "light"
          },
          "paper_bgcolor": "white",
          "plot_bgcolor": "#E5ECF6",
          "polar": {
           "angularaxis": {
            "gridcolor": "white",
            "linecolor": "white",
            "ticks": ""
           },
           "bgcolor": "#E5ECF6",
           "radialaxis": {
            "gridcolor": "white",
            "linecolor": "white",
            "ticks": ""
           }
          },
          "scene": {
           "xaxis": {
            "backgroundcolor": "#E5ECF6",
            "gridcolor": "white",
            "gridwidth": 2,
            "linecolor": "white",
            "showbackground": true,
            "ticks": "",
            "zerolinecolor": "white"
           },
           "yaxis": {
            "backgroundcolor": "#E5ECF6",
            "gridcolor": "white",
            "gridwidth": 2,
            "linecolor": "white",
            "showbackground": true,
            "ticks": "",
            "zerolinecolor": "white"
           },
           "zaxis": {
            "backgroundcolor": "#E5ECF6",
            "gridcolor": "white",
            "gridwidth": 2,
            "linecolor": "white",
            "showbackground": true,
            "ticks": "",
            "zerolinecolor": "white"
           }
          },
          "shapedefaults": {
           "line": {
            "color": "#2a3f5f"
           }
          },
          "ternary": {
           "aaxis": {
            "gridcolor": "white",
            "linecolor": "white",
            "ticks": ""
           },
           "baxis": {
            "gridcolor": "white",
            "linecolor": "white",
            "ticks": ""
           },
           "bgcolor": "#E5ECF6",
           "caxis": {
            "gridcolor": "white",
            "linecolor": "white",
            "ticks": ""
           }
          },
          "title": {
           "x": 0.05
          },
          "xaxis": {
           "automargin": true,
           "gridcolor": "white",
           "linecolor": "white",
           "ticks": "",
           "title": {
            "standoff": 15
           },
           "zerolinecolor": "white",
           "zerolinewidth": 2
          },
          "yaxis": {
           "automargin": true,
           "gridcolor": "white",
           "linecolor": "white",
           "ticks": "",
           "title": {
            "standoff": 15
           },
           "zerolinecolor": "white",
           "zerolinewidth": 2
          }
         }
        },
        "title": {
         "text": "Evaluation Precision | Session Size"
        },
        "width": 800
       }
      }
     },
     "metadata": {},
     "output_type": "display_data"
    }
   ],
   "source": [
    "# plot_contours(\n",
    "#     eval_prec_sess.copy(),\n",
    "#     'session_bin',\n",
    "#     'Window',\n",
    "#     'experiment',\n",
    "#     'precision',\n",
    "#     'eval_prec_sess',\n",
    "#     'Evaluation Precision | Session Size'\n",
    "# )"
   ]
  },
  {
   "cell_type": "code",
   "execution_count": 21,
   "metadata": {},
   "outputs": [
    {
     "data": {
      "application/vnd.plotly.v1+json": {
       "config": {
        "plotlyServerURL": "https://plot.ly"
       },
       "data": [
        {
         "alphahull": 0.5,
         "colorscale": [
          [
           0,
           "rgb(3, 35, 51)"
          ],
          [
           0.09090909090909091,
           "rgb(13, 48, 100)"
          ],
          [
           0.18181818181818182,
           "rgb(53, 50, 155)"
          ],
          [
           0.2727272727272727,
           "rgb(93, 62, 153)"
          ],
          [
           0.36363636363636365,
           "rgb(126, 77, 143)"
          ],
          [
           0.45454545454545453,
           "rgb(158, 89, 135)"
          ],
          [
           0.5454545454545454,
           "rgb(193, 100, 121)"
          ],
          [
           0.6363636363636364,
           "rgb(225, 113, 97)"
          ],
          [
           0.7272727272727273,
           "rgb(246, 139, 69)"
          ],
          [
           0.8181818181818182,
           "rgb(251, 173, 60)"
          ],
          [
           0.9090909090909091,
           "rgb(246, 211, 70)"
          ],
          [
           1,
           "rgb(231, 250, 90)"
          ]
         ],
         "i": [
          123,
          123,
          123,
          139,
          144,
          141,
          132,
          130,
          92,
          94,
          114,
          114,
          130,
          114,
          94,
          83,
          120,
          123,
          110,
          112,
          110,
          110,
          94,
          110,
          114,
          112,
          104,
          99,
          99,
          83,
          99,
          84,
          48,
          31,
          48,
          36,
          36,
          20,
          5,
          20,
          31,
          20,
          16,
          20,
          26,
          44,
          26,
          11,
          36,
          26,
          26,
          21,
          44,
          56,
          56,
          36,
          73,
          73,
          56,
          73,
          67,
          56,
          67,
          71,
          48,
          64,
          83,
          67,
          79,
          64,
          61,
          61
         ],
         "intensity": [
          0.6302533858482495,
          0.688733059341646,
          0.11555827904276592,
          0.6886920812408777,
          0.6743372393656021,
          0.11232051875868458,
          0.6397994154440186,
          0.6398025295730156,
          0.12793952967525196,
          0.6307065874252944,
          0.6897319530241296,
          0.12029372496662216,
          0.713272023351531,
          0.684612075796337,
          0.11860895065663649,
          0.6640162554531795,
          0.7154248870769314,
          0.25694998669859004,
          0.7180484981025278,
          0.7043450196272695,
          0.2478782215993148,
          0.6717340704102415,
          0.6715118393772961,
          0.26303671688815283,
          0.6635271206723179,
          0.726975049161991,
          0.25650094976092225,
          0.7460855761598961,
          0.7205914634681746,
          0.2659957102788319,
          0.7054782930995585,
          0.7441544086387212,
          0.3325925925925926,
          0.7909034397016163,
          0.7386327196161595,
          0.3269339356295878,
          0.7113760936229808,
          0.7112850645953234,
          0.337716305898406,
          0.7066965095880468,
          0.7570691583390454,
          0.33970833123076144,
          0.7934762225188355,
          0.7512607399614238,
          0.3465092010486396,
          0.7276910609890216,
          0.7657867727821093,
          0.42908503701898176,
          0.776334435521965,
          0.7565589237886535,
          0.41566675024177085,
          0.7300212001106092,
          0.7299177981152768,
          0.4233102095667018,
          0.7258685210547636,
          0.7731737121121636,
          0.40783762303600907,
          0.8000030138183571,
          0.7648521224928303,
          0.42711270741191487,
          0.7573913673124412,
          0.7833623167256468,
          0.49293858366878807,
          0.8016744841665249,
          0.7753268890821853,
          0.47895491752602815,
          0.7579207262453487,
          0.7582425025399174,
          0.48459865796881046,
          0.7561034911468046,
          0.7858472998137802,
          0.4911105184790097,
          0.8235179140360822,
          0.7792624998486579,
          0.5002188036489716,
          0.7929713026893564,
          0.8128540971213549,
          0.562875423720082,
          0.8296214860558796,
          0.8042365673944621,
          0.5495217087446492,
          0.7922839268698323,
          0.7923672121054252,
          0.5496561146206752,
          0.7929007521014599,
          0.809943355231424,
          0.5413421962860621,
          0.8416260002097588,
          0.8050876675569808,
          0.5504649671316338,
          0.8248354030588639,
          0.8340976281145269,
          0.6490318491143722,
          0.8588236128949852,
          0.8262793339428698,
          0.6410506401854374,
          0.8242201210831646,
          0.824149276446181,
          0.643324607329843,
          0.8248367627242752,
          0.8223975679533363,
          0.6195879332403221,
          0.8489466263665479,
          0.8207953026855891,
          0.6398211068434743,
          0.8555895547431074,
          0.8633978051573623,
          0.7094989990246907,
          0.886650635788529,
          0.8560803624187512,
          0.7070722325370669,
          0.8555563750304509,
          0.8555334347760998,
          0.7005307778041695,
          0.8544917023310111,
          0.8536526832480822,
          0.6805653994845361,
          0.8722783955608638,
          0.8540893544308311,
          0.6955408180940833,
          0.893915901620764,
          0.8989217373031613,
          0.7763354717222899,
          0.9201562403124807,
          0.8956511783606736,
          0.7717815802292546,
          0.8949526785019967,
          0.8949331455111332,
          0.7656164106936514,
          0.8940753423089777,
          0.897575493979194,
          0.765085712074503,
          0.9073629579505774,
          0.8973733813615963,
          0.7603937256771532,
          0.910340918954522,
          0.914807019142858,
          0.8719805730605126,
          0.9289169138410545,
          0.9123150624732123,
          0.8798762516499594,
          0.9103953932344634,
          0.9104566495033026,
          0.8763829870349713,
          0.9116550815738338,
          0.9158529297271217,
          0.8756787733358516,
          0.9289361936086882,
          0.9153073821983809,
          0.8785262803617307
         ],
         "j": [
          139,
          141,
          120,
          123,
          130,
          130,
          130,
          144,
          94,
          79,
          132,
          130,
          114,
          112,
          83,
          94,
          110,
          110,
          123,
          110,
          92,
          94,
          110,
          112,
          99,
          99,
          99,
          114,
          83,
          99,
          104,
          99,
          31,
          48,
          36,
          48,
          20,
          36,
          20,
          21,
          20,
          31,
          20,
          5,
          44,
          26,
          29,
          26,
          26,
          36,
          11,
          26,
          56,
          44,
          36,
          56,
          84,
          71,
          73,
          56,
          56,
          67,
          83,
          67,
          67,
          67,
          67,
          64,
          61,
          61,
          48,
          64
         ],
         "k": [
          141,
          126,
          135,
          135,
          141,
          126,
          147,
          147,
          77,
          77,
          117,
          132,
          126,
          126,
          79,
          97,
          106,
          120,
          126,
          126,
          106,
          92,
          97,
          97,
          112,
          97,
          117,
          117,
          97,
          84,
          88,
          88,
          45,
          35,
          35,
          53,
          35,
          21,
          6,
          6,
          16,
          35,
          0,
          0,
          29,
          40,
          12,
          12,
          21,
          40,
          6,
          6,
          58,
          40,
          53,
          40,
          88,
          84,
          58,
          71,
          53,
          71,
          84,
          84,
          53,
          48,
          79,
          79,
          77,
          79,
          45,
          48
         ],
         "type": "mesh3d",
         "x": [
          30,
          30,
          30,
          30,
          30,
          30,
          30,
          30,
          30,
          30,
          30,
          30,
          30,
          30,
          30,
          35,
          35,
          35,
          35,
          35,
          35,
          35,
          35,
          35,
          35,
          35,
          35,
          35,
          35,
          35,
          40,
          40,
          40,
          40,
          40,
          40,
          40,
          40,
          40,
          40,
          40,
          40,
          40,
          40,
          40,
          45,
          45,
          45,
          45,
          45,
          45,
          45,
          45,
          45,
          45,
          45,
          45,
          45,
          45,
          45,
          50,
          50,
          50,
          50,
          50,
          50,
          50,
          50,
          50,
          50,
          50,
          50,
          50,
          50,
          50,
          60,
          60,
          60,
          60,
          60,
          60,
          60,
          60,
          60,
          60,
          60,
          60,
          60,
          60,
          60,
          70,
          70,
          70,
          70,
          70,
          70,
          70,
          70,
          70,
          70,
          70,
          70,
          70,
          70,
          70,
          90,
          90,
          90,
          90,
          90,
          90,
          90,
          90,
          90,
          90,
          90,
          90,
          90,
          90,
          90,
          120,
          120,
          120,
          120,
          120,
          120,
          120,
          120,
          120,
          120,
          120,
          120,
          120,
          120,
          120,
          180,
          180,
          180,
          180,
          180,
          180,
          180,
          180,
          180,
          180,
          180,
          180,
          180,
          180,
          180
         ],
         "y": [
          1,
          1,
          1,
          10,
          10,
          10,
          20,
          20,
          20,
          30,
          30,
          30,
          40,
          40,
          40,
          1,
          1,
          1,
          10,
          10,
          10,
          20,
          20,
          20,
          30,
          30,
          30,
          40,
          40,
          40,
          1,
          1,
          1,
          10,
          10,
          10,
          20,
          20,
          20,
          30,
          30,
          30,
          40,
          40,
          40,
          1,
          1,
          1,
          10,
          10,
          10,
          20,
          20,
          20,
          30,
          30,
          30,
          40,
          40,
          40,
          1,
          1,
          1,
          10,
          10,
          10,
          20,
          20,
          20,
          30,
          30,
          30,
          40,
          40,
          40,
          1,
          1,
          1,
          10,
          10,
          10,
          20,
          20,
          20,
          30,
          30,
          30,
          40,
          40,
          40,
          1,
          1,
          1,
          10,
          10,
          10,
          20,
          20,
          20,
          30,
          30,
          30,
          40,
          40,
          40,
          1,
          1,
          1,
          10,
          10,
          10,
          20,
          20,
          20,
          30,
          30,
          30,
          40,
          40,
          40,
          1,
          1,
          1,
          10,
          10,
          10,
          20,
          20,
          20,
          30,
          30,
          30,
          40,
          40,
          40,
          1,
          1,
          1,
          10,
          10,
          10,
          20,
          20,
          20,
          30,
          30,
          30,
          40,
          40,
          40
         ],
         "z": [
          10,
          20,
          30,
          10,
          20,
          30,
          10,
          20,
          30,
          10,
          20,
          30,
          10,
          20,
          30,
          10,
          20,
          30,
          10,
          20,
          30,
          10,
          20,
          30,
          10,
          20,
          30,
          10,
          20,
          30,
          10,
          20,
          30,
          10,
          20,
          30,
          10,
          20,
          30,
          10,
          20,
          30,
          10,
          20,
          30,
          10,
          20,
          30,
          10,
          20,
          30,
          10,
          20,
          30,
          10,
          20,
          30,
          10,
          20,
          30,
          10,
          20,
          30,
          10,
          20,
          30,
          10,
          20,
          30,
          10,
          20,
          30,
          10,
          20,
          30,
          10,
          20,
          30,
          10,
          20,
          30,
          10,
          20,
          30,
          10,
          20,
          30,
          10,
          20,
          30,
          10,
          20,
          30,
          10,
          20,
          30,
          10,
          20,
          30,
          10,
          20,
          30,
          10,
          20,
          30,
          10,
          20,
          30,
          10,
          20,
          30,
          10,
          20,
          30,
          10,
          20,
          30,
          10,
          20,
          30,
          10,
          20,
          30,
          10,
          20,
          30,
          10,
          20,
          30,
          10,
          20,
          30,
          10,
          20,
          30,
          10,
          20,
          30,
          10,
          20,
          30,
          10,
          20,
          30,
          10,
          20,
          30,
          10,
          20,
          30
         ]
        }
       ],
       "layout": {
        "height": 500,
        "scene": {
         "xaxis": {
          "title": {
           "text": "session_bin"
          }
         },
         "yaxis": {
          "title": {
           "text": "Window"
          }
         },
         "zaxis": {
          "title": {
           "text": "experiment"
          }
         }
        },
        "template": {
         "data": {
          "bar": [
           {
            "error_x": {
             "color": "#2a3f5f"
            },
            "error_y": {
             "color": "#2a3f5f"
            },
            "marker": {
             "line": {
              "color": "#E5ECF6",
              "width": 0.5
             },
             "pattern": {
              "fillmode": "overlay",
              "size": 10,
              "solidity": 0.2
             }
            },
            "type": "bar"
           }
          ],
          "barpolar": [
           {
            "marker": {
             "line": {
              "color": "#E5ECF6",
              "width": 0.5
             },
             "pattern": {
              "fillmode": "overlay",
              "size": 10,
              "solidity": 0.2
             }
            },
            "type": "barpolar"
           }
          ],
          "carpet": [
           {
            "aaxis": {
             "endlinecolor": "#2a3f5f",
             "gridcolor": "white",
             "linecolor": "white",
             "minorgridcolor": "white",
             "startlinecolor": "#2a3f5f"
            },
            "baxis": {
             "endlinecolor": "#2a3f5f",
             "gridcolor": "white",
             "linecolor": "white",
             "minorgridcolor": "white",
             "startlinecolor": "#2a3f5f"
            },
            "type": "carpet"
           }
          ],
          "choropleth": [
           {
            "colorbar": {
             "outlinewidth": 0,
             "ticks": ""
            },
            "type": "choropleth"
           }
          ],
          "contour": [
           {
            "colorbar": {
             "outlinewidth": 0,
             "ticks": ""
            },
            "colorscale": [
             [
              0,
              "#0d0887"
             ],
             [
              0.1111111111111111,
              "#46039f"
             ],
             [
              0.2222222222222222,
              "#7201a8"
             ],
             [
              0.3333333333333333,
              "#9c179e"
             ],
             [
              0.4444444444444444,
              "#bd3786"
             ],
             [
              0.5555555555555556,
              "#d8576b"
             ],
             [
              0.6666666666666666,
              "#ed7953"
             ],
             [
              0.7777777777777778,
              "#fb9f3a"
             ],
             [
              0.8888888888888888,
              "#fdca26"
             ],
             [
              1,
              "#f0f921"
             ]
            ],
            "type": "contour"
           }
          ],
          "contourcarpet": [
           {
            "colorbar": {
             "outlinewidth": 0,
             "ticks": ""
            },
            "type": "contourcarpet"
           }
          ],
          "heatmap": [
           {
            "colorbar": {
             "outlinewidth": 0,
             "ticks": ""
            },
            "colorscale": [
             [
              0,
              "#0d0887"
             ],
             [
              0.1111111111111111,
              "#46039f"
             ],
             [
              0.2222222222222222,
              "#7201a8"
             ],
             [
              0.3333333333333333,
              "#9c179e"
             ],
             [
              0.4444444444444444,
              "#bd3786"
             ],
             [
              0.5555555555555556,
              "#d8576b"
             ],
             [
              0.6666666666666666,
              "#ed7953"
             ],
             [
              0.7777777777777778,
              "#fb9f3a"
             ],
             [
              0.8888888888888888,
              "#fdca26"
             ],
             [
              1,
              "#f0f921"
             ]
            ],
            "type": "heatmap"
           }
          ],
          "heatmapgl": [
           {
            "colorbar": {
             "outlinewidth": 0,
             "ticks": ""
            },
            "colorscale": [
             [
              0,
              "#0d0887"
             ],
             [
              0.1111111111111111,
              "#46039f"
             ],
             [
              0.2222222222222222,
              "#7201a8"
             ],
             [
              0.3333333333333333,
              "#9c179e"
             ],
             [
              0.4444444444444444,
              "#bd3786"
             ],
             [
              0.5555555555555556,
              "#d8576b"
             ],
             [
              0.6666666666666666,
              "#ed7953"
             ],
             [
              0.7777777777777778,
              "#fb9f3a"
             ],
             [
              0.8888888888888888,
              "#fdca26"
             ],
             [
              1,
              "#f0f921"
             ]
            ],
            "type": "heatmapgl"
           }
          ],
          "histogram": [
           {
            "marker": {
             "pattern": {
              "fillmode": "overlay",
              "size": 10,
              "solidity": 0.2
             }
            },
            "type": "histogram"
           }
          ],
          "histogram2d": [
           {
            "colorbar": {
             "outlinewidth": 0,
             "ticks": ""
            },
            "colorscale": [
             [
              0,
              "#0d0887"
             ],
             [
              0.1111111111111111,
              "#46039f"
             ],
             [
              0.2222222222222222,
              "#7201a8"
             ],
             [
              0.3333333333333333,
              "#9c179e"
             ],
             [
              0.4444444444444444,
              "#bd3786"
             ],
             [
              0.5555555555555556,
              "#d8576b"
             ],
             [
              0.6666666666666666,
              "#ed7953"
             ],
             [
              0.7777777777777778,
              "#fb9f3a"
             ],
             [
              0.8888888888888888,
              "#fdca26"
             ],
             [
              1,
              "#f0f921"
             ]
            ],
            "type": "histogram2d"
           }
          ],
          "histogram2dcontour": [
           {
            "colorbar": {
             "outlinewidth": 0,
             "ticks": ""
            },
            "colorscale": [
             [
              0,
              "#0d0887"
             ],
             [
              0.1111111111111111,
              "#46039f"
             ],
             [
              0.2222222222222222,
              "#7201a8"
             ],
             [
              0.3333333333333333,
              "#9c179e"
             ],
             [
              0.4444444444444444,
              "#bd3786"
             ],
             [
              0.5555555555555556,
              "#d8576b"
             ],
             [
              0.6666666666666666,
              "#ed7953"
             ],
             [
              0.7777777777777778,
              "#fb9f3a"
             ],
             [
              0.8888888888888888,
              "#fdca26"
             ],
             [
              1,
              "#f0f921"
             ]
            ],
            "type": "histogram2dcontour"
           }
          ],
          "mesh3d": [
           {
            "colorbar": {
             "outlinewidth": 0,
             "ticks": ""
            },
            "type": "mesh3d"
           }
          ],
          "parcoords": [
           {
            "line": {
             "colorbar": {
              "outlinewidth": 0,
              "ticks": ""
             }
            },
            "type": "parcoords"
           }
          ],
          "pie": [
           {
            "automargin": true,
            "type": "pie"
           }
          ],
          "scatter": [
           {
            "fillpattern": {
             "fillmode": "overlay",
             "size": 10,
             "solidity": 0.2
            },
            "type": "scatter"
           }
          ],
          "scatter3d": [
           {
            "line": {
             "colorbar": {
              "outlinewidth": 0,
              "ticks": ""
             }
            },
            "marker": {
             "colorbar": {
              "outlinewidth": 0,
              "ticks": ""
             }
            },
            "type": "scatter3d"
           }
          ],
          "scattercarpet": [
           {
            "marker": {
             "colorbar": {
              "outlinewidth": 0,
              "ticks": ""
             }
            },
            "type": "scattercarpet"
           }
          ],
          "scattergeo": [
           {
            "marker": {
             "colorbar": {
              "outlinewidth": 0,
              "ticks": ""
             }
            },
            "type": "scattergeo"
           }
          ],
          "scattergl": [
           {
            "marker": {
             "colorbar": {
              "outlinewidth": 0,
              "ticks": ""
             }
            },
            "type": "scattergl"
           }
          ],
          "scattermapbox": [
           {
            "marker": {
             "colorbar": {
              "outlinewidth": 0,
              "ticks": ""
             }
            },
            "type": "scattermapbox"
           }
          ],
          "scatterpolar": [
           {
            "marker": {
             "colorbar": {
              "outlinewidth": 0,
              "ticks": ""
             }
            },
            "type": "scatterpolar"
           }
          ],
          "scatterpolargl": [
           {
            "marker": {
             "colorbar": {
              "outlinewidth": 0,
              "ticks": ""
             }
            },
            "type": "scatterpolargl"
           }
          ],
          "scatterternary": [
           {
            "marker": {
             "colorbar": {
              "outlinewidth": 0,
              "ticks": ""
             }
            },
            "type": "scatterternary"
           }
          ],
          "surface": [
           {
            "colorbar": {
             "outlinewidth": 0,
             "ticks": ""
            },
            "colorscale": [
             [
              0,
              "#0d0887"
             ],
             [
              0.1111111111111111,
              "#46039f"
             ],
             [
              0.2222222222222222,
              "#7201a8"
             ],
             [
              0.3333333333333333,
              "#9c179e"
             ],
             [
              0.4444444444444444,
              "#bd3786"
             ],
             [
              0.5555555555555556,
              "#d8576b"
             ],
             [
              0.6666666666666666,
              "#ed7953"
             ],
             [
              0.7777777777777778,
              "#fb9f3a"
             ],
             [
              0.8888888888888888,
              "#fdca26"
             ],
             [
              1,
              "#f0f921"
             ]
            ],
            "type": "surface"
           }
          ],
          "table": [
           {
            "cells": {
             "fill": {
              "color": "#EBF0F8"
             },
             "line": {
              "color": "white"
             }
            },
            "header": {
             "fill": {
              "color": "#C8D4E3"
             },
             "line": {
              "color": "white"
             }
            },
            "type": "table"
           }
          ]
         },
         "layout": {
          "annotationdefaults": {
           "arrowcolor": "#2a3f5f",
           "arrowhead": 0,
           "arrowwidth": 1
          },
          "autotypenumbers": "strict",
          "coloraxis": {
           "colorbar": {
            "outlinewidth": 0,
            "ticks": ""
           }
          },
          "colorscale": {
           "diverging": [
            [
             0,
             "#8e0152"
            ],
            [
             0.1,
             "#c51b7d"
            ],
            [
             0.2,
             "#de77ae"
            ],
            [
             0.3,
             "#f1b6da"
            ],
            [
             0.4,
             "#fde0ef"
            ],
            [
             0.5,
             "#f7f7f7"
            ],
            [
             0.6,
             "#e6f5d0"
            ],
            [
             0.7,
             "#b8e186"
            ],
            [
             0.8,
             "#7fbc41"
            ],
            [
             0.9,
             "#4d9221"
            ],
            [
             1,
             "#276419"
            ]
           ],
           "sequential": [
            [
             0,
             "#0d0887"
            ],
            [
             0.1111111111111111,
             "#46039f"
            ],
            [
             0.2222222222222222,
             "#7201a8"
            ],
            [
             0.3333333333333333,
             "#9c179e"
            ],
            [
             0.4444444444444444,
             "#bd3786"
            ],
            [
             0.5555555555555556,
             "#d8576b"
            ],
            [
             0.6666666666666666,
             "#ed7953"
            ],
            [
             0.7777777777777778,
             "#fb9f3a"
            ],
            [
             0.8888888888888888,
             "#fdca26"
            ],
            [
             1,
             "#f0f921"
            ]
           ],
           "sequentialminus": [
            [
             0,
             "#0d0887"
            ],
            [
             0.1111111111111111,
             "#46039f"
            ],
            [
             0.2222222222222222,
             "#7201a8"
            ],
            [
             0.3333333333333333,
             "#9c179e"
            ],
            [
             0.4444444444444444,
             "#bd3786"
            ],
            [
             0.5555555555555556,
             "#d8576b"
            ],
            [
             0.6666666666666666,
             "#ed7953"
            ],
            [
             0.7777777777777778,
             "#fb9f3a"
            ],
            [
             0.8888888888888888,
             "#fdca26"
            ],
            [
             1,
             "#f0f921"
            ]
           ]
          },
          "colorway": [
           "#636efa",
           "#EF553B",
           "#00cc96",
           "#ab63fa",
           "#FFA15A",
           "#19d3f3",
           "#FF6692",
           "#B6E880",
           "#FF97FF",
           "#FECB52"
          ],
          "font": {
           "color": "#2a3f5f"
          },
          "geo": {
           "bgcolor": "white",
           "lakecolor": "white",
           "landcolor": "#E5ECF6",
           "showlakes": true,
           "showland": true,
           "subunitcolor": "white"
          },
          "hoverlabel": {
           "align": "left"
          },
          "hovermode": "closest",
          "mapbox": {
           "style": "light"
          },
          "paper_bgcolor": "white",
          "plot_bgcolor": "#E5ECF6",
          "polar": {
           "angularaxis": {
            "gridcolor": "white",
            "linecolor": "white",
            "ticks": ""
           },
           "bgcolor": "#E5ECF6",
           "radialaxis": {
            "gridcolor": "white",
            "linecolor": "white",
            "ticks": ""
           }
          },
          "scene": {
           "xaxis": {
            "backgroundcolor": "#E5ECF6",
            "gridcolor": "white",
            "gridwidth": 2,
            "linecolor": "white",
            "showbackground": true,
            "ticks": "",
            "zerolinecolor": "white"
           },
           "yaxis": {
            "backgroundcolor": "#E5ECF6",
            "gridcolor": "white",
            "gridwidth": 2,
            "linecolor": "white",
            "showbackground": true,
            "ticks": "",
            "zerolinecolor": "white"
           },
           "zaxis": {
            "backgroundcolor": "#E5ECF6",
            "gridcolor": "white",
            "gridwidth": 2,
            "linecolor": "white",
            "showbackground": true,
            "ticks": "",
            "zerolinecolor": "white"
           }
          },
          "shapedefaults": {
           "line": {
            "color": "#2a3f5f"
           }
          },
          "ternary": {
           "aaxis": {
            "gridcolor": "white",
            "linecolor": "white",
            "ticks": ""
           },
           "baxis": {
            "gridcolor": "white",
            "linecolor": "white",
            "ticks": ""
           },
           "bgcolor": "#E5ECF6",
           "caxis": {
            "gridcolor": "white",
            "linecolor": "white",
            "ticks": ""
           }
          },
          "title": {
           "x": 0.05
          },
          "xaxis": {
           "automargin": true,
           "gridcolor": "white",
           "linecolor": "white",
           "ticks": "",
           "title": {
            "standoff": 15
           },
           "zerolinecolor": "white",
           "zerolinewidth": 2
          },
          "yaxis": {
           "automargin": true,
           "gridcolor": "white",
           "linecolor": "white",
           "ticks": "",
           "title": {
            "standoff": 15
           },
           "zerolinecolor": "white",
           "zerolinewidth": 2
          }
         }
        },
        "title": {
         "text": "Test Precision | Session Size"
        },
        "width": 800
       }
      }
     },
     "metadata": {},
     "output_type": "display_data"
    }
   ],
   "source": [
    "# plot_contours(\n",
    "#     test_prec_sess.copy(),\n",
    "#     'session_bin',\n",
    "#     'Window',\n",
    "#     'experiment',\n",
    "#     'precision',\n",
    "#     'test_prec_sess',\n",
    "#     'Test Precision | Session Size'\n",
    "# )"
   ]
  },
  {
   "cell_type": "code",
   "execution_count": 24,
   "metadata": {},
   "outputs": [
    {
     "name": "stdout",
     "output_type": "stream",
     "text": [
      "identifying evaluation recall session\n",
      "Identifying max session time\n",
      "Binning sessions\n",
      "Sessions binned: performing melt\n",
      "Sessions melted: dropping na\n",
      "Converting to binary\n",
      "Grouping by session bin, model, and experiment\n",
      "Performing recall: zero division set to 1\n",
      "Performing final metadata operations\n",
      "identifying test recall session\n",
      "Identifying max session time\n",
      "Binning sessions\n",
      "Sessions binned: performing melt\n",
      "Sessions melted: dropping na\n",
      "Converting to binary\n",
      "Grouping by session bin, model, and experiment\n",
      "Performing recall: zero division set to 1\n",
      "Performing final metadata operations\n",
      "identifying evaluation recall platform\n",
      "Binning users based on platform time\n",
      "Performing melt\n",
      "Dropping na and renaming\n",
      "Converting to binary\n",
      "Grouping by user bin, model, and experiment\n",
      "Performing recall: zero division set to 1\n",
      "Performing final metadata operations\n",
      "identifying test recall platform\n",
      "Binning users based on platform time\n",
      "Performing melt\n",
      "Dropping na and renaming\n",
      "Converting to binary\n",
      "Grouping by user bin, model, and experiment\n",
      "Performing recall: zero division set to 1\n",
      "Performing final metadata operations\n"
     ]
    }
   ],
   "source": [
    "# print('identifying evaluation recall session')\n",
    "# eval_rec_sess = generate_sess(eval_auc_df, MODEL_LIST, recall_score, 'recall')\n",
    "# print('identifying test recall session')\n",
    "# test_rec_sess = generate_sess(test_auc_df, MODEL_LIST, recall_score, 'recall')\n",
    "\n",
    "# print('identifying evaluation recall platform')\n",
    "# eval_rec_plat = generate_plat(eval_auc_df, MODEL_LIST, recall_score, 'recall')\n",
    "# print('identifying test recall platform')\n",
    "# test_rec_plat = generate_plat(test_auc_df, MODEL_LIST, recall_score, 'recall')\n",
    "\n"
   ]
  },
  {
   "cell_type": "code",
   "execution_count": 31,
   "metadata": {},
   "outputs": [],
   "source": [
    "# eval_rec_sess.to_csv('lstm_plots/metric_graphs/granular/eval_rec_sess.csv')\n",
    "# test_rec_sess.to_csv('lstm_plots/metric_graphs/granular/test_rec_sess.csv')\n",
    "# eval_rec_plat.to_csv('lstm_plots/metric_graphs/granular/eval_rec_plat.csv')\n",
    "# test_rec_plat.to_csv('lstm_plots/metric_graphs/granular/test_rec_plat.csv') "
   ]
  },
  {
   "cell_type": "code",
   "execution_count": 25,
   "metadata": {},
   "outputs": [
    {
     "data": {
      "application/vnd.plotly.v1+json": {
       "config": {
        "plotlyServerURL": "https://plot.ly"
       },
       "data": [
        {
         "alphahull": 0.5,
         "colorscale": [
          [
           0,
           "rgb(3, 35, 51)"
          ],
          [
           0.09090909090909091,
           "rgb(13, 48, 100)"
          ],
          [
           0.18181818181818182,
           "rgb(53, 50, 155)"
          ],
          [
           0.2727272727272727,
           "rgb(93, 62, 153)"
          ],
          [
           0.36363636363636365,
           "rgb(126, 77, 143)"
          ],
          [
           0.45454545454545453,
           "rgb(158, 89, 135)"
          ],
          [
           0.5454545454545454,
           "rgb(193, 100, 121)"
          ],
          [
           0.6363636363636364,
           "rgb(225, 113, 97)"
          ],
          [
           0.7272727272727273,
           "rgb(246, 139, 69)"
          ],
          [
           0.8181818181818182,
           "rgb(251, 173, 60)"
          ],
          [
           0.9090909090909091,
           "rgb(246, 211, 70)"
          ],
          [
           1,
           "rgb(231, 250, 90)"
          ]
         ],
         "i": [
          123,
          123,
          123,
          139,
          144,
          141,
          132,
          130,
          92,
          94,
          114,
          114,
          130,
          114,
          94,
          83,
          120,
          123,
          110,
          112,
          110,
          110,
          94,
          110,
          114,
          112,
          104,
          99,
          99,
          83,
          99,
          84,
          48,
          31,
          48,
          36,
          36,
          20,
          5,
          20,
          31,
          20,
          16,
          20,
          26,
          44,
          26,
          11,
          36,
          26,
          26,
          21,
          44,
          56,
          56,
          36,
          73,
          73,
          56,
          73,
          67,
          56,
          67,
          71,
          48,
          64,
          83,
          67,
          79,
          64,
          61,
          61
         ],
         "intensity": [
          0.7528148520762913,
          0.4000122231572415,
          0.15453335051325,
          0.13891618204982348,
          0.4840041182637475,
          0.13000901945625565,
          0.745673707518652,
          0.7458476524486275,
          0.13825537946140962,
          0.7427824607096013,
          0.4110224671032528,
          0.16849203281364086,
          0.25630080249728504,
          0.4153099745664305,
          0.17849933427822876,
          0.7888368779892134,
          0.42642210237101863,
          0.18140458267846804,
          0.16061361554899767,
          0.5110664495776941,
          0.14864753081313592,
          0.7848478681184492,
          0.7850106848478681,
          0.1488543303829928,
          0.786822020962654,
          0.43351480614633153,
          0.1808669037968401,
          0.27753637936297954,
          0.44490688918286353,
          0.19114484241872776,
          0.815943139088395,
          0.4573393947834391,
          0.19890684074142254,
          0.18444482024550862,
          0.5304498338738237,
          0.17136545786664023,
          0.8068211209040447,
          0.8064580307582118,
          0.16339332493167755,
          0.8195740405467242,
          0.45524540914788214,
          0.20224862293085627,
          0.3092185106340648,
          0.4615820782683087,
          0.20455671825660923,
          0.8338052361822967,
          0.4840559634298379,
          0.20444337730572582,
          0.18288959689707715,
          0.5710763263609918,
          0.17543289737578036,
          0.8244188945837374,
          0.824585122593157,
          0.1729894635744753,
          0.8349909959828231,
          0.48921457265549245,
          0.2038501737239061,
          0.3198503947915224,
          0.49688876575703006,
          0.21243750176548684,
          0.8737912806839908,
          0.5392578108000685,
          0.23868002043037018,
          0.20538001584064197,
          0.6220092084611077,
          0.19570962226022073,
          0.8603615495977464,
          0.8604253763603079,
          0.1837678488152606,
          0.8739044281267135,
          0.5333857486444066,
          0.23860784792698364,
          0.3528285410072443,
          0.5462903595477584,
          0.23753081210721502,
          0.9048912640645151,
          0.6083097380553538,
          0.3153432663516,
          0.2871532976562847,
          0.6837133284907423,
          0.2822011376071768,
          0.8986687815942007,
          0.8985983663667225,
          0.2612888872854961,
          0.9077486398742903,
          0.6052781772091851,
          0.3144293324675012,
          0.42031961101145915,
          0.6182419911943905,
          0.3239354474067126,
          0.9153284746274694,
          0.6374811526754881,
          0.35760550586920065,
          0.29589211522659026,
          0.7198820394277069,
          0.3268306316377865,
          0.9102726558280151,
          0.9103750521581306,
          0.3130030743432085,
          0.9179728598527028,
          0.6435353356935687,
          0.35324203465623255,
          0.4510430346176393,
          0.6604000112635963,
          0.3660634432643935,
          0.9615947496619791,
          0.7330191975611856,
          0.44776131374761374,
          0.36740972183539017,
          0.8087080259073393,
          0.4155646580074543,
          0.9601261944670917,
          0.9602907739285877,
          0.4143240627356195,
          0.9643748765654039,
          0.7563692251598952,
          0.45390814247595007,
          0.5417930552531232,
          0.7721789814303728,
          0.4671563096568578,
          0.980217124422644,
          0.8520757292991351,
          0.6286685357250305,
          0.5816391132251014,
          0.9012783035227667,
          0.6096233251507528,
          0.9743375888398927,
          0.9743706199386722,
          0.6117510867716885,
          0.9748110345890656,
          0.8717374908476331,
          0.6467065476631684,
          0.7262602740480162,
          0.8790263533116429,
          0.6582173892190505,
          0.9897570309435723,
          0.8978989325050618,
          0.8290747310238562,
          0.7017586634581747,
          0.9475342669055368,
          0.8160749639424154,
          0.9705696839918162,
          0.9705060795267828,
          0.8285002732313866,
          0.9794160050035513,
          0.9288372043717469,
          0.8464372418859236,
          0.8213244569768797,
          0.9321287354372277,
          0.8448616822095013
         ],
         "j": [
          139,
          141,
          120,
          123,
          130,
          130,
          130,
          144,
          94,
          79,
          132,
          130,
          114,
          112,
          83,
          94,
          110,
          110,
          123,
          110,
          92,
          94,
          110,
          112,
          99,
          99,
          99,
          114,
          83,
          99,
          104,
          99,
          31,
          48,
          36,
          48,
          20,
          36,
          20,
          21,
          20,
          31,
          20,
          5,
          44,
          26,
          29,
          26,
          26,
          36,
          11,
          26,
          56,
          44,
          36,
          56,
          84,
          71,
          73,
          56,
          56,
          67,
          83,
          67,
          67,
          67,
          67,
          64,
          61,
          61,
          48,
          64
         ],
         "k": [
          141,
          126,
          135,
          135,
          141,
          126,
          147,
          147,
          77,
          77,
          117,
          132,
          126,
          126,
          79,
          97,
          106,
          120,
          126,
          126,
          106,
          92,
          97,
          97,
          112,
          97,
          117,
          117,
          97,
          84,
          88,
          88,
          45,
          35,
          35,
          53,
          35,
          21,
          6,
          6,
          16,
          35,
          0,
          0,
          29,
          40,
          12,
          12,
          21,
          40,
          6,
          6,
          58,
          40,
          53,
          40,
          88,
          84,
          58,
          71,
          53,
          71,
          84,
          84,
          53,
          48,
          79,
          79,
          77,
          79,
          45,
          48
         ],
         "type": "mesh3d",
         "x": [
          30,
          30,
          30,
          30,
          30,
          30,
          30,
          30,
          30,
          30,
          30,
          30,
          30,
          30,
          30,
          35,
          35,
          35,
          35,
          35,
          35,
          35,
          35,
          35,
          35,
          35,
          35,
          35,
          35,
          35,
          40,
          40,
          40,
          40,
          40,
          40,
          40,
          40,
          40,
          40,
          40,
          40,
          40,
          40,
          40,
          45,
          45,
          45,
          45,
          45,
          45,
          45,
          45,
          45,
          45,
          45,
          45,
          45,
          45,
          45,
          50,
          50,
          50,
          50,
          50,
          50,
          50,
          50,
          50,
          50,
          50,
          50,
          50,
          50,
          50,
          60,
          60,
          60,
          60,
          60,
          60,
          60,
          60,
          60,
          60,
          60,
          60,
          60,
          60,
          60,
          70,
          70,
          70,
          70,
          70,
          70,
          70,
          70,
          70,
          70,
          70,
          70,
          70,
          70,
          70,
          90,
          90,
          90,
          90,
          90,
          90,
          90,
          90,
          90,
          90,
          90,
          90,
          90,
          90,
          90,
          120,
          120,
          120,
          120,
          120,
          120,
          120,
          120,
          120,
          120,
          120,
          120,
          120,
          120,
          120,
          180,
          180,
          180,
          180,
          180,
          180,
          180,
          180,
          180,
          180,
          180,
          180,
          180,
          180,
          180
         ],
         "y": [
          1,
          1,
          1,
          10,
          10,
          10,
          20,
          20,
          20,
          30,
          30,
          30,
          40,
          40,
          40,
          1,
          1,
          1,
          10,
          10,
          10,
          20,
          20,
          20,
          30,
          30,
          30,
          40,
          40,
          40,
          1,
          1,
          1,
          10,
          10,
          10,
          20,
          20,
          20,
          30,
          30,
          30,
          40,
          40,
          40,
          1,
          1,
          1,
          10,
          10,
          10,
          20,
          20,
          20,
          30,
          30,
          30,
          40,
          40,
          40,
          1,
          1,
          1,
          10,
          10,
          10,
          20,
          20,
          20,
          30,
          30,
          30,
          40,
          40,
          40,
          1,
          1,
          1,
          10,
          10,
          10,
          20,
          20,
          20,
          30,
          30,
          30,
          40,
          40,
          40,
          1,
          1,
          1,
          10,
          10,
          10,
          20,
          20,
          20,
          30,
          30,
          30,
          40,
          40,
          40,
          1,
          1,
          1,
          10,
          10,
          10,
          20,
          20,
          20,
          30,
          30,
          30,
          40,
          40,
          40,
          1,
          1,
          1,
          10,
          10,
          10,
          20,
          20,
          20,
          30,
          30,
          30,
          40,
          40,
          40,
          1,
          1,
          1,
          10,
          10,
          10,
          20,
          20,
          20,
          30,
          30,
          30,
          40,
          40,
          40
         ],
         "z": [
          10,
          20,
          30,
          10,
          20,
          30,
          10,
          20,
          30,
          10,
          20,
          30,
          10,
          20,
          30,
          10,
          20,
          30,
          10,
          20,
          30,
          10,
          20,
          30,
          10,
          20,
          30,
          10,
          20,
          30,
          10,
          20,
          30,
          10,
          20,
          30,
          10,
          20,
          30,
          10,
          20,
          30,
          10,
          20,
          30,
          10,
          20,
          30,
          10,
          20,
          30,
          10,
          20,
          30,
          10,
          20,
          30,
          10,
          20,
          30,
          10,
          20,
          30,
          10,
          20,
          30,
          10,
          20,
          30,
          10,
          20,
          30,
          10,
          20,
          30,
          10,
          20,
          30,
          10,
          20,
          30,
          10,
          20,
          30,
          10,
          20,
          30,
          10,
          20,
          30,
          10,
          20,
          30,
          10,
          20,
          30,
          10,
          20,
          30,
          10,
          20,
          30,
          10,
          20,
          30,
          10,
          20,
          30,
          10,
          20,
          30,
          10,
          20,
          30,
          10,
          20,
          30,
          10,
          20,
          30,
          10,
          20,
          30,
          10,
          20,
          30,
          10,
          20,
          30,
          10,
          20,
          30,
          10,
          20,
          30,
          10,
          20,
          30,
          10,
          20,
          30,
          10,
          20,
          30,
          10,
          20,
          30,
          10,
          20,
          30
         ]
        }
       ],
       "layout": {
        "height": 500,
        "scene": {
         "xaxis": {
          "title": {
           "text": "session_bin"
          }
         },
         "yaxis": {
          "title": {
           "text": "Window"
          }
         },
         "zaxis": {
          "title": {
           "text": "experiment"
          }
         }
        },
        "template": {
         "data": {
          "bar": [
           {
            "error_x": {
             "color": "#2a3f5f"
            },
            "error_y": {
             "color": "#2a3f5f"
            },
            "marker": {
             "line": {
              "color": "#E5ECF6",
              "width": 0.5
             },
             "pattern": {
              "fillmode": "overlay",
              "size": 10,
              "solidity": 0.2
             }
            },
            "type": "bar"
           }
          ],
          "barpolar": [
           {
            "marker": {
             "line": {
              "color": "#E5ECF6",
              "width": 0.5
             },
             "pattern": {
              "fillmode": "overlay",
              "size": 10,
              "solidity": 0.2
             }
            },
            "type": "barpolar"
           }
          ],
          "carpet": [
           {
            "aaxis": {
             "endlinecolor": "#2a3f5f",
             "gridcolor": "white",
             "linecolor": "white",
             "minorgridcolor": "white",
             "startlinecolor": "#2a3f5f"
            },
            "baxis": {
             "endlinecolor": "#2a3f5f",
             "gridcolor": "white",
             "linecolor": "white",
             "minorgridcolor": "white",
             "startlinecolor": "#2a3f5f"
            },
            "type": "carpet"
           }
          ],
          "choropleth": [
           {
            "colorbar": {
             "outlinewidth": 0,
             "ticks": ""
            },
            "type": "choropleth"
           }
          ],
          "contour": [
           {
            "colorbar": {
             "outlinewidth": 0,
             "ticks": ""
            },
            "colorscale": [
             [
              0,
              "#0d0887"
             ],
             [
              0.1111111111111111,
              "#46039f"
             ],
             [
              0.2222222222222222,
              "#7201a8"
             ],
             [
              0.3333333333333333,
              "#9c179e"
             ],
             [
              0.4444444444444444,
              "#bd3786"
             ],
             [
              0.5555555555555556,
              "#d8576b"
             ],
             [
              0.6666666666666666,
              "#ed7953"
             ],
             [
              0.7777777777777778,
              "#fb9f3a"
             ],
             [
              0.8888888888888888,
              "#fdca26"
             ],
             [
              1,
              "#f0f921"
             ]
            ],
            "type": "contour"
           }
          ],
          "contourcarpet": [
           {
            "colorbar": {
             "outlinewidth": 0,
             "ticks": ""
            },
            "type": "contourcarpet"
           }
          ],
          "heatmap": [
           {
            "colorbar": {
             "outlinewidth": 0,
             "ticks": ""
            },
            "colorscale": [
             [
              0,
              "#0d0887"
             ],
             [
              0.1111111111111111,
              "#46039f"
             ],
             [
              0.2222222222222222,
              "#7201a8"
             ],
             [
              0.3333333333333333,
              "#9c179e"
             ],
             [
              0.4444444444444444,
              "#bd3786"
             ],
             [
              0.5555555555555556,
              "#d8576b"
             ],
             [
              0.6666666666666666,
              "#ed7953"
             ],
             [
              0.7777777777777778,
              "#fb9f3a"
             ],
             [
              0.8888888888888888,
              "#fdca26"
             ],
             [
              1,
              "#f0f921"
             ]
            ],
            "type": "heatmap"
           }
          ],
          "heatmapgl": [
           {
            "colorbar": {
             "outlinewidth": 0,
             "ticks": ""
            },
            "colorscale": [
             [
              0,
              "#0d0887"
             ],
             [
              0.1111111111111111,
              "#46039f"
             ],
             [
              0.2222222222222222,
              "#7201a8"
             ],
             [
              0.3333333333333333,
              "#9c179e"
             ],
             [
              0.4444444444444444,
              "#bd3786"
             ],
             [
              0.5555555555555556,
              "#d8576b"
             ],
             [
              0.6666666666666666,
              "#ed7953"
             ],
             [
              0.7777777777777778,
              "#fb9f3a"
             ],
             [
              0.8888888888888888,
              "#fdca26"
             ],
             [
              1,
              "#f0f921"
             ]
            ],
            "type": "heatmapgl"
           }
          ],
          "histogram": [
           {
            "marker": {
             "pattern": {
              "fillmode": "overlay",
              "size": 10,
              "solidity": 0.2
             }
            },
            "type": "histogram"
           }
          ],
          "histogram2d": [
           {
            "colorbar": {
             "outlinewidth": 0,
             "ticks": ""
            },
            "colorscale": [
             [
              0,
              "#0d0887"
             ],
             [
              0.1111111111111111,
              "#46039f"
             ],
             [
              0.2222222222222222,
              "#7201a8"
             ],
             [
              0.3333333333333333,
              "#9c179e"
             ],
             [
              0.4444444444444444,
              "#bd3786"
             ],
             [
              0.5555555555555556,
              "#d8576b"
             ],
             [
              0.6666666666666666,
              "#ed7953"
             ],
             [
              0.7777777777777778,
              "#fb9f3a"
             ],
             [
              0.8888888888888888,
              "#fdca26"
             ],
             [
              1,
              "#f0f921"
             ]
            ],
            "type": "histogram2d"
           }
          ],
          "histogram2dcontour": [
           {
            "colorbar": {
             "outlinewidth": 0,
             "ticks": ""
            },
            "colorscale": [
             [
              0,
              "#0d0887"
             ],
             [
              0.1111111111111111,
              "#46039f"
             ],
             [
              0.2222222222222222,
              "#7201a8"
             ],
             [
              0.3333333333333333,
              "#9c179e"
             ],
             [
              0.4444444444444444,
              "#bd3786"
             ],
             [
              0.5555555555555556,
              "#d8576b"
             ],
             [
              0.6666666666666666,
              "#ed7953"
             ],
             [
              0.7777777777777778,
              "#fb9f3a"
             ],
             [
              0.8888888888888888,
              "#fdca26"
             ],
             [
              1,
              "#f0f921"
             ]
            ],
            "type": "histogram2dcontour"
           }
          ],
          "mesh3d": [
           {
            "colorbar": {
             "outlinewidth": 0,
             "ticks": ""
            },
            "type": "mesh3d"
           }
          ],
          "parcoords": [
           {
            "line": {
             "colorbar": {
              "outlinewidth": 0,
              "ticks": ""
             }
            },
            "type": "parcoords"
           }
          ],
          "pie": [
           {
            "automargin": true,
            "type": "pie"
           }
          ],
          "scatter": [
           {
            "fillpattern": {
             "fillmode": "overlay",
             "size": 10,
             "solidity": 0.2
            },
            "type": "scatter"
           }
          ],
          "scatter3d": [
           {
            "line": {
             "colorbar": {
              "outlinewidth": 0,
              "ticks": ""
             }
            },
            "marker": {
             "colorbar": {
              "outlinewidth": 0,
              "ticks": ""
             }
            },
            "type": "scatter3d"
           }
          ],
          "scattercarpet": [
           {
            "marker": {
             "colorbar": {
              "outlinewidth": 0,
              "ticks": ""
             }
            },
            "type": "scattercarpet"
           }
          ],
          "scattergeo": [
           {
            "marker": {
             "colorbar": {
              "outlinewidth": 0,
              "ticks": ""
             }
            },
            "type": "scattergeo"
           }
          ],
          "scattergl": [
           {
            "marker": {
             "colorbar": {
              "outlinewidth": 0,
              "ticks": ""
             }
            },
            "type": "scattergl"
           }
          ],
          "scattermapbox": [
           {
            "marker": {
             "colorbar": {
              "outlinewidth": 0,
              "ticks": ""
             }
            },
            "type": "scattermapbox"
           }
          ],
          "scatterpolar": [
           {
            "marker": {
             "colorbar": {
              "outlinewidth": 0,
              "ticks": ""
             }
            },
            "type": "scatterpolar"
           }
          ],
          "scatterpolargl": [
           {
            "marker": {
             "colorbar": {
              "outlinewidth": 0,
              "ticks": ""
             }
            },
            "type": "scatterpolargl"
           }
          ],
          "scatterternary": [
           {
            "marker": {
             "colorbar": {
              "outlinewidth": 0,
              "ticks": ""
             }
            },
            "type": "scatterternary"
           }
          ],
          "surface": [
           {
            "colorbar": {
             "outlinewidth": 0,
             "ticks": ""
            },
            "colorscale": [
             [
              0,
              "#0d0887"
             ],
             [
              0.1111111111111111,
              "#46039f"
             ],
             [
              0.2222222222222222,
              "#7201a8"
             ],
             [
              0.3333333333333333,
              "#9c179e"
             ],
             [
              0.4444444444444444,
              "#bd3786"
             ],
             [
              0.5555555555555556,
              "#d8576b"
             ],
             [
              0.6666666666666666,
              "#ed7953"
             ],
             [
              0.7777777777777778,
              "#fb9f3a"
             ],
             [
              0.8888888888888888,
              "#fdca26"
             ],
             [
              1,
              "#f0f921"
             ]
            ],
            "type": "surface"
           }
          ],
          "table": [
           {
            "cells": {
             "fill": {
              "color": "#EBF0F8"
             },
             "line": {
              "color": "white"
             }
            },
            "header": {
             "fill": {
              "color": "#C8D4E3"
             },
             "line": {
              "color": "white"
             }
            },
            "type": "table"
           }
          ]
         },
         "layout": {
          "annotationdefaults": {
           "arrowcolor": "#2a3f5f",
           "arrowhead": 0,
           "arrowwidth": 1
          },
          "autotypenumbers": "strict",
          "coloraxis": {
           "colorbar": {
            "outlinewidth": 0,
            "ticks": ""
           }
          },
          "colorscale": {
           "diverging": [
            [
             0,
             "#8e0152"
            ],
            [
             0.1,
             "#c51b7d"
            ],
            [
             0.2,
             "#de77ae"
            ],
            [
             0.3,
             "#f1b6da"
            ],
            [
             0.4,
             "#fde0ef"
            ],
            [
             0.5,
             "#f7f7f7"
            ],
            [
             0.6,
             "#e6f5d0"
            ],
            [
             0.7,
             "#b8e186"
            ],
            [
             0.8,
             "#7fbc41"
            ],
            [
             0.9,
             "#4d9221"
            ],
            [
             1,
             "#276419"
            ]
           ],
           "sequential": [
            [
             0,
             "#0d0887"
            ],
            [
             0.1111111111111111,
             "#46039f"
            ],
            [
             0.2222222222222222,
             "#7201a8"
            ],
            [
             0.3333333333333333,
             "#9c179e"
            ],
            [
             0.4444444444444444,
             "#bd3786"
            ],
            [
             0.5555555555555556,
             "#d8576b"
            ],
            [
             0.6666666666666666,
             "#ed7953"
            ],
            [
             0.7777777777777778,
             "#fb9f3a"
            ],
            [
             0.8888888888888888,
             "#fdca26"
            ],
            [
             1,
             "#f0f921"
            ]
           ],
           "sequentialminus": [
            [
             0,
             "#0d0887"
            ],
            [
             0.1111111111111111,
             "#46039f"
            ],
            [
             0.2222222222222222,
             "#7201a8"
            ],
            [
             0.3333333333333333,
             "#9c179e"
            ],
            [
             0.4444444444444444,
             "#bd3786"
            ],
            [
             0.5555555555555556,
             "#d8576b"
            ],
            [
             0.6666666666666666,
             "#ed7953"
            ],
            [
             0.7777777777777778,
             "#fb9f3a"
            ],
            [
             0.8888888888888888,
             "#fdca26"
            ],
            [
             1,
             "#f0f921"
            ]
           ]
          },
          "colorway": [
           "#636efa",
           "#EF553B",
           "#00cc96",
           "#ab63fa",
           "#FFA15A",
           "#19d3f3",
           "#FF6692",
           "#B6E880",
           "#FF97FF",
           "#FECB52"
          ],
          "font": {
           "color": "#2a3f5f"
          },
          "geo": {
           "bgcolor": "white",
           "lakecolor": "white",
           "landcolor": "#E5ECF6",
           "showlakes": true,
           "showland": true,
           "subunitcolor": "white"
          },
          "hoverlabel": {
           "align": "left"
          },
          "hovermode": "closest",
          "mapbox": {
           "style": "light"
          },
          "paper_bgcolor": "white",
          "plot_bgcolor": "#E5ECF6",
          "polar": {
           "angularaxis": {
            "gridcolor": "white",
            "linecolor": "white",
            "ticks": ""
           },
           "bgcolor": "#E5ECF6",
           "radialaxis": {
            "gridcolor": "white",
            "linecolor": "white",
            "ticks": ""
           }
          },
          "scene": {
           "xaxis": {
            "backgroundcolor": "#E5ECF6",
            "gridcolor": "white",
            "gridwidth": 2,
            "linecolor": "white",
            "showbackground": true,
            "ticks": "",
            "zerolinecolor": "white"
           },
           "yaxis": {
            "backgroundcolor": "#E5ECF6",
            "gridcolor": "white",
            "gridwidth": 2,
            "linecolor": "white",
            "showbackground": true,
            "ticks": "",
            "zerolinecolor": "white"
           },
           "zaxis": {
            "backgroundcolor": "#E5ECF6",
            "gridcolor": "white",
            "gridwidth": 2,
            "linecolor": "white",
            "showbackground": true,
            "ticks": "",
            "zerolinecolor": "white"
           }
          },
          "shapedefaults": {
           "line": {
            "color": "#2a3f5f"
           }
          },
          "ternary": {
           "aaxis": {
            "gridcolor": "white",
            "linecolor": "white",
            "ticks": ""
           },
           "baxis": {
            "gridcolor": "white",
            "linecolor": "white",
            "ticks": ""
           },
           "bgcolor": "#E5ECF6",
           "caxis": {
            "gridcolor": "white",
            "linecolor": "white",
            "ticks": ""
           }
          },
          "title": {
           "x": 0.05
          },
          "xaxis": {
           "automargin": true,
           "gridcolor": "white",
           "linecolor": "white",
           "ticks": "",
           "title": {
            "standoff": 15
           },
           "zerolinecolor": "white",
           "zerolinewidth": 2
          },
          "yaxis": {
           "automargin": true,
           "gridcolor": "white",
           "linecolor": "white",
           "ticks": "",
           "title": {
            "standoff": 15
           },
           "zerolinecolor": "white",
           "zerolinewidth": 2
          }
         }
        },
        "title": {
         "text": "Evaluation Recall | Session Size"
        },
        "width": 800
       }
      }
     },
     "metadata": {},
     "output_type": "display_data"
    }
   ],
   "source": [
    "# plot_contours(\n",
    "#     eval_rec_sess.copy(),\n",
    "#     'session_bin',\n",
    "#     'Window',\n",
    "#     'experiment',\n",
    "#     'recall',\n",
    "#     'eval_rec_sess',\n",
    "#     'Evaluation Recall | Session Size'\n",
    "# )\n"
   ]
  },
  {
   "cell_type": "code",
   "execution_count": 26,
   "metadata": {},
   "outputs": [
    {
     "data": {
      "application/vnd.plotly.v1+json": {
       "config": {
        "plotlyServerURL": "https://plot.ly"
       },
       "data": [
        {
         "alphahull": 0.5,
         "colorscale": [
          [
           0,
           "rgb(3, 35, 51)"
          ],
          [
           0.09090909090909091,
           "rgb(13, 48, 100)"
          ],
          [
           0.18181818181818182,
           "rgb(53, 50, 155)"
          ],
          [
           0.2727272727272727,
           "rgb(93, 62, 153)"
          ],
          [
           0.36363636363636365,
           "rgb(126, 77, 143)"
          ],
          [
           0.45454545454545453,
           "rgb(158, 89, 135)"
          ],
          [
           0.5454545454545454,
           "rgb(193, 100, 121)"
          ],
          [
           0.6363636363636364,
           "rgb(225, 113, 97)"
          ],
          [
           0.7272727272727273,
           "rgb(246, 139, 69)"
          ],
          [
           0.8181818181818182,
           "rgb(251, 173, 60)"
          ],
          [
           0.9090909090909091,
           "rgb(246, 211, 70)"
          ],
          [
           1,
           "rgb(231, 250, 90)"
          ]
         ],
         "i": [
          123,
          123,
          123,
          139,
          144,
          141,
          132,
          130,
          92,
          94,
          114,
          114,
          130,
          114,
          94,
          83,
          120,
          123,
          110,
          112,
          110,
          110,
          94,
          110,
          114,
          112,
          104,
          99,
          99,
          83,
          99,
          84,
          48,
          31,
          48,
          36,
          36,
          20,
          5,
          20,
          31,
          20,
          16,
          20,
          26,
          44,
          26,
          11,
          36,
          26,
          26,
          21,
          44,
          56,
          56,
          36,
          73,
          73,
          56,
          73,
          67,
          56,
          67,
          71,
          48,
          64,
          83,
          67,
          79,
          64,
          61,
          61
         ],
         "intensity": [
          0.750020902496004,
          0.4376490839788516,
          0.16062942705998387,
          0.13691872617730236,
          0.515676872002951,
          0.13045817268896262,
          0.7611607033075126,
          0.7610574203860814,
          0.1434143279835022,
          0.7442911594737489,
          0.4387655231771794,
          0.16157087779072896,
          0.2872347227345383,
          0.44618222058281076,
          0.16681610329059446,
          0.7559103390363147,
          0.4104343435904569,
          0.1686970570255873,
          0.11502300253981011,
          0.48345002034939133,
          0.13900532704567287,
          0.7612217877584244,
          0.7608869243569335,
          0.14217098943323728,
          0.7512686171171867,
          0.41518425214698956,
          0.17098943323727187,
          0.2663451978012354,
          0.4227830754885142,
          0.1759889965941839,
          0.8169929456554196,
          0.48999701403404,
          0.1904490273511774,
          0.1780802105106002,
          0.5695683412959093,
          0.16937253181219833,
          0.8247191325768887,
          0.8245605031352643,
          0.15928038613426942,
          0.8175761421319797,
          0.48953978799641684,
          0.19692847740236946,
          0.3355992460435951,
          0.49973406240668855,
          0.1991224221149627,
          0.8346537721025958,
          0.4705944187487552,
          0.18979017020875166,
          0.1454843207117091,
          0.5501029057029677,
          0.156395293990809,
          0.8325403323964857,
          0.8322083785159449,
          0.15706912119456087,
          0.8327561024188372,
          0.4655819151525881,
          0.17980405104914896,
          0.29371832606723175,
          0.4765917188571934,
          0.1939139926957131,
          0.8500592700950844,
          0.5415577245888225,
          0.23976569806553236,
          0.18488066113479112,
          0.619477582452689,
          0.21185073369758425,
          0.8464946572843367,
          0.8470495262595946,
          0.19867535180840185,
          0.8453316743311446,
          0.5321697899064289,
          0.24172368341892683,
          0.3542081767509899,
          0.5411037408817932,
          0.24381839959308907,
          0.9107924615452542,
          0.6500303969949429,
          0.33766402333875184,
          0.3280565961479026,
          0.7258360871765437,
          0.3110370787002985,
          0.9092844988911041,
          0.9091486463997391,
          0.29094325395108506,
          0.9130408202773429,
          0.6444264817261418,
          0.3463109814513786,
          0.46332492179990964,
          0.6582596616593702,
          0.33952444820787314,
          0.9290025370216785,
          0.6612550061529504,
          0.3722267759094323,
          0.2960951395361923,
          0.7296175874073694,
          0.34049996056011494,
          0.9249340056318456,
          0.9247456250443429,
          0.32701151987598726,
          0.9314881821762606,
          0.6512390305005297,
          0.36705500663618934,
          0.46108472967385694,
          0.6716795474951498,
          0.3787737968262896,
          0.957189150204755,
          0.7411367487168847,
          0.44711892278039117,
          0.44898412839550084,
          0.805124557269669,
          0.42912482646143063,
          0.9455065032578036,
          0.9456966858825214,
          0.41342750468385653,
          0.947326822665817,
          0.7555659291532675,
          0.45557547411411087,
          0.5808424349303734,
          0.7691158236883574,
          0.4546238762114003,
          0.9770062829508067,
          0.8478614183216395,
          0.5920595333186044,
          0.551537043643715,
          0.8915571609783168,
          0.5822874356316174,
          0.9694300749197289,
          0.9695663376541007,
          0.5799081422817424,
          0.9677354620049946,
          0.8794074800808658,
          0.6300326303087983,
          0.7042925238831411,
          0.8881580251318032,
          0.6234534593225812,
          0.991717747049204,
          0.8932651767140203,
          0.8291683436390911,
          0.7264103191643212,
          0.9353383542290107,
          0.8001109850840925,
          0.9734762100766484,
          0.9736987017610217,
          0.8208383642506067,
          0.9720772936111512,
          0.9291336173810504,
          0.8293207956776798,
          0.7988230189896652,
          0.9320065412555206,
          0.8330274129092321
         ],
         "j": [
          139,
          141,
          120,
          123,
          130,
          130,
          130,
          144,
          94,
          79,
          132,
          130,
          114,
          112,
          83,
          94,
          110,
          110,
          123,
          110,
          92,
          94,
          110,
          112,
          99,
          99,
          99,
          114,
          83,
          99,
          104,
          99,
          31,
          48,
          36,
          48,
          20,
          36,
          20,
          21,
          20,
          31,
          20,
          5,
          44,
          26,
          29,
          26,
          26,
          36,
          11,
          26,
          56,
          44,
          36,
          56,
          84,
          71,
          73,
          56,
          56,
          67,
          83,
          67,
          67,
          67,
          67,
          64,
          61,
          61,
          48,
          64
         ],
         "k": [
          141,
          126,
          135,
          135,
          141,
          126,
          147,
          147,
          77,
          77,
          117,
          132,
          126,
          126,
          79,
          97,
          106,
          120,
          126,
          126,
          106,
          92,
          97,
          97,
          112,
          97,
          117,
          117,
          97,
          84,
          88,
          88,
          45,
          35,
          35,
          53,
          35,
          21,
          6,
          6,
          16,
          35,
          0,
          0,
          29,
          40,
          12,
          12,
          21,
          40,
          6,
          6,
          58,
          40,
          53,
          40,
          88,
          84,
          58,
          71,
          53,
          71,
          84,
          84,
          53,
          48,
          79,
          79,
          77,
          79,
          45,
          48
         ],
         "type": "mesh3d",
         "x": [
          30,
          30,
          30,
          30,
          30,
          30,
          30,
          30,
          30,
          30,
          30,
          30,
          30,
          30,
          30,
          35,
          35,
          35,
          35,
          35,
          35,
          35,
          35,
          35,
          35,
          35,
          35,
          35,
          35,
          35,
          40,
          40,
          40,
          40,
          40,
          40,
          40,
          40,
          40,
          40,
          40,
          40,
          40,
          40,
          40,
          45,
          45,
          45,
          45,
          45,
          45,
          45,
          45,
          45,
          45,
          45,
          45,
          45,
          45,
          45,
          50,
          50,
          50,
          50,
          50,
          50,
          50,
          50,
          50,
          50,
          50,
          50,
          50,
          50,
          50,
          60,
          60,
          60,
          60,
          60,
          60,
          60,
          60,
          60,
          60,
          60,
          60,
          60,
          60,
          60,
          70,
          70,
          70,
          70,
          70,
          70,
          70,
          70,
          70,
          70,
          70,
          70,
          70,
          70,
          70,
          90,
          90,
          90,
          90,
          90,
          90,
          90,
          90,
          90,
          90,
          90,
          90,
          90,
          90,
          90,
          120,
          120,
          120,
          120,
          120,
          120,
          120,
          120,
          120,
          120,
          120,
          120,
          120,
          120,
          120,
          180,
          180,
          180,
          180,
          180,
          180,
          180,
          180,
          180,
          180,
          180,
          180,
          180,
          180,
          180
         ],
         "y": [
          1,
          1,
          1,
          10,
          10,
          10,
          20,
          20,
          20,
          30,
          30,
          30,
          40,
          40,
          40,
          1,
          1,
          1,
          10,
          10,
          10,
          20,
          20,
          20,
          30,
          30,
          30,
          40,
          40,
          40,
          1,
          1,
          1,
          10,
          10,
          10,
          20,
          20,
          20,
          30,
          30,
          30,
          40,
          40,
          40,
          1,
          1,
          1,
          10,
          10,
          10,
          20,
          20,
          20,
          30,
          30,
          30,
          40,
          40,
          40,
          1,
          1,
          1,
          10,
          10,
          10,
          20,
          20,
          20,
          30,
          30,
          30,
          40,
          40,
          40,
          1,
          1,
          1,
          10,
          10,
          10,
          20,
          20,
          20,
          30,
          30,
          30,
          40,
          40,
          40,
          1,
          1,
          1,
          10,
          10,
          10,
          20,
          20,
          20,
          30,
          30,
          30,
          40,
          40,
          40,
          1,
          1,
          1,
          10,
          10,
          10,
          20,
          20,
          20,
          30,
          30,
          30,
          40,
          40,
          40,
          1,
          1,
          1,
          10,
          10,
          10,
          20,
          20,
          20,
          30,
          30,
          30,
          40,
          40,
          40,
          1,
          1,
          1,
          10,
          10,
          10,
          20,
          20,
          20,
          30,
          30,
          30,
          40,
          40,
          40
         ],
         "z": [
          10,
          20,
          30,
          10,
          20,
          30,
          10,
          20,
          30,
          10,
          20,
          30,
          10,
          20,
          30,
          10,
          20,
          30,
          10,
          20,
          30,
          10,
          20,
          30,
          10,
          20,
          30,
          10,
          20,
          30,
          10,
          20,
          30,
          10,
          20,
          30,
          10,
          20,
          30,
          10,
          20,
          30,
          10,
          20,
          30,
          10,
          20,
          30,
          10,
          20,
          30,
          10,
          20,
          30,
          10,
          20,
          30,
          10,
          20,
          30,
          10,
          20,
          30,
          10,
          20,
          30,
          10,
          20,
          30,
          10,
          20,
          30,
          10,
          20,
          30,
          10,
          20,
          30,
          10,
          20,
          30,
          10,
          20,
          30,
          10,
          20,
          30,
          10,
          20,
          30,
          10,
          20,
          30,
          10,
          20,
          30,
          10,
          20,
          30,
          10,
          20,
          30,
          10,
          20,
          30,
          10,
          20,
          30,
          10,
          20,
          30,
          10,
          20,
          30,
          10,
          20,
          30,
          10,
          20,
          30,
          10,
          20,
          30,
          10,
          20,
          30,
          10,
          20,
          30,
          10,
          20,
          30,
          10,
          20,
          30,
          10,
          20,
          30,
          10,
          20,
          30,
          10,
          20,
          30,
          10,
          20,
          30,
          10,
          20,
          30
         ]
        }
       ],
       "layout": {
        "height": 500,
        "scene": {
         "xaxis": {
          "title": {
           "text": "session_bin"
          }
         },
         "yaxis": {
          "title": {
           "text": "Window"
          }
         },
         "zaxis": {
          "title": {
           "text": "experiment"
          }
         }
        },
        "template": {
         "data": {
          "bar": [
           {
            "error_x": {
             "color": "#2a3f5f"
            },
            "error_y": {
             "color": "#2a3f5f"
            },
            "marker": {
             "line": {
              "color": "#E5ECF6",
              "width": 0.5
             },
             "pattern": {
              "fillmode": "overlay",
              "size": 10,
              "solidity": 0.2
             }
            },
            "type": "bar"
           }
          ],
          "barpolar": [
           {
            "marker": {
             "line": {
              "color": "#E5ECF6",
              "width": 0.5
             },
             "pattern": {
              "fillmode": "overlay",
              "size": 10,
              "solidity": 0.2
             }
            },
            "type": "barpolar"
           }
          ],
          "carpet": [
           {
            "aaxis": {
             "endlinecolor": "#2a3f5f",
             "gridcolor": "white",
             "linecolor": "white",
             "minorgridcolor": "white",
             "startlinecolor": "#2a3f5f"
            },
            "baxis": {
             "endlinecolor": "#2a3f5f",
             "gridcolor": "white",
             "linecolor": "white",
             "minorgridcolor": "white",
             "startlinecolor": "#2a3f5f"
            },
            "type": "carpet"
           }
          ],
          "choropleth": [
           {
            "colorbar": {
             "outlinewidth": 0,
             "ticks": ""
            },
            "type": "choropleth"
           }
          ],
          "contour": [
           {
            "colorbar": {
             "outlinewidth": 0,
             "ticks": ""
            },
            "colorscale": [
             [
              0,
              "#0d0887"
             ],
             [
              0.1111111111111111,
              "#46039f"
             ],
             [
              0.2222222222222222,
              "#7201a8"
             ],
             [
              0.3333333333333333,
              "#9c179e"
             ],
             [
              0.4444444444444444,
              "#bd3786"
             ],
             [
              0.5555555555555556,
              "#d8576b"
             ],
             [
              0.6666666666666666,
              "#ed7953"
             ],
             [
              0.7777777777777778,
              "#fb9f3a"
             ],
             [
              0.8888888888888888,
              "#fdca26"
             ],
             [
              1,
              "#f0f921"
             ]
            ],
            "type": "contour"
           }
          ],
          "contourcarpet": [
           {
            "colorbar": {
             "outlinewidth": 0,
             "ticks": ""
            },
            "type": "contourcarpet"
           }
          ],
          "heatmap": [
           {
            "colorbar": {
             "outlinewidth": 0,
             "ticks": ""
            },
            "colorscale": [
             [
              0,
              "#0d0887"
             ],
             [
              0.1111111111111111,
              "#46039f"
             ],
             [
              0.2222222222222222,
              "#7201a8"
             ],
             [
              0.3333333333333333,
              "#9c179e"
             ],
             [
              0.4444444444444444,
              "#bd3786"
             ],
             [
              0.5555555555555556,
              "#d8576b"
             ],
             [
              0.6666666666666666,
              "#ed7953"
             ],
             [
              0.7777777777777778,
              "#fb9f3a"
             ],
             [
              0.8888888888888888,
              "#fdca26"
             ],
             [
              1,
              "#f0f921"
             ]
            ],
            "type": "heatmap"
           }
          ],
          "heatmapgl": [
           {
            "colorbar": {
             "outlinewidth": 0,
             "ticks": ""
            },
            "colorscale": [
             [
              0,
              "#0d0887"
             ],
             [
              0.1111111111111111,
              "#46039f"
             ],
             [
              0.2222222222222222,
              "#7201a8"
             ],
             [
              0.3333333333333333,
              "#9c179e"
             ],
             [
              0.4444444444444444,
              "#bd3786"
             ],
             [
              0.5555555555555556,
              "#d8576b"
             ],
             [
              0.6666666666666666,
              "#ed7953"
             ],
             [
              0.7777777777777778,
              "#fb9f3a"
             ],
             [
              0.8888888888888888,
              "#fdca26"
             ],
             [
              1,
              "#f0f921"
             ]
            ],
            "type": "heatmapgl"
           }
          ],
          "histogram": [
           {
            "marker": {
             "pattern": {
              "fillmode": "overlay",
              "size": 10,
              "solidity": 0.2
             }
            },
            "type": "histogram"
           }
          ],
          "histogram2d": [
           {
            "colorbar": {
             "outlinewidth": 0,
             "ticks": ""
            },
            "colorscale": [
             [
              0,
              "#0d0887"
             ],
             [
              0.1111111111111111,
              "#46039f"
             ],
             [
              0.2222222222222222,
              "#7201a8"
             ],
             [
              0.3333333333333333,
              "#9c179e"
             ],
             [
              0.4444444444444444,
              "#bd3786"
             ],
             [
              0.5555555555555556,
              "#d8576b"
             ],
             [
              0.6666666666666666,
              "#ed7953"
             ],
             [
              0.7777777777777778,
              "#fb9f3a"
             ],
             [
              0.8888888888888888,
              "#fdca26"
             ],
             [
              1,
              "#f0f921"
             ]
            ],
            "type": "histogram2d"
           }
          ],
          "histogram2dcontour": [
           {
            "colorbar": {
             "outlinewidth": 0,
             "ticks": ""
            },
            "colorscale": [
             [
              0,
              "#0d0887"
             ],
             [
              0.1111111111111111,
              "#46039f"
             ],
             [
              0.2222222222222222,
              "#7201a8"
             ],
             [
              0.3333333333333333,
              "#9c179e"
             ],
             [
              0.4444444444444444,
              "#bd3786"
             ],
             [
              0.5555555555555556,
              "#d8576b"
             ],
             [
              0.6666666666666666,
              "#ed7953"
             ],
             [
              0.7777777777777778,
              "#fb9f3a"
             ],
             [
              0.8888888888888888,
              "#fdca26"
             ],
             [
              1,
              "#f0f921"
             ]
            ],
            "type": "histogram2dcontour"
           }
          ],
          "mesh3d": [
           {
            "colorbar": {
             "outlinewidth": 0,
             "ticks": ""
            },
            "type": "mesh3d"
           }
          ],
          "parcoords": [
           {
            "line": {
             "colorbar": {
              "outlinewidth": 0,
              "ticks": ""
             }
            },
            "type": "parcoords"
           }
          ],
          "pie": [
           {
            "automargin": true,
            "type": "pie"
           }
          ],
          "scatter": [
           {
            "fillpattern": {
             "fillmode": "overlay",
             "size": 10,
             "solidity": 0.2
            },
            "type": "scatter"
           }
          ],
          "scatter3d": [
           {
            "line": {
             "colorbar": {
              "outlinewidth": 0,
              "ticks": ""
             }
            },
            "marker": {
             "colorbar": {
              "outlinewidth": 0,
              "ticks": ""
             }
            },
            "type": "scatter3d"
           }
          ],
          "scattercarpet": [
           {
            "marker": {
             "colorbar": {
              "outlinewidth": 0,
              "ticks": ""
             }
            },
            "type": "scattercarpet"
           }
          ],
          "scattergeo": [
           {
            "marker": {
             "colorbar": {
              "outlinewidth": 0,
              "ticks": ""
             }
            },
            "type": "scattergeo"
           }
          ],
          "scattergl": [
           {
            "marker": {
             "colorbar": {
              "outlinewidth": 0,
              "ticks": ""
             }
            },
            "type": "scattergl"
           }
          ],
          "scattermapbox": [
           {
            "marker": {
             "colorbar": {
              "outlinewidth": 0,
              "ticks": ""
             }
            },
            "type": "scattermapbox"
           }
          ],
          "scatterpolar": [
           {
            "marker": {
             "colorbar": {
              "outlinewidth": 0,
              "ticks": ""
             }
            },
            "type": "scatterpolar"
           }
          ],
          "scatterpolargl": [
           {
            "marker": {
             "colorbar": {
              "outlinewidth": 0,
              "ticks": ""
             }
            },
            "type": "scatterpolargl"
           }
          ],
          "scatterternary": [
           {
            "marker": {
             "colorbar": {
              "outlinewidth": 0,
              "ticks": ""
             }
            },
            "type": "scatterternary"
           }
          ],
          "surface": [
           {
            "colorbar": {
             "outlinewidth": 0,
             "ticks": ""
            },
            "colorscale": [
             [
              0,
              "#0d0887"
             ],
             [
              0.1111111111111111,
              "#46039f"
             ],
             [
              0.2222222222222222,
              "#7201a8"
             ],
             [
              0.3333333333333333,
              "#9c179e"
             ],
             [
              0.4444444444444444,
              "#bd3786"
             ],
             [
              0.5555555555555556,
              "#d8576b"
             ],
             [
              0.6666666666666666,
              "#ed7953"
             ],
             [
              0.7777777777777778,
              "#fb9f3a"
             ],
             [
              0.8888888888888888,
              "#fdca26"
             ],
             [
              1,
              "#f0f921"
             ]
            ],
            "type": "surface"
           }
          ],
          "table": [
           {
            "cells": {
             "fill": {
              "color": "#EBF0F8"
             },
             "line": {
              "color": "white"
             }
            },
            "header": {
             "fill": {
              "color": "#C8D4E3"
             },
             "line": {
              "color": "white"
             }
            },
            "type": "table"
           }
          ]
         },
         "layout": {
          "annotationdefaults": {
           "arrowcolor": "#2a3f5f",
           "arrowhead": 0,
           "arrowwidth": 1
          },
          "autotypenumbers": "strict",
          "coloraxis": {
           "colorbar": {
            "outlinewidth": 0,
            "ticks": ""
           }
          },
          "colorscale": {
           "diverging": [
            [
             0,
             "#8e0152"
            ],
            [
             0.1,
             "#c51b7d"
            ],
            [
             0.2,
             "#de77ae"
            ],
            [
             0.3,
             "#f1b6da"
            ],
            [
             0.4,
             "#fde0ef"
            ],
            [
             0.5,
             "#f7f7f7"
            ],
            [
             0.6,
             "#e6f5d0"
            ],
            [
             0.7,
             "#b8e186"
            ],
            [
             0.8,
             "#7fbc41"
            ],
            [
             0.9,
             "#4d9221"
            ],
            [
             1,
             "#276419"
            ]
           ],
           "sequential": [
            [
             0,
             "#0d0887"
            ],
            [
             0.1111111111111111,
             "#46039f"
            ],
            [
             0.2222222222222222,
             "#7201a8"
            ],
            [
             0.3333333333333333,
             "#9c179e"
            ],
            [
             0.4444444444444444,
             "#bd3786"
            ],
            [
             0.5555555555555556,
             "#d8576b"
            ],
            [
             0.6666666666666666,
             "#ed7953"
            ],
            [
             0.7777777777777778,
             "#fb9f3a"
            ],
            [
             0.8888888888888888,
             "#fdca26"
            ],
            [
             1,
             "#f0f921"
            ]
           ],
           "sequentialminus": [
            [
             0,
             "#0d0887"
            ],
            [
             0.1111111111111111,
             "#46039f"
            ],
            [
             0.2222222222222222,
             "#7201a8"
            ],
            [
             0.3333333333333333,
             "#9c179e"
            ],
            [
             0.4444444444444444,
             "#bd3786"
            ],
            [
             0.5555555555555556,
             "#d8576b"
            ],
            [
             0.6666666666666666,
             "#ed7953"
            ],
            [
             0.7777777777777778,
             "#fb9f3a"
            ],
            [
             0.8888888888888888,
             "#fdca26"
            ],
            [
             1,
             "#f0f921"
            ]
           ]
          },
          "colorway": [
           "#636efa",
           "#EF553B",
           "#00cc96",
           "#ab63fa",
           "#FFA15A",
           "#19d3f3",
           "#FF6692",
           "#B6E880",
           "#FF97FF",
           "#FECB52"
          ],
          "font": {
           "color": "#2a3f5f"
          },
          "geo": {
           "bgcolor": "white",
           "lakecolor": "white",
           "landcolor": "#E5ECF6",
           "showlakes": true,
           "showland": true,
           "subunitcolor": "white"
          },
          "hoverlabel": {
           "align": "left"
          },
          "hovermode": "closest",
          "mapbox": {
           "style": "light"
          },
          "paper_bgcolor": "white",
          "plot_bgcolor": "#E5ECF6",
          "polar": {
           "angularaxis": {
            "gridcolor": "white",
            "linecolor": "white",
            "ticks": ""
           },
           "bgcolor": "#E5ECF6",
           "radialaxis": {
            "gridcolor": "white",
            "linecolor": "white",
            "ticks": ""
           }
          },
          "scene": {
           "xaxis": {
            "backgroundcolor": "#E5ECF6",
            "gridcolor": "white",
            "gridwidth": 2,
            "linecolor": "white",
            "showbackground": true,
            "ticks": "",
            "zerolinecolor": "white"
           },
           "yaxis": {
            "backgroundcolor": "#E5ECF6",
            "gridcolor": "white",
            "gridwidth": 2,
            "linecolor": "white",
            "showbackground": true,
            "ticks": "",
            "zerolinecolor": "white"
           },
           "zaxis": {
            "backgroundcolor": "#E5ECF6",
            "gridcolor": "white",
            "gridwidth": 2,
            "linecolor": "white",
            "showbackground": true,
            "ticks": "",
            "zerolinecolor": "white"
           }
          },
          "shapedefaults": {
           "line": {
            "color": "#2a3f5f"
           }
          },
          "ternary": {
           "aaxis": {
            "gridcolor": "white",
            "linecolor": "white",
            "ticks": ""
           },
           "baxis": {
            "gridcolor": "white",
            "linecolor": "white",
            "ticks": ""
           },
           "bgcolor": "#E5ECF6",
           "caxis": {
            "gridcolor": "white",
            "linecolor": "white",
            "ticks": ""
           }
          },
          "title": {
           "x": 0.05
          },
          "xaxis": {
           "automargin": true,
           "gridcolor": "white",
           "linecolor": "white",
           "ticks": "",
           "title": {
            "standoff": 15
           },
           "zerolinecolor": "white",
           "zerolinewidth": 2
          },
          "yaxis": {
           "automargin": true,
           "gridcolor": "white",
           "linecolor": "white",
           "ticks": "",
           "title": {
            "standoff": 15
           },
           "zerolinecolor": "white",
           "zerolinewidth": 2
          }
         }
        },
        "title": {
         "text": "Test Recall | Session Size"
        },
        "width": 800
       }
      }
     },
     "metadata": {},
     "output_type": "display_data"
    }
   ],
   "source": [
    "# plot_contours(\n",
    "#     test_rec_sess.copy(),\n",
    "#     'session_bin',\n",
    "#     'Window',\n",
    "#     'experiment',\n",
    "#     'recall',\n",
    "#     'test_rec_sess',\n",
    "#     'Test Recall | Session Size'\n",
    "# )"
   ]
  }
 ],
 "metadata": {
  "kernelspec": {
   "display_name": "torch_rl",
   "language": "python",
   "name": "python3"
  },
  "language_info": {
   "codemirror_mode": {
    "name": "ipython",
    "version": 3
   },
   "file_extension": ".py",
   "mimetype": "text/x-python",
   "name": "python",
   "nbconvert_exporter": "python",
   "pygments_lexer": "ipython3",
   "version": "3.9.15"
  },
  "orig_nbformat": 4
 },
 "nbformat": 4,
 "nbformat_minor": 2
}
