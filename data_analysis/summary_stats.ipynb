{
 "cells": [
  {
   "cell_type": "code",
   "execution_count": 1,
   "metadata": {},
   "outputs": [],
   "source": [
    "import pandas as pd"
   ]
  },
  {
   "cell_type": "code",
   "execution_count": 2,
   "metadata": {},
   "outputs": [],
   "source": [
    "df = pd.read_csv('user_session_events.csv')"
   ]
  },
  {
   "cell_type": "code",
   "execution_count": 3,
   "metadata": {},
   "outputs": [
    {
     "data": {
      "text/plain": [
       "Unnamed: 0            650539\n",
       "user_id               650539\n",
       "session_30_count      650539\n",
       "session_time          650539\n",
       "session_events        650539\n",
       "session_start         650539\n",
       "session_end           650539\n",
       "next_session_start    545795\n",
       "session_bin           389049\n",
       "session_event_bin     376545\n",
       "dtype: int64"
      ]
     },
     "execution_count": 3,
     "metadata": {},
     "output_type": "execute_result"
    }
   ],
   "source": [
    "df.count()"
   ]
  },
  {
   "cell_type": "code",
   "execution_count": 5,
   "metadata": {},
   "outputs": [],
   "source": [
    "df_nonan = df.dropna()"
   ]
  },
  {
   "cell_type": "code",
   "execution_count": 6,
   "metadata": {},
   "outputs": [
    {
     "data": {
      "text/plain": [
       "Unnamed: 0            254956\n",
       "user_id               254956\n",
       "session_30_count      254956\n",
       "session_time          254956\n",
       "session_events        254956\n",
       "session_start         254956\n",
       "session_end           254956\n",
       "next_session_start    254956\n",
       "session_bin           254956\n",
       "session_event_bin     254956\n",
       "dtype: int64"
      ]
     },
     "execution_count": 6,
     "metadata": {},
     "output_type": "execute_result"
    }
   ],
   "source": [
    "df_nonan.count()"
   ]
  },
  {
   "cell_type": "code",
   "execution_count": 6,
   "metadata": {},
   "outputs": [],
   "source": [
    "df = df.dropna()"
   ]
  },
  {
   "cell_type": "code",
   "execution_count": 7,
   "metadata": {},
   "outputs": [
    {
     "data": {
      "text/plain": [
       "Unnamed: 0            254956\n",
       "user_id               254956\n",
       "session_30_count      254956\n",
       "session_time          254956\n",
       "session_events        254956\n",
       "session_start         254956\n",
       "session_end           254956\n",
       "next_session_start    254956\n",
       "session_bin           254956\n",
       "session_event_bin     254956\n",
       "dtype: int64"
      ]
     },
     "execution_count": 7,
     "metadata": {},
     "output_type": "execute_result"
    }
   ],
   "source": [
    "df.count()"
   ]
  },
  {
   "cell_type": "code",
   "execution_count": 34,
   "metadata": {},
   "outputs": [],
   "source": [
    "session_time_delta = df[['session_end', 'next_session_start']].dropna()"
   ]
  },
  {
   "cell_type": "code",
   "execution_count": 37,
   "metadata": {},
   "outputs": [],
   "source": [
    "session_time_delta['session_end'] = pd.to_datetime(session_time_delta['session_end'])\n",
    "session_time_delta['next_session_start'] = pd.to_datetime(session_time_delta['next_session_start'])"
   ]
  },
  {
   "cell_type": "code",
   "execution_count": 47,
   "metadata": {},
   "outputs": [],
   "source": [
    "session_time_delta['time_delta'] = (session_time_delta['next_session_start'] - session_time_delta['session_end']).dt.days"
   ]
  },
  {
   "cell_type": "code",
   "execution_count": 46,
   "metadata": {},
   "outputs": [
    {
     "data": {
      "text/plain": [
       "session_end           datetime64[ns]\n",
       "next_session_start    datetime64[ns]\n",
       "time_delta                     int32\n",
       "dtype: object"
      ]
     },
     "execution_count": 46,
     "metadata": {},
     "output_type": "execute_result"
    }
   ],
   "source": [
    "session_time_delta.dtypes"
   ]
  },
  {
   "cell_type": "code",
   "execution_count": 50,
   "metadata": {},
   "outputs": [
    {
     "data": {
      "text/plain": [
       "array([  0,   1,   2,   4,   6,   3,   5,  13,  46,  94,   8,  10,  26,\n",
       "        84, 133,   9,  91,  19,  12,   7,  11,  70, 197,  22,  42,  15,\n",
       "        88,  14,  21,  90,  31,  18,  89,  98,  56,  63,  64,  17, 103,\n",
       "        24, 224, 122,  38,  30,  32,  82, 182,  97, 153,  55, 104,  28,\n",
       "        49,  20, 193, 138,  41,  27,  25, 186,  93,  16,  33,  44,  51,\n",
       "       100, 177,  37, 110,  79,  59,  92,  23,  35, 101,  57, 117, 113,\n",
       "       105, 106,  78, 107,  96, 112, 115, 143, 172,  29, 102,  45,  40,\n",
       "       273, 109,  95,  36,  34,  54,  39,  72,  48, 124, 168, 141, 125,\n",
       "       142,  62, 213,  67, 255,  50, 194,  86, 111, 195,  53, 132, 128,\n",
       "       151, 116, 147, 120, 245, 121,  69,  58,  47,  99,  81, 119, 136,\n",
       "       265, 216, 242,  68, 202, 174, 126,  83,  75, 114,  80, 129, 139,\n",
       "       162, 190, 150,  60,  66,  43, 252,  74, 164,  61, 160, 169, 108,\n",
       "       123, 189, 137, 140, 148, 250, 247, 159, 236, 154, 156,  65, 231,\n",
       "       203, 146, 173, 249, 221, 229, 158, 127, 227,  76, 208, 240, 144,\n",
       "       118,  52, 149, 215, 145,  71, 135, 152, 134, 281, 261,  73, 161,\n",
       "       205, 131, 170, 226, 238, 185, 183, 295, 166, 130, 184,  77, 167,\n",
       "       274, 267, 223, 180, 175, 256, 266, 165, 178, 188, 196, 294, 243,\n",
       "       264,  87, 241, 230, 234, 181, 228, 222, 258, 171, 259, 206, 298,\n",
       "       244, 176, 235, 293, 187, 225, 237,  85, 268, 275, 232, 210, 192,\n",
       "       155, 220, 209, 285, 251, 217, 201, 204, 253, 163, 278, 246, 198,\n",
       "       263, 179, 207, 212, 219, 280, 200, 233, 260, 214, 211, 218, 279,\n",
       "       287, 262, 157, 270, 284, 291, 272, 292, 257, 269, 199, 248, 283,\n",
       "       191, 239, 277, 288, 254, 282, 271], dtype=int32)"
      ]
     },
     "execution_count": 50,
     "metadata": {},
     "output_type": "execute_result"
    }
   ],
   "source": [
    "session_time_delta['time_delta'].unique()"
   ]
  },
  {
   "cell_type": "code",
   "execution_count": 55,
   "metadata": {},
   "outputs": [
    {
     "data": {
      "text/plain": [
       "0.17850474995190502"
      ]
     },
     "execution_count": 55,
     "metadata": {},
     "output_type": "execute_result"
    }
   ],
   "source": [
    "session_time_delta[session_time_delta['time_delta'] > 2].shape[0] / session_time_delta.shape[0]"
   ]
  },
  {
   "cell_type": "code",
   "execution_count": 6,
   "metadata": {},
   "outputs": [],
   "source": [
    "df = df[['user_id', 'session_30_count', 'session_time']]"
   ]
  },
  {
   "cell_type": "code",
   "execution_count": 8,
   "metadata": {},
   "outputs": [
    {
     "data": {
      "text/html": [
       "<div>\n",
       "<style scoped>\n",
       "    .dataframe tbody tr th:only-of-type {\n",
       "        vertical-align: middle;\n",
       "    }\n",
       "\n",
       "    .dataframe tbody tr th {\n",
       "        vertical-align: top;\n",
       "    }\n",
       "\n",
       "    .dataframe thead th {\n",
       "        text-align: right;\n",
       "    }\n",
       "</style>\n",
       "<table border=\"1\" class=\"dataframe\">\n",
       "  <thead>\n",
       "    <tr style=\"text-align: right;\">\n",
       "      <th></th>\n",
       "      <th>user_id</th>\n",
       "      <th>session_30_count</th>\n",
       "      <th>session_time</th>\n",
       "    </tr>\n",
       "  </thead>\n",
       "  <tbody>\n",
       "    <tr>\n",
       "      <th>1</th>\n",
       "      <td>0.0</td>\n",
       "      <td>1.0</td>\n",
       "      <td>1.433333</td>\n",
       "    </tr>\n",
       "    <tr>\n",
       "      <th>2</th>\n",
       "      <td>0.0</td>\n",
       "      <td>2.0</td>\n",
       "      <td>9.733333</td>\n",
       "    </tr>\n",
       "    <tr>\n",
       "      <th>3</th>\n",
       "      <td>0.0</td>\n",
       "      <td>3.0</td>\n",
       "      <td>1.966667</td>\n",
       "    </tr>\n",
       "    <tr>\n",
       "      <th>4</th>\n",
       "      <td>0.0</td>\n",
       "      <td>4.0</td>\n",
       "      <td>0.100000</td>\n",
       "    </tr>\n",
       "    <tr>\n",
       "      <th>5</th>\n",
       "      <td>0.0</td>\n",
       "      <td>5.0</td>\n",
       "      <td>9.933333</td>\n",
       "    </tr>\n",
       "    <tr>\n",
       "      <th>...</th>\n",
       "      <td>...</td>\n",
       "      <td>...</td>\n",
       "      <td>...</td>\n",
       "    </tr>\n",
       "    <tr>\n",
       "      <th>650535</th>\n",
       "      <td>38497700.0</td>\n",
       "      <td>1.0</td>\n",
       "      <td>42.500000</td>\n",
       "    </tr>\n",
       "    <tr>\n",
       "      <th>650536</th>\n",
       "      <td>38498510.0</td>\n",
       "      <td>1.0</td>\n",
       "      <td>11.066667</td>\n",
       "    </tr>\n",
       "    <tr>\n",
       "      <th>650537</th>\n",
       "      <td>38498973.0</td>\n",
       "      <td>1.0</td>\n",
       "      <td>5.466667</td>\n",
       "    </tr>\n",
       "    <tr>\n",
       "      <th>650538</th>\n",
       "      <td>38499104.0</td>\n",
       "      <td>1.0</td>\n",
       "      <td>4.633333</td>\n",
       "    </tr>\n",
       "    <tr>\n",
       "      <th>650539</th>\n",
       "      <td>38499697.0</td>\n",
       "      <td>1.0</td>\n",
       "      <td>15.033333</td>\n",
       "    </tr>\n",
       "  </tbody>\n",
       "</table>\n",
       "<p>650539 rows × 3 columns</p>\n",
       "</div>"
      ],
      "text/plain": [
       "           user_id  session_30_count  session_time\n",
       "1              0.0               1.0      1.433333\n",
       "2              0.0               2.0      9.733333\n",
       "3              0.0               3.0      1.966667\n",
       "4              0.0               4.0      0.100000\n",
       "5              0.0               5.0      9.933333\n",
       "...            ...               ...           ...\n",
       "650535  38497700.0               1.0     42.500000\n",
       "650536  38498510.0               1.0     11.066667\n",
       "650537  38498973.0               1.0      5.466667\n",
       "650538  38499104.0               1.0      4.633333\n",
       "650539  38499697.0               1.0     15.033333\n",
       "\n",
       "[650539 rows x 3 columns]"
      ]
     },
     "execution_count": 8,
     "metadata": {},
     "output_type": "execute_result"
    }
   ],
   "source": [
    "df.dropna()"
   ]
  },
  {
   "cell_type": "code",
   "execution_count": 18,
   "metadata": {},
   "outputs": [
    {
     "data": {
      "text/plain": [
       "0.6825037661020076"
      ]
     },
     "execution_count": 18,
     "metadata": {},
     "output_type": "execute_result"
    }
   ],
   "source": [
    "df[df['session_time'] <= 30].shape[0] / df.shape[0]"
   ]
  },
  {
   "cell_type": "code",
   "execution_count": 13,
   "metadata": {},
   "outputs": [],
   "source": [
    "max_user_sessions = df.groupby('user_id').max().reset_index()"
   ]
  },
  {
   "cell_type": "code",
   "execution_count": 15,
   "metadata": {},
   "outputs": [
    {
     "data": {
      "text/html": [
       "<div>\n",
       "<style scoped>\n",
       "    .dataframe tbody tr th:only-of-type {\n",
       "        vertical-align: middle;\n",
       "    }\n",
       "\n",
       "    .dataframe tbody tr th {\n",
       "        vertical-align: top;\n",
       "    }\n",
       "\n",
       "    .dataframe thead th {\n",
       "        text-align: right;\n",
       "    }\n",
       "</style>\n",
       "<table border=\"1\" class=\"dataframe\">\n",
       "  <thead>\n",
       "    <tr style=\"text-align: right;\">\n",
       "      <th></th>\n",
       "      <th>user_id</th>\n",
       "      <th>session_30_count</th>\n",
       "      <th>session_time</th>\n",
       "    </tr>\n",
       "  </thead>\n",
       "  <tbody>\n",
       "    <tr>\n",
       "      <th>0</th>\n",
       "      <td>0.0</td>\n",
       "      <td>10.0</td>\n",
       "      <td>110.933333</td>\n",
       "    </tr>\n",
       "    <tr>\n",
       "      <th>1</th>\n",
       "      <td>1.0</td>\n",
       "      <td>1.0</td>\n",
       "      <td>4.933333</td>\n",
       "    </tr>\n",
       "    <tr>\n",
       "      <th>2</th>\n",
       "      <td>2.0</td>\n",
       "      <td>92.0</td>\n",
       "      <td>315.600000</td>\n",
       "    </tr>\n",
       "    <tr>\n",
       "      <th>3</th>\n",
       "      <td>8.0</td>\n",
       "      <td>1.0</td>\n",
       "      <td>0.316667</td>\n",
       "    </tr>\n",
       "    <tr>\n",
       "      <th>4</th>\n",
       "      <td>10.0</td>\n",
       "      <td>6.0</td>\n",
       "      <td>41.266667</td>\n",
       "    </tr>\n",
       "    <tr>\n",
       "      <th>...</th>\n",
       "      <td>...</td>\n",
       "      <td>...</td>\n",
       "      <td>...</td>\n",
       "    </tr>\n",
       "    <tr>\n",
       "      <th>104739</th>\n",
       "      <td>38497700.0</td>\n",
       "      <td>1.0</td>\n",
       "      <td>42.500000</td>\n",
       "    </tr>\n",
       "    <tr>\n",
       "      <th>104740</th>\n",
       "      <td>38498510.0</td>\n",
       "      <td>1.0</td>\n",
       "      <td>11.066667</td>\n",
       "    </tr>\n",
       "    <tr>\n",
       "      <th>104741</th>\n",
       "      <td>38498973.0</td>\n",
       "      <td>1.0</td>\n",
       "      <td>5.466667</td>\n",
       "    </tr>\n",
       "    <tr>\n",
       "      <th>104742</th>\n",
       "      <td>38499104.0</td>\n",
       "      <td>1.0</td>\n",
       "      <td>4.633333</td>\n",
       "    </tr>\n",
       "    <tr>\n",
       "      <th>104743</th>\n",
       "      <td>38499697.0</td>\n",
       "      <td>1.0</td>\n",
       "      <td>15.033333</td>\n",
       "    </tr>\n",
       "  </tbody>\n",
       "</table>\n",
       "<p>104744 rows × 3 columns</p>\n",
       "</div>"
      ],
      "text/plain": [
       "           user_id  session_30_count  session_time\n",
       "0              0.0              10.0    110.933333\n",
       "1              1.0               1.0      4.933333\n",
       "2              2.0              92.0    315.600000\n",
       "3              8.0               1.0      0.316667\n",
       "4             10.0               6.0     41.266667\n",
       "...            ...               ...           ...\n",
       "104739  38497700.0               1.0     42.500000\n",
       "104740  38498510.0               1.0     11.066667\n",
       "104741  38498973.0               1.0      5.466667\n",
       "104742  38499104.0               1.0      4.633333\n",
       "104743  38499697.0               1.0     15.033333\n",
       "\n",
       "[104744 rows x 3 columns]"
      ]
     },
     "execution_count": 15,
     "metadata": {},
     "output_type": "execute_result"
    }
   ],
   "source": [
    "max_user_sessions"
   ]
  },
  {
   "cell_type": "code",
   "execution_count": 16,
   "metadata": {},
   "outputs": [
    {
     "data": {
      "text/plain": [
       "user_id             0.755604\n",
       "session_30_count    0.755604\n",
       "session_time        0.755604\n",
       "dtype: float64"
      ]
     },
     "execution_count": 16,
     "metadata": {},
     "output_type": "execute_result"
    }
   ],
   "source": [
    "max_user_sessions[max_user_sessions['session_30_count'] <=3].count() / max_user_sessions.count()"
   ]
  }
 ],
 "metadata": {
  "kernelspec": {
   "display_name": "torch_rl",
   "language": "python",
   "name": "python3"
  },
  "language_info": {
   "codemirror_mode": {
    "name": "ipython",
    "version": 3
   },
   "file_extension": ".py",
   "mimetype": "text/x-python",
   "name": "python",
   "nbconvert_exporter": "python",
   "pygments_lexer": "ipython3",
   "version": "3.9.15"
  },
  "orig_nbformat": 4
 },
 "nbformat": 4,
 "nbformat_minor": 2
}
