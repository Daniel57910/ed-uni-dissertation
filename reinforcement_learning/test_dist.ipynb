{
 "cells": [
  {
   "cell_type": "code",
   "execution_count": 1,
   "metadata": {},
   "outputs": [
    {
     "name": "stderr",
     "output_type": "stream",
     "text": [
      "/Users/danielmiller/.pyenv/versions/3.10.8/envs/deep_learning_3_10/lib/python3.10/site-packages/tqdm/auto.py:21: TqdmWarning: IProgress not found. Please update jupyter and ipywidgets. See https://ipywidgets.readthedocs.io/en/stable/user_install.html\n",
      "  from .autonotebook import tqdm as notebook_tqdm\n"
     ]
    }
   ],
   "source": [
    "import torch\n",
    "from scipy.stats import norm\n",
    "import numpy as np\n",
    "import seaborn as sns"
   ]
  },
  {
   "cell_type": "code",
   "execution_count": 4,
   "metadata": {},
   "outputs": [],
   "source": [
    "dist = norm(loc=10, scale=5)"
   ]
  },
  {
   "cell_type": "code",
   "execution_count": 66,
   "metadata": {},
   "outputs": [
    {
     "data": {
      "text/plain": [
       "0.5"
      ]
     },
     "execution_count": 66,
     "metadata": {},
     "output_type": "execute_result"
    }
   ],
   "source": [
    "dist.cdf(10) "
   ]
  },
  {
   "cell_type": "markdown",
   "metadata": {},
   "source": []
  },
  {
   "cell_type": "code",
   "execution_count": 70,
   "metadata": {},
   "outputs": [
    {
     "name": "stdout",
     "output_type": "stream",
     "text": [
      "[0.0996294] [0.0996294]\n",
      "[-0.02639669] [-0.02639669]\n",
      "[-0.03022981] [-0.03022981]\n",
      "[0.01163173] [0.01163173]\n",
      "[-0.04155597] [-0.04155597]\n",
      "[-0.04325628] [-0.04325628]\n",
      "[0.02904567] [0.02904567]\n",
      "[-0.02199202] [-0.02199202]\n",
      "[0.07460324] [0.07460324]\n",
      "[0.02832318] [0.02832318]\n",
      "[-0.00590786] [-0.00590786]\n",
      "[0.05159083] [0.05159083]\n",
      "[-0.01340838] [-0.01340838]\n",
      "[0.08658799] [0.08658799]\n",
      "[-0.00023455] [-0.00023455]\n",
      "[0.0347446] [0.0347446]\n",
      "[-0.04788993] [-0.04788993]\n",
      "[-0.08884146] [-0.08884146]\n",
      "[-0.03152479] [-0.03152479]\n",
      "[0.12897806] [0.1]\n",
      "[-0.03722617] [-0.03722617]\n",
      "[0.05510097] [0.05510097]\n",
      "[0.02975548] [0.02975548]\n",
      "[0.00484326] [0.00484326]\n",
      "[0.00387527] [0.00387527]\n"
     ]
    }
   ],
   "source": [
    "for _ in range(25):\n",
    "    var = np.random.normal(0.01, 0.05, 1)\n",
    "    print(var, np.clip(var, -0.1, 0.1))"
   ]
  },
  {
   "cell_type": "markdown",
   "metadata": {},
   "source": []
  },
  {
   "cell_type": "code",
   "execution_count": 171,
   "metadata": {},
   "outputs": [
    {
     "data": {
      "text/plain": [
       "tensor(10.3351)"
      ]
     },
     "execution_count": 171,
     "metadata": {},
     "output_type": "execute_result"
    }
   ],
   "source": [
    "dist.sample()"
   ]
  },
  {
   "cell_type": "code",
   "execution_count": 186,
   "metadata": {},
   "outputs": [],
   "source": [
    "reward_dist = torch.distributions.Normal(loc=20, scale=20)"
   ]
  },
  {
   "cell_type": "code",
   "execution_count": 195,
   "metadata": {},
   "outputs": [
    {
     "data": {
      "text/plain": [
       "tensor(0.7734)"
      ]
     },
     "execution_count": 195,
     "metadata": {},
     "output_type": "execute_result"
    }
   ],
   "source": [
    "reward_dist.cdf(torch.tensor(35))"
   ]
  }
 ],
 "metadata": {
  "kernelspec": {
   "display_name": "deep_learning_3_10",
   "language": "python",
   "name": "python3"
  },
  "language_info": {
   "codemirror_mode": {
    "name": "ipython",
    "version": 3
   },
   "file_extension": ".py",
   "mimetype": "text/x-python",
   "name": "python",
   "nbconvert_exporter": "python",
   "pygments_lexer": "ipython3",
   "version": "3.10.8"
  },
  "orig_nbformat": 4
 },
 "nbformat": 4,
 "nbformat_minor": 2
}
