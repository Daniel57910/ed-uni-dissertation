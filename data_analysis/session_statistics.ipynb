{
 "cells": [
  {
   "cell_type": "code",
   "execution_count": 5,
   "metadata": {},
   "outputs": [
    {
     "name": "stdout",
     "output_type": "stream",
     "text": [
      "\u001b[33mWARNING: Running pip as the 'root' user can result in broken permissions and conflicting behaviour with the system package manager. It is recommended to use a virtual environment instead: https://pip.pypa.io/warnings/venv\u001b[0m\u001b[33m\n",
      "\u001b[0m"
     ]
    }
   ],
   "source": [
    "!pip install --upgrade pip seaborn -q"
   ]
  },
  {
   "cell_type": "code",
   "execution_count": 6,
   "metadata": {},
   "outputs": [],
   "source": [
    "USE_GPU = True"
   ]
  },
  {
   "cell_type": "code",
   "execution_count": 7,
   "metadata": {},
   "outputs": [],
   "source": [
    "if USE_GPU:\n",
    "    import pandas as cpu_pd\n",
    "    import dask_cudf as dd\n",
    "    import cudf as pd\n",
    "    file_path = 'frequency_encoded_data'\n",
    "else:\n",
    "    import pandas as pd\n",
    "    import dask.dataframe as dd\n",
    "    file_path = '../../datasets/frequency_encoded_data'\n",
    "\n",
    "import seaborn as sns\n",
    "import numpy as cpu_np\n",
    "import glob"
   ]
  },
  {
   "cell_type": "code",
   "execution_count": 8,
   "metadata": {},
   "outputs": [],
   "source": [
    "parquet_files = glob.glob(file_path + '/*.parquet')\n",
    "parquet_files = sorted(parquet_files)"
   ]
  },
  {
   "cell_type": "code",
   "execution_count": 9,
   "metadata": {},
   "outputs": [],
   "source": [
    "df = dd.read_parquet(parquet_files).compute()"
   ]
  },
  {
   "cell_type": "code",
   "execution_count": 10,
   "metadata": {},
   "outputs": [],
   "source": [
    "df['date_time'] = pd.to_datetime(df['date_time'])\n",
    "df = df.sort_values(['date_time']).reset_index(drop=True)"
   ]
  },
  {
   "cell_type": "code",
   "execution_count": 11,
   "metadata": {},
   "outputs": [
    {
     "data": {
      "text/plain": [
       "count    650539.000000\n",
       "mean         59.183216\n",
       "std         160.675861\n",
       "min           1.000000\n",
       "25%           4.000000\n",
       "50%          15.000000\n",
       "75%          51.000000\n",
       "max       12461.000000\n",
       "Name: tasks_per_session, dtype: float64"
      ]
     },
     "execution_count": 11,
     "metadata": {},
     "output_type": "execute_result"
    }
   ],
   "source": [
    "tasks_per_session = df.groupby(['user_id', 'session_30'])['date_time'].count().reset_index().rename(columns={'date_time': 'tasks_per_session'}).to_pandas()\n",
    "# summary of question\n",
    "tasks_per_session['tasks_per_session'].describe()"
   ]
  },
  {
   "cell_type": "code",
   "execution_count": 12,
   "metadata": {},
   "outputs": [
    {
     "data": {
      "text/plain": [
       "'greater 1000: 2953: perc 0.004539312785244236'"
      ]
     },
     "metadata": {},
     "output_type": "display_data"
    },
    {
     "data": {
      "text/plain": [
       "'less 100: 557702: perc 0.8572921838659942'"
      ]
     },
     "metadata": {},
     "output_type": "display_data"
    },
    {
     "data": {
      "text/plain": [
       "'less 50: 483917: perc 0.7438708517091212'"
      ]
     },
     "metadata": {},
     "output_type": "display_data"
    },
    {
     "data": {
      "text/plain": [
       "'less 25: 391817: perc 0.6022959422878567'"
      ]
     },
     "metadata": {},
     "output_type": "display_data"
    }
   ],
   "source": [
    "greater_1000 = tasks_per_session[tasks_per_session['tasks_per_session'] > 1000]\n",
    "less_100 = tasks_per_session[tasks_per_session['tasks_per_session'] < 100]\n",
    "less_50 = tasks_per_session[tasks_per_session['tasks_per_session'] < 50]\n",
    "less_25 = tasks_per_session[tasks_per_session['tasks_per_session'] < 25]\n",
    "display(f'greater 1000: {greater_1000.shape[0]}: perc {greater_1000.shape[0] / tasks_per_session.shape[0]}')\n",
    "display(f'less 100: {less_100.shape[0]}: perc {less_100.shape[0] / tasks_per_session.shape[0]}')\n",
    "display(f'less 50: {tasks_per_session[tasks_per_session[\"tasks_per_session\"] < 50].shape[0]}: perc {tasks_per_session[tasks_per_session[\"tasks_per_session\"] < 50].shape[0] / tasks_per_session.shape[0]}')\n",
    "display(f'less 25: {tasks_per_session[tasks_per_session[\"tasks_per_session\"] < 25].shape[0]}: perc {tasks_per_session[tasks_per_session[\"tasks_per_session\"] < 25].shape[0] / tasks_per_session.shape[0]}')"
   ]
  },
  {
   "cell_type": "code",
   "execution_count": 13,
   "metadata": {},
   "outputs": [
    {
     "data": {
      "text/plain": [
       "<seaborn.axisgrid.FacetGrid at 0x7ff5c01257f0>"
      ]
     },
     "execution_count": 13,
     "metadata": {},
     "output_type": "execute_result"
    },
    {
     "data": {
      "image/png": "[encoded data removed]",
      "text/plain": [
       "<Figure size 500x500 with 1 Axes>"
      ]
     },
     "metadata": {},
     "output_type": "display_data"
    }
   ],
   "source": [
    "tasks_per_session['tasks_per_session'] =  tasks_per_session['tasks_per_session'].clip(upper=1000)\n",
    "sns.displot(tasks_per_session['tasks_per_session'], common_bins=False, common_norm=False, log_scale=True)"
   ]
  },
  {
   "cell_type": "code",
   "execution_count": 14,
   "metadata": {},
   "outputs": [],
   "source": [
    "# time within session\n",
    "elapsed_time_per_session = df.groupby(['user_id', 'session_30'])['date_time'].agg(['min', 'max']).reset_index().to_pandas()\n",
    "elapsed_time_per_session['total_time'] = elapsed_time_per_session['max'] - elapsed_time_per_session['min']\n",
    "elapsed_time_per_session['total_mins'] = elapsed_time_per_session['total_time'].dt.total_seconds() / 60"
   ]
  },
  {
   "cell_type": "code",
   "execution_count": 15,
   "metadata": {},
   "outputs": [
    {
     "data": {
      "text/plain": [
       "count    650539.000000\n",
       "mean         28.776690\n",
       "std          40.305159\n",
       "min           0.000000\n",
       "25%           3.633333\n",
       "50%          15.583333\n",
       "75%          37.966667\n",
       "max        1107.466667\n",
       "Name: total_mins, dtype: float64"
      ]
     },
     "execution_count": 15,
     "metadata": {},
     "output_type": "execute_result"
    }
   ],
   "source": [
    "elapsed_time_per_session['total_mins'].describe()"
   ]
  },
  {
   "cell_type": "code",
   "execution_count": 16,
   "metadata": {},
   "outputs": [
    {
     "data": {
      "text/plain": [
       "'less 15 mins: 319031: perc 0.4904102597999505'"
      ]
     },
     "metadata": {},
     "output_type": "display_data"
    },
    {
     "data": {
      "text/plain": [
       "'less 30 mins: 443851: perc 0.6822819231437316'"
      ]
     },
     "metadata": {},
     "output_type": "display_data"
    },
    {
     "data": {
      "text/plain": [
       "'less 60 mins: 564697: perc 0.8680448059224736'"
      ]
     },
     "metadata": {},
     "output_type": "display_data"
    },
    {
     "data": {
      "text/plain": [
       "'less 120 mins: 628167: perc 0.965610055661536'"
      ]
     },
     "metadata": {},
     "output_type": "display_data"
    },
    {
     "data": {
      "text/plain": [
       "'less 180 mins: 641657: perc 0.9863467063465834'"
      ]
     },
     "metadata": {},
     "output_type": "display_data"
    }
   ],
   "source": [
    "sub_15_mins = elapsed_time_per_session[elapsed_time_per_session['total_mins'] < 15]\n",
    "sub_30_mins = elapsed_time_per_session[elapsed_time_per_session['total_mins'] < 30]\n",
    "sub_60_mins = elapsed_time_per_session[elapsed_time_per_session['total_mins'] < 60]\n",
    "sub_120_mins = elapsed_time_per_session[elapsed_time_per_session['total_mins'] < 120]\n",
    "sub_180_mins = elapsed_time_per_session[elapsed_time_per_session['total_mins'] < 180]\n",
    "display(f'less 15 mins: {sub_15_mins.shape[0]}: perc {sub_15_mins.shape[0] / elapsed_time_per_session.shape[0]}')\n",
    "display(f'less 30 mins: {sub_30_mins.shape[0]}: perc {sub_30_mins.shape[0] / elapsed_time_per_session.shape[0]}')\n",
    "display(f'less 60 mins: {sub_60_mins.shape[0]}: perc {sub_60_mins.shape[0] / elapsed_time_per_session.shape[0]}')\n",
    "display(f'less 120 mins: {sub_120_mins.shape[0]}: perc {sub_120_mins.shape[0] / elapsed_time_per_session.shape[0]}')\n",
    "display(f'less 180 mins: {sub_180_mins.shape[0]}: perc {sub_180_mins.shape[0] / elapsed_time_per_session.shape[0]}')"
   ]
  },
  {
   "cell_type": "code",
   "execution_count": 17,
   "metadata": {},
   "outputs": [
    {
     "data": {
      "text/plain": [
       "<seaborn.axisgrid.FacetGrid at 0x7ff5c0131c70>"
      ]
     },
     "execution_count": 17,
     "metadata": {},
     "output_type": "execute_result"
    },
    {
     "data": {
      "image/png": "[encoded data removed]",
      "text/plain": [
       "<Figure size 500x500 with 1 Axes>"
      ]
     },
     "metadata": {},
     "output_type": "display_data"
    }
   ],
   "source": [
    "elapsed_time_per_session['total_mins'] = elapsed_time_per_session['total_mins'].clip(upper=240)\n",
    "elapsed_time_per_session['total_mins'] = elapsed_time_per_session['total_mins'].astype(int)\n",
    "elapsed_time_per_session = elapsed_time_per_session[elapsed_time_per_session['total_mins'] > 0]\n",
    "sns.displot(elapsed_time_per_session['total_mins'])"
   ]
  },
  {
   "cell_type": "code",
   "execution_count": 18,
   "metadata": {},
   "outputs": [],
   "source": [
    "time_between_sessions = df.groupby(['user_id', 'session_30'])['date_time'].agg(['min', 'max']).reset_index().to_pandas().reset_index()"
   ]
  },
  {
   "cell_type": "code",
   "execution_count": 19,
   "metadata": {},
   "outputs": [],
   "source": [
    "time_between_sessions = time_between_sessions.sort_values(['min']).reset_index(drop=True)\n",
    "time_between_sessions['prev_session_end'] = time_between_sessions.groupby(['user_id'])['max'].shift(1)\n",
    "time_between_sessions = time_between_sessions.dropna().reset_index(drop=True)"
   ]
  },
  {
   "cell_type": "code",
   "execution_count": 20,
   "metadata": {},
   "outputs": [],
   "source": [
    "time_between_sessions['minutes_between_sessions'] = (time_between_sessions['min'] - time_between_sessions['prev_session_end']).dt.total_seconds() / 60"
   ]
  },
  {
   "cell_type": "code",
   "execution_count": 21,
   "metadata": {},
   "outputs": [
    {
     "data": {
      "text/plain": [
       "'less 45 mins: 51579: perc 0.0945025146804203'"
      ]
     },
     "metadata": {},
     "output_type": "display_data"
    },
    {
     "data": {
      "text/plain": [
       "'less 60 mins: 81447: perc 0.14922635788162222'"
      ]
     },
     "metadata": {},
     "output_type": "display_data"
    },
    {
     "data": {
      "text/plain": [
       "'less 120 mins: 142276: perc 0.2606766276715617'"
      ]
     },
     "metadata": {},
     "output_type": "display_data"
    },
    {
     "data": {
      "text/plain": [
       "'less 720 mins: 250255: perc 0.4585146437765095'"
      ]
     },
     "metadata": {},
     "output_type": "display_data"
    },
    {
     "data": {
      "text/plain": [
       "'less 1440 mins: 368283: perc 0.6747643345944906'"
      ]
     },
     "metadata": {},
     "output_type": "display_data"
    },
    {
     "data": {
      "text/plain": [
       "'less 2160 mins: 401987: perc 0.7365164576443537'"
      ]
     },
     "metadata": {},
     "output_type": "display_data"
    }
   ],
   "source": [
    "less_45 = time_between_sessions[time_between_sessions['minutes_between_sessions'] < 45]\n",
    "less_60 = time_between_sessions[time_between_sessions['minutes_between_sessions'] < 60]\n",
    "less_120 = time_between_sessions[time_between_sessions['minutes_between_sessions'] < 120]\n",
    "less_720 = time_between_sessions[time_between_sessions['minutes_between_sessions'] < 720]\n",
    "less_1440 = time_between_sessions[time_between_sessions['minutes_between_sessions'] < 1440]\n",
    "less_2160 = time_between_sessions[time_between_sessions['minutes_between_sessions'] < 2160]\n",
    "display(f'less 45 mins: {less_45.shape[0]}: perc {less_45.shape[0] / time_between_sessions.shape[0]}')\n",
    "display(f'less 60 mins: {less_60.shape[0]}: perc {less_60.shape[0] / time_between_sessions.shape[0]}')\n",
    "display(f'less 120 mins: {less_120.shape[0]}: perc {less_120.shape[0] / time_between_sessions.shape[0]}')\n",
    "display(f'less 720 mins: {less_720.shape[0]}: perc {less_720.shape[0] / time_between_sessions.shape[0]}')\n",
    "display(f'less 1440 mins: {less_1440.shape[0]}: perc {less_1440.shape[0] / time_between_sessions.shape[0]}')\n",
    "display(f'less 2160 mins: {less_2160.shape[0]}: perc {less_2160.shape[0] / time_between_sessions.shape[0]}')"
   ]
  },
  {
   "cell_type": "code",
   "execution_count": 22,
   "metadata": {},
   "outputs": [
    {
     "data": {
      "text/plain": [
       "<seaborn.axisgrid.FacetGrid at 0x7ff5baedce20>"
      ]
     },
     "execution_count": 22,
     "metadata": {},
     "output_type": "execute_result"
    },
    {
     "data": {
      "image/png": "[encoded data removed]",
      "text/plain": [
       "<Figure size 500x500 with 1 Axes>"
      ]
     },
     "metadata": {},
     "output_type": "display_data"
    }
   ],
   "source": [
    "sns.displot(time_between_sessions['minutes_between_sessions'], common_bins=False, common_norm=(False, True), log_scale=True)"
   ]
  }
 ],
 "metadata": {
  "kernelspec": {
   "display_name": "Python 3 (ipykernel)",
   "language": "python",
   "name": "python3"
  },
  "orig_nbformat": 4,
  "vscode": {
   "interpreter": {
    "hash": "688f0cbc867e5b5d54fc773257ac16d178407a6a259c751a555796b2824ac602"
   }
  }
 },
 "nbformat": 4,
 "nbformat_minor": 2
}
