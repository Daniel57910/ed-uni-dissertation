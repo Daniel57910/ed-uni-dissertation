{
 "cells": [
  {
   "cell_type": "code",
   "execution_count": 1,
   "metadata": {},
   "outputs": [],
   "source": [
    "USE_GPU = True"
   ]
  },
  {
   "cell_type": "code",
   "execution_count": 2,
   "metadata": {},
   "outputs": [],
   "source": [
    "\n",
    "SCALED_COLS =[\n",
    "    'timestamp',\n",
    "    '30_minute_session_count',\n",
    "    '5_minute_session_count',\n",
    "    'task_within_session_count',\n",
    "]\n",
    "\n",
    "\n",
    "ENCODED_COLS = [\n",
    "    'user_id',\n",
    "    'project_id',\n",
    "    'country'\n",
    "]\n",
    "\n",
    "\n",
    "GROUPBY_COLS = ['user_id']\n",
    "\n",
    "TIMESTAMP_INDEX = 1\n",
    "\n",
    "INITIAL_LOAD_COLUMNS = ENCODED_COLS +  ['label', 'date_time'] +  [col for col in SCALED_COLS if 'timestamp' not in col and 'project_count' not in col]"
   ]
  },
  {
   "cell_type": "code",
   "execution_count": 3,
   "metadata": {},
   "outputs": [],
   "source": [
    "\n",
    "if USE_GPU: \n",
    "    import cupy as np\n",
    "    import numpy\n",
    "    import pandas\n",
    "    import cudf as pd\n",
    "    \n",
    "    import dask_cudf as dd\n",
    "    import pandas as cpu_pd\n",
    "    from cuml.preprocessing import MinMaxScaler\n",
    "else:\n",
    "    import numpy as np\n",
    "    import numpy\n",
    "    import pandas as pd\n",
    "    import dask.dataframe as dd\n",
    "    from sklearn.preprocessing import MinMaxScaler\n",
    "\n",
    "import seaborn as sns\n",
    "import matplotlib.pyplot as plt\n",
    "import glob\n",
    "# numpy.set_printoptions(precision=4, suppress=True, linewidth=200)\n",
    "# pandas.options.display.max_columns = 100\n",
    "pandas.options.display.max_rows = 100\n",
    "# pandas.options.display.width = 200\n",
    "# pandas.options.display.chop_threshold = 4\n"
   ]
  },
  {
   "cell_type": "code",
   "execution_count": 4,
   "metadata": {},
   "outputs": [],
   "source": [
    "files = glob.iglob('frequency_encoded_data/*.csv')\n",
    "files = sorted(list(files))"
   ]
  },
  {
   "cell_type": "code",
   "execution_count": 5,
   "metadata": {},
   "outputs": [],
   "source": [
    "df = dd.read_csv(files, usecols=INITIAL_LOAD_COLUMNS)\n"
   ]
  },
  {
   "cell_type": "code",
   "execution_count": 6,
   "metadata": {},
   "outputs": [],
   "source": [
    "test_bug = df[df['user_id'] == 2354175.0].compute()\n",
    "test_bug['date_time'] = pd.to_datetime(test_bug['date_time'])\n",
    "test_bug = test_bug.sort_values(by=['date_time'])"
   ]
  },
  {
   "cell_type": "code",
   "execution_count": null,
   "metadata": {},
   "outputs": [],
   "source": []
  },
  {
   "cell_type": "code",
   "execution_count": 7,
   "metadata": {},
   "outputs": [],
   "source": [
    "test_bug.to_csv('user_with_error.csv')"
   ]
  },
  {
   "cell_type": "code",
   "execution_count": 7,
   "metadata": {},
   "outputs": [],
   "source": [
    "session_time = df.groupby(['user_id', '30_minute_session_count']).agg({'date_time': ['min', 'max']}).reset_index()"
   ]
  },
  {
   "cell_type": "code",
   "execution_count": 8,
   "metadata": {},
   "outputs": [],
   "source": [
    "session_time['minutes_in_session'] = (session_time['date_time']['max'] - session_time['date_time']['min'])"
   ]
  },
  {
   "cell_type": "code",
   "execution_count": 9,
   "metadata": {},
   "outputs": [],
   "source": [
    "session_time = session_time.to_pandas()"
   ]
  },
  {
   "cell_type": "code",
   "execution_count": 10,
   "metadata": {},
   "outputs": [],
   "source": [
    "session_time['minutes_in_session'] = (session_time['minutes_in_session'].dt.total_seconds() / 60).astype(int)"
   ]
  },
  {
   "cell_type": "code",
   "execution_count": 48,
   "metadata": {},
   "outputs": [
    {
     "data": {
      "text/html": [
       "<div>\n",
       "<style scoped>\n",
       "    .dataframe tbody tr th:only-of-type {\n",
       "        vertical-align: middle;\n",
       "    }\n",
       "\n",
       "    .dataframe tbody tr th {\n",
       "        vertical-align: top;\n",
       "    }\n",
       "\n",
       "    .dataframe thead tr th {\n",
       "        text-align: left;\n",
       "    }\n",
       "</style>\n",
       "<table border=\"1\" class=\"dataframe\">\n",
       "  <thead>\n",
       "    <tr>\n",
       "      <th></th>\n",
       "      <th>user_id</th>\n",
       "      <th>30_minute_session_count</th>\n",
       "      <th colspan=\"2\" halign=\"left\">date_time</th>\n",
       "      <th>minutes_in_session</th>\n",
       "    </tr>\n",
       "    <tr>\n",
       "      <th></th>\n",
       "      <th></th>\n",
       "      <th></th>\n",
       "      <th>min</th>\n",
       "      <th>max</th>\n",
       "      <th></th>\n",
       "    </tr>\n",
       "  </thead>\n",
       "  <tbody>\n",
       "    <tr>\n",
       "      <th>591763</th>\n",
       "      <td>2354175.0</td>\n",
       "      <td>1.0</td>\n",
       "      <td>2021-11-21 14:07:35</td>\n",
       "      <td>2022-08-05 13:43:52</td>\n",
       "      <td>370056</td>\n",
       "    </tr>\n",
       "    <tr>\n",
       "      <th>61662</th>\n",
       "      <td>2021653.0</td>\n",
       "      <td>2.0</td>\n",
       "      <td>2021-12-03 14:34:33</td>\n",
       "      <td>2022-07-15 13:15:27</td>\n",
       "      <td>322480</td>\n",
       "    </tr>\n",
       "    <tr>\n",
       "      <th>122337</th>\n",
       "      <td>2077142.0</td>\n",
       "      <td>11.0</td>\n",
       "      <td>2021-11-22 11:01:31</td>\n",
       "      <td>2022-06-27 12:06:01</td>\n",
       "      <td>312544</td>\n",
       "    </tr>\n",
       "    <tr>\n",
       "      <th>294513</th>\n",
       "      <td>2326447.0</td>\n",
       "      <td>6.0</td>\n",
       "      <td>2022-01-02 08:01:49</td>\n",
       "      <td>2022-07-05 11:54:27</td>\n",
       "      <td>265192</td>\n",
       "    </tr>\n",
       "    <tr>\n",
       "      <th>496319</th>\n",
       "      <td>2047747.0</td>\n",
       "      <td>6.0</td>\n",
       "      <td>2022-01-04 19:06:24</td>\n",
       "      <td>2022-07-05 18:36:20</td>\n",
       "      <td>262049</td>\n",
       "    </tr>\n",
       "    <tr>\n",
       "      <th>...</th>\n",
       "      <td>...</td>\n",
       "      <td>...</td>\n",
       "      <td>...</td>\n",
       "      <td>...</td>\n",
       "      <td>...</td>\n",
       "    </tr>\n",
       "    <tr>\n",
       "      <th>129779</th>\n",
       "      <td>1870670.0</td>\n",
       "      <td>313.0</td>\n",
       "      <td>2022-07-15 14:37:59</td>\n",
       "      <td>2022-07-16 00:46:38</td>\n",
       "      <td>608</td>\n",
       "    </tr>\n",
       "    <tr>\n",
       "      <th>518382</th>\n",
       "      <td>1792337.0</td>\n",
       "      <td>308.0</td>\n",
       "      <td>2022-01-24 06:17:13</td>\n",
       "      <td>2022-01-24 16:26:04</td>\n",
       "      <td>608</td>\n",
       "    </tr>\n",
       "    <tr>\n",
       "      <th>47601</th>\n",
       "      <td>1216856.0</td>\n",
       "      <td>20.0</td>\n",
       "      <td>2022-02-02 19:42:25</td>\n",
       "      <td>2022-02-03 05:48:57</td>\n",
       "      <td>606</td>\n",
       "    </tr>\n",
       "    <tr>\n",
       "      <th>60200</th>\n",
       "      <td>2483000.0</td>\n",
       "      <td>16.0</td>\n",
       "      <td>2022-06-23 00:57:05</td>\n",
       "      <td>2022-06-23 11:02:54</td>\n",
       "      <td>605</td>\n",
       "    </tr>\n",
       "    <tr>\n",
       "      <th>11231</th>\n",
       "      <td>2316079.0</td>\n",
       "      <td>36.0</td>\n",
       "      <td>2021-12-11 12:54:09</td>\n",
       "      <td>2021-12-11 22:58:50</td>\n",
       "      <td>604</td>\n",
       "    </tr>\n",
       "  </tbody>\n",
       "</table>\n",
       "<p>1833 rows × 5 columns</p>\n",
       "</div>"
      ],
      "text/plain": [
       "          user_id 30_minute_session_count           date_time  \\\n",
       "                                                          min   \n",
       "591763  2354175.0                     1.0 2021-11-21 14:07:35   \n",
       "61662   2021653.0                     2.0 2021-12-03 14:34:33   \n",
       "122337  2077142.0                    11.0 2021-11-22 11:01:31   \n",
       "294513  2326447.0                     6.0 2022-01-02 08:01:49   \n",
       "496319  2047747.0                     6.0 2022-01-04 19:06:24   \n",
       "...           ...                     ...                 ...   \n",
       "129779  1870670.0                   313.0 2022-07-15 14:37:59   \n",
       "518382  1792337.0                   308.0 2022-01-24 06:17:13   \n",
       "47601   1216856.0                    20.0 2022-02-02 19:42:25   \n",
       "60200   2483000.0                    16.0 2022-06-23 00:57:05   \n",
       "11231   2316079.0                    36.0 2021-12-11 12:54:09   \n",
       "\n",
       "                           minutes_in_session  \n",
       "                       max                     \n",
       "591763 2022-08-05 13:43:52             370056  \n",
       "61662  2022-07-15 13:15:27             322480  \n",
       "122337 2022-06-27 12:06:01             312544  \n",
       "294513 2022-07-05 11:54:27             265192  \n",
       "496319 2022-07-05 18:36:20             262049  \n",
       "...                    ...                ...  \n",
       "129779 2022-07-16 00:46:38                608  \n",
       "518382 2022-01-24 16:26:04                608  \n",
       "47601  2022-02-03 05:48:57                606  \n",
       "60200  2022-06-23 11:02:54                605  \n",
       "11231  2021-12-11 22:58:50                604  \n",
       "\n",
       "[1833 rows x 5 columns]"
      ]
     },
     "execution_count": 48,
     "metadata": {},
     "output_type": "execute_result"
    }
   ],
   "source": [
    "session_time[session_time['minutes_in_session'] > 600].sort_values(by=['minutes_in_session'], ascending=False)"
   ]
  },
  {
   "cell_type": "code",
   "execution_count": 12,
   "metadata": {},
   "outputs": [],
   "source": [
    "session_time['minutes_in_session'] = session_time['minutes_in_session'].apply(lambda x: 1 if x == 0 else x)"
   ]
  },
  {
   "cell_type": "code",
   "execution_count": 39,
   "metadata": {},
   "outputs": [],
   "source": [
    "hist_bins = numpy.concatenate((numpy.array([10, 30]), numpy.arange(60, 630, 30)))"
   ]
  },
  {
   "cell_type": "code",
   "execution_count": 41,
   "metadata": {},
   "outputs": [],
   "source": [
    "hist = numpy.histogram(session_time['minutes_in_session'], bins=hist_bins)"
   ]
  },
  {
   "cell_type": "code",
   "execution_count": 42,
   "metadata": {},
   "outputs": [
    {
     "data": {
      "text/plain": [
       "(array([181662, 120441,  44484,  19059,   8876,   4882,   3168,   2439,\n",
       "          1424,    967,    525,    328,    191,    112,     85,     64,\n",
       "            63,     49,     25,     29]),\n",
       " array([ 10,  30,  60,  90, 120, 150, 180, 210, 240, 270, 300, 330, 360,\n",
       "        390, 420, 450, 480, 510, 540, 570, 600]))"
      ]
     },
     "execution_count": 42,
     "metadata": {},
     "output_type": "execute_result"
    }
   ],
   "source": [
    "hist"
   ]
  },
  {
   "cell_type": "code",
   "execution_count": 43,
   "metadata": {},
   "outputs": [],
   "source": [
    "counts, bins = hist"
   ]
  },
  {
   "cell_type": "code",
   "execution_count": 46,
   "metadata": {},
   "outputs": [
    {
     "data": {
      "text/plain": [
       "(20,)"
      ]
     },
     "metadata": {},
     "output_type": "display_data"
    },
    {
     "data": {
      "text/plain": [
       "(21,)"
      ]
     },
     "metadata": {},
     "output_type": "display_data"
    },
    {
     "data": {
      "text/plain": [
       "261686"
      ]
     },
     "metadata": {},
     "output_type": "display_data"
    }
   ],
   "source": [
    "display(counts.shape)\n",
    "display(bins.shape)\n",
    "greater_600 = session_time.shape[0] - numpy.sum(counts)\n",
    "display(greater_600)"
   ]
  },
  {
   "cell_type": "code",
   "execution_count": null,
   "metadata": {},
   "outputs": [],
   "source": []
  }
 ],
 "metadata": {
  "kernelspec": {
   "display_name": "Python 3 (ipykernel)",
   "language": "python",
   "name": "python3"
  },
  "language_info": {
   "codemirror_mode": {
    "name": "ipython",
    "version": 3
   },
   "file_extension": ".py",
   "mimetype": "text/x-python",
   "name": "python",
   "nbconvert_exporter": "python",
   "pygments_lexer": "ipython3",
   "version": "3.9.13"
  },
  "orig_nbformat": 4
 },
 "nbformat": 4,
 "nbformat_minor": 2
}
