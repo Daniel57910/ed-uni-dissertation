{
 "cells": [
  {
   "cell_type": "code",
   "execution_count": 1,
   "metadata": {},
   "outputs": [],
   "source": [
    "USE_GPU = False\n",
    "from typing import List, Tuple, Dict, Any, Optional\n",
    "import seaborn as sns\n",
    "from sklearn.metrics import roc_auc_score, accuracy_score, precision_score, recall_score, f1_score\n",
    "import statsmodels.api as sm\n",
    "import re\n",
    "import plotly.express as px\n",
    "import tensorboard\n",
    "import pandas as pd\n",
    "import numpy as np\n",
    "import seaborn as sns\n",
    "from tensorboard.backend.event_processing.event_accumulator import EventAccumulator\n",
    "import matplotlib.pyplot as plt\n",
    "import os\n",
    "import glob\n",
    "from typing import Dict\n",
    "from statsmodels.tsa.filters.hp_filter import hpfilter\n",
    "import re\n",
    "from datetime import datetime\n",
    "import plotly\n",
    "import plotly.offline as pyo\n",
    "import plotly.io as pio\n",
    "\n",
    "from plotly.subplots import make_subplots\n",
    "import plotly.graph_objects as go"
   ]
  },
  {
   "cell_type": "code",
   "execution_count": 56,
   "metadata": {},
   "outputs": [],
   "source": [
    "pd.set_option('display.max_columns', 500)\n",
    "pd.set_option('display.width', 1000)\n",
    "pd.set_option('display.max_rows', 500)\n",
    "pd.set_option('mode.chained_assignment', None)\n",
    "pd.set_option('display.float_format', lambda x: '%.3f' % x)\n"
   ]
  },
  {
   "cell_type": "code",
   "execution_count": 3,
   "metadata": {},
   "outputs": [],
   "source": [
    "pio.renderers.default = 'notebook+pdf'\n",
    "# pyo.init_notebook_mode()"
   ]
  },
  {
   "cell_type": "code",
   "execution_count": 4,
   "metadata": {},
   "outputs": [],
   "source": [
    "\n",
    "\n",
    "TIME_STATS = [\n",
    "    'sess_time/ended_time',\n",
    "    'sess_time/session_minutes',\n",
    "    'sess_time/time_cutoff',\n",
    "    'sess_time/time_large',\n",
    "    'sess_time/time_medium',\n",
    "    'sess_time/time_small',\n",
    "]\n",
    "\n",
    "TIME_STATS_GRANULAR = [\n",
    "    'ended_time', \n",
    "    'session_minutes', \n",
    "    'time_cutoff', \n",
    "    'time_large', \n",
    "    'time_medium', \n",
    "    'time_small'\n",
    "]\n",
    "\n",
    "SIZE_STATS_GRANULAR = [\n",
    "    'ended_event',\n",
    "    'session_size',\n",
    "    'size_cutoff',\n",
    "    'inc_small',\n",
    "    'inc_medium',\n",
    "    'inc_large'\n",
    "]\n",
    "    "
   ]
  },
  {
   "cell_type": "code",
   "execution_count": 107,
   "metadata": {},
   "outputs": [],
   "source": [
    "\n",
    "def plot_vectors(df, x_name, y, title):\n",
    "\n",
    "    fig = px.line(\n",
    "        df,\n",
    "        x=x_name,\n",
    "        y=y,\n",
    "        color='model',\n",
    "        title=f'Training {title}',\n",
    "    )\n",
    "    \n",
    "\n",
    "    return fig\n",
    "def plot_vectors_multiple(df, y, title, show=True):\n",
    "\n",
    "    fig = px.line(\n",
    "        df,\n",
    "        x='step',\n",
    "        y=y,\n",
    "        title=f'Training {title}',\n",
    "        showlegend=show\n",
    "    )\n",
    "    \n",
    "    # fig.show()\n",
    "    return fig\n",
    "\n",
    "\n",
    "def global_perc_to_end(df_matrix, session_size_bound=None):\n",
    "    move_to_end_matrix = {}\n",
    "    for df_name, df_path in df_matrix.items():\n",
    "        print(f'Calculating percentage done for {df_name} {df_path}')\n",
    "        df = pd.read_csv(df_path)\n",
    "        df = df[df['exp_runs'] <= 4000]\n",
    "        if session_size_bound:\n",
    "            df = df[\n",
    "                (df['session_size'] >= session_size_bound[0]) & (df['session_size'] <= session_size_bound[1])\n",
    "            ]\n",
    "       \n",
    "        df = df[df['ended_event'] > 0]\n",
    "        df['perc_to_end'] = df['ended_event'] / df['session_size']\n",
    "        perc_to_end_summary = df.sort_values(by='exp_runs')\n",
    "        move_to_end_matrix[df_name] = perc_to_end_summary\n",
    "        \n",
    "\n",
    "    for df_name, df in move_to_end_matrix.items():\n",
    "        \n",
    "        if 'DQN' in df_name:\n",
    "            print(f'{df_name} before rollup shape: {df.shape}')\n",
    "            df = df.rolling(100, center=True) \\\n",
    "                .mean() \\\n",
    "                .dropna() \\\n",
    "                .reset_index(drop=True)\n",
    "   \n",
    "            df = df[::100].reset_index(drop=True) \n",
    "            df['step'] = df.index.values\n",
    "            print(f'{df_name} after rollup shape: {df.shape}')\n",
    "            \n",
    "        if 'A2C' in df_name:\n",
    "            print(f'{df_name} before rollup shape: {df.shape}')\n",
    "            df = df.rolling(5, center=True) \\\n",
    "                .mean() \\\n",
    "                .dropna() \\\n",
    "                .reset_index(drop=True)\n",
    "            df = df[::5].reset_index(drop=True)\n",
    "            df['step'] = df.index.values\n",
    "            print(f'{df_name} after rollup shape: {df.shape}')\n",
    "            \n",
    "        df['model'] = df_name\n",
    "        \n",
    "        \n",
    "        move_to_end_matrix[df_name] = df\n",
    "        \n",
    "    out_df = pd.concat(move_to_end_matrix.values())\n",
    "    \n",
    "\n",
    "    \n",
    "    return out_df\n",
    "\n",
    "\n",
    "def global_perc_done(df_matrix, session_size_bound=None):\n",
    "    done_matrix = {}\n",
    "    for df_name, df_path in df_matrix.items():\n",
    "        print(f'Calculating percentage finished for {df_name} from {df_path}')\n",
    "        df = pd.read_csv(df_path)\n",
    "        df = df[df['exp_runs'] <= 5000]\n",
    "        if session_size_bound:\n",
    "            df = df[\n",
    "                (df['session_size'] >= session_size_bound[0]) & (df['session_size'] <= session_size_bound[1])]\n",
    "        \n",
    "        df = df[df['ended_event'] > 0]\n",
    "       \n",
    "       \n",
    "        df['perc_done'] = df['ended_event'] == df['session_size']\n",
    "        perc_done_summary = df.groupby(['exp_runs']).agg(\n",
    "            done_count=('perc_done', 'sum'),\n",
    "            sess_count=('perc_done', 'count')\n",
    "        ) \\\n",
    "        .reset_index()\n",
    "        perc_done_summary['perc_done'] = perc_done_summary['done_count'] / perc_done_summary['sess_count']\n",
    "        perc_done_summary['model'] = df_name\n",
    "        done_matrix[df_name] = perc_done_summary\n",
    "    \n",
    "        \n",
    "    \n",
    "    out_df = pd.concat(done_matrix.values())\n",
    "    out_df = out_df.rename(columns={'exp_runs': 'episode'})\n",
    "    return out_df\n",
    "    \n",
    "    \n",
    "\n",
    "    \n",
    "\n",
    "PLOTLY_COLORS = plotly.colors.DEFAULT_PLOTLY_COLORS\n",
    "\n",
    "def plot_granular(df, model_list, showlegend=False):\n",
    "    plot_list = []\n",
    "    for model, color in zip(model_list, PLOTLY_COLORS):\n",
    "        plot_list.append(\n",
    "            go.Scatter(\n",
    "                x=df['episode'],\n",
    "                y=df[model],\n",
    "                name=model,\n",
    "                line=dict(color=color),\n",
    "                showlegend=showlegend\n",
    "            )\n",
    "        )\n",
    "    \n",
    "    \n",
    "    return plot_list\n",
    "\n",
    "                "
   ]
  },
  {
   "cell_type": "code",
   "execution_count": 108,
   "metadata": {},
   "outputs": [],
   "source": [
    "TB_LOGS = 'dqn_tb'\n",
    "CSV_LOGS = 'rl_results/dqn_csv'"
   ]
  },
  {
   "cell_type": "code",
   "execution_count": 109,
   "metadata": {},
   "outputs": [],
   "source": [
    "csv_dirs = {\n",
    "    'DQN PRED CNN': 'dqn_csv/train/q2/dqn_pred_cnn.csv',\n",
    "    'QRDQN PRED CNN': 'dqn_csv/train/q2/qrdqn_pred_cnn.csv',\n",
    "    'A2C PRED CNN': 'dqn_csv/train/q2/a2c_pred_cnn.csv',\n",
    "}\n",
    "\n"
   ]
  },
  {
   "cell_type": "code",
   "execution_count": 110,
   "metadata": {},
   "outputs": [
    {
     "name": "stdout",
     "output_type": "stream",
     "text": [
      "Calculating percentage done for DQN PRED CNN dqn_csv/train/q2/dqn_pred_cnn.csv\n",
      "Calculating percentage done for QRDQN PRED CNN dqn_csv/train/q2/qrdqn_pred_cnn.csv\n",
      "Calculating percentage done for A2C PRED CNN dqn_csv/train/q2/a2c_pred_cnn.csv\n",
      "DQN PRED CNN before rollup shape: (394223, 23)\n",
      "DQN PRED CNN after rollup shape: (3942, 24)\n",
      "QRDQN PRED CNN before rollup shape: (400000, 23)\n",
      "QRDQN PRED CNN after rollup shape: (4000, 24)\n",
      "A2C PRED CNN before rollup shape: (25780, 23)\n",
      "A2C PRED CNN after rollup shape: (5156, 24)\n",
      "Calculating percentage finished for DQN PRED CNN from dqn_csv/train/q2/dqn_pred_cnn.csv\n",
      "Calculating percentage finished for QRDQN PRED CNN from dqn_csv/train/q2/qrdqn_pred_cnn.csv\n",
      "Calculating percentage finished for A2C PRED CNN from dqn_csv/train/q2/a2c_pred_cnn.csv\n"
     ]
    }
   ],
   "source": [
    "perc_to_end = global_perc_to_end(csv_dirs)\n",
    "perc_finished = global_perc_done(csv_dirs)"
   ]
  },
  {
   "cell_type": "code",
   "execution_count": 111,
   "metadata": {},
   "outputs": [],
   "source": [
    "dqn_pred = pd.read_csv(csv_dirs['DQN PRED CNN'])\n",
    "qrdqn_pred = pd.read_csv(csv_dirs['QRDQN PRED CNN'])\n",
    "a2c_pred = pd.read_csv(csv_dirs['A2C PRED CNN'])"
   ]
  },
  {
   "cell_type": "code",
   "execution_count": 112,
   "metadata": {},
   "outputs": [
    {
     "name": "stdout",
     "output_type": "stream",
     "text": [
      "25780\n",
      "432862\n",
      "394265\n"
     ]
    }
   ],
   "source": [
    "print(a2c_pred['exp_runs'].count())\n",
    "print(qrdqn_pred['exp_runs'].count())\n",
    "print(dqn_pred['exp_runs'].count())"
   ]
  },
  {
   "cell_type": "code",
   "execution_count": 113,
   "metadata": {},
   "outputs": [
    {
     "name": "stdout",
     "output_type": "stream",
     "text": [
      "(3942, 25)\n",
      "(4000, 25)\n",
      "(5156, 25)\n"
     ]
    }
   ],
   "source": [
    "print(perc_to_end[perc_to_end['model'] == 'DQN PRED CNN'].shape)\n",
    "print(perc_to_end[perc_to_end['model'] == 'QRDQN PRED CNN'].shape)\n",
    "print(perc_to_end[perc_to_end['model'] == 'A2C PRED CNN'].shape)"
   ]
  },
  {
   "cell_type": "code",
   "execution_count": 114,
   "metadata": {},
   "outputs": [
    {
     "name": "stdout",
     "output_type": "stream",
     "text": [
      "DQN mean perc to end: 0.6866023532230889 std: 0.014583192479683161\n",
      "QRDQN mean perc to end: 0.6647917985554489 std: 0.009817008277803005\n",
      "A2C mean perc to end: 0.7548205943965149 std: 0.0641652706488363\n"
     ]
    }
   ],
   "source": [
    "mean_dqn_perc_end, std_dqn_perc_end = (\n",
    "    perc_to_end[perc_to_end['model'] == 'DQN PRED CNN'].sort_values(by='exp_runs').tail(10)['perc_to_end'].mean(),\n",
    "    perc_to_end[perc_to_end['model'] == 'DQN PRED CNN'].sort_values(by='exp_runs').tail(10)['perc_to_end'].std()\n",
    ")\n",
    "\n",
    "mean_qrdqn_perc_end, std_qrdqn_perc_end = (\n",
    "    perc_to_end[perc_to_end['model'] == 'QRDQN PRED CNN'].sort_values(by='exp_runs').tail(10)['perc_to_end'].mean(),\n",
    "    perc_to_end[perc_to_end['model'] == 'QRDQN PRED CNN'].sort_values(by='exp_runs').tail(10)['perc_to_end'].std()\n",
    ")\n",
    "\n",
    "mean_a2c_perc_end, std_a2c_perc_end = (\n",
    "    perc_to_end[perc_to_end['model'] == 'A2C PRED CNN'].sort_values(by='exp_runs').tail(10)['perc_to_end'].mean(),\n",
    "    perc_to_end[perc_to_end['model'] == 'A2C PRED CNN'].sort_values(by='exp_runs').tail(10)['perc_to_end'].std()\n",
    ")\n",
    "\n",
    "print(f'DQN mean perc to end: {mean_dqn_perc_end} std: {std_dqn_perc_end}')\n",
    "print(f'QRDQN mean perc to end: {mean_qrdqn_perc_end} std: {std_qrdqn_perc_end}')\n",
    "print(f'A2C mean perc to end: {mean_a2c_perc_end} std: {std_a2c_perc_end}')"
   ]
  },
  {
   "cell_type": "code",
   "execution_count": 85,
   "metadata": {},
   "outputs": [
    {
     "data": {
      "application/pdf": "[encoded data removed]",
      "text/html": [
       "<div>                            <div id=\"f897deca-e01b-447b-a418-88e88f8224e7\" class=\"plotly-graph-div\" style=\"height:525px; width:100%;\"></div>            <script type=\"text/javascript\">                require([\"plotly\"], function(Plotly) {                    window.PLOTLYENV=window.PLOTLYENV || {};                                    if (document.getElementById(\"f897deca-e01b-447b-a418-88e88f8224e7\")) {                    Plotly.newPlot(                        \"f897deca-e01b-447b-a418-88e88f8224e7\",                        [{\"hovertemplate\":\"model=DQN PRED CNN<br>step=%{x}<br>perc_to_end=%{y}<extra></extra>\",\"legendgroup\":\"DQN PRED CNN\",\"line\":{\"color\":\"#636efa\",\"dash\":\"solid\"},\"marker\":{\"symbol\":\"circle\"},\"mode\":\"lines\",\"name\":\"DQN PRED CNN\",\"orientation\":\"v\",\"showlegend\":true,\"x\":[0,25,50,75,100,125,150,175,200,225,250,275,300,325,350,375,400,425,450,475,500,525,550,575,600,625,650,675,700,725,750,775,800,825,850,875,900,925,950,975,1000,1025,1050,1075,1100,1125,1150,1175,1200,1225,1250,1275,1300,1325,1350,1375,1400,1425,1450,1475,1500,1525,1550,1575,1600,1625,1650,1675,1700,1725,1750,1775,1800,1825,1850,1875,1900,1925,1950,1975,2000,2025,2050,2075,2100,2125,2150,2175,2200,2225,2250,2275,2300,2325,2350,2375,2400,2425,2450,2475,2500,2525,2550,2575,2600,2625,2650,2675,2700,2725,2750,2775,2800,2825,2850,2875,2900,2925,2950,2975,3000,3025,3050,3075,3100,3125,3150,3175,3200,3225,3250,3275,3300,3325,3350,3375,3400,3425,3450,3475,3500,3525,3550,3575,3600,3625,3650,3675,3700,3725,3750],\"xaxis\":\"x\",\"y\":[0.7506539429881534,0.7137060403291582,0.7472677345080527,0.7854676345070589,0.761611358568786,0.7309890055682214,0.773559452426598,0.7653629998709255,0.8078938335869207,0.7710634245899871,0.7923275487915962,0.7692953800580531,0.7982989003925411,0.7676112598994456,0.7334511537146535,0.7087460295976686,0.7294319793443426,0.7388478098934144,0.7560539904908512,0.7340651450341703,0.7293312040780928,0.6977455375752227,0.7249903636926628,0.7444010796606534,0.732873125665958,0.7598842502496861,0.7351054184418331,0.7740086588527548,0.7633288699327591,0.8194313061388381,0.8069123459711111,0.7930181095128326,0.754768905756001,0.7611577035936595,0.7850063528514234,0.7376312617303435,0.7674679394799319,0.7530275013464032,0.7624799141262995,0.771033753207002,0.7670093426525219,0.7130705464226488,0.7114784830385191,0.7667731405038211,0.7556573739217347,0.7458397477990423,0.6976093002427646,0.7283447980532389,0.7273480640415054,0.7459405267985182,0.7085504023915583,0.7271054191653326,0.6971864209968753,0.7045033277369569,0.7159191543577333,0.7239125750939462,0.6997881904791313,0.7455311464686807,0.7227650660309753,0.6881466898703371,0.7361206713376518,0.7316524276838705,0.7271961495016543,0.7288053823293771,0.7052524208600326,0.7261076921570689,0.7055083900729154,0.7180262817391581,0.7232064614379807,0.7392699467237962,0.7408955027676835,0.7583057434588052,0.7226110207662754,0.7319728406312916,0.7419840819620553,0.7522249595661171,0.7301865120708575,0.7415345277482092,0.7310789601646914,0.7216887254046491,0.7214520158113173,0.7074425665271638,0.7240891678168616,0.758048792118298,0.7121388930837427,0.7091127898046499,0.7411288115176586,0.7085516994337888,0.7155882440894294,0.7464803709811767,0.7532355595003852,0.7301676504980583,0.7020952562888513,0.7396961276942333,0.7658352451134407,0.7467099787214829,0.7418884145670437,0.7078166977326862,0.7383285985668018,0.7338423327536718,0.7238153501886039,0.7333268386609396,0.6996914931056578,0.7363530024948265,0.7246144283014775,0.7388915929021092,0.7479380741243166,0.7558406528947645,0.7598616538102605,0.7771455637134365,0.773613758669375,0.7621128852168387,0.7687635491160298,0.7508045409253852,0.7273231221170741,0.7817019458206134,0.7283119807786322,0.7590961008123895,0.7204140153225805,0.7238363123741083,0.7354351404977696,0.7458350462431699,0.7303013248207876,0.7117248696747781,0.7160443973614714,0.7142928672676581,0.6999050759098135,0.7040792444874525,0.6862795268239177,0.6810110896578568,0.7215713957582404,0.7334147719519241,0.7491269694541478,0.7315586443642179,0.7153540947199926,0.7186562990376351,0.721564684871603,0.6854170815979059,0.7465961241322688,0.752511668536207,0.7504232956744127,0.740355502586321,0.7117903132043996,0.7368460344819376,0.7410947332301104,0.7246314459091536,0.7241281910240056,0.7100238819659108,0.7467004861653824,0.7214417091805418,0.7063779146984267],\"yaxis\":\"y\",\"type\":\"scatter\"},{\"hovertemplate\":\"model=QRDQN PRED CNN<br>step=%{x}<br>perc_to_end=%{y}<extra></extra>\",\"legendgroup\":\"QRDQN PRED CNN\",\"line\":{\"color\":\"#EF553B\",\"dash\":\"solid\"},\"marker\":{\"symbol\":\"circle\"},\"mode\":\"lines\",\"name\":\"QRDQN PRED CNN\",\"orientation\":\"v\",\"showlegend\":true,\"x\":[0,25,50,75,100,125,150,175,200,225,250,275,300,325,350,375,400,425,450,475,500,525,550,575,600,625,650,675,700,725,750,775,800,825,850,875,900,925,950,975,1000,1025,1050,1075,1100,1125,1150,1175,1200,1225,1250,1275,1300,1325,1350,1375,1400,1425,1450,1475,1500,1525,1550,1575,1600,1625,1650,1675,1700,1725,1750,1775,1800,1825,1850,1875,1900,1925,1950,1975,2000,2025,2050,2075,2100,2125,2150,2175,2200,2225,2250,2275,2300,2325,2350,2375,2400,2425,2450,2475,2500,2525,2550,2575,2600,2625,2650,2675,2700,2725,2750,2775,2800,2825,2850,2875,2900,2925,2950,2975,3000,3025,3050,3075,3100,3125,3150,3175,3200,3225,3250,3275,3300,3325,3350,3375,3400,3425,3450,3475,3500,3525,3550,3575,3600,3625,3650,3675,3700,3725,3750],\"xaxis\":\"x\",\"y\":[0.7597808425165874,0.7586409707579999,0.6577948277095825,0.6244280467121428,0.6413935097557458,0.6556023224843637,0.6385509884376814,0.6322051848942117,0.6403323001193459,0.6388606482844452,0.6455729749110821,0.6427146921189261,0.6615118738428268,0.6691711319575475,0.6471616739610063,0.654241725417552,0.6197677954774412,0.6756741874983568,0.6772008364568538,0.65542819767314,0.672139624515871,0.6554008016541834,0.6583446081291942,0.6628277810629122,0.6424552315028264,0.6380987665947244,0.6544759458023595,0.6679667253443757,0.6568298945707669,0.6404326010644992,0.6427639376100537,0.6578907505304941,0.6565238292352623,0.6491355443239922,0.6392511257495794,0.6443621153953427,0.6498735047913076,0.6483627186149694,0.6545654119235443,0.6528946128643885,0.6583090681901211,0.639842231643106,0.6436868235060291,0.6708211087523374,0.6413626442411592,0.6432125878763127,0.6707617296921291,0.6494846635433095,0.660903595541115,0.6398177294530043,0.6350199261501881,0.6591598578870819,0.6492311021535874,0.6235868782320547,0.6426815505793906,0.6466954272154662,0.6454653762878538,0.6327279317970474,0.6420241032849056,0.6465770206474928,0.6184222582509514,0.6325577776660949,0.6518028054205917,0.6547980742860442,0.6362915990960285,0.613444593886423,0.6444053731655578,0.6526543659327835,0.6399236812579581,0.6475548045648246,0.6555881993478322,0.6617249195933615,0.6451565161689702,0.656499624624621,0.6589497572427238,0.6658949159027207,0.6510622332187443,0.6579338866461513,0.6541644302213955,0.6658294490360318,0.6567685428077976,0.6387823374153582,0.6756076288649376,0.6713053992224127,0.665616235325034,0.654497091809481,0.6560054440172776,0.62109238003691,0.6310915712382607,0.6586761098372478,0.6496389008611889,0.6533598910092713,0.6423803442906609,0.6582860306465022,0.6398190645128881,0.6682877330705242,0.6715277707919216,0.644345370389151,0.6592949469709108,0.6411335753767166,0.6659386290470222,0.6452619603591835,0.647917031103466,0.6513493868977176,0.6718308065617683,0.6481527566957946,0.6590848197015852,0.6716762861780927,0.6375904630806424,0.6492775101348114,0.6648861369725035,0.6377375603903139,0.6558088818733333,0.649950755971956,0.6556832909459182,0.6317252280749188,0.6529321768555931,0.6549850101443891,0.6360494144715687,0.6369741635402106,0.651486927965076,0.6329006833041879,0.6416961588874901,0.6472855185472638,0.6539681739962454,0.6483421252203064,0.6615906056221991,0.6592697289714348,0.6422112775504124,0.6395171946354681,0.6325127205597753,0.6595107240930852,0.6566837618656308,0.6493723157044806,0.6544960589705349,0.6385677074001446,0.6626839244342964,0.6596531709076794,0.6596993946259844,0.6374509270793777,0.6649068744131044,0.6508441979685078,0.6637573218532351,0.6597596790693223,0.6484333000343873,0.6611339182218297,0.6199103904527155,0.6809700401360165,0.6581955741097509,0.6618596871061005,0.6830264158162664],\"yaxis\":\"y\",\"type\":\"scatter\"},{\"hovertemplate\":\"model=A2C PRED CNN<br>step=%{x}<br>perc_to_end=%{y}<extra></extra>\",\"legendgroup\":\"A2C PRED CNN\",\"line\":{\"color\":\"#00cc96\",\"dash\":\"solid\"},\"marker\":{\"symbol\":\"circle\"},\"mode\":\"lines\",\"name\":\"A2C PRED CNN\",\"orientation\":\"v\",\"showlegend\":true,\"x\":[0,25,50,75,100,125,150,175,200,225,250,275,300,325,350,375,400,425,450,475,500,525,550,575,600,625,650,675,700,725,750,775,800,825,850,875,900,925,950,975,1000,1025,1050,1075,1100,1125,1150,1175,1200,1225,1250,1275,1300,1325,1350,1375,1400,1425,1450,1475,1500,1525,1550,1575,1600,1625,1650,1675,1700,1725,1750,1775,1800,1825,1850,1875,1900,1925,1950,1975,2000,2025,2050,2075,2100,2125,2150,2175,2200,2225,2250,2275,2300,2325,2350,2375,2400,2425,2450,2475,2500,2525,2550,2575,2600,2625,2650,2675,2700,2725,2750,2775,2800,2825,2850,2875,2900,2925,2950,2975,3000,3025,3050,3075,3100,3125,3150,3175,3200,3225,3250,3275,3300,3325,3350,3375,3400,3425,3450,3475,3500,3525,3550,3575,3600,3625,3650,3675,3700,3725,3750],\"xaxis\":\"x\",\"y\":[0.6432983682983683,0.73287841191067,0.7962626262626262,0.6562072465686924,0.7463190585158548,0.6594540724975507,0.7626873126873127,0.581290639185376,0.652939627155655,0.7220979986197377,0.7054033101065575,0.8151515151515151,0.7137085531887173,0.700952380952381,0.7437634705719812,0.6255275974025973,0.7564251207729469,0.782703761755486,0.7601138716356107,0.6646194816926524,0.679516317016317,0.8109090909090909,0.7290235651405068,0.6811850027367268,0.806762705082033,0.8643223443223444,0.7233613445378152,0.699443346508564,0.6843331793331794,0.7050988142292491,0.6566286331803575,0.6237474928172604,0.7362756808408986,0.8836394015341387,0.6290964590964594,0.778707582739841,0.8445373980857855,0.7338827838827842,0.6319930739414235,0.8023520475383833,0.7891511996775159,0.7551582202030644,0.6806112054329376,0.7297754876702249,0.736666666666667,0.6928749646925907,0.8170924139100398,0.6922727272727278,0.8112867808519988,0.7161448573213285,0.6874663299663304,0.708535168946738,0.7153977272727279,0.7148732220160797,0.6294928060445308,0.6345151924099298,0.7470827970827976,0.7357567022080704,0.6424497249010475,0.6609293604945784,0.6640801028057405,0.7437645687645693,0.8215873015873021,0.8399253948825557,0.7689376218323593,0.7683150183150189,0.7318783068783075,0.66199494949495,0.6918392989124702,0.7986809269162217,0.7103635211052097,0.7882579185520369,0.7112015503875976,0.6842743221690598,0.7987659399424113,0.8002777777777785,0.6398467889179972,0.8135531135531144,0.5910590701288384,0.7181508147025396,0.8242608268924065,0.7361904761904772,0.698802294197032,0.720487264673312,0.725183729057458,0.6568506747340164,0.6853703703703713,0.7577855477855486,0.6458754208754219,0.7240864527629244,0.6632321454289427,0.6647985347985358,0.6884233237921772,0.5818495643871595,0.6586466165413544,0.6451082251082261,0.729454600430878,0.6458279757776126,0.7119424747827833,0.6408136282735835,0.7862113427429683,0.6711103978487165,0.6353936620603297,0.7471213717789069,0.6915291857152333,0.7495489753897451,0.7564652014652025,0.6257516339869292,0.6579235347985358,0.5495475020475031,0.7566666666666677,0.7047253017984735,0.8020301590095651,0.67917331206805,0.796201550387598,0.6958058537005917,0.6965434419381799,0.830000000000001,0.8383838383838395,0.6682549089328761,0.7084007779659964,0.6255848261327726,0.7429670329670341,0.6771869078380719,0.6120291902071575,0.8034054834054846,0.9666666666666679,0.6744444444444456,0.7042360198200033,0.7014870289469844,0.6178189681804153,0.8750000000000012,0.8864130434782622,0.7285543964232503,0.9052631578947381,0.7714538093485477,0.7991208791208806,0.7316330728095448,0.8044444444444458,0.7717845117845131,0.7941150636802825,0.6994894760412016,0.8545977011494269,0.6202416881364264,0.7045767127177565,0.7562630696783478,0.7216017667296066,0.7520627311172001,0.6802620214518151,0.732798573975046,0.728422847399831],\"yaxis\":\"y\",\"type\":\"scatter\"}],                        {\"template\":{\"data\":{\"histogram2dcontour\":[{\"type\":\"histogram2dcontour\",\"colorbar\":{\"outlinewidth\":0,\"ticks\":\"\"},\"colorscale\":[[0.0,\"#0d0887\"],[0.1111111111111111,\"#46039f\"],[0.2222222222222222,\"#7201a8\"],[0.3333333333333333,\"#9c179e\"],[0.4444444444444444,\"#bd3786\"],[0.5555555555555556,\"#d8576b\"],[0.6666666666666666,\"#ed7953\"],[0.7777777777777778,\"#fb9f3a\"],[0.8888888888888888,\"#fdca26\"],[1.0,\"#f0f921\"]]}],\"choropleth\":[{\"type\":\"choropleth\",\"colorbar\":{\"outlinewidth\":0,\"ticks\":\"\"}}],\"histogram2d\":[{\"type\":\"histogram2d\",\"colorbar\":{\"outlinewidth\":0,\"ticks\":\"\"},\"colorscale\":[[0.0,\"#0d0887\"],[0.1111111111111111,\"#46039f\"],[0.2222222222222222,\"#7201a8\"],[0.3333333333333333,\"#9c179e\"],[0.4444444444444444,\"#bd3786\"],[0.5555555555555556,\"#d8576b\"],[0.6666666666666666,\"#ed7953\"],[0.7777777777777778,\"#fb9f3a\"],[0.8888888888888888,\"#fdca26\"],[1.0,\"#f0f921\"]]}],\"heatmap\":[{\"type\":\"heatmap\",\"colorbar\":{\"outlinewidth\":0,\"ticks\":\"\"},\"colorscale\":[[0.0,\"#0d0887\"],[0.1111111111111111,\"#46039f\"],[0.2222222222222222,\"#7201a8\"],[0.3333333333333333,\"#9c179e\"],[0.4444444444444444,\"#bd3786\"],[0.5555555555555556,\"#d8576b\"],[0.6666666666666666,\"#ed7953\"],[0.7777777777777778,\"#fb9f3a\"],[0.8888888888888888,\"#fdca26\"],[1.0,\"#f0f921\"]]}],\"heatmapgl\":[{\"type\":\"heatmapgl\",\"colorbar\":{\"outlinewidth\":0,\"ticks\":\"\"},\"colorscale\":[[0.0,\"#0d0887\"],[0.1111111111111111,\"#46039f\"],[0.2222222222222222,\"#7201a8\"],[0.3333333333333333,\"#9c179e\"],[0.4444444444444444,\"#bd3786\"],[0.5555555555555556,\"#d8576b\"],[0.6666666666666666,\"#ed7953\"],[0.7777777777777778,\"#fb9f3a\"],[0.8888888888888888,\"#fdca26\"],[1.0,\"#f0f921\"]]}],\"contourcarpet\":[{\"type\":\"contourcarpet\",\"colorbar\":{\"outlinewidth\":0,\"ticks\":\"\"}}],\"contour\":[{\"type\":\"contour\",\"colorbar\":{\"outlinewidth\":0,\"ticks\":\"\"},\"colorscale\":[[0.0,\"#0d0887\"],[0.1111111111111111,\"#46039f\"],[0.2222222222222222,\"#7201a8\"],[0.3333333333333333,\"#9c179e\"],[0.4444444444444444,\"#bd3786\"],[0.5555555555555556,\"#d8576b\"],[0.6666666666666666,\"#ed7953\"],[0.7777777777777778,\"#fb9f3a\"],[0.8888888888888888,\"#fdca26\"],[1.0,\"#f0f921\"]]}],\"surface\":[{\"type\":\"surface\",\"colorbar\":{\"outlinewidth\":0,\"ticks\":\"\"},\"colorscale\":[[0.0,\"#0d0887\"],[0.1111111111111111,\"#46039f\"],[0.2222222222222222,\"#7201a8\"],[0.3333333333333333,\"#9c179e\"],[0.4444444444444444,\"#bd3786\"],[0.5555555555555556,\"#d8576b\"],[0.6666666666666666,\"#ed7953\"],[0.7777777777777778,\"#fb9f3a\"],[0.8888888888888888,\"#fdca26\"],[1.0,\"#f0f921\"]]}],\"mesh3d\":[{\"type\":\"mesh3d\",\"colorbar\":{\"outlinewidth\":0,\"ticks\":\"\"}}],\"scatter\":[{\"fillpattern\":{\"fillmode\":\"overlay\",\"size\":10,\"solidity\":0.2},\"type\":\"scatter\"}],\"parcoords\":[{\"type\":\"parcoords\",\"line\":{\"colorbar\":{\"outlinewidth\":0,\"ticks\":\"\"}}}],\"scatterpolargl\":[{\"type\":\"scatterpolargl\",\"marker\":{\"colorbar\":{\"outlinewidth\":0,\"ticks\":\"\"}}}],\"bar\":[{\"error_x\":{\"color\":\"#2a3f5f\"},\"error_y\":{\"color\":\"#2a3f5f\"},\"marker\":{\"line\":{\"color\":\"#E5ECF6\",\"width\":0.5},\"pattern\":{\"fillmode\":\"overlay\",\"size\":10,\"solidity\":0.2}},\"type\":\"bar\"}],\"scattergeo\":[{\"type\":\"scattergeo\",\"marker\":{\"colorbar\":{\"outlinewidth\":0,\"ticks\":\"\"}}}],\"scatterpolar\":[{\"type\":\"scatterpolar\",\"marker\":{\"colorbar\":{\"outlinewidth\":0,\"ticks\":\"\"}}}],\"histogram\":[{\"marker\":{\"pattern\":{\"fillmode\":\"overlay\",\"size\":10,\"solidity\":0.2}},\"type\":\"histogram\"}],\"scattergl\":[{\"type\":\"scattergl\",\"marker\":{\"colorbar\":{\"outlinewidth\":0,\"ticks\":\"\"}}}],\"scatter3d\":[{\"type\":\"scatter3d\",\"line\":{\"colorbar\":{\"outlinewidth\":0,\"ticks\":\"\"}},\"marker\":{\"colorbar\":{\"outlinewidth\":0,\"ticks\":\"\"}}}],\"scattermapbox\":[{\"type\":\"scattermapbox\",\"marker\":{\"colorbar\":{\"outlinewidth\":0,\"ticks\":\"\"}}}],\"scatterternary\":[{\"type\":\"scatterternary\",\"marker\":{\"colorbar\":{\"outlinewidth\":0,\"ticks\":\"\"}}}],\"scattercarpet\":[{\"type\":\"scattercarpet\",\"marker\":{\"colorbar\":{\"outlinewidth\":0,\"ticks\":\"\"}}}],\"carpet\":[{\"aaxis\":{\"endlinecolor\":\"#2a3f5f\",\"gridcolor\":\"white\",\"linecolor\":\"white\",\"minorgridcolor\":\"white\",\"startlinecolor\":\"#2a3f5f\"},\"baxis\":{\"endlinecolor\":\"#2a3f5f\",\"gridcolor\":\"white\",\"linecolor\":\"white\",\"minorgridcolor\":\"white\",\"startlinecolor\":\"#2a3f5f\"},\"type\":\"carpet\"}],\"table\":[{\"cells\":{\"fill\":{\"color\":\"#EBF0F8\"},\"line\":{\"color\":\"white\"}},\"header\":{\"fill\":{\"color\":\"#C8D4E3\"},\"line\":{\"color\":\"white\"}},\"type\":\"table\"}],\"barpolar\":[{\"marker\":{\"line\":{\"color\":\"#E5ECF6\",\"width\":0.5},\"pattern\":{\"fillmode\":\"overlay\",\"size\":10,\"solidity\":0.2}},\"type\":\"barpolar\"}],\"pie\":[{\"automargin\":true,\"type\":\"pie\"}]},\"layout\":{\"autotypenumbers\":\"strict\",\"colorway\":[\"#636efa\",\"#EF553B\",\"#00cc96\",\"#ab63fa\",\"#FFA15A\",\"#19d3f3\",\"#FF6692\",\"#B6E880\",\"#FF97FF\",\"#FECB52\"],\"font\":{\"color\":\"#2a3f5f\"},\"hovermode\":\"closest\",\"hoverlabel\":{\"align\":\"left\"},\"paper_bgcolor\":\"white\",\"plot_bgcolor\":\"#E5ECF6\",\"polar\":{\"bgcolor\":\"#E5ECF6\",\"angularaxis\":{\"gridcolor\":\"white\",\"linecolor\":\"white\",\"ticks\":\"\"},\"radialaxis\":{\"gridcolor\":\"white\",\"linecolor\":\"white\",\"ticks\":\"\"}},\"ternary\":{\"bgcolor\":\"#E5ECF6\",\"aaxis\":{\"gridcolor\":\"white\",\"linecolor\":\"white\",\"ticks\":\"\"},\"baxis\":{\"gridcolor\":\"white\",\"linecolor\":\"white\",\"ticks\":\"\"},\"caxis\":{\"gridcolor\":\"white\",\"linecolor\":\"white\",\"ticks\":\"\"}},\"coloraxis\":{\"colorbar\":{\"outlinewidth\":0,\"ticks\":\"\"}},\"colorscale\":{\"sequential\":[[0.0,\"#0d0887\"],[0.1111111111111111,\"#46039f\"],[0.2222222222222222,\"#7201a8\"],[0.3333333333333333,\"#9c179e\"],[0.4444444444444444,\"#bd3786\"],[0.5555555555555556,\"#d8576b\"],[0.6666666666666666,\"#ed7953\"],[0.7777777777777778,\"#fb9f3a\"],[0.8888888888888888,\"#fdca26\"],[1.0,\"#f0f921\"]],\"sequentialminus\":[[0.0,\"#0d0887\"],[0.1111111111111111,\"#46039f\"],[0.2222222222222222,\"#7201a8\"],[0.3333333333333333,\"#9c179e\"],[0.4444444444444444,\"#bd3786\"],[0.5555555555555556,\"#d8576b\"],[0.6666666666666666,\"#ed7953\"],[0.7777777777777778,\"#fb9f3a\"],[0.8888888888888888,\"#fdca26\"],[1.0,\"#f0f921\"]],\"diverging\":[[0,\"#8e0152\"],[0.1,\"#c51b7d\"],[0.2,\"#de77ae\"],[0.3,\"#f1b6da\"],[0.4,\"#fde0ef\"],[0.5,\"#f7f7f7\"],[0.6,\"#e6f5d0\"],[0.7,\"#b8e186\"],[0.8,\"#7fbc41\"],[0.9,\"#4d9221\"],[1,\"#276419\"]]},\"xaxis\":{\"gridcolor\":\"white\",\"linecolor\":\"white\",\"ticks\":\"\",\"title\":{\"standoff\":15},\"zerolinecolor\":\"white\",\"automargin\":true,\"zerolinewidth\":2},\"yaxis\":{\"gridcolor\":\"white\",\"linecolor\":\"white\",\"ticks\":\"\",\"title\":{\"standoff\":15},\"zerolinecolor\":\"white\",\"automargin\":true,\"zerolinewidth\":2},\"scene\":{\"xaxis\":{\"backgroundcolor\":\"#E5ECF6\",\"gridcolor\":\"white\",\"linecolor\":\"white\",\"showbackground\":true,\"ticks\":\"\",\"zerolinecolor\":\"white\",\"gridwidth\":2},\"yaxis\":{\"backgroundcolor\":\"#E5ECF6\",\"gridcolor\":\"white\",\"linecolor\":\"white\",\"showbackground\":true,\"ticks\":\"\",\"zerolinecolor\":\"white\",\"gridwidth\":2},\"zaxis\":{\"backgroundcolor\":\"#E5ECF6\",\"gridcolor\":\"white\",\"linecolor\":\"white\",\"showbackground\":true,\"ticks\":\"\",\"zerolinecolor\":\"white\",\"gridwidth\":2}},\"shapedefaults\":{\"line\":{\"color\":\"#2a3f5f\"}},\"annotationdefaults\":{\"arrowcolor\":\"#2a3f5f\",\"arrowhead\":0,\"arrowwidth\":1},\"geo\":{\"bgcolor\":\"white\",\"landcolor\":\"#E5ECF6\",\"subunitcolor\":\"white\",\"showland\":true,\"showlakes\":true,\"lakecolor\":\"white\"},\"title\":{\"x\":0.05},\"mapbox\":{\"style\":\"light\"}}},\"xaxis\":{\"anchor\":\"y\",\"domain\":[0.0,1.0],\"title\":{\"text\":\"Step\"}},\"yaxis\":{\"anchor\":\"x\",\"domain\":[0.0,1.0],\"title\":{\"text\":\"Percentage of session completed\"}},\"legend\":{\"title\":{\"text\":\"model\"},\"tracegroupgap\":0},\"margin\":{\"t\":60},\"title\":{\"text\":\"Percentage of session completed by training step\"}},                        {\"responsive\": true}                    ).then(function(){\n",
       "                            \n",
       "var gd = document.getElementById('f897deca-e01b-447b-a418-88e88f8224e7');\n",
       "var x = new MutationObserver(function (mutations, observer) {{\n",
       "        var display = window.getComputedStyle(gd).display;\n",
       "        if (!display || display === 'none') {{\n",
       "            console.log([gd, 'removed!']);\n",
       "            Plotly.purge(gd);\n",
       "            observer.disconnect();\n",
       "        }}\n",
       "}});\n",
       "\n",
       "// Listen for the removal of the full notebook cells\n",
       "var notebookContainer = gd.closest('#notebook-container');\n",
       "if (notebookContainer) {{\n",
       "    x.observe(notebookContainer, {childList: true});\n",
       "}}\n",
       "\n",
       "// Listen for the clearing of the current output cell\n",
       "var outputEl = gd.closest('.output');\n",
       "if (outputEl) {{\n",
       "    x.observe(outputEl, {childList: true});\n",
       "}}\n",
       "\n",
       "                        })                };                });            </script>        </div>"
      ]
     },
     "metadata": {},
     "output_type": "display_data"
    }
   ],
   "source": [
    "perc_to_end = perc_to_end[(perc_to_end['step'] % 25 == 0) & (perc_to_end['step'] <= 3750)]\n",
    "perc_comp_line = px.line(perc_to_end, x='step', y='perc_to_end', color='model')\n",
    "perc_comp_line.update_layout(\n",
    "    xaxis_title='Step',\n",
    "    yaxis_title='Percentage of session completed',\n",
    "    title='Percentage of session completed by training step',\n",
    ")\n",
    "\n",
    "perc_comp_line.show()\n",
    "pio.write_image(perc_comp_line, 'rl_plots/q2/glob_perc_to_end.png')"
   ]
  },
  {
   "cell_type": "code",
   "execution_count": 115,
   "metadata": {},
   "outputs": [
    {
     "name": "stdout",
     "output_type": "stream",
     "text": [
      "3750\n",
      "3750\n",
      "275\n"
     ]
    }
   ],
   "source": [
    "perc_finished = perc_finished[(perc_finished['episode'] % 25 == 0) & (perc_finished['episode'] <= 3750)]\n",
    "\n",
    "print(perc_finished[perc_finished['model'] == 'DQN PRED CNN']['episode'].max())\n",
    "print(perc_finished[perc_finished['model'] == 'QRDQN PRED CNN']['episode'].max())\n",
    "print(perc_finished[perc_finished['model'] == 'A2C PRED CNN']['episode'].max())"
   ]
  },
  {
   "cell_type": "code",
   "execution_count": 116,
   "metadata": {},
   "outputs": [],
   "source": [
    "a2c_finished, dqn_finished, qrdqn_finished = (\n",
    "    perc_finished[perc_finished['model'] == 'A2C PRED CNN'],\n",
    "    perc_finished[perc_finished['model'] == 'DQN PRED CNN'],\n",
    "    perc_finished[perc_finished['model'] == 'QRDQN PRED CNN']\n",
    ")\n",
    "\n",
    "a2c_finished, dqn_finished, qrdqn_finished = (\n",
    "    a2c_finished.sort_values(by='episode').tail(10),\n",
    "    dqn_finished.sort_values(by='episode').tail(10),\n",
    "    qrdqn_finished.sort_values(by='episode').tail(10)\n",
    ")"
   ]
  },
  {
   "cell_type": "code",
   "execution_count": 117,
   "metadata": {},
   "outputs": [],
   "source": [
    "a2c_stat = a2c_finished.sort_values(by=['episode'])[['episode', 'perc_done']].agg({'mean', 'std'})\n",
    "a2c_stat['model'] = 'A2C PRED CNN'"
   ]
  },
  {
   "cell_type": "code",
   "execution_count": 118,
   "metadata": {},
   "outputs": [],
   "source": [
    "dqn_stat = dqn_finished.sort_values(by=['episode'])[['episode', 'perc_done']].agg({'mean', 'std'})\n",
    "dqn_stat['model'] = 'DQN PRED CNN'"
   ]
  },
  {
   "cell_type": "code",
   "execution_count": 119,
   "metadata": {},
   "outputs": [],
   "source": [
    "qrdqn_stat = qrdqn_finished.sort_values(by=['episode'])[['episode', 'perc_done']].agg({'mean', 'std'})\n",
    "qrdqn_stat['model'] = 'QRDQN PRED CNN'"
   ]
  },
  {
   "cell_type": "code",
   "execution_count": 120,
   "metadata": {},
   "outputs": [],
   "source": [
    "q2_stat_df = pd.concat([a2c_stat, dqn_stat, qrdqn_stat]).drop(columns=['episode'])"
   ]
  },
  {
   "cell_type": "code",
   "execution_count": 121,
   "metadata": {},
   "outputs": [
    {
     "data": {
      "text/html": [
       "<div>\n",
       "<style scoped>\n",
       "    .dataframe tbody tr th:only-of-type {\n",
       "        vertical-align: middle;\n",
       "    }\n",
       "\n",
       "    .dataframe tbody tr th {\n",
       "        vertical-align: top;\n",
       "    }\n",
       "\n",
       "    .dataframe thead th {\n",
       "        text-align: right;\n",
       "    }\n",
       "</style>\n",
       "<table border=\"1\" class=\"dataframe\">\n",
       "  <thead>\n",
       "    <tr style=\"text-align: right;\">\n",
       "      <th></th>\n",
       "      <th>perc_done</th>\n",
       "      <th>model</th>\n",
       "    </tr>\n",
       "  </thead>\n",
       "  <tbody>\n",
       "    <tr>\n",
       "      <th>mean</th>\n",
       "      <td>0.195</td>\n",
       "      <td>A2C PRED CNN</td>\n",
       "    </tr>\n",
       "    <tr>\n",
       "      <th>std</th>\n",
       "      <td>0.127</td>\n",
       "      <td>A2C PRED CNN</td>\n",
       "    </tr>\n",
       "    <tr>\n",
       "      <th>mean</th>\n",
       "      <td>0.168</td>\n",
       "      <td>DQN PRED CNN</td>\n",
       "    </tr>\n",
       "    <tr>\n",
       "      <th>std</th>\n",
       "      <td>0.041</td>\n",
       "      <td>DQN PRED CNN</td>\n",
       "    </tr>\n",
       "    <tr>\n",
       "      <th>mean</th>\n",
       "      <td>0.045</td>\n",
       "      <td>QRDQN PRED CNN</td>\n",
       "    </tr>\n",
       "    <tr>\n",
       "      <th>std</th>\n",
       "      <td>0.021</td>\n",
       "      <td>QRDQN PRED CNN</td>\n",
       "    </tr>\n",
       "  </tbody>\n",
       "</table>\n",
       "</div>"
      ],
      "text/plain": [
       "      perc_done           model\n",
       "mean      0.195    A2C PRED CNN\n",
       "std       0.127    A2C PRED CNN\n",
       "mean      0.168    DQN PRED CNN\n",
       "std       0.041    DQN PRED CNN\n",
       "mean      0.045  QRDQN PRED CNN\n",
       "std       0.021  QRDQN PRED CNN"
      ]
     },
     "execution_count": 121,
     "metadata": {},
     "output_type": "execute_result"
    }
   ],
   "source": [
    "q2_stat_df"
   ]
  },
  {
   "cell_type": "code",
   "execution_count": 122,
   "metadata": {},
   "outputs": [
    {
     "name": "stdout",
     "output_type": "stream",
     "text": [
      "\\begin{tabular}{llrr}\n",
      "\\toprule\n",
      " & model & \\multicolumn{2}{r}{perc_done} \\\\\n",
      " &  & mean & std \\\\\n",
      "\\midrule\n",
      "0 & A2C PRED CNN & 0.161000 & 0.048000 \\\\\n",
      "1 & DQN PRED CNN & 0.104000 & 0.090000 \\\\\n",
      "2 & QRDQN PRED CNN & 0.033000 & 0.017000 \\\\\n",
      "\\bottomrule\n",
      "\\end{tabular}\n",
      "\n"
     ]
    }
   ],
   "source": [
    "print(q2_stat_df.pivot_table(index='model', aggfunc={'mean', 'std'}).reset_index().round(3).reset_index(drop=True).to_latex())"
   ]
  }
 ],
 "metadata": {
  "kernelspec": {
   "display_name": "Python 3 (ipykernel)",
   "language": "python",
   "name": "python3"
  },
  "language_info": {
   "codemirror_mode": {
    "name": "ipython",
    "version": 3
   },
   "file_extension": ".py",
   "mimetype": "text/x-python",
   "name": "python",
   "nbconvert_exporter": "python",
   "pygments_lexer": "ipython3",
   "version": "3.9.15"
  },
  "orig_nbformat": 4
 },
 "nbformat": 4,
 "nbformat_minor": 2
}
