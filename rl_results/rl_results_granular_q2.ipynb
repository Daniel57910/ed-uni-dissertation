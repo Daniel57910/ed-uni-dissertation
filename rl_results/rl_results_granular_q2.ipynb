{
 "cells": [
  {
   "cell_type": "code",
   "execution_count": 2,
   "metadata": {},
   "outputs": [],
   "source": [
    "USE_GPU = False\n",
    "from typing import List, Tuple, Dict, Any, Optional\n",
    "import seaborn as sns\n",
    "from sklearn.metrics import roc_auc_score, accuracy_score, precision_score, recall_score, f1_score\n",
    "import statsmodels.api as sm\n",
    "import re\n",
    "import plotly.express as px\n",
    "import tensorboard\n",
    "import pandas as pd\n",
    "import numpy as np\n",
    "import seaborn as sns\n",
    "from tensorboard.backend.event_processing.event_accumulator import EventAccumulator\n",
    "import matplotlib.pyplot as plt\n",
    "import os\n",
    "import glob\n",
    "from typing import Dict\n",
    "from statsmodels.tsa.filters.hp_filter import hpfilter\n",
    "import re\n",
    "from datetime import datetime\n",
    "import plotly\n",
    "import plotly.offline as pyo\n",
    "import plotly.io as pio\n",
    "\n",
    "from plotly.subplots import make_subplots\n",
    "import plotly.graph_objects as go"
   ]
  },
  {
   "cell_type": "code",
   "execution_count": 3,
   "metadata": {},
   "outputs": [],
   "source": [
    "pd.set_option('display.max_columns', 500)\n",
    "pd.set_option('display.width', 1000)\n",
    "pd.set_option('display.max_rows', 500)\n",
    "pd.set_option('mode.chained_assignment', None)\n",
    "pd.set_option('display.float_format', lambda x: '%.3f' % x)\n"
   ]
  },
  {
   "cell_type": "code",
   "execution_count": 4,
   "metadata": {},
   "outputs": [],
   "source": [
    "pio.renderers.default = 'notebook+pdf'\n",
    "# pyo.init_notebook_mode()"
   ]
  },
  {
   "cell_type": "code",
   "execution_count": 5,
   "metadata": {},
   "outputs": [],
   "source": [
    "\n",
    "\n",
    "TIME_STATS = [\n",
    "    'sess_time/ended_time',\n",
    "    'sess_time/session_minutes',\n",
    "    'sess_time/time_cutoff',\n",
    "    'sess_time/time_large',\n",
    "    'sess_time/time_medium',\n",
    "    'sess_time/time_small',\n",
    "]\n",
    "\n",
    "TIME_STATS_GRANULAR = [\n",
    "    'ended_time', \n",
    "    'session_minutes', \n",
    "    'time_cutoff', \n",
    "    'time_large', \n",
    "    'time_medium', \n",
    "    'time_small'\n",
    "]\n",
    "\n",
    "SIZE_STATS_GRANULAR = [\n",
    "    'ended_event',\n",
    "    'session_size',\n",
    "    'size_cutoff',\n",
    "    'inc_small',\n",
    "    'inc_medium',\n",
    "    'inc_large'\n",
    "]\n",
    "    "
   ]
  },
  {
   "cell_type": "code",
   "execution_count": 44,
   "metadata": {},
   "outputs": [],
   "source": [
    "\n",
    "def plot_vectors(df, x_name, y, title):\n",
    "\n",
    "    fig = px.line(\n",
    "        df,\n",
    "        x=x_name,\n",
    "        y=y,\n",
    "        color='model',\n",
    "        title=f'Training {title}',\n",
    "    )\n",
    "    \n",
    "\n",
    "    return fig\n",
    "def plot_vectors_multiple(df, y, title, show=True):\n",
    "\n",
    "    fig = px.line(\n",
    "        df,\n",
    "        x='step',\n",
    "        y=y,\n",
    "        title=f'Training {title}',\n",
    "        showlegend=show\n",
    "    )\n",
    "    \n",
    "    # fig.show()\n",
    "    return fig\n",
    "\n",
    "\n",
    "\n",
    "def global_perc_to_end(df_matrix, session_size_bound=None):\n",
    "    move_to_end_matrix = {}\n",
    "    for df_name, df_path in df_matrix.items():\n",
    "        print(f'Calculating percentage done for {df_name} {df_path}')\n",
    "        df = pd.read_csv(df_path)\n",
    "        df = df[df['exp_runs'] <= 4000]\n",
    "        if session_size_bound:\n",
    "            df = df[\n",
    "                (df['session_size'] >= session_size_bound[0]) & (df['session_size'] <= session_size_bound[1])\n",
    "            ]\n",
    "       \n",
    "        df = df[df['ended_event'] > 0]\n",
    "        df['perc_to_end'] = df['ended_event'] / df['session_size']\n",
    "        perc_to_end_summary = df.groupby(['exp_runs'])['perc_to_end'].mean().reset_index(name='perc_to_end')\n",
    "        move_to_end_matrix[df_name] = perc_to_end_summary\n",
    "        \n",
    "\n",
    "    for df_name, df in move_to_end_matrix.items():\n",
    "        df = df.rolling(500, center=True) \\\n",
    "            .mean() \\\n",
    "            .dropna() \\\n",
    "            .reset_index(drop=True)\n",
    "        \n",
    "        df = df[::500]\n",
    "        df['model'] = df_name\n",
    "        move_to_end_matrix[df_name] = df\n",
    "        \n",
    "    out_df = pd.concat(move_to_end_matrix.values())\n",
    "    out_df = out_df.rename(columns={'exp_runs': 'episode'})\n",
    "    \n",
    "    return out_df\n",
    "\n",
    "\n",
    "def global_perc_done(df_matrix, session_size_bound=None):\n",
    "    done_matrix = {}\n",
    "    for df_name, df_path in df_matrix.items():\n",
    "        print(f'Calculating percentage finished for {df_name} from {df_path}')\n",
    "        df = pd.read_csv(df_path)\n",
    "        df = df[df['exp_runs'] <= 4000]\n",
    "        if session_size_bound:\n",
    "            df = df[\n",
    "                (df['session_size'] >= session_size_bound[0]) & (df['session_size'] <= session_size_bound[1])]\n",
    "        \n",
    "        df = df[df['ended_event'] > 0]\n",
    "       \n",
    "       \n",
    "        df['perc_done'] = df['ended_event'] == df['session_size']\n",
    "        perc_done_summary = df.groupby(['exp_runs']).agg(\n",
    "            done_count=('perc_done', 'sum'),\n",
    "            sess_count=('perc_done', 'count')\n",
    "        ) \\\n",
    "        .reset_index()\n",
    "        perc_done_summary['perc_done'] = perc_done_summary['done_count'] / perc_done_summary['sess_count']\n",
    "        done_matrix[df_name] = perc_done_summary\n",
    "    \n",
    "    # max_episode = min([df['exp_runs'].max() for df in done_matrix.values()])\n",
    "    for df_name, df in done_matrix.items():\n",
    "        df = df.rolling(250, center=True) \\\n",
    "            .mean() \\\n",
    "            .dropna() \\\n",
    "            .reset_index(drop=True)\n",
    "        \n",
    "        df = df[::250]\n",
    "        df['model'] = df_name\n",
    "        done_matrix[df_name] = df\n",
    "        \n",
    "    \n",
    "    out_df = pd.concat(done_matrix.values())\n",
    "    out_df = out_df.rename(columns={'exp_runs': 'episode'})\n",
    "    return out_df\n",
    "    \n",
    "    \n",
    "\n",
    "    \n",
    "\n",
    "PLOTLY_COLORS = plotly.colors.DEFAULT_PLOTLY_COLORS\n",
    "\n",
    "def plot_granular(df, model_list, showlegend=False):\n",
    "    plot_list = []\n",
    "    for model, color in zip(model_list, PLOTLY_COLORS):\n",
    "        plot_list.append(\n",
    "            go.Scatter(\n",
    "                x=df['episode'],\n",
    "                y=df[model],\n",
    "                name=model,\n",
    "                line=dict(color=color),\n",
    "                showlegend=showlegend\n",
    "            )\n",
    "        )\n",
    "    \n",
    "    \n",
    "    return plot_list\n",
    "\n",
    "                "
   ]
  },
  {
   "cell_type": "code",
   "execution_count": 7,
   "metadata": {},
   "outputs": [],
   "source": [
    "TB_LOGS = 'dqn_tb'\n",
    "CSV_LOGS = 'rl_results/dqn_csv'"
   ]
  },
  {
   "cell_type": "code",
   "execution_count": 8,
   "metadata": {},
   "outputs": [],
   "source": [
    "csv_dirs = {\n",
    "    'DQN PRED CNN': 'dqn_csv/train/q2/dqn_pred_cnn.csv',\n",
    "    'DQN PRED CNN BASELINE': 'dqn_csv/train/q2/dqn_pred_cnn_baseline.csv',\n",
    "    'QRDQN PRED CNN': 'dqn_csv/train/q2/qrdqn_pred_cnn.csv',\n",
    "    'A2C PRED CNN': 'dqn_csv/train/q2/a2c_pred_cnn.csv',\n",
    "}\n",
    "\n"
   ]
  },
  {
   "cell_type": "code",
   "execution_count": 45,
   "metadata": {},
   "outputs": [
    {
     "name": "stdout",
     "output_type": "stream",
     "text": [
      "Calculating percentage done for DQN PRED CNN dqn_csv/train/q2/dqn_pred_cnn.csv\n",
      "Calculating percentage done for DQN PRED CNN BASELINE dqn_csv/train/q2/dqn_pred_cnn_baseline.csv\n",
      "Calculating percentage done for QRDQN PRED CNN dqn_csv/train/q2/qrdqn_pred_cnn.csv\n",
      "Calculating percentage done for A2C PRED CNN dqn_csv/train/q2/a2c_pred_cnn.csv\n",
      "Calculating percentage finished for DQN PRED CNN from dqn_csv/train/q2/dqn_pred_cnn.csv\n",
      "Calculating percentage finished for DQN PRED CNN BASELINE from dqn_csv/train/q2/dqn_pred_cnn_baseline.csv\n",
      "Calculating percentage finished for QRDQN PRED CNN from dqn_csv/train/q2/qrdqn_pred_cnn.csv\n",
      "Calculating percentage finished for A2C PRED CNN from dqn_csv/train/q2/a2c_pred_cnn.csv\n"
     ]
    }
   ],
   "source": [
    "perc_to_end = global_perc_to_end(csv_dirs)\n",
    "perc_finished = global_perc_done(csv_dirs)"
   ]
  },
  {
   "cell_type": "code",
   "execution_count": 13,
   "metadata": {},
   "outputs": [
    {
     "data": {
      "text/html": [
       "<div>\n",
       "<style scoped>\n",
       "    .dataframe tbody tr th:only-of-type {\n",
       "        vertical-align: middle;\n",
       "    }\n",
       "\n",
       "    .dataframe tbody tr th {\n",
       "        vertical-align: top;\n",
       "    }\n",
       "\n",
       "    .dataframe thead th {\n",
       "        text-align: right;\n",
       "    }\n",
       "</style>\n",
       "<table border=\"1\" class=\"dataframe\">\n",
       "  <thead>\n",
       "    <tr style=\"text-align: right;\">\n",
       "      <th></th>\n",
       "      <th>episode</th>\n",
       "      <th>done_count</th>\n",
       "      <th>sess_count</th>\n",
       "      <th>perc_done</th>\n",
       "      <th>model</th>\n",
       "    </tr>\n",
       "  </thead>\n",
       "  <tbody>\n",
       "  </tbody>\n",
       "</table>\n",
       "</div>"
      ],
      "text/plain": [
       "Empty DataFrame\n",
       "Columns: [episode, done_count, sess_count, perc_done, model]\n",
       "Index: []"
      ]
     },
     "execution_count": 13,
     "metadata": {},
     "output_type": "execute_result"
    }
   ],
   "source": [
    "perc_finished"
   ]
  },
  {
   "cell_type": "code",
   "execution_count": 41,
   "metadata": {},
   "outputs": [
    {
     "data": {
      "application/pdf": "[encoded data removed]",
      "text/html": [
       "<div>                            <div id=\"d9322ee2-acbc-4f08-ab8e-8ffcf1944c01\" class=\"plotly-graph-div\" style=\"height:500px; width:800px;\"></div>            <script type=\"text/javascript\">                require([\"plotly\"], function(Plotly) {                    window.PLOTLYENV=window.PLOTLYENV || {};                                    if (document.getElementById(\"d9322ee2-acbc-4f08-ab8e-8ffcf1944c01\")) {                    Plotly.newPlot(                        \"d9322ee2-acbc-4f08-ab8e-8ffcf1944c01\",                        [{\"hovertemplate\":\"model=DQN PRED CNN<br>episode=%{x}<br>perc_to_end=%{y}<extra></extra>\",\"legendgroup\":\"DQN PRED CNN\",\"line\":{\"color\":\"#636efa\",\"dash\":\"solid\"},\"marker\":{\"symbol\":\"circle\"},\"mode\":\"lines\",\"name\":\"DQN PRED CNN\",\"orientation\":\"v\",\"showlegend\":true,\"x\":[125.5,375.5,625.5,875.5,1125.5,1375.5,1625.5,1875.5,2125.5,2375.5,2625.5,2875.5,3125.5,3375.5,3625.5,3875.5],\"xaxis\":\"x\",\"y\":[0.763649413290961,0.7399570005472758,0.7313011462947652,0.7232428725921244,0.7116662669153658,0.7172956390302925,0.6905591209141798,0.7226182360513727,0.739174889036431,0.74212131833304,0.7260015465617469,0.728302074257918,0.7360750195129154,0.7365107202695049,0.7292879388408186,0.762058657206919],\"yaxis\":\"y\",\"type\":\"scatter\"},{\"hovertemplate\":\"model=DQN PRED CNN BASELINE<br>episode=%{x}<br>perc_to_end=%{y}<extra></extra>\",\"legendgroup\":\"DQN PRED CNN BASELINE\",\"line\":{\"color\":\"#EF553B\",\"dash\":\"solid\"},\"marker\":{\"symbol\":\"circle\"},\"mode\":\"lines\",\"name\":\"DQN PRED CNN BASELINE\",\"orientation\":\"v\",\"showlegend\":true,\"x\":[125.5,375.5,625.5,875.5,1125.5,1375.5,1625.5,1875.5,2125.5,2375.5,2625.5,2875.5,3125.5,3375.5,3625.5,3875.5],\"xaxis\":\"x\",\"y\":[0.6802207890637648,0.6616181591778709,0.6504619928728743,0.6458882540445046,0.6513634967962572,0.6311523690047389,0.635588190865666,0.6297714156173392,0.6301025775912699,0.6348053367000644,0.6255647138288795,0.6116306948342064,0.6175166848361946,0.6163377677401589,0.6195772661347978,0.6141650684079895],\"yaxis\":\"y\",\"type\":\"scatter\"},{\"hovertemplate\":\"model=QRDQN PRED CNN<br>episode=%{x}<br>perc_to_end=%{y}<extra></extra>\",\"legendgroup\":\"QRDQN PRED CNN\",\"line\":{\"color\":\"#00cc96\",\"dash\":\"solid\"},\"marker\":{\"symbol\":\"circle\"},\"mode\":\"lines\",\"name\":\"QRDQN PRED CNN\",\"orientation\":\"v\",\"showlegend\":true,\"x\":[125.5,375.5,625.5,875.5,1125.5,1375.5,1625.5,1875.5,2125.5,2375.5,2625.5,2875.5,3125.5,3375.5,3625.5,3875.5],\"xaxis\":\"x\",\"y\":[0.6656260759302749,0.6484417005232725,0.6474685064074073,0.6494092733295803,0.6509061300020488,0.6493991247049299,0.6491415660156002,0.6508025536319727,0.650650964845888,0.6491328848244108,0.6589484491979686,0.6748567533016873,0.6894738640533352,0.6617163018346265,0.6511264125125934,0.6506329991688202],\"yaxis\":\"y\",\"type\":\"scatter\"},{\"hovertemplate\":\"model=A2C PRED CNN<br>episode=%{x}<br>perc_to_end=%{y}<extra></extra>\",\"legendgroup\":\"A2C PRED CNN\",\"line\":{\"color\":\"#ab63fa\",\"dash\":\"solid\"},\"marker\":{\"symbol\":\"circle\"},\"mode\":\"lines\",\"name\":\"A2C PRED CNN\",\"orientation\":\"v\",\"showlegend\":true,\"x\":[125.5,375.5,625.5,875.5,1125.5,1375.5,1625.5,1875.5,2125.5,2375.5,2625.5,2875.5,3125.5,3375.5,3625.5,3875.5],\"xaxis\":\"x\",\"y\":[0.7240761226447007,0.7055168868261309,0.6994513196604454,0.6804452923880092,0.6771902914957666,0.6630668525370267,0.6930755651645598,0.692730292886629,0.6775362439715565,0.6423258827214797,0.6436124972389939,0.6527827215954484,0.6457740925562079,0.6405236648126413,0.6436182363540532,0.6674475640078166],\"yaxis\":\"y\",\"type\":\"scatter\"}],                        {\"template\":{\"data\":{\"histogram2dcontour\":[{\"type\":\"histogram2dcontour\",\"colorbar\":{\"outlinewidth\":0,\"ticks\":\"\"},\"colorscale\":[[0.0,\"#0d0887\"],[0.1111111111111111,\"#46039f\"],[0.2222222222222222,\"#7201a8\"],[0.3333333333333333,\"#9c179e\"],[0.4444444444444444,\"#bd3786\"],[0.5555555555555556,\"#d8576b\"],[0.6666666666666666,\"#ed7953\"],[0.7777777777777778,\"#fb9f3a\"],[0.8888888888888888,\"#fdca26\"],[1.0,\"#f0f921\"]]}],\"choropleth\":[{\"type\":\"choropleth\",\"colorbar\":{\"outlinewidth\":0,\"ticks\":\"\"}}],\"histogram2d\":[{\"type\":\"histogram2d\",\"colorbar\":{\"outlinewidth\":0,\"ticks\":\"\"},\"colorscale\":[[0.0,\"#0d0887\"],[0.1111111111111111,\"#46039f\"],[0.2222222222222222,\"#7201a8\"],[0.3333333333333333,\"#9c179e\"],[0.4444444444444444,\"#bd3786\"],[0.5555555555555556,\"#d8576b\"],[0.6666666666666666,\"#ed7953\"],[0.7777777777777778,\"#fb9f3a\"],[0.8888888888888888,\"#fdca26\"],[1.0,\"#f0f921\"]]}],\"heatmap\":[{\"type\":\"heatmap\",\"colorbar\":{\"outlinewidth\":0,\"ticks\":\"\"},\"colorscale\":[[0.0,\"#0d0887\"],[0.1111111111111111,\"#46039f\"],[0.2222222222222222,\"#7201a8\"],[0.3333333333333333,\"#9c179e\"],[0.4444444444444444,\"#bd3786\"],[0.5555555555555556,\"#d8576b\"],[0.6666666666666666,\"#ed7953\"],[0.7777777777777778,\"#fb9f3a\"],[0.8888888888888888,\"#fdca26\"],[1.0,\"#f0f921\"]]}],\"heatmapgl\":[{\"type\":\"heatmapgl\",\"colorbar\":{\"outlinewidth\":0,\"ticks\":\"\"},\"colorscale\":[[0.0,\"#0d0887\"],[0.1111111111111111,\"#46039f\"],[0.2222222222222222,\"#7201a8\"],[0.3333333333333333,\"#9c179e\"],[0.4444444444444444,\"#bd3786\"],[0.5555555555555556,\"#d8576b\"],[0.6666666666666666,\"#ed7953\"],[0.7777777777777778,\"#fb9f3a\"],[0.8888888888888888,\"#fdca26\"],[1.0,\"#f0f921\"]]}],\"contourcarpet\":[{\"type\":\"contourcarpet\",\"colorbar\":{\"outlinewidth\":0,\"ticks\":\"\"}}],\"contour\":[{\"type\":\"contour\",\"colorbar\":{\"outlinewidth\":0,\"ticks\":\"\"},\"colorscale\":[[0.0,\"#0d0887\"],[0.1111111111111111,\"#46039f\"],[0.2222222222222222,\"#7201a8\"],[0.3333333333333333,\"#9c179e\"],[0.4444444444444444,\"#bd3786\"],[0.5555555555555556,\"#d8576b\"],[0.6666666666666666,\"#ed7953\"],[0.7777777777777778,\"#fb9f3a\"],[0.8888888888888888,\"#fdca26\"],[1.0,\"#f0f921\"]]}],\"surface\":[{\"type\":\"surface\",\"colorbar\":{\"outlinewidth\":0,\"ticks\":\"\"},\"colorscale\":[[0.0,\"#0d0887\"],[0.1111111111111111,\"#46039f\"],[0.2222222222222222,\"#7201a8\"],[0.3333333333333333,\"#9c179e\"],[0.4444444444444444,\"#bd3786\"],[0.5555555555555556,\"#d8576b\"],[0.6666666666666666,\"#ed7953\"],[0.7777777777777778,\"#fb9f3a\"],[0.8888888888888888,\"#fdca26\"],[1.0,\"#f0f921\"]]}],\"mesh3d\":[{\"type\":\"mesh3d\",\"colorbar\":{\"outlinewidth\":0,\"ticks\":\"\"}}],\"scatter\":[{\"fillpattern\":{\"fillmode\":\"overlay\",\"size\":10,\"solidity\":0.2},\"type\":\"scatter\"}],\"parcoords\":[{\"type\":\"parcoords\",\"line\":{\"colorbar\":{\"outlinewidth\":0,\"ticks\":\"\"}}}],\"scatterpolargl\":[{\"type\":\"scatterpolargl\",\"marker\":{\"colorbar\":{\"outlinewidth\":0,\"ticks\":\"\"}}}],\"bar\":[{\"error_x\":{\"color\":\"#2a3f5f\"},\"error_y\":{\"color\":\"#2a3f5f\"},\"marker\":{\"line\":{\"color\":\"#E5ECF6\",\"width\":0.5},\"pattern\":{\"fillmode\":\"overlay\",\"size\":10,\"solidity\":0.2}},\"type\":\"bar\"}],\"scattergeo\":[{\"type\":\"scattergeo\",\"marker\":{\"colorbar\":{\"outlinewidth\":0,\"ticks\":\"\"}}}],\"scatterpolar\":[{\"type\":\"scatterpolar\",\"marker\":{\"colorbar\":{\"outlinewidth\":0,\"ticks\":\"\"}}}],\"histogram\":[{\"marker\":{\"pattern\":{\"fillmode\":\"overlay\",\"size\":10,\"solidity\":0.2}},\"type\":\"histogram\"}],\"scattergl\":[{\"type\":\"scattergl\",\"marker\":{\"colorbar\":{\"outlinewidth\":0,\"ticks\":\"\"}}}],\"scatter3d\":[{\"type\":\"scatter3d\",\"line\":{\"colorbar\":{\"outlinewidth\":0,\"ticks\":\"\"}},\"marker\":{\"colorbar\":{\"outlinewidth\":0,\"ticks\":\"\"}}}],\"scattermapbox\":[{\"type\":\"scattermapbox\",\"marker\":{\"colorbar\":{\"outlinewidth\":0,\"ticks\":\"\"}}}],\"scatterternary\":[{\"type\":\"scatterternary\",\"marker\":{\"colorbar\":{\"outlinewidth\":0,\"ticks\":\"\"}}}],\"scattercarpet\":[{\"type\":\"scattercarpet\",\"marker\":{\"colorbar\":{\"outlinewidth\":0,\"ticks\":\"\"}}}],\"carpet\":[{\"aaxis\":{\"endlinecolor\":\"#2a3f5f\",\"gridcolor\":\"white\",\"linecolor\":\"white\",\"minorgridcolor\":\"white\",\"startlinecolor\":\"#2a3f5f\"},\"baxis\":{\"endlinecolor\":\"#2a3f5f\",\"gridcolor\":\"white\",\"linecolor\":\"white\",\"minorgridcolor\":\"white\",\"startlinecolor\":\"#2a3f5f\"},\"type\":\"carpet\"}],\"table\":[{\"cells\":{\"fill\":{\"color\":\"#EBF0F8\"},\"line\":{\"color\":\"white\"}},\"header\":{\"fill\":{\"color\":\"#C8D4E3\"},\"line\":{\"color\":\"white\"}},\"type\":\"table\"}],\"barpolar\":[{\"marker\":{\"line\":{\"color\":\"#E5ECF6\",\"width\":0.5},\"pattern\":{\"fillmode\":\"overlay\",\"size\":10,\"solidity\":0.2}},\"type\":\"barpolar\"}],\"pie\":[{\"automargin\":true,\"type\":\"pie\"}]},\"layout\":{\"autotypenumbers\":\"strict\",\"colorway\":[\"#636efa\",\"#EF553B\",\"#00cc96\",\"#ab63fa\",\"#FFA15A\",\"#19d3f3\",\"#FF6692\",\"#B6E880\",\"#FF97FF\",\"#FECB52\"],\"font\":{\"color\":\"#2a3f5f\"},\"hovermode\":\"closest\",\"hoverlabel\":{\"align\":\"left\"},\"paper_bgcolor\":\"white\",\"plot_bgcolor\":\"#E5ECF6\",\"polar\":{\"bgcolor\":\"#E5ECF6\",\"angularaxis\":{\"gridcolor\":\"white\",\"linecolor\":\"white\",\"ticks\":\"\"},\"radialaxis\":{\"gridcolor\":\"white\",\"linecolor\":\"white\",\"ticks\":\"\"}},\"ternary\":{\"bgcolor\":\"#E5ECF6\",\"aaxis\":{\"gridcolor\":\"white\",\"linecolor\":\"white\",\"ticks\":\"\"},\"baxis\":{\"gridcolor\":\"white\",\"linecolor\":\"white\",\"ticks\":\"\"},\"caxis\":{\"gridcolor\":\"white\",\"linecolor\":\"white\",\"ticks\":\"\"}},\"coloraxis\":{\"colorbar\":{\"outlinewidth\":0,\"ticks\":\"\"}},\"colorscale\":{\"sequential\":[[0.0,\"#0d0887\"],[0.1111111111111111,\"#46039f\"],[0.2222222222222222,\"#7201a8\"],[0.3333333333333333,\"#9c179e\"],[0.4444444444444444,\"#bd3786\"],[0.5555555555555556,\"#d8576b\"],[0.6666666666666666,\"#ed7953\"],[0.7777777777777778,\"#fb9f3a\"],[0.8888888888888888,\"#fdca26\"],[1.0,\"#f0f921\"]],\"sequentialminus\":[[0.0,\"#0d0887\"],[0.1111111111111111,\"#46039f\"],[0.2222222222222222,\"#7201a8\"],[0.3333333333333333,\"#9c179e\"],[0.4444444444444444,\"#bd3786\"],[0.5555555555555556,\"#d8576b\"],[0.6666666666666666,\"#ed7953\"],[0.7777777777777778,\"#fb9f3a\"],[0.8888888888888888,\"#fdca26\"],[1.0,\"#f0f921\"]],\"diverging\":[[0,\"#8e0152\"],[0.1,\"#c51b7d\"],[0.2,\"#de77ae\"],[0.3,\"#f1b6da\"],[0.4,\"#fde0ef\"],[0.5,\"#f7f7f7\"],[0.6,\"#e6f5d0\"],[0.7,\"#b8e186\"],[0.8,\"#7fbc41\"],[0.9,\"#4d9221\"],[1,\"#276419\"]]},\"xaxis\":{\"gridcolor\":\"white\",\"linecolor\":\"white\",\"ticks\":\"\",\"title\":{\"standoff\":15},\"zerolinecolor\":\"white\",\"automargin\":true,\"zerolinewidth\":2},\"yaxis\":{\"gridcolor\":\"white\",\"linecolor\":\"white\",\"ticks\":\"\",\"title\":{\"standoff\":15},\"zerolinecolor\":\"white\",\"automargin\":true,\"zerolinewidth\":2},\"scene\":{\"xaxis\":{\"backgroundcolor\":\"#E5ECF6\",\"gridcolor\":\"white\",\"linecolor\":\"white\",\"showbackground\":true,\"ticks\":\"\",\"zerolinecolor\":\"white\",\"gridwidth\":2},\"yaxis\":{\"backgroundcolor\":\"#E5ECF6\",\"gridcolor\":\"white\",\"linecolor\":\"white\",\"showbackground\":true,\"ticks\":\"\",\"zerolinecolor\":\"white\",\"gridwidth\":2},\"zaxis\":{\"backgroundcolor\":\"#E5ECF6\",\"gridcolor\":\"white\",\"linecolor\":\"white\",\"showbackground\":true,\"ticks\":\"\",\"zerolinecolor\":\"white\",\"gridwidth\":2}},\"shapedefaults\":{\"line\":{\"color\":\"#2a3f5f\"}},\"annotationdefaults\":{\"arrowcolor\":\"#2a3f5f\",\"arrowhead\":0,\"arrowwidth\":1},\"geo\":{\"bgcolor\":\"white\",\"landcolor\":\"#E5ECF6\",\"subunitcolor\":\"white\",\"showland\":true,\"showlakes\":true,\"lakecolor\":\"white\"},\"title\":{\"x\":0.05},\"mapbox\":{\"style\":\"light\"}}},\"xaxis\":{\"anchor\":\"y\",\"domain\":[0.0,1.0],\"title\":{\"text\":\"Episode\"}},\"yaxis\":{\"anchor\":\"x\",\"domain\":[0.0,1.0],\"title\":{\"text\":\"Mean Session Completion\"}},\"legend\":{\"title\":{\"text\":\"model\"},\"tracegroupgap\":0},\"margin\":{\"t\":50,\"l\":50,\"r\":50,\"b\":50,\"pad\":4},\"width\":800,\"height\":500},                        {\"responsive\": true}                    ).then(function(){\n",
       "                            \n",
       "var gd = document.getElementById('d9322ee2-acbc-4f08-ab8e-8ffcf1944c01');\n",
       "var x = new MutationObserver(function (mutations, observer) {{\n",
       "        var display = window.getComputedStyle(gd).display;\n",
       "        if (!display || display === 'none') {{\n",
       "            console.log([gd, 'removed!']);\n",
       "            Plotly.purge(gd);\n",
       "            observer.disconnect();\n",
       "        }}\n",
       "}});\n",
       "\n",
       "// Listen for the removal of the full notebook cells\n",
       "var notebookContainer = gd.closest('#notebook-container');\n",
       "if (notebookContainer) {{\n",
       "    x.observe(notebookContainer, {childList: true});\n",
       "}}\n",
       "\n",
       "// Listen for the clearing of the current output cell\n",
       "var outputEl = gd.closest('.output');\n",
       "if (outputEl) {{\n",
       "    x.observe(outputEl, {childList: true});\n",
       "}}\n",
       "\n",
       "                        })                };                });            </script>        </div>"
      ]
     },
     "metadata": {},
     "output_type": "display_data"
    }
   ],
   "source": [
    "\n",
    "dist_end_line = px.line(perc_to_end, x='episode', y='perc_to_end', color='model')\n",
    "dist_end_line.update_layout(\n",
    "    xaxis_title='Episode',\n",
    "    yaxis_title='Mean Session Completion',\n",
    "    width=800,\n",
    "    height=500,\n",
    "    margin=dict(l=50, r=50, b=50, t=50, pad=4))\n",
    "\n",
    "dist_end_line.show()\n",
    "\n",
    "pio.write_image(dist_end_line, 'rl_plots/q2/glob_perc_to_end.png')"
   ]
  },
  {
   "cell_type": "code",
   "execution_count": 24,
   "metadata": {},
   "outputs": [
    {
     "name": "stdout",
     "output_type": "stream",
     "text": [
      "4000\n",
      "4000\n",
      "4000\n"
     ]
    }
   ],
   "source": [
    "# perc_finished = perc_finished[(perc_finished['episode'] % 25 == 0) & (perc_finished['episode'] <= 3750)]\n",
    "\n",
    "print(perc_finished[perc_finished['model'] == 'DQN PRED CNN']['episode'].max())\n",
    "print(perc_finished[perc_finished['model'] == 'QRDQN PRED CNN']['episode'].max())\n",
    "print(perc_finished[perc_finished['model'] == 'A2C PRED CNN']['episode'].max())"
   ]
  },
  {
   "cell_type": "code",
   "execution_count": 25,
   "metadata": {},
   "outputs": [],
   "source": [
    "perc_finished = perc_finished.sort_values(by='episode')"
   ]
  },
  {
   "cell_type": "code",
   "execution_count": 33,
   "metadata": {},
   "outputs": [
    {
     "data": {
      "text/plain": [
       "0.19149057159334842"
      ]
     },
     "execution_count": 33,
     "metadata": {},
     "output_type": "execute_result"
    }
   ],
   "source": [
    "perc_finished[perc_finished['model'] == 'DQN PRED CNN'].tail(1000)['perc_done'].mean()"
   ]
  },
  {
   "cell_type": "code",
   "execution_count": 47,
   "metadata": {},
   "outputs": [
    {
     "data": {
      "application/pdf": "[encoded data removed]",
      "text/html": [
       "<div>                            <div id=\"e7cc4291-03ea-4b6a-89d1-c594fea82793\" class=\"plotly-graph-div\" style=\"height:500px; width:800px;\"></div>            <script type=\"text/javascript\">                require([\"plotly\"], function(Plotly) {                    window.PLOTLYENV=window.PLOTLYENV || {};                                    if (document.getElementById(\"e7cc4291-03ea-4b6a-89d1-c594fea82793\")) {                    Plotly.newPlot(                        \"e7cc4291-03ea-4b6a-89d1-c594fea82793\",                        [{\"hovertemplate\":\"model=DQN PRED CNN<br>episode=%{x}<br>perc_done=%{y}<extra></extra>\",\"legendgroup\":\"DQN PRED CNN\",\"line\":{\"color\":\"#636efa\",\"dash\":\"solid\"},\"marker\":{\"symbol\":\"circle\"},\"mode\":\"lines\",\"name\":\"DQN PRED CNN\",\"orientation\":\"v\",\"showlegend\":true,\"x\":[125.5,375.5,625.5,875.5,1125.5,1375.5,1625.5,1875.5,2125.5,2375.5,2625.5,2875.5,3125.5,3375.5,3625.5,3875.5],\"xaxis\":\"x\",\"y\":[0.25772,0.22244,0.19264,0.15288,0.14172,0.15484,0.09344,0.17032,0.19964,0.19944,0.18359999999999999,0.19896,0.18756,0.21231999999999998,0.21448000000000003,0.24182847314588168],\"yaxis\":\"y\",\"type\":\"scatter\"},{\"hovertemplate\":\"model=DQN PRED CNN BASELINE<br>episode=%{x}<br>perc_done=%{y}<extra></extra>\",\"legendgroup\":\"DQN PRED CNN BASELINE\",\"line\":{\"color\":\"#EF553B\",\"dash\":\"solid\"},\"marker\":{\"symbol\":\"circle\"},\"mode\":\"lines\",\"name\":\"DQN PRED CNN BASELINE\",\"orientation\":\"v\",\"showlegend\":true,\"x\":[125.5,375.5,625.5,875.5,1125.5,1375.5,1625.5,1875.5,2125.5,2375.5,2625.5,2875.5,3125.5,3375.5,3625.5,3875.5],\"xaxis\":\"x\",\"y\":[0.13144,0.09504,0.0714,0.060840000000000005,0.07564,0.0522,0.047200000000000006,0.048519999999999994,0.05896,0.06592,0.053,0.034,0.04236000000000001,0.039799999999999995,0.038079999999999996,0.03068],\"yaxis\":\"y\",\"type\":\"scatter\"},{\"hovertemplate\":\"model=QRDQN PRED CNN<br>episode=%{x}<br>perc_done=%{y}<extra></extra>\",\"legendgroup\":\"QRDQN PRED CNN\",\"line\":{\"color\":\"#00cc96\",\"dash\":\"solid\"},\"marker\":{\"symbol\":\"circle\"},\"mode\":\"lines\",\"name\":\"QRDQN PRED CNN\",\"orientation\":\"v\",\"showlegend\":true,\"x\":[125.5,375.5,625.5,875.5,1125.5,1375.5,1625.5,1875.5,2125.5,2375.5,2625.5,2875.5,3125.5,3375.5,3625.5,3875.5],\"xaxis\":\"x\",\"y\":[0.05196,0.01388,0.0138,0.015680000000000003,0.02172,0.019960000000000002,0.01448,0.01764,0.01864,0.01744,0.043,0.07736000000000001,0.07768,0.04336,0.01948,0.019559999999999998],\"yaxis\":\"y\",\"type\":\"scatter\"},{\"hovertemplate\":\"model=A2C PRED CNN<br>episode=%{x}<br>perc_done=%{y}<extra></extra>\",\"legendgroup\":\"A2C PRED CNN\",\"line\":{\"color\":\"#ab63fa\",\"dash\":\"solid\"},\"marker\":{\"symbol\":\"circle\"},\"mode\":\"lines\",\"name\":\"A2C PRED CNN\",\"orientation\":\"v\",\"showlegend\":true,\"x\":[125.5,375.5,625.5,875.5,1125.5,1375.5,1625.5,1875.5,2125.5,2375.5,2625.5,2875.5,3125.5,3375.5,3625.5,3875.5],\"xaxis\":\"x\",\"y\":[0.17032,0.13228,0.12544,0.08528,0.07964,0.04744,0.11200000000000002,0.122,0.07744,0.00015999999999999955,0.00484,0.02748,0.00968,0.00027999999999999954,0.00464,0.05276],\"yaxis\":\"y\",\"type\":\"scatter\"}],                        {\"template\":{\"data\":{\"histogram2dcontour\":[{\"type\":\"histogram2dcontour\",\"colorbar\":{\"outlinewidth\":0,\"ticks\":\"\"},\"colorscale\":[[0.0,\"#0d0887\"],[0.1111111111111111,\"#46039f\"],[0.2222222222222222,\"#7201a8\"],[0.3333333333333333,\"#9c179e\"],[0.4444444444444444,\"#bd3786\"],[0.5555555555555556,\"#d8576b\"],[0.6666666666666666,\"#ed7953\"],[0.7777777777777778,\"#fb9f3a\"],[0.8888888888888888,\"#fdca26\"],[1.0,\"#f0f921\"]]}],\"choropleth\":[{\"type\":\"choropleth\",\"colorbar\":{\"outlinewidth\":0,\"ticks\":\"\"}}],\"histogram2d\":[{\"type\":\"histogram2d\",\"colorbar\":{\"outlinewidth\":0,\"ticks\":\"\"},\"colorscale\":[[0.0,\"#0d0887\"],[0.1111111111111111,\"#46039f\"],[0.2222222222222222,\"#7201a8\"],[0.3333333333333333,\"#9c179e\"],[0.4444444444444444,\"#bd3786\"],[0.5555555555555556,\"#d8576b\"],[0.6666666666666666,\"#ed7953\"],[0.7777777777777778,\"#fb9f3a\"],[0.8888888888888888,\"#fdca26\"],[1.0,\"#f0f921\"]]}],\"heatmap\":[{\"type\":\"heatmap\",\"colorbar\":{\"outlinewidth\":0,\"ticks\":\"\"},\"colorscale\":[[0.0,\"#0d0887\"],[0.1111111111111111,\"#46039f\"],[0.2222222222222222,\"#7201a8\"],[0.3333333333333333,\"#9c179e\"],[0.4444444444444444,\"#bd3786\"],[0.5555555555555556,\"#d8576b\"],[0.6666666666666666,\"#ed7953\"],[0.7777777777777778,\"#fb9f3a\"],[0.8888888888888888,\"#fdca26\"],[1.0,\"#f0f921\"]]}],\"heatmapgl\":[{\"type\":\"heatmapgl\",\"colorbar\":{\"outlinewidth\":0,\"ticks\":\"\"},\"colorscale\":[[0.0,\"#0d0887\"],[0.1111111111111111,\"#46039f\"],[0.2222222222222222,\"#7201a8\"],[0.3333333333333333,\"#9c179e\"],[0.4444444444444444,\"#bd3786\"],[0.5555555555555556,\"#d8576b\"],[0.6666666666666666,\"#ed7953\"],[0.7777777777777778,\"#fb9f3a\"],[0.8888888888888888,\"#fdca26\"],[1.0,\"#f0f921\"]]}],\"contourcarpet\":[{\"type\":\"contourcarpet\",\"colorbar\":{\"outlinewidth\":0,\"ticks\":\"\"}}],\"contour\":[{\"type\":\"contour\",\"colorbar\":{\"outlinewidth\":0,\"ticks\":\"\"},\"colorscale\":[[0.0,\"#0d0887\"],[0.1111111111111111,\"#46039f\"],[0.2222222222222222,\"#7201a8\"],[0.3333333333333333,\"#9c179e\"],[0.4444444444444444,\"#bd3786\"],[0.5555555555555556,\"#d8576b\"],[0.6666666666666666,\"#ed7953\"],[0.7777777777777778,\"#fb9f3a\"],[0.8888888888888888,\"#fdca26\"],[1.0,\"#f0f921\"]]}],\"surface\":[{\"type\":\"surface\",\"colorbar\":{\"outlinewidth\":0,\"ticks\":\"\"},\"colorscale\":[[0.0,\"#0d0887\"],[0.1111111111111111,\"#46039f\"],[0.2222222222222222,\"#7201a8\"],[0.3333333333333333,\"#9c179e\"],[0.4444444444444444,\"#bd3786\"],[0.5555555555555556,\"#d8576b\"],[0.6666666666666666,\"#ed7953\"],[0.7777777777777778,\"#fb9f3a\"],[0.8888888888888888,\"#fdca26\"],[1.0,\"#f0f921\"]]}],\"mesh3d\":[{\"type\":\"mesh3d\",\"colorbar\":{\"outlinewidth\":0,\"ticks\":\"\"}}],\"scatter\":[{\"fillpattern\":{\"fillmode\":\"overlay\",\"size\":10,\"solidity\":0.2},\"type\":\"scatter\"}],\"parcoords\":[{\"type\":\"parcoords\",\"line\":{\"colorbar\":{\"outlinewidth\":0,\"ticks\":\"\"}}}],\"scatterpolargl\":[{\"type\":\"scatterpolargl\",\"marker\":{\"colorbar\":{\"outlinewidth\":0,\"ticks\":\"\"}}}],\"bar\":[{\"error_x\":{\"color\":\"#2a3f5f\"},\"error_y\":{\"color\":\"#2a3f5f\"},\"marker\":{\"line\":{\"color\":\"#E5ECF6\",\"width\":0.5},\"pattern\":{\"fillmode\":\"overlay\",\"size\":10,\"solidity\":0.2}},\"type\":\"bar\"}],\"scattergeo\":[{\"type\":\"scattergeo\",\"marker\":{\"colorbar\":{\"outlinewidth\":0,\"ticks\":\"\"}}}],\"scatterpolar\":[{\"type\":\"scatterpolar\",\"marker\":{\"colorbar\":{\"outlinewidth\":0,\"ticks\":\"\"}}}],\"histogram\":[{\"marker\":{\"pattern\":{\"fillmode\":\"overlay\",\"size\":10,\"solidity\":0.2}},\"type\":\"histogram\"}],\"scattergl\":[{\"type\":\"scattergl\",\"marker\":{\"colorbar\":{\"outlinewidth\":0,\"ticks\":\"\"}}}],\"scatter3d\":[{\"type\":\"scatter3d\",\"line\":{\"colorbar\":{\"outlinewidth\":0,\"ticks\":\"\"}},\"marker\":{\"colorbar\":{\"outlinewidth\":0,\"ticks\":\"\"}}}],\"scattermapbox\":[{\"type\":\"scattermapbox\",\"marker\":{\"colorbar\":{\"outlinewidth\":0,\"ticks\":\"\"}}}],\"scatterternary\":[{\"type\":\"scatterternary\",\"marker\":{\"colorbar\":{\"outlinewidth\":0,\"ticks\":\"\"}}}],\"scattercarpet\":[{\"type\":\"scattercarpet\",\"marker\":{\"colorbar\":{\"outlinewidth\":0,\"ticks\":\"\"}}}],\"carpet\":[{\"aaxis\":{\"endlinecolor\":\"#2a3f5f\",\"gridcolor\":\"white\",\"linecolor\":\"white\",\"minorgridcolor\":\"white\",\"startlinecolor\":\"#2a3f5f\"},\"baxis\":{\"endlinecolor\":\"#2a3f5f\",\"gridcolor\":\"white\",\"linecolor\":\"white\",\"minorgridcolor\":\"white\",\"startlinecolor\":\"#2a3f5f\"},\"type\":\"carpet\"}],\"table\":[{\"cells\":{\"fill\":{\"color\":\"#EBF0F8\"},\"line\":{\"color\":\"white\"}},\"header\":{\"fill\":{\"color\":\"#C8D4E3\"},\"line\":{\"color\":\"white\"}},\"type\":\"table\"}],\"barpolar\":[{\"marker\":{\"line\":{\"color\":\"#E5ECF6\",\"width\":0.5},\"pattern\":{\"fillmode\":\"overlay\",\"size\":10,\"solidity\":0.2}},\"type\":\"barpolar\"}],\"pie\":[{\"automargin\":true,\"type\":\"pie\"}]},\"layout\":{\"autotypenumbers\":\"strict\",\"colorway\":[\"#636efa\",\"#EF553B\",\"#00cc96\",\"#ab63fa\",\"#FFA15A\",\"#19d3f3\",\"#FF6692\",\"#B6E880\",\"#FF97FF\",\"#FECB52\"],\"font\":{\"color\":\"#2a3f5f\"},\"hovermode\":\"closest\",\"hoverlabel\":{\"align\":\"left\"},\"paper_bgcolor\":\"white\",\"plot_bgcolor\":\"#E5ECF6\",\"polar\":{\"bgcolor\":\"#E5ECF6\",\"angularaxis\":{\"gridcolor\":\"white\",\"linecolor\":\"white\",\"ticks\":\"\"},\"radialaxis\":{\"gridcolor\":\"white\",\"linecolor\":\"white\",\"ticks\":\"\"}},\"ternary\":{\"bgcolor\":\"#E5ECF6\",\"aaxis\":{\"gridcolor\":\"white\",\"linecolor\":\"white\",\"ticks\":\"\"},\"baxis\":{\"gridcolor\":\"white\",\"linecolor\":\"white\",\"ticks\":\"\"},\"caxis\":{\"gridcolor\":\"white\",\"linecolor\":\"white\",\"ticks\":\"\"}},\"coloraxis\":{\"colorbar\":{\"outlinewidth\":0,\"ticks\":\"\"}},\"colorscale\":{\"sequential\":[[0.0,\"#0d0887\"],[0.1111111111111111,\"#46039f\"],[0.2222222222222222,\"#7201a8\"],[0.3333333333333333,\"#9c179e\"],[0.4444444444444444,\"#bd3786\"],[0.5555555555555556,\"#d8576b\"],[0.6666666666666666,\"#ed7953\"],[0.7777777777777778,\"#fb9f3a\"],[0.8888888888888888,\"#fdca26\"],[1.0,\"#f0f921\"]],\"sequentialminus\":[[0.0,\"#0d0887\"],[0.1111111111111111,\"#46039f\"],[0.2222222222222222,\"#7201a8\"],[0.3333333333333333,\"#9c179e\"],[0.4444444444444444,\"#bd3786\"],[0.5555555555555556,\"#d8576b\"],[0.6666666666666666,\"#ed7953\"],[0.7777777777777778,\"#fb9f3a\"],[0.8888888888888888,\"#fdca26\"],[1.0,\"#f0f921\"]],\"diverging\":[[0,\"#8e0152\"],[0.1,\"#c51b7d\"],[0.2,\"#de77ae\"],[0.3,\"#f1b6da\"],[0.4,\"#fde0ef\"],[0.5,\"#f7f7f7\"],[0.6,\"#e6f5d0\"],[0.7,\"#b8e186\"],[0.8,\"#7fbc41\"],[0.9,\"#4d9221\"],[1,\"#276419\"]]},\"xaxis\":{\"gridcolor\":\"white\",\"linecolor\":\"white\",\"ticks\":\"\",\"title\":{\"standoff\":15},\"zerolinecolor\":\"white\",\"automargin\":true,\"zerolinewidth\":2},\"yaxis\":{\"gridcolor\":\"white\",\"linecolor\":\"white\",\"ticks\":\"\",\"title\":{\"standoff\":15},\"zerolinecolor\":\"white\",\"automargin\":true,\"zerolinewidth\":2},\"scene\":{\"xaxis\":{\"backgroundcolor\":\"#E5ECF6\",\"gridcolor\":\"white\",\"linecolor\":\"white\",\"showbackground\":true,\"ticks\":\"\",\"zerolinecolor\":\"white\",\"gridwidth\":2},\"yaxis\":{\"backgroundcolor\":\"#E5ECF6\",\"gridcolor\":\"white\",\"linecolor\":\"white\",\"showbackground\":true,\"ticks\":\"\",\"zerolinecolor\":\"white\",\"gridwidth\":2},\"zaxis\":{\"backgroundcolor\":\"#E5ECF6\",\"gridcolor\":\"white\",\"linecolor\":\"white\",\"showbackground\":true,\"ticks\":\"\",\"zerolinecolor\":\"white\",\"gridwidth\":2}},\"shapedefaults\":{\"line\":{\"color\":\"#2a3f5f\"}},\"annotationdefaults\":{\"arrowcolor\":\"#2a3f5f\",\"arrowhead\":0,\"arrowwidth\":1},\"geo\":{\"bgcolor\":\"white\",\"landcolor\":\"#E5ECF6\",\"subunitcolor\":\"white\",\"showland\":true,\"showlakes\":true,\"lakecolor\":\"white\"},\"title\":{\"x\":0.05},\"mapbox\":{\"style\":\"light\"}}},\"xaxis\":{\"anchor\":\"y\",\"domain\":[0.0,1.0],\"title\":{\"text\":\"Episode\"}},\"yaxis\":{\"anchor\":\"x\",\"domain\":[0.0,1.0],\"title\":{\"text\":\"Sessions Completed (%)\"}},\"legend\":{\"title\":{\"text\":\"model\"},\"tracegroupgap\":0},\"margin\":{\"t\":50,\"l\":50,\"r\":50,\"b\":50,\"pad\":4},\"width\":800,\"height\":500},                        {\"responsive\": true}                    ).then(function(){\n",
       "                            \n",
       "var gd = document.getElementById('e7cc4291-03ea-4b6a-89d1-c594fea82793');\n",
       "var x = new MutationObserver(function (mutations, observer) {{\n",
       "        var display = window.getComputedStyle(gd).display;\n",
       "        if (!display || display === 'none') {{\n",
       "            console.log([gd, 'removed!']);\n",
       "            Plotly.purge(gd);\n",
       "            observer.disconnect();\n",
       "        }}\n",
       "}});\n",
       "\n",
       "// Listen for the removal of the full notebook cells\n",
       "var notebookContainer = gd.closest('#notebook-container');\n",
       "if (notebookContainer) {{\n",
       "    x.observe(notebookContainer, {childList: true});\n",
       "}}\n",
       "\n",
       "// Listen for the clearing of the current output cell\n",
       "var outputEl = gd.closest('.output');\n",
       "if (outputEl) {{\n",
       "    x.observe(outputEl, {childList: true});\n",
       "}}\n",
       "\n",
       "                        })                };                });            </script>        </div>"
      ]
     },
     "metadata": {},
     "output_type": "display_data"
    }
   ],
   "source": [
    "# perc_finished = perc_finished[(perc_finished['episode'] % 25 == 0)]\n",
    "perc_finished.sort_values(by='episode')\n",
    "perc_finished_line = px.line(perc_finished, x='episode', y='perc_done', color='model')\n",
    "perc_finished_line.update_layout(\n",
    "    xaxis_title='Episode',\n",
    "    yaxis_title='Sessions Completed (%)',\n",
    "    width=800,\n",
    "    height=500,\n",
    "    margin=dict(l=50, r=50, b=50, t=50, pad=4)\n",
    ")\n",
    "\n",
    "perc_finished_line.show()\n",
    "\n",
    "pio.write_image(perc_finished_line, 'rl_plots/q2/glob_perc_finished.png')"
   ]
  }
 ],
 "metadata": {
  "kernelspec": {
   "display_name": "Python 3 (ipykernel)",
   "language": "python",
   "name": "python3"
  },
  "language_info": {
   "codemirror_mode": {
    "name": "ipython",
    "version": 3
   },
   "file_extension": ".py",
   "mimetype": "text/x-python",
   "name": "python",
   "nbconvert_exporter": "python",
   "pygments_lexer": "ipython3",
   "version": "3.9.15"
  },
  "orig_nbformat": 4
 },
 "nbformat": 4,
 "nbformat_minor": 2
}
