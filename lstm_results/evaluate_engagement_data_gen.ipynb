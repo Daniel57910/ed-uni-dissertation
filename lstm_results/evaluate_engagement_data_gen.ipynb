{
 "cells": [
  {
   "cell_type": "code",
   "execution_count": 5,
   "metadata": {},
   "outputs": [],
   "source": [
    "from sklearn.metrics import precision_recall_curve, roc_curve, auc, precision_score, recall_score, f1_score, accuracy_score, RocCurveDisplay\n",
    "import pandas as pd\n",
    "from matplotlib import pyplot as plt\n",
    "import numpy as np\n",
    "import pandas as pd\n",
    "import seaborn as sns\n",
    "REQUIRED_COL_BASE = [\n",
    "    'label',\n",
    "    'global_session_time',\n",
    "\n",
    "]"
   ]
  },
  {
   "cell_type": "code",
   "execution_count": 6,
   "metadata": {},
   "outputs": [],
   "source": [
    "def generate_roc_curve(y_true, y_scores):\n",
    "    fpr, tpr, thresholds = roc_curve(y_true, y_scores)\n",
    "    roc_stats = {\n",
    "        'fpr': fpr.tolist(),\n",
    "        'tpr': tpr.tolist(),\n",
    "        'thresholds': thresholds.tolist(),\n",
    "        'auc': float(auc(fpr, tpr))\n",
    "    }\n",
    "    \n",
    "    return roc_stats\n",
    "\n",
    "\n",
    "def eval_stats(y_true, y_scores, model):\n",
    "    y_scores = np.where(y_scores > 0.5, 1, 0)\n",
    "    return {\n",
    "        'model': model,\n",
    "        f'acc': accuracy_score(y_true, y_scores),\n",
    "        f'precision': precision_score(y_true, y_scores),\n",
    "        f'recall': recall_score(y_true, y_scores),\n",
    "        f'f1': f1_score(y_true, y_scores)\n",
    "}\n",
    "    \n",
    "    \n",
    "def results(df):\n",
    "    roc_matrix = {}\n",
    "    acccuracy_metrics = []\n",
    "    for col in [col for col in df.columns if 'seq' in col]:\n",
    "        print(f'Generating ROC curve for {col}')\n",
    "        roc_matrix[col] = generate_roc_curve(df['label'].to_array(), df[col].to_array())\n",
    "        print(f'Generating accuracy metrics for {col}')\n",
    "        acccuracy_metrics.append(eval_stats(df['label'].to_array(), df[col].to_array(), col))\n",
    "    \n",
    "    return roc_matrix, pd.DataFrame.from_records(acccuracy_metrics)\n",
    "\n",
    "\n",
    "def get_auc_from_json(json):\n",
    "    auc = []\n",
    "    with open(json) as f:\n",
    "        data = json.load(f)\n",
    "\n",
    "    for k, v in data.items():\n",
    "        for i, j in v.items():\n",
    "            if i == 'auc':\n",
    "                auc.append(j)\n",
    "    return auc\n",
    "    "
   ]
  },
  {
   "cell_type": "code",
   "execution_count": 7,
   "metadata": {},
   "outputs": [],
   "source": [
    "df = cudf.read_parquet('rl_ready_data/files_used_30/predicted_data.parquet')"
   ]
  },
  {
   "cell_type": "code",
   "execution_count": 8,
   "metadata": {},
   "outputs": [
    {
     "ename": "NameError",
     "evalue": "name 'df' is not defined",
     "output_type": "error",
     "traceback": [
      "\u001b[0;31m---------------------------------------------------------------------------\u001b[0m",
      "\u001b[0;31mNameError\u001b[0m                                 Traceback (most recent call last)",
      "Cell \u001b[0;32mIn[8], line 2\u001b[0m\n\u001b[1;32m      1\u001b[0m eval_thresh, test_thresh \u001b[39m=\u001b[39m (\n\u001b[0;32m----> 2\u001b[0m     (\u001b[39mint\u001b[39m(df\u001b[39m.\u001b[39mshape[\u001b[39m0\u001b[39m] \u001b[39m*\u001b[39m \u001b[39m.7\u001b[39m), \u001b[39mint\u001b[39m(df\u001b[39m.\u001b[39mshape[\u001b[39m0\u001b[39m] \u001b[39m*\u001b[39m \u001b[39m.85\u001b[39m)),\n\u001b[1;32m      3\u001b[0m     (\u001b[39mint\u001b[39m(df\u001b[39m.\u001b[39mshape[\u001b[39m0\u001b[39m] \u001b[39m*\u001b[39m \u001b[39m.85\u001b[39m), \u001b[39mint\u001b[39m(df\u001b[39m.\u001b[39mshape[\u001b[39m0\u001b[39m]))\n\u001b[1;32m      4\u001b[0m )\n",
      "\u001b[0;31mNameError\u001b[0m: name 'df' is not defined"
     ]
    }
   ],
   "source": [
    "eval_thresh, test_thresh = (\n",
    "    (int(df.shape[0] * .7), int(df.shape[0] * .85)),\n",
    "    (int(df.shape[0] * .85), int(df.shape[0]))\n",
    ")"
   ]
  },
  {
   "cell_type": "code",
   "execution_count": 72,
   "metadata": {},
   "outputs": [],
   "source": [
    "df = df.rename(columns={'continue_work_session_30_minutes': 'label'})"
   ]
  },
  {
   "cell_type": "code",
   "execution_count": 74,
   "metadata": {},
   "outputs": [],
   "source": [
    "cols = REQUIRED_COL_BASE + [col for col in df.columns if 'seq' in col]\n",
    "df = df[cols].to_pandas()\n",
    "eval_df, test_df = df.iloc[eval_thresh[0]:eval_thresh[1]], df.iloc[test_thresh[0]:test_thresh[1]]\n"
   ]
  },
  {
   "cell_type": "code",
   "execution_count": null,
   "metadata": {},
   "outputs": [],
   "source": [
    "roc_matrix_eval, acccuracy_metrics_eval = results(eval_df)"
   ]
  },
  {
   "cell_type": "code",
   "execution_count": null,
   "metadata": {},
   "outputs": [],
   "source": [
    "roc_matrix_test, accuracy_metrics_test = results(test_df)"
   ]
  },
  {
   "cell_type": "code",
   "execution_count": 1,
   "metadata": {},
   "outputs": [],
   "source": [
    "import pandas as pd\n",
    "import json"
   ]
  },
  {
   "cell_type": "code",
   "execution_count": 2,
   "metadata": {},
   "outputs": [],
   "source": [
    "df_eval, df_test = (\n",
    "    pd.read_csv('lstm_eval_stats_files_30.csv'),\n",
    "    pd.read_csv('lstm_test_stats_files_30.csv')\n",
    ")"
   ]
  },
  {
   "cell_type": "code",
   "execution_count": null,
   "metadata": {},
   "outputs": [],
   "source": [
    "auc_list_eval, auc_list_test = (\n",
    "    get_auc_from_json('roc_matrix_evaluation_30.json'),\n",
    "    get_auc_from_json('roc_matrix_test_30.json')\n",
    ")"
   ]
  },
  {
   "cell_type": "code",
   "execution_count": 35,
   "metadata": {},
   "outputs": [],
   "source": [
    "df_eval['auc'] = auc_list\n",
    "df_test['auc'] = auc_list_test\n",
    "\n",
    "\n",
    "df_eval['model'] = df_eval['model'].apply(lambda x: x.replace('_', ' '))\n",
    "df_test['model'] = df_test['model'].apply(lambda x: x.replace('_', ' '))"
   ]
  },
  {
   "cell_type": "code",
   "execution_count": 34,
   "metadata": {},
   "outputs": [
    {
     "name": "stdout",
     "output_type": "stream",
     "text": [
      "\\begin{tabular}{lrrrrr}\n",
      "\\toprule\n",
      "model & acc & precision & recall & f1 & auc \\\\\n",
      "\\midrule\n",
      "seq 1 & 0.691 & 0.684 & 0.568 & 0.621 & 0.740 \\\\\n",
      "seq 10 & 0.691 & 0.680 & 0.579 & 0.626 & 0.742 \\\\\n",
      "seq 20 & 0.692 & 0.683 & 0.577 & 0.625 & 0.742 \\\\\n",
      "seq 30 & 0.689 & 0.687 & 0.554 & 0.614 & 0.741 \\\\\n",
      "seq 30 heuristic & 0.689 & 0.688 & 0.554 & 0.614 & 0.740 \\\\\n",
      "seq 40 & 0.690 & 0.696 & 0.539 & 0.608 & 0.743 \\\\\n",
      "\\bottomrule\n",
      "\\end{tabular}\n",
      "\n"
     ]
    }
   ],
   "source": [
    "print(df_eval.round(3).to_latex(index=False, float_format=\"%.3f\"))"
   ]
  },
  {
   "cell_type": "code",
   "execution_count": 36,
   "metadata": {},
   "outputs": [
    {
     "name": "stdout",
     "output_type": "stream",
     "text": [
      "\\begin{tabular}{lrrrrr}\n",
      "\\toprule\n",
      "model & acc & precision & recall & f1 & auc \\\\\n",
      "\\midrule\n",
      "seq 1 & 0.691 & 0.698 & 0.587 & 0.637 & 0.747 \\\\\n",
      "seq 10 & 0.692 & 0.694 & 0.596 & 0.641 & 0.744 \\\\\n",
      "seq 20 & 0.693 & 0.696 & 0.596 & 0.642 & 0.749 \\\\\n",
      "seq 30 & 0.691 & 0.704 & 0.574 & 0.632 & 0.747 \\\\\n",
      "seq 30 heuristic & 0.691 & 0.704 & 0.574 & 0.632 & 0.746 \\\\\n",
      "seq 40 & 0.690 & 0.713 & 0.550 & 0.621 & 0.750 \\\\\n",
      "\\bottomrule\n",
      "\\end{tabular}\n",
      "\n"
     ]
    }
   ],
   "source": [
    "print(df_test.to_latex(index=False, float_format=\"%.3f\"))"
   ]
  },
  {
   "cell_type": "code",
   "execution_count": null,
   "metadata": {},
   "outputs": [],
   "source": []
  }
 ],
 "metadata": {
  "kernelspec": {
   "display_name": "Python 3 (ipykernel)",
   "language": "python",
   "name": "python3"
  },
  "language_info": {
   "codemirror_mode": {
    "name": "ipython",
    "version": 3
   },
   "file_extension": ".py",
   "mimetype": "text/x-python",
   "name": "python",
   "nbconvert_exporter": "python",
   "pygments_lexer": "ipython3",
   "version": "3.9.15"
  },
  "orig_nbformat": 4
 },
 "nbformat": 4,
 "nbformat_minor": 2
}
